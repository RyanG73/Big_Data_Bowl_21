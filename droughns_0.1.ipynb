{
 "cells": [
  {
   "cell_type": "markdown",
   "metadata": {},
   "source": [
    "# Import Packages"
   ]
  },
  {
   "cell_type": "code",
   "execution_count": 1,
   "metadata": {},
   "outputs": [],
   "source": [
    "import pandas as pd\n",
    "import numpy as np\n",
    "import datetime as dt\n",
    "import time\n",
    "import matplotlib.pyplot as plt\n",
    "import matplotlib.patches as patches\n",
    "import re\n",
    "import seaborn as sns\n",
    "import matplotlib.animation as animation\n",
    "import plotly.express as px\n",
    "import scipy\n",
    "import math"
   ]
  },
  {
   "cell_type": "markdown",
   "metadata": {},
   "source": [
    "# Set Notebook Options"
   ]
  },
  {
   "cell_type": "code",
   "execution_count": 2,
   "metadata": {},
   "outputs": [],
   "source": [
    "pd.set_option('display.max_rows', 500)\n",
    "pd.set_option('display.max_columns', 500)\n",
    "pd.set_option('display.width', 100)"
   ]
  },
  {
   "cell_type": "markdown",
   "metadata": {},
   "source": [
    "# Define Functions"
   ]
  },
  {
   "cell_type": "markdown",
   "metadata": {},
   "source": [
    "### Play Plot"
   ]
  },
  {
   "cell_type": "code",
   "execution_count": 3,
   "metadata": {},
   "outputs": [],
   "source": [
    "def play_plot(playID,gameID,df):\n",
    "    ex_play = df[df['gameId'] == str(gameID)]\n",
    "    ex_play = ex_play[ex_play['playId'] == str(playID)]   \n",
    "    fig = px.scatter(ex_play, x=\"x\", y=\"y\",color='team',color_discrete_map={'home': 'rgb(255,60,0)', 'away': 'rgb(238,173,30)', 'football': 'rgb(139,69,19)'},size='size',size_max=13, animation_frame=\"frameId\",range_x=[0,120],range_y=[0,160/3],title=str(ex_play['playDescription'].iloc[0]),text='jerseyNumber',opacity=1)\n",
    "    fig.add_shape(type=\"line\",x0=10, y0=0, x1=10, y1=160/3,line=dict(color=\"White\",width=5),layer=\"below\")\n",
    "    fig.add_shape(type=\"line\",x0=110, y0=0, x1=110, y1=160/3,line=dict(color=\"White\",width=5),layer=\"below\")\n",
    "    for i in range(20,110,10):\n",
    "        fig.add_shape(type=\"line\",x0=i, y0=0, x1=i, y1=160/3,line=dict(color=\"White\",width=1),layer=\"below\")\n",
    "    for i in range(15,110,10):\n",
    "        fig.add_shape(type=\"line\",x0=i, y0=0, x1=i, y1=160/3,line=dict(color=\"White\",width=.5),layer=\"below\")\n",
    "    for i in range(11,110,1):\n",
    "        fig.add_shape(type=\"line\",x0=i, y0=29.73, x1=i, y1=30.39,line=dict(color=\"White\",width=.5),layer=\"below\")\n",
    "        fig.add_shape(type=\"line\",x0=i, y0=22.91, x1=i, y1=23.57,line=dict(color=\"White\",width=.5),layer=\"below\")\n",
    "        fig.add_shape(type=\"line\",x0=i, y0=0.0, x1=i, y1=0.5,line=dict(color=\"White\",width=.5),layer=\"below\")\n",
    "        fig.add_shape(type=\"line\",x0=i, y0=52.5, x1=i, y1=53,line=dict(color=\"White\",width=.5),layer=\"below\")\n",
    "    fig.add_shape(type=\"rect\",x0=110, y0=0, x1=120, y1=160/3,line=dict(color=\"White\",width=1,),fillcolor='rgb(97, 61, 25)',opacity=1,layer=\"below\")\n",
    "    fig.add_shape(type=\"rect\",x0=0, y0=0, x1=10, y1=160/3,line=dict(color=\"White\",width=1,),fillcolor='rgb(97, 61, 25)',opacity=1,layer=\"below\")\n",
    "    fig.update_layout({\"plot_bgcolor\": \"rgba(0, 169, 0, 1)\",\"paper_bgcolor\": \"rgba(0, 0, 0, 0)\",})\n",
    "    fig.update_xaxes(showgrid=True,visible=True, showticklabels=False)\n",
    "    fig.update_yaxes(showgrid=False,visible=False, showticklabels=False)\n",
    "    fig.add_annotation(x=116.5, y=20,text=ex_play['homeTeamAbbr'].iloc[0],textangle=90,align=\"center\",valign=\"middle\",font = dict(color = '#FFFFFF',\n",
    "                                  family = 'sans serif',\n",
    "                                  size = 40))\n",
    "    fig.add_annotation(x=6.5, y=20,text=ex_play['homeTeamAbbr'].iloc[0],textangle=-90,align=\"center\",valign=\"middle\",font = dict(color = '#FFFFFF',\n",
    "                                  family = 'sans serif',\n",
    "                                  size = 40))\n",
    "    for r,q in zip(range(10,100,10),[1,2,3,4,5,4,3,2,1]):\n",
    "        fig.add_annotation(x=r+9, y=13,textangle=0,text=q,align=\"center\",valign=\"middle\",font = dict(color = '#FFFFFF',size = 17),showarrow=False)\n",
    "        fig.add_annotation(x=r+11, y=13,textangle=0,text=\"0\",align=\"center\",valign=\"middle\",font = dict(color = '#FFFFFF',size = 17),showarrow=False)\n",
    "        fig.add_annotation(x=r+9, y=160/3-13,textangle=0,text=q,align=\"center\",valign=\"middle\",font = dict(color = '#FFFFFF',size = 17),showarrow=False)\n",
    "        fig.add_annotation(x=r+11, y=160/3-13,textangle=0,text=\"0\",align=\"center\",valign=\"middle\",font = dict(color = '#FFFFFF',size = 17),showarrow=False)\n",
    "    fig.update_layout(transition_duration=3000,showlegend=False,xaxis_title=f\"{ex_play['visitorTeamAbbr'].iloc[0]} @ {ex_play['homeTeamAbbr'].iloc[0]}  Week {ex_play['week'].iloc[0]}, {ex_play['gameDate'].iloc[0].date()}. PlayID: {ex_play['playId'].iloc[0]} GameID: {ex_play['gameId'].iloc[0]}\")\n",
    "    fig.show()"
   ]
  },
  {
   "cell_type": "markdown",
   "metadata": {},
   "source": [
    "### Change Orientation so all plays are going the same direction"
   ]
  },
  {
   "cell_type": "code",
   "execution_count": 6,
   "metadata": {},
   "outputs": [],
   "source": [
    "def new_orientation(angle, play_direction):\n",
    "    if play_direction == 0:\n",
    "        new_angle = 360.0 - angle\n",
    "        if new_angle == 360.0:\n",
    "            new_angle = 0.0\n",
    "        return new_angle\n",
    "    else:\n",
    "        return angle"
   ]
  },
  {
   "cell_type": "markdown",
   "metadata": {},
   "source": [
    "# Mapping Data"
   ]
  },
  {
   "cell_type": "code",
   "execution_count": 5,
   "metadata": {},
   "outputs": [],
   "source": [
    "Opositions = ['OL','QB', 'RB', 'TE', 'WR','FB','HB']\n",
    "Dpositions = ['DL', 'LB', 'DB','SS','FS','MLB','CB','OLB', 'ILB','NT', 'S', 'DE']"
   ]
  },
  {
   "cell_type": "markdown",
   "metadata": {},
   "source": [
    "# Import Files"
   ]
  },
  {
   "cell_type": "code",
   "execution_count": 4,
   "metadata": {},
   "outputs": [
    {
     "name": "stdout",
     "output_type": "stream",
     "text": [
      "1\n",
      "2\n",
      "3\n",
      "4\n",
      "5\n",
      "6\n",
      "7\n",
      "8\n",
      "9\n",
      "10\n",
      "11\n",
      "12\n",
      "13\n",
      "14\n",
      "15\n",
      "16\n",
      "17\n"
     ]
    }
   ],
   "source": [
    "games = pd.read_csv(\"nfl-big-data-bowl-2021/games.csv\",dtype={'gameId': 'object'})\n",
    "players = pd.read_csv(\"nfl-big-data-bowl-2021/players.csv\")\n",
    "plays = pd.read_csv(\"nfl-big-data-bowl-2021/plays.csv\",dtype={'playId': 'object','gameId': 'object'})\n",
    "tracking = pd.DataFrame()\n",
    "for i in range(1,18):\n",
    "    print(i)\n",
    "    df = pd.read_csv(\"nfl-big-data-bowl-2021/week\" + str(i) + \".csv\",dtype={'playId': 'object','gameId': 'object'})\n",
    "    tracking = tracking.append(df)"
   ]
  },
  {
   "cell_type": "markdown",
   "metadata": {},
   "source": [
    "# Clean Games"
   ]
  },
  {
   "cell_type": "markdown",
   "metadata": {},
   "source": [
    "- Game dates are imported in object format. Here we convert to datetime"
   ]
  },
  {
   "cell_type": "code",
   "execution_count": 8,
   "metadata": {},
   "outputs": [],
   "source": [
    "games['gameDate'] = pd.to_datetime(games['gameDate']).dt.normalize()"
   ]
  },
  {
   "cell_type": "markdown",
   "metadata": {},
   "source": [
    "# Clean Players"
   ]
  },
  {
   "cell_type": "markdown",
   "metadata": {},
   "source": [
    "- nflId is imported as an integer. This is problematic as it can eliminate leading or trailing zeros in the ID. We convert it to a string\n",
    "- Height information is clean by extracting height in feet, inches, or otherwise. We create a uniform measurement where all players are measured in inches. Feet and Inches columns are then dropped as they are only helpers to create new height.\n",
    "- birthdate is imported as an object. We convert to datetime.\n",
    "- Side indicates whether the player primarily plays offense or defense."
   ]
  },
  {
   "cell_type": "code",
   "execution_count": 10,
   "metadata": {},
   "outputs": [],
   "source": [
    "players['nflId'] = players['nflId'].astype(str)\n",
    "players['feet'] = pd.to_numeric(np.where(players['height'].str.contains('-'),players['height'].str.split('-').str[0],np.nan))\n",
    "players['inches'] = pd.to_numeric(np.where(players['height'].str.contains('-'),players['height'].str.split('-').str[1],np.nan))\n",
    "players['height'] = np.where(players['height'].str.contains('-'),players['feet']*12+players['inches'],players['height'])\n",
    "players['height'] = players['height'].astype(int)\n",
    "players = players.drop(['feet','inches'],axis='columns')\n",
    "players['birthDate'] = pd.to_datetime(players['birthDate'])\n",
    "players['side'] = np.where(players['position'].isin(Opositions),'Offense',np.nan)\n",
    "players['side'] = np.where(players['position'].isin(Dpositions),'Defense',players['side'])"
   ]
  },
  {
   "cell_type": "markdown",
   "metadata": {},
   "source": [
    "# Clean Plays"
   ]
  },
  {
   "cell_type": "markdown",
   "metadata": {},
   "source": [
    "- playType has unnecessary text in front of the type of play. This is removed. \n",
    "- Apprently we are only analyzing plays in which there are not penalties\n",
    "- A popular way to describe offensive football is to describe the formation. Formation is not given, but we can impute it based on the assigned positions of players on the field. it is possible that a WR could lineup in the backfield, or vice versa, but this is a general sense of formations used. \n",
    "- Only plays which have 11 confirmed players are retained in the dataset. Outliers may be explored at a later date. \n",
    "- Defensive formation is imputed in similar fashion to offense. \n",
    "- Again, only plays are retained in which there are 11 confirmed players.\n",
    "- Defenders in the box, home and away score are converted to an integer"
   ]
  },
  {
   "cell_type": "code",
   "execution_count": 12,
   "metadata": {},
   "outputs": [],
   "source": [
    "plays['playType'] = plays['playType'].str.replace(\"play_type_\",\"\")\n",
    "plays = plays[plays['penaltyCodes'].isna()]\n",
    "for p in Opositions:\n",
    "    pattern = '(..' + str(p) + ')'\n",
    "    plays[p] = 0\n",
    "    plays[p] = plays['personnelO'].str.extract(pat=pattern,expand=True)\n",
    "    plays[p] = plays[p].str.replace(r'\\D+', '').fillna(0).astype(int)\n",
    "plays['OL'] = np.where(plays['OL'] == 0, 5, plays['OL'])\n",
    "plays['QB'] = np.where(plays['QB'] == 0, 1, plays['QB'])\n",
    "plays['Off'] = plays['QB'] + plays['RB'] + plays['WR'] + plays['TE'] + plays['OL']\n",
    "plays = plays[plays['Off'] == 11]\n",
    "\n",
    "for p in Dpositions:\n",
    "    pattern = '(..' + str(p) + ')'\n",
    "    plays[p] = 0\n",
    "    plays[p] = plays['personnelD'].str.extract(pat=pattern,expand=True)\n",
    "    plays[p] = plays[p].str.replace(r'\\D+', '').fillna(0).astype(int)\n",
    "\n",
    "plays['Def'] = plays['DL'] + plays['LB'] + plays['DB']\n",
    "plays = plays[plays['Def'] == 11]\n",
    "plays = plays[plays['defendersInTheBox'].notna()]\n",
    "plays['defendersInTheBox'] = plays['defendersInTheBox'].astype(int)\n",
    "plays = plays[plays['numberOfPassRushers'].notna()]\n",
    "plays['numberOfPassRushers'] = plays['numberOfPassRushers'].astype(int)\n",
    "plays = plays[plays['preSnapVisitorScore'].notna()]\n",
    "plays['preSnapVisitorScore'] = plays['preSnapVisitorScore'].astype(int)\n",
    "plays['preSnapHomeScore'] = plays['preSnapHomeScore'].astype(int)\n",
    "plays['personnel'] = plays['RB'].astype(str) + plays['TE'].astype(str)"
   ]
  },
  {
   "cell_type": "markdown",
   "metadata": {},
   "source": [
    "# Clean Tracking"
   ]
  },
  {
   "cell_type": "markdown",
   "metadata": {},
   "source": [
    "- Players are assigned unigue IDs. The football itself is included in tracking data, however it is not assigned an ID. Because this can cause issues in future data cleaning, the football is simply given and identification number of 0.\n",
    "- nflId is converted to an integer and then a string......\n",
    "- play direction is unified so that all plays are moving in the same direciton. "
   ]
  },
  {
   "cell_type": "code",
   "execution_count": 13,
   "metadata": {},
   "outputs": [],
   "source": [
    "tracking['nflId'] = np.where(tracking['nflId'].notnull(),tracking['nflId'],0)\n",
    "tracking['nflId'] = tracking['nflId'].astype(int).astype(str)\n",
    "tracking.dropna(subset=[\"playDirection\"],inplace=True)\n",
    "tracking['playDirection'] = tracking['playDirection'].apply(lambda x: x.strip() == 'right')\n",
    "tracking['x'] = tracking.apply(lambda row: row['x'] if row['playDirection'] else 120-row['x'], axis=1)\n",
    "tracking['y'] = tracking.apply(lambda row: row['y'] if row['playDirection'] else 160/3-row['y'], axis=1)\n",
    "tracking['o'] = tracking.apply(lambda row: new_orientation(row['o'], row['playDirection']), axis=1)\n",
    "tracking['dir'] = tracking.apply(lambda row: new_orientation(row['dir'], row['playDirection']), axis=1)"
   ]
  },
  {
   "cell_type": "markdown",
   "metadata": {},
   "source": [
    "### Join Datasets\n",
    "- Joining plays, games, and tracking data. The purpose of this to get like information into the same dataframe for plotting\n",
    "- 'size' is a dummy variable for plotting the size of dots on the graph. We want the football to appear smaller than the players"
   ]
  },
  {
   "cell_type": "code",
   "execution_count": 14,
   "metadata": {},
   "outputs": [],
   "source": [
    "joined = plays[['gameId', 'playId', 'playDescription']]\n",
    "joined = pd.merge(joined,games,on='gameId',how='inner')\n",
    "joined = pd.merge(joined,tracking,on=['gameId','playId'],how='inner')\n",
    "joined['size'] = np.where(joined['team'] == 'football',2,5)"
   ]
  },
  {
   "cell_type": "markdown",
   "metadata": {},
   "source": [
    "- The creation of this ID allows each frame of each play to be identified uniquely."
   ]
  },
  {
   "cell_type": "code",
   "execution_count": 15,
   "metadata": {},
   "outputs": [],
   "source": [
    "joined['ID'] = joined['gameId'].astype(str) + joined['playId'].astype(str) + joined['frameId'].astype(str)\n",
    "joined['ID'] = pd.to_numeric(joined['ID'])"
   ]
  },
  {
   "cell_type": "markdown",
   "metadata": {},
   "source": [
    "# Plotting\n",
    "- This pulls one game at random from the sample.\n",
    "- Then, from that game, pulls a play at random and plots it"
   ]
  },
  {
   "cell_type": "code",
   "execution_count": 17,
   "metadata": {},
   "outputs": [
    {
     "name": "stdout",
     "output_type": "stream",
     "text": [
      "3492 2018111105\n"
     ]
    },
    {
     "data": {
      "application/vnd.plotly.v1+json": {
       "config": {
        "plotlyServerURL": "https://plot.ly"
       },
       "data": [
        {
         "hovertemplate": "team=home<br>frameId=1<br>x=%{x}<br>y=%{y}<br>size=%{marker.size}<br>jerseyNumber=%{text}<extra></extra>",
         "legendgroup": "home",
         "marker": {
          "color": "rgb(255,60,0)",
          "opacity": 1,
          "size": [
           5,
           5,
           5,
           5,
           5,
           5,
           5,
           5
          ],
          "sizemode": "area",
          "sizeref": 0.029585798816568046,
          "symbol": "circle"
         },
         "mode": "markers+text",
         "name": "home",
         "orientation": "v",
         "showlegend": true,
         "text": [
          22,
          50,
          38,
          49,
          20,
          21,
          23,
          44
         ],
         "type": "scatter",
         "x": [
          50.77,
          50.28,
          64.26,
          52.78,
          51.55,
          67.06,
          50.82,
          54.31
         ],
         "xaxis": "x",
         "y": [
          11.12,
          30.47,
          19.1,
          18.04,
          44.97,
          34.02,
          34.24,
          27.25
         ],
         "yaxis": "y"
        },
        {
         "hovertemplate": "team=away<br>frameId=1<br>x=%{x}<br>y=%{y}<br>size=%{marker.size}<br>jerseyNumber=%{text}<extra></extra>",
         "legendgroup": "away",
         "marker": {
          "color": "rgb(238,173,30)",
          "opacity": 1,
          "size": [
           5,
           5,
           5,
           5,
           5,
           5
          ],
          "sizemode": "area",
          "sizeref": 0.029585798816568046,
          "symbol": "circle"
         },
         "mode": "markers+text",
         "name": "away",
         "orientation": "v",
         "showlegend": true,
         "text": [
          11,
          31,
          86,
          13,
          3,
          16
         ],
         "type": "scatter",
         "x": [
          47.98,
          45.5,
          49,
          49.2,
          45.38,
          48.17
         ],
         "xaxis": "x",
         "y": [
          34.56,
          26.84,
          17.69,
          45.32,
          23.97,
          10.98
         ],
         "yaxis": "y"
        },
        {
         "hovertemplate": "team=football<br>frameId=1<br>x=%{x}<br>y=%{y}<br>size=%{marker.size}<br>jerseyNumber=%{text}<extra></extra>",
         "legendgroup": "football",
         "marker": {
          "color": "rgb(139,69,19)",
          "opacity": 1,
          "size": [
           2
          ],
          "sizemode": "area",
          "sizeref": 0.029585798816568046,
          "symbol": "circle"
         },
         "mode": "markers+text",
         "name": "football",
         "orientation": "v",
         "showlegend": true,
         "text": [
          null
         ],
         "type": "scatter",
         "x": [
          49.81
         ],
         "xaxis": "x",
         "y": [
          23.82
         ],
         "yaxis": "y"
        }
       ],
       "frames": [
        {
         "data": [
          {
           "hovertemplate": "team=home<br>frameId=1<br>x=%{x}<br>y=%{y}<br>size=%{marker.size}<br>jerseyNumber=%{text}<extra></extra>",
           "legendgroup": "home",
           "marker": {
            "color": "rgb(255,60,0)",
            "opacity": 1,
            "size": [
             5,
             5,
             5,
             5,
             5,
             5,
             5,
             5
            ],
            "sizemode": "area",
            "sizeref": 0.029585798816568046,
            "symbol": "circle"
           },
           "mode": "markers+text",
           "name": "home",
           "orientation": "v",
           "showlegend": true,
           "text": [
            22,
            50,
            38,
            49,
            20,
            21,
            23,
            44
           ],
           "type": "scatter",
           "x": [
            50.77,
            50.28,
            64.26,
            52.78,
            51.55,
            67.06,
            50.82,
            54.31
           ],
           "xaxis": "x",
           "y": [
            11.12,
            30.47,
            19.1,
            18.04,
            44.97,
            34.02,
            34.24,
            27.25
           ],
           "yaxis": "y"
          },
          {
           "hovertemplate": "team=away<br>frameId=1<br>x=%{x}<br>y=%{y}<br>size=%{marker.size}<br>jerseyNumber=%{text}<extra></extra>",
           "legendgroup": "away",
           "marker": {
            "color": "rgb(238,173,30)",
            "opacity": 1,
            "size": [
             5,
             5,
             5,
             5,
             5,
             5
            ],
            "sizemode": "area",
            "sizeref": 0.029585798816568046,
            "symbol": "circle"
           },
           "mode": "markers+text",
           "name": "away",
           "orientation": "v",
           "showlegend": true,
           "text": [
            11,
            31,
            86,
            13,
            3,
            16
           ],
           "type": "scatter",
           "x": [
            47.98,
            45.5,
            49,
            49.2,
            45.38,
            48.17
           ],
           "xaxis": "x",
           "y": [
            34.56,
            26.84,
            17.69,
            45.32,
            23.97,
            10.98
           ],
           "yaxis": "y"
          },
          {
           "hovertemplate": "team=football<br>frameId=1<br>x=%{x}<br>y=%{y}<br>size=%{marker.size}<br>jerseyNumber=%{text}<extra></extra>",
           "legendgroup": "football",
           "marker": {
            "color": "rgb(139,69,19)",
            "opacity": 1,
            "size": [
             2
            ],
            "sizemode": "area",
            "sizeref": 0.029585798816568046,
            "symbol": "circle"
           },
           "mode": "markers+text",
           "name": "football",
           "orientation": "v",
           "showlegend": true,
           "text": [
            null
           ],
           "type": "scatter",
           "x": [
            49.81
           ],
           "xaxis": "x",
           "y": [
            23.82
           ],
           "yaxis": "y"
          }
         ],
         "name": "1"
        },
        {
         "data": [
          {
           "hovertemplate": "team=home<br>frameId=2<br>x=%{x}<br>y=%{y}<br>size=%{marker.size}<br>jerseyNumber=%{text}<extra></extra>",
           "legendgroup": "home",
           "marker": {
            "color": "rgb(255,60,0)",
            "opacity": 1,
            "size": [
             5,
             5,
             5,
             5,
             5,
             5,
             5,
             5
            ],
            "sizemode": "area",
            "sizeref": 0.029585798816568046,
            "symbol": "circle"
           },
           "mode": "markers+text",
           "name": "home",
           "orientation": "v",
           "showlegend": true,
           "text": [
            22,
            50,
            38,
            49,
            20,
            21,
            23,
            44
           ],
           "type": "scatter",
           "x": [
            50.72,
            50.26,
            64.36,
            52.77,
            51.55,
            67.07,
            50.81,
            54.31
           ],
           "xaxis": "x",
           "y": [
            11.14,
            30.48,
            19.03,
            18.03,
            44.99,
            34.01,
            34.25,
            27.24
           ],
           "yaxis": "y"
          },
          {
           "hovertemplate": "team=away<br>frameId=2<br>x=%{x}<br>y=%{y}<br>size=%{marker.size}<br>jerseyNumber=%{text}<extra></extra>",
           "legendgroup": "away",
           "marker": {
            "color": "rgb(238,173,30)",
            "opacity": 1,
            "size": [
             5,
             5,
             5,
             5,
             5,
             5
            ],
            "sizemode": "area",
            "sizeref": 0.029585798816568046,
            "symbol": "circle"
           },
           "mode": "markers+text",
           "name": "away",
           "orientation": "v",
           "showlegend": true,
           "text": [
            11,
            31,
            86,
            13,
            3,
            16
           ],
           "type": "scatter",
           "x": [
            47.98,
            45.5,
            48.99,
            49.2,
            45.38,
            48.18
           ],
           "xaxis": "x",
           "y": [
            34.56,
            26.83,
            17.69,
            45.32,
            23.97,
            10.98
           ],
           "yaxis": "y"
          },
          {
           "hovertemplate": "team=football<br>frameId=2<br>x=%{x}<br>y=%{y}<br>size=%{marker.size}<br>jerseyNumber=%{text}<extra></extra>",
           "legendgroup": "football",
           "marker": {
            "color": "rgb(139,69,19)",
            "opacity": 1,
            "size": [
             2
            ],
            "sizemode": "area",
            "sizeref": 0.029585798816568046,
            "symbol": "circle"
           },
           "mode": "markers+text",
           "name": "football",
           "orientation": "v",
           "showlegend": true,
           "text": [
            null
           ],
           "type": "scatter",
           "x": [
            49.81
           ],
           "xaxis": "x",
           "y": [
            23.82
           ],
           "yaxis": "y"
          }
         ],
         "name": "2"
        },
        {
         "data": [
          {
           "hovertemplate": "team=home<br>frameId=3<br>x=%{x}<br>y=%{y}<br>size=%{marker.size}<br>jerseyNumber=%{text}<extra></extra>",
           "legendgroup": "home",
           "marker": {
            "color": "rgb(255,60,0)",
            "opacity": 1,
            "size": [
             5,
             5,
             5,
             5,
             5,
             5,
             5,
             5
            ],
            "sizemode": "area",
            "sizeref": 0.029585798816568046,
            "symbol": "circle"
           },
           "mode": "markers+text",
           "name": "home",
           "orientation": "v",
           "showlegend": true,
           "text": [
            22,
            50,
            38,
            49,
            20,
            21,
            23,
            44
           ],
           "type": "scatter",
           "x": [
            50.68,
            50.25,
            64.46,
            52.77,
            51.54,
            67.09,
            50.8,
            54.31
           ],
           "xaxis": "x",
           "y": [
            11.17,
            30.48,
            18.96,
            18.04,
            45,
            34,
            34.26,
            27.24
           ],
           "yaxis": "y"
          },
          {
           "hovertemplate": "team=away<br>frameId=3<br>x=%{x}<br>y=%{y}<br>size=%{marker.size}<br>jerseyNumber=%{text}<extra></extra>",
           "legendgroup": "away",
           "marker": {
            "color": "rgb(238,173,30)",
            "opacity": 1,
            "size": [
             5,
             5,
             5,
             5,
             5,
             5
            ],
            "sizemode": "area",
            "sizeref": 0.029585798816568046,
            "symbol": "circle"
           },
           "mode": "markers+text",
           "name": "away",
           "orientation": "v",
           "showlegend": true,
           "text": [
            11,
            31,
            86,
            13,
            3,
            16
           ],
           "type": "scatter",
           "x": [
            47.98,
            45.5,
            48.99,
            49.2,
            45.38,
            48.18
           ],
           "xaxis": "x",
           "y": [
            34.55,
            26.83,
            17.69,
            45.32,
            23.96,
            10.98
           ],
           "yaxis": "y"
          },
          {
           "hovertemplate": "team=football<br>frameId=3<br>x=%{x}<br>y=%{y}<br>size=%{marker.size}<br>jerseyNumber=%{text}<extra></extra>",
           "legendgroup": "football",
           "marker": {
            "color": "rgb(139,69,19)",
            "opacity": 1,
            "size": [
             2
            ],
            "sizemode": "area",
            "sizeref": 0.029585798816568046,
            "symbol": "circle"
           },
           "mode": "markers+text",
           "name": "football",
           "orientation": "v",
           "showlegend": true,
           "text": [
            null
           ],
           "type": "scatter",
           "x": [
            49.81
           ],
           "xaxis": "x",
           "y": [
            23.82
           ],
           "yaxis": "y"
          }
         ],
         "name": "3"
        },
        {
         "data": [
          {
           "hovertemplate": "team=home<br>frameId=4<br>x=%{x}<br>y=%{y}<br>size=%{marker.size}<br>jerseyNumber=%{text}<extra></extra>",
           "legendgroup": "home",
           "marker": {
            "color": "rgb(255,60,0)",
            "opacity": 1,
            "size": [
             5,
             5,
             5,
             5,
             5,
             5,
             5,
             5
            ],
            "sizemode": "area",
            "sizeref": 0.029585798816568046,
            "symbol": "circle"
           },
           "mode": "markers+text",
           "name": "home",
           "orientation": "v",
           "showlegend": true,
           "text": [
            22,
            50,
            38,
            49,
            20,
            21,
            23,
            44
           ],
           "type": "scatter",
           "x": [
            50.64,
            50.25,
            64.56,
            52.76,
            51.54,
            67.11,
            50.79,
            54.31
           ],
           "xaxis": "x",
           "y": [
            11.19,
            30.48,
            18.9,
            18.05,
            45,
            33.99,
            34.27,
            27.24
           ],
           "yaxis": "y"
          },
          {
           "hovertemplate": "team=away<br>frameId=4<br>x=%{x}<br>y=%{y}<br>size=%{marker.size}<br>jerseyNumber=%{text}<extra></extra>",
           "legendgroup": "away",
           "marker": {
            "color": "rgb(238,173,30)",
            "opacity": 1,
            "size": [
             5,
             5,
             5,
             5,
             5,
             5
            ],
            "sizemode": "area",
            "sizeref": 0.029585798816568046,
            "symbol": "circle"
           },
           "mode": "markers+text",
           "name": "away",
           "orientation": "v",
           "showlegend": true,
           "text": [
            11,
            31,
            86,
            13,
            3,
            16
           ],
           "type": "scatter",
           "x": [
            47.98,
            45.5,
            48.99,
            49.2,
            45.38,
            48.19
           ],
           "xaxis": "x",
           "y": [
            34.55,
            26.83,
            17.69,
            45.32,
            23.96,
            10.98
           ],
           "yaxis": "y"
          },
          {
           "hovertemplate": "team=football<br>frameId=4<br>x=%{x}<br>y=%{y}<br>size=%{marker.size}<br>jerseyNumber=%{text}<extra></extra>",
           "legendgroup": "football",
           "marker": {
            "color": "rgb(139,69,19)",
            "opacity": 1,
            "size": [
             2
            ],
            "sizemode": "area",
            "sizeref": 0.029585798816568046,
            "symbol": "circle"
           },
           "mode": "markers+text",
           "name": "football",
           "orientation": "v",
           "showlegend": true,
           "text": [
            null
           ],
           "type": "scatter",
           "x": [
            49.81
           ],
           "xaxis": "x",
           "y": [
            23.82
           ],
           "yaxis": "y"
          }
         ],
         "name": "4"
        },
        {
         "data": [
          {
           "hovertemplate": "team=home<br>frameId=5<br>x=%{x}<br>y=%{y}<br>size=%{marker.size}<br>jerseyNumber=%{text}<extra></extra>",
           "legendgroup": "home",
           "marker": {
            "color": "rgb(255,60,0)",
            "opacity": 1,
            "size": [
             5,
             5,
             5,
             5,
             5,
             5,
             5,
             5
            ],
            "sizemode": "area",
            "sizeref": 0.029585798816568046,
            "symbol": "circle"
           },
           "mode": "markers+text",
           "name": "home",
           "orientation": "v",
           "showlegend": true,
           "text": [
            22,
            50,
            38,
            49,
            20,
            21,
            23,
            44
           ],
           "type": "scatter",
           "x": [
            50.6,
            50.25,
            64.66,
            52.75,
            51.54,
            67.14,
            50.78,
            54.3
           ],
           "xaxis": "x",
           "y": [
            11.2,
            30.48,
            18.84,
            18.07,
            45.01,
            33.98,
            34.27,
            27.24
           ],
           "yaxis": "y"
          },
          {
           "hovertemplate": "team=away<br>frameId=5<br>x=%{x}<br>y=%{y}<br>size=%{marker.size}<br>jerseyNumber=%{text}<extra></extra>",
           "legendgroup": "away",
           "marker": {
            "color": "rgb(238,173,30)",
            "opacity": 1,
            "size": [
             5,
             5,
             5,
             5,
             5,
             5
            ],
            "sizemode": "area",
            "sizeref": 0.029585798816568046,
            "symbol": "circle"
           },
           "mode": "markers+text",
           "name": "away",
           "orientation": "v",
           "showlegend": true,
           "text": [
            11,
            31,
            86,
            13,
            3,
            16
           ],
           "type": "scatter",
           "x": [
            47.98,
            45.5,
            48.99,
            49.2,
            45.37,
            48.2
           ],
           "xaxis": "x",
           "y": [
            34.55,
            26.83,
            17.7,
            45.32,
            23.96,
            10.98
           ],
           "yaxis": "y"
          },
          {
           "hovertemplate": "team=football<br>frameId=5<br>x=%{x}<br>y=%{y}<br>size=%{marker.size}<br>jerseyNumber=%{text}<extra></extra>",
           "legendgroup": "football",
           "marker": {
            "color": "rgb(139,69,19)",
            "opacity": 1,
            "size": [
             2
            ],
            "sizemode": "area",
            "sizeref": 0.029585798816568046,
            "symbol": "circle"
           },
           "mode": "markers+text",
           "name": "football",
           "orientation": "v",
           "showlegend": true,
           "text": [
            null
           ],
           "type": "scatter",
           "x": [
            49.81
           ],
           "xaxis": "x",
           "y": [
            23.82
           ],
           "yaxis": "y"
          }
         ],
         "name": "5"
        },
        {
         "data": [
          {
           "hovertemplate": "team=home<br>frameId=6<br>x=%{x}<br>y=%{y}<br>size=%{marker.size}<br>jerseyNumber=%{text}<extra></extra>",
           "legendgroup": "home",
           "marker": {
            "color": "rgb(255,60,0)",
            "opacity": 1,
            "size": [
             5,
             5,
             5,
             5,
             5,
             5,
             5,
             5
            ],
            "sizemode": "area",
            "sizeref": 0.029585798816568046,
            "symbol": "circle"
           },
           "mode": "markers+text",
           "name": "home",
           "orientation": "v",
           "showlegend": true,
           "text": [
            22,
            50,
            38,
            49,
            20,
            21,
            23,
            44
           ],
           "type": "scatter",
           "x": [
            50.58,
            50.25,
            64.77,
            52.75,
            51.53,
            67.18,
            50.77,
            54.29
           ],
           "xaxis": "x",
           "y": [
            11.21,
            30.49,
            18.78,
            18.07,
            45,
            33.97,
            34.26,
            27.24
           ],
           "yaxis": "y"
          },
          {
           "hovertemplate": "team=away<br>frameId=6<br>x=%{x}<br>y=%{y}<br>size=%{marker.size}<br>jerseyNumber=%{text}<extra></extra>",
           "legendgroup": "away",
           "marker": {
            "color": "rgb(238,173,30)",
            "opacity": 1,
            "size": [
             5,
             5,
             5,
             5,
             5,
             5
            ],
            "sizemode": "area",
            "sizeref": 0.029585798816568046,
            "symbol": "circle"
           },
           "mode": "markers+text",
           "name": "away",
           "orientation": "v",
           "showlegend": true,
           "text": [
            11,
            31,
            86,
            13,
            3,
            16
           ],
           "type": "scatter",
           "x": [
            47.98,
            45.5,
            48.99,
            49.2,
            45.37,
            48.2
           ],
           "xaxis": "x",
           "y": [
            34.55,
            26.83,
            17.69,
            45.32,
            23.95,
            10.97
           ],
           "yaxis": "y"
          },
          {
           "hovertemplate": "team=football<br>frameId=6<br>x=%{x}<br>y=%{y}<br>size=%{marker.size}<br>jerseyNumber=%{text}<extra></extra>",
           "legendgroup": "football",
           "marker": {
            "color": "rgb(139,69,19)",
            "opacity": 1,
            "size": [
             2
            ],
            "sizemode": "area",
            "sizeref": 0.029585798816568046,
            "symbol": "circle"
           },
           "mode": "markers+text",
           "name": "football",
           "orientation": "v",
           "showlegend": true,
           "text": [
            null
           ],
           "type": "scatter",
           "x": [
            49.81
           ],
           "xaxis": "x",
           "y": [
            23.82
           ],
           "yaxis": "y"
          }
         ],
         "name": "6"
        },
        {
         "data": [
          {
           "hovertemplate": "team=home<br>frameId=7<br>x=%{x}<br>y=%{y}<br>size=%{marker.size}<br>jerseyNumber=%{text}<extra></extra>",
           "legendgroup": "home",
           "marker": {
            "color": "rgb(255,60,0)",
            "opacity": 1,
            "size": [
             5,
             5,
             5,
             5,
             5,
             5,
             5,
             5
            ],
            "sizemode": "area",
            "sizeref": 0.029585798816568046,
            "symbol": "circle"
           },
           "mode": "markers+text",
           "name": "home",
           "orientation": "v",
           "showlegend": true,
           "text": [
            22,
            50,
            38,
            49,
            20,
            21,
            23,
            44
           ],
           "type": "scatter",
           "x": [
            50.56,
            50.26,
            64.88,
            52.75,
            51.53,
            67.22,
            50.76,
            54.28
           ],
           "xaxis": "x",
           "y": [
            11.22,
            30.48,
            18.71,
            18.07,
            45.01,
            33.96,
            34.25,
            27.24
           ],
           "yaxis": "y"
          },
          {
           "hovertemplate": "team=away<br>frameId=7<br>x=%{x}<br>y=%{y}<br>size=%{marker.size}<br>jerseyNumber=%{text}<extra></extra>",
           "legendgroup": "away",
           "marker": {
            "color": "rgb(238,173,30)",
            "opacity": 1,
            "size": [
             5,
             5,
             5,
             5,
             5,
             5
            ],
            "sizemode": "area",
            "sizeref": 0.029585798816568046,
            "symbol": "circle"
           },
           "mode": "markers+text",
           "name": "away",
           "orientation": "v",
           "showlegend": true,
           "text": [
            11,
            31,
            86,
            13,
            3,
            16
           ],
           "type": "scatter",
           "x": [
            47.98,
            45.5,
            48.99,
            49.21,
            45.37,
            48.21
           ],
           "xaxis": "x",
           "y": [
            34.55,
            26.83,
            17.69,
            45.33,
            23.96,
            10.97
           ],
           "yaxis": "y"
          },
          {
           "hovertemplate": "team=football<br>frameId=7<br>x=%{x}<br>y=%{y}<br>size=%{marker.size}<br>jerseyNumber=%{text}<extra></extra>",
           "legendgroup": "football",
           "marker": {
            "color": "rgb(139,69,19)",
            "opacity": 1,
            "size": [
             2
            ],
            "sizemode": "area",
            "sizeref": 0.029585798816568046,
            "symbol": "circle"
           },
           "mode": "markers+text",
           "name": "football",
           "orientation": "v",
           "showlegend": true,
           "text": [
            null
           ],
           "type": "scatter",
           "x": [
            49.81
           ],
           "xaxis": "x",
           "y": [
            23.82
           ],
           "yaxis": "y"
          }
         ],
         "name": "7"
        },
        {
         "data": [
          {
           "hovertemplate": "team=home<br>frameId=8<br>x=%{x}<br>y=%{y}<br>size=%{marker.size}<br>jerseyNumber=%{text}<extra></extra>",
           "legendgroup": "home",
           "marker": {
            "color": "rgb(255,60,0)",
            "opacity": 1,
            "size": [
             5,
             5,
             5,
             5,
             5,
             5,
             5,
             5
            ],
            "sizemode": "area",
            "sizeref": 0.029585798816568046,
            "symbol": "circle"
           },
           "mode": "markers+text",
           "name": "home",
           "orientation": "v",
           "showlegend": true,
           "text": [
            22,
            50,
            38,
            49,
            20,
            21,
            23,
            44
           ],
           "type": "scatter",
           "x": [
            50.55,
            50.26,
            64.99,
            52.75,
            51.53,
            67.26,
            50.76,
            54.27
           ],
           "xaxis": "x",
           "y": [
            11.21,
            30.48,
            18.66,
            18.05,
            45,
            33.99,
            34.24,
            27.25
           ],
           "yaxis": "y"
          },
          {
           "hovertemplate": "team=away<br>frameId=8<br>x=%{x}<br>y=%{y}<br>size=%{marker.size}<br>jerseyNumber=%{text}<extra></extra>",
           "legendgroup": "away",
           "marker": {
            "color": "rgb(238,173,30)",
            "opacity": 1,
            "size": [
             5,
             5,
             5,
             5,
             5,
             5
            ],
            "sizemode": "area",
            "sizeref": 0.029585798816568046,
            "symbol": "circle"
           },
           "mode": "markers+text",
           "name": "away",
           "orientation": "v",
           "showlegend": true,
           "text": [
            11,
            31,
            86,
            13,
            3,
            16
           ],
           "type": "scatter",
           "x": [
            47.98,
            45.5,
            49,
            49.21,
            45.36,
            48.21
           ],
           "xaxis": "x",
           "y": [
            34.55,
            26.83,
            17.69,
            45.32,
            23.94,
            10.97
           ],
           "yaxis": "y"
          },
          {
           "hovertemplate": "team=football<br>frameId=8<br>x=%{x}<br>y=%{y}<br>size=%{marker.size}<br>jerseyNumber=%{text}<extra></extra>",
           "legendgroup": "football",
           "marker": {
            "color": "rgb(139,69,19)",
            "opacity": 1,
            "size": [
             2
            ],
            "sizemode": "area",
            "sizeref": 0.029585798816568046,
            "symbol": "circle"
           },
           "mode": "markers+text",
           "name": "football",
           "orientation": "v",
           "showlegend": true,
           "text": [
            null
           ],
           "type": "scatter",
           "x": [
            49.81
           ],
           "xaxis": "x",
           "y": [
            23.82
           ],
           "yaxis": "y"
          }
         ],
         "name": "8"
        },
        {
         "data": [
          {
           "hovertemplate": "team=home<br>frameId=9<br>x=%{x}<br>y=%{y}<br>size=%{marker.size}<br>jerseyNumber=%{text}<extra></extra>",
           "legendgroup": "home",
           "marker": {
            "color": "rgb(255,60,0)",
            "opacity": 1,
            "size": [
             5,
             5,
             5,
             5,
             5,
             5,
             5,
             5
            ],
            "sizemode": "area",
            "sizeref": 0.029585798816568046,
            "symbol": "circle"
           },
           "mode": "markers+text",
           "name": "home",
           "orientation": "v",
           "showlegend": true,
           "text": [
            22,
            50,
            38,
            49,
            20,
            21,
            23,
            44
           ],
           "type": "scatter",
           "x": [
            50.54,
            50.26,
            65.1,
            52.75,
            51.53,
            67.28,
            50.75,
            54.26
           ],
           "xaxis": "x",
           "y": [
            11.2,
            30.47,
            18.6,
            18.05,
            45,
            34.01,
            34.23,
            27.27
           ],
           "yaxis": "y"
          },
          {
           "hovertemplate": "team=away<br>frameId=9<br>x=%{x}<br>y=%{y}<br>size=%{marker.size}<br>jerseyNumber=%{text}<extra></extra>",
           "legendgroup": "away",
           "marker": {
            "color": "rgb(238,173,30)",
            "opacity": 1,
            "size": [
             5,
             5,
             5,
             5,
             5,
             5
            ],
            "sizemode": "area",
            "sizeref": 0.029585798816568046,
            "symbol": "circle"
           },
           "mode": "markers+text",
           "name": "away",
           "orientation": "v",
           "showlegend": true,
           "text": [
            11,
            31,
            86,
            13,
            3,
            16
           ],
           "type": "scatter",
           "x": [
            47.98,
            45.5,
            49,
            49.2,
            45.36,
            48.21
           ],
           "xaxis": "x",
           "y": [
            34.55,
            26.83,
            17.69,
            45.32,
            23.93,
            10.96
           ],
           "yaxis": "y"
          },
          {
           "hovertemplate": "team=football<br>frameId=9<br>x=%{x}<br>y=%{y}<br>size=%{marker.size}<br>jerseyNumber=%{text}<extra></extra>",
           "legendgroup": "football",
           "marker": {
            "color": "rgb(139,69,19)",
            "opacity": 1,
            "size": [
             2
            ],
            "sizemode": "area",
            "sizeref": 0.029585798816568046,
            "symbol": "circle"
           },
           "mode": "markers+text",
           "name": "football",
           "orientation": "v",
           "showlegend": true,
           "text": [
            null
           ],
           "type": "scatter",
           "x": [
            49.81
           ],
           "xaxis": "x",
           "y": [
            23.82
           ],
           "yaxis": "y"
          }
         ],
         "name": "9"
        },
        {
         "data": [
          {
           "hovertemplate": "team=home<br>frameId=10<br>x=%{x}<br>y=%{y}<br>size=%{marker.size}<br>jerseyNumber=%{text}<extra></extra>",
           "legendgroup": "home",
           "marker": {
            "color": "rgb(255,60,0)",
            "opacity": 1,
            "size": [
             5,
             5,
             5,
             5,
             5,
             5,
             5,
             5
            ],
            "sizemode": "area",
            "sizeref": 0.029585798816568046,
            "symbol": "circle"
           },
           "mode": "markers+text",
           "name": "home",
           "orientation": "v",
           "showlegend": true,
           "text": [
            22,
            50,
            38,
            49,
            20,
            21,
            23,
            44
           ],
           "type": "scatter",
           "x": [
            50.54,
            50.24,
            65.21,
            52.75,
            51.53,
            67.32,
            50.76,
            54.25
           ],
           "xaxis": "x",
           "y": [
            11.18,
            30.45,
            18.55,
            18.04,
            45.01,
            34.03,
            34.23,
            27.27
           ],
           "yaxis": "y"
          },
          {
           "hovertemplate": "team=away<br>frameId=10<br>x=%{x}<br>y=%{y}<br>size=%{marker.size}<br>jerseyNumber=%{text}<extra></extra>",
           "legendgroup": "away",
           "marker": {
            "color": "rgb(238,173,30)",
            "opacity": 1,
            "size": [
             5,
             5,
             5,
             5,
             5,
             5
            ],
            "sizemode": "area",
            "sizeref": 0.029585798816568046,
            "symbol": "circle"
           },
           "mode": "markers+text",
           "name": "away",
           "orientation": "v",
           "showlegend": true,
           "text": [
            11,
            31,
            86,
            13,
            3,
            16
           ],
           "type": "scatter",
           "x": [
            47.99,
            45.49,
            49,
            49.21,
            45.36,
            48.22
           ],
           "xaxis": "x",
           "y": [
            34.55,
            26.84,
            17.7,
            45.32,
            23.93,
            10.96
           ],
           "yaxis": "y"
          },
          {
           "hovertemplate": "team=football<br>frameId=10<br>x=%{x}<br>y=%{y}<br>size=%{marker.size}<br>jerseyNumber=%{text}<extra></extra>",
           "legendgroup": "football",
           "marker": {
            "color": "rgb(139,69,19)",
            "opacity": 1,
            "size": [
             2
            ],
            "sizemode": "area",
            "sizeref": 0.029585798816568046,
            "symbol": "circle"
           },
           "mode": "markers+text",
           "name": "football",
           "orientation": "v",
           "showlegend": true,
           "text": [
            null
           ],
           "type": "scatter",
           "x": [
            50.01
           ],
           "xaxis": "x",
           "y": [
            23.86
           ],
           "yaxis": "y"
          }
         ],
         "name": "10"
        },
        {
         "data": [
          {
           "hovertemplate": "team=home<br>frameId=11<br>x=%{x}<br>y=%{y}<br>size=%{marker.size}<br>jerseyNumber=%{text}<extra></extra>",
           "legendgroup": "home",
           "marker": {
            "color": "rgb(255,60,0)",
            "opacity": 1,
            "size": [
             5,
             5,
             5,
             5,
             5,
             5,
             5,
             5
            ],
            "sizemode": "area",
            "sizeref": 0.029585798816568046,
            "symbol": "circle"
           },
           "mode": "markers+text",
           "name": "home",
           "orientation": "v",
           "showlegend": true,
           "text": [
            22,
            50,
            38,
            49,
            20,
            21,
            23,
            44
           ],
           "type": "scatter",
           "x": [
            50.56,
            50.19,
            65.34,
            52.75,
            51.53,
            67.36,
            50.76,
            54.23
           ],
           "xaxis": "x",
           "y": [
            11.17,
            30.42,
            18.49,
            18.05,
            45.02,
            34.06,
            34.23,
            27.27
           ],
           "yaxis": "y"
          },
          {
           "hovertemplate": "team=away<br>frameId=11<br>x=%{x}<br>y=%{y}<br>size=%{marker.size}<br>jerseyNumber=%{text}<extra></extra>",
           "legendgroup": "away",
           "marker": {
            "color": "rgb(238,173,30)",
            "opacity": 1,
            "size": [
             5,
             5,
             5,
             5,
             5,
             5
            ],
            "sizemode": "area",
            "sizeref": 0.029585798816568046,
            "symbol": "circle"
           },
           "mode": "markers+text",
           "name": "away",
           "orientation": "v",
           "showlegend": true,
           "text": [
            11,
            31,
            86,
            13,
            3,
            16
           ],
           "type": "scatter",
           "x": [
            48,
            45.49,
            49.03,
            49.22,
            45.35,
            48.23
           ],
           "xaxis": "x",
           "y": [
            34.55,
            26.84,
            17.69,
            45.32,
            23.93,
            10.96
           ],
           "yaxis": "y"
          },
          {
           "hovertemplate": "team=football<br>frameId=11<br>x=%{x}<br>y=%{y}<br>size=%{marker.size}<br>jerseyNumber=%{text}<extra></extra>",
           "legendgroup": "football",
           "marker": {
            "color": "rgb(139,69,19)",
            "opacity": 1,
            "size": [
             2
            ],
            "sizemode": "area",
            "sizeref": 0.029585798816568046,
            "symbol": "circle"
           },
           "mode": "markers+text",
           "name": "football",
           "orientation": "v",
           "showlegend": true,
           "text": [
            null
           ],
           "type": "scatter",
           "x": [
            49.26
           ],
           "xaxis": "x",
           "y": [
            23.89
           ],
           "yaxis": "y"
          }
         ],
         "name": "11"
        },
        {
         "data": [
          {
           "hovertemplate": "team=home<br>frameId=12<br>x=%{x}<br>y=%{y}<br>size=%{marker.size}<br>jerseyNumber=%{text}<extra></extra>",
           "legendgroup": "home",
           "marker": {
            "color": "rgb(255,60,0)",
            "opacity": 1,
            "size": [
             5,
             5,
             5,
             5,
             5,
             5,
             5,
             5
            ],
            "sizemode": "area",
            "sizeref": 0.029585798816568046,
            "symbol": "circle"
           },
           "mode": "markers+text",
           "name": "home",
           "orientation": "v",
           "showlegend": true,
           "text": [
            22,
            50,
            38,
            49,
            20,
            21,
            23,
            44
           ],
           "type": "scatter",
           "x": [
            50.58,
            50.11,
            65.48,
            52.75,
            51.53,
            67.41,
            50.77,
            54.2
           ],
           "xaxis": "x",
           "y": [
            11.16,
            30.38,
            18.41,
            18.07,
            44.98,
            34.11,
            34.22,
            27.27
           ],
           "yaxis": "y"
          },
          {
           "hovertemplate": "team=away<br>frameId=12<br>x=%{x}<br>y=%{y}<br>size=%{marker.size}<br>jerseyNumber=%{text}<extra></extra>",
           "legendgroup": "away",
           "marker": {
            "color": "rgb(238,173,30)",
            "opacity": 1,
            "size": [
             5,
             5,
             5,
             5,
             5,
             5
            ],
            "sizemode": "area",
            "sizeref": 0.029585798816568046,
            "symbol": "circle"
           },
           "mode": "markers+text",
           "name": "away",
           "orientation": "v",
           "showlegend": true,
           "text": [
            11,
            31,
            86,
            13,
            3,
            16
           ],
           "type": "scatter",
           "x": [
            48.01,
            45.48,
            49.07,
            49.25,
            45.32,
            48.24
           ],
           "xaxis": "x",
           "y": [
            34.54,
            26.85,
            17.69,
            45.32,
            23.93,
            10.96
           ],
           "yaxis": "y"
          },
          {
           "hovertemplate": "team=football<br>frameId=12<br>x=%{x}<br>y=%{y}<br>size=%{marker.size}<br>jerseyNumber=%{text}<extra></extra>",
           "legendgroup": "football",
           "marker": {
            "color": "rgb(139,69,19)",
            "opacity": 1,
            "size": [
             2
            ],
            "sizemode": "area",
            "sizeref": 0.029585798816568046,
            "symbol": "circle"
           },
           "mode": "markers+text",
           "name": "football",
           "orientation": "v",
           "showlegend": true,
           "text": [
            null
           ],
           "type": "scatter",
           "x": [
            48.53
           ],
           "xaxis": "x",
           "y": [
            23.9
           ],
           "yaxis": "y"
          }
         ],
         "name": "12"
        },
        {
         "data": [
          {
           "hovertemplate": "team=home<br>frameId=13<br>x=%{x}<br>y=%{y}<br>size=%{marker.size}<br>jerseyNumber=%{text}<extra></extra>",
           "legendgroup": "home",
           "marker": {
            "color": "rgb(255,60,0)",
            "opacity": 1,
            "size": [
             5,
             5,
             5,
             5,
             5,
             5,
             5,
             5
            ],
            "sizemode": "area",
            "sizeref": 0.029585798816568046,
            "symbol": "circle"
           },
           "mode": "markers+text",
           "name": "home",
           "orientation": "v",
           "showlegend": true,
           "text": [
            22,
            50,
            38,
            49,
            20,
            21,
            23,
            44
           ],
           "type": "scatter",
           "x": [
            50.6,
            49.99,
            65.62,
            52.75,
            51.55,
            67.46,
            50.79,
            54.16
           ],
           "xaxis": "x",
           "y": [
            11.15,
            30.32,
            18.33,
            18.08,
            44.95,
            34.14,
            34.17,
            27.29
           ],
           "yaxis": "y"
          },
          {
           "hovertemplate": "team=away<br>frameId=13<br>x=%{x}<br>y=%{y}<br>size=%{marker.size}<br>jerseyNumber=%{text}<extra></extra>",
           "legendgroup": "away",
           "marker": {
            "color": "rgb(238,173,30)",
            "opacity": 1,
            "size": [
             5,
             5,
             5,
             5,
             5,
             5
            ],
            "sizemode": "area",
            "sizeref": 0.029585798816568046,
            "symbol": "circle"
           },
           "mode": "markers+text",
           "name": "away",
           "orientation": "v",
           "showlegend": true,
           "text": [
            11,
            31,
            86,
            13,
            3,
            16
           ],
           "type": "scatter",
           "x": [
            48.06,
            45.47,
            49.17,
            49.26,
            45.29,
            48.26
           ],
           "xaxis": "x",
           "y": [
            34.53,
            26.88,
            17.68,
            45.31,
            23.93,
            10.95
           ],
           "yaxis": "y"
          },
          {
           "hovertemplate": "team=football<br>frameId=13<br>x=%{x}<br>y=%{y}<br>size=%{marker.size}<br>jerseyNumber=%{text}<extra></extra>",
           "legendgroup": "football",
           "marker": {
            "color": "rgb(139,69,19)",
            "opacity": 1,
            "size": [
             2
            ],
            "sizemode": "area",
            "sizeref": 0.029585798816568046,
            "symbol": "circle"
           },
           "mode": "markers+text",
           "name": "football",
           "orientation": "v",
           "showlegend": true,
           "text": [
            null
           ],
           "type": "scatter",
           "x": [
            47.84
           ],
           "xaxis": "x",
           "y": [
            23.91
           ],
           "yaxis": "y"
          }
         ],
         "name": "13"
        },
        {
         "data": [
          {
           "hovertemplate": "team=home<br>frameId=14<br>x=%{x}<br>y=%{y}<br>size=%{marker.size}<br>jerseyNumber=%{text}<extra></extra>",
           "legendgroup": "home",
           "marker": {
            "color": "rgb(255,60,0)",
            "opacity": 1,
            "size": [
             5,
             5,
             5,
             5,
             5,
             5,
             5,
             5
            ],
            "sizemode": "area",
            "sizeref": 0.029585798816568046,
            "symbol": "circle"
           },
           "mode": "markers+text",
           "name": "home",
           "orientation": "v",
           "showlegend": true,
           "text": [
            22,
            50,
            38,
            49,
            20,
            21,
            23,
            44
           ],
           "type": "scatter",
           "x": [
            50.64,
            49.85,
            65.78,
            52.78,
            51.57,
            67.51,
            50.83,
            54.15
           ],
           "xaxis": "x",
           "y": [
            11.15,
            30.26,
            18.24,
            18.1,
            44.94,
            34.17,
            34.14,
            27.31
           ],
           "yaxis": "y"
          },
          {
           "hovertemplate": "team=away<br>frameId=14<br>x=%{x}<br>y=%{y}<br>size=%{marker.size}<br>jerseyNumber=%{text}<extra></extra>",
           "legendgroup": "away",
           "marker": {
            "color": "rgb(238,173,30)",
            "opacity": 1,
            "size": [
             5,
             5,
             5,
             5,
             5,
             5
            ],
            "sizemode": "area",
            "sizeref": 0.029585798816568046,
            "symbol": "circle"
           },
           "mode": "markers+text",
           "name": "away",
           "orientation": "v",
           "showlegend": true,
           "text": [
            11,
            31,
            86,
            13,
            3,
            16
           ],
           "type": "scatter",
           "x": [
            48.14,
            45.46,
            49.29,
            49.28,
            45.26,
            48.33
           ],
           "xaxis": "x",
           "y": [
            34.51,
            26.9,
            17.65,
            45.31,
            23.93,
            10.94
           ],
           "yaxis": "y"
          },
          {
           "hovertemplate": "team=football<br>frameId=14<br>x=%{x}<br>y=%{y}<br>size=%{marker.size}<br>jerseyNumber=%{text}<extra></extra>",
           "legendgroup": "football",
           "marker": {
            "color": "rgb(139,69,19)",
            "opacity": 1,
            "size": [
             2
            ],
            "sizemode": "area",
            "sizeref": 0.029585798816568046,
            "symbol": "circle"
           },
           "mode": "markers+text",
           "name": "football",
           "orientation": "v",
           "showlegend": true,
           "text": [
            null
           ],
           "type": "scatter",
           "x": [
            47.17
           ],
           "xaxis": "x",
           "y": [
            23.92
           ],
           "yaxis": "y"
          }
         ],
         "name": "14"
        },
        {
         "data": [
          {
           "hovertemplate": "team=home<br>frameId=15<br>x=%{x}<br>y=%{y}<br>size=%{marker.size}<br>jerseyNumber=%{text}<extra></extra>",
           "legendgroup": "home",
           "marker": {
            "color": "rgb(255,60,0)",
            "opacity": 1,
            "size": [
             5,
             5,
             5,
             5,
             5,
             5,
             5,
             5
            ],
            "sizemode": "area",
            "sizeref": 0.029585798816568046,
            "symbol": "circle"
           },
           "mode": "markers+text",
           "name": "home",
           "orientation": "v",
           "showlegend": true,
           "text": [
            22,
            50,
            38,
            49,
            20,
            21,
            23,
            44
           ],
           "type": "scatter",
           "x": [
            50.69,
            49.65,
            65.95,
            52.81,
            51.59,
            67.57,
            50.87,
            54.11
           ],
           "xaxis": "x",
           "y": [
            11.16,
            30.17,
            18.14,
            18.09,
            44.93,
            34.2,
            34.1,
            27.33
           ],
           "yaxis": "y"
          },
          {
           "hovertemplate": "team=away<br>frameId=15<br>x=%{x}<br>y=%{y}<br>size=%{marker.size}<br>jerseyNumber=%{text}<extra></extra>",
           "legendgroup": "away",
           "marker": {
            "color": "rgb(238,173,30)",
            "opacity": 1,
            "size": [
             5,
             5,
             5,
             5,
             5,
             5
            ],
            "sizemode": "area",
            "sizeref": 0.029585798816568046,
            "symbol": "circle"
           },
           "mode": "markers+text",
           "name": "away",
           "orientation": "v",
           "showlegend": true,
           "text": [
            11,
            31,
            86,
            13,
            3,
            16
           ],
           "type": "scatter",
           "x": [
            48.25,
            45.45,
            49.49,
            49.34,
            45.19,
            48.43
           ],
           "xaxis": "x",
           "y": [
            34.47,
            26.93,
            17.61,
            45.3,
            23.94,
            10.92
           ],
           "yaxis": "y"
          },
          {
           "hovertemplate": "team=football<br>frameId=15<br>x=%{x}<br>y=%{y}<br>size=%{marker.size}<br>jerseyNumber=%{text}<extra></extra>",
           "legendgroup": "football",
           "marker": {
            "color": "rgb(139,69,19)",
            "opacity": 1,
            "size": [
             2
            ],
            "sizemode": "area",
            "sizeref": 0.029585798816568046,
            "symbol": "circle"
           },
           "mode": "markers+text",
           "name": "football",
           "orientation": "v",
           "showlegend": true,
           "text": [
            null
           ],
           "type": "scatter",
           "x": [
            46.57
           ],
           "xaxis": "x",
           "y": [
            23.9
           ],
           "yaxis": "y"
          }
         ],
         "name": "15"
        },
        {
         "data": [
          {
           "hovertemplate": "team=home<br>frameId=16<br>x=%{x}<br>y=%{y}<br>size=%{marker.size}<br>jerseyNumber=%{text}<extra></extra>",
           "legendgroup": "home",
           "marker": {
            "color": "rgb(255,60,0)",
            "opacity": 1,
            "size": [
             5,
             5,
             5,
             5,
             5,
             5,
             5,
             5
            ],
            "sizemode": "area",
            "sizeref": 0.029585798816568046,
            "symbol": "circle"
           },
           "mode": "markers+text",
           "name": "home",
           "orientation": "v",
           "showlegend": true,
           "text": [
            22,
            50,
            38,
            49,
            20,
            21,
            23,
            44
           ],
           "type": "scatter",
           "x": [
            50.76,
            49.41,
            66.14,
            52.85,
            51.61,
            67.63,
            50.92,
            54.07
           ],
           "xaxis": "x",
           "y": [
            11.18,
            30.07,
            18.02,
            18.08,
            44.93,
            34.24,
            34.05,
            27.39
           ],
           "yaxis": "y"
          },
          {
           "hovertemplate": "team=away<br>frameId=16<br>x=%{x}<br>y=%{y}<br>size=%{marker.size}<br>jerseyNumber=%{text}<extra></extra>",
           "legendgroup": "away",
           "marker": {
            "color": "rgb(238,173,30)",
            "opacity": 1,
            "size": [
             5,
             5,
             5,
             5,
             5,
             5
            ],
            "sizemode": "area",
            "sizeref": 0.029585798816568046,
            "symbol": "circle"
           },
           "mode": "markers+text",
           "name": "away",
           "orientation": "v",
           "showlegend": true,
           "text": [
            11,
            31,
            86,
            13,
            3,
            16
           ],
           "type": "scatter",
           "x": [
            48.43,
            45.41,
            49.73,
            49.44,
            45.09,
            48.57
           ],
           "xaxis": "x",
           "y": [
            34.42,
            26.99,
            17.56,
            45.3,
            23.95,
            10.89
           ],
           "yaxis": "y"
          },
          {
           "hovertemplate": "team=football<br>frameId=16<br>x=%{x}<br>y=%{y}<br>size=%{marker.size}<br>jerseyNumber=%{text}<extra></extra>",
           "legendgroup": "football",
           "marker": {
            "color": "rgb(139,69,19)",
            "opacity": 1,
            "size": [
             2
            ],
            "sizemode": "area",
            "sizeref": 0.029585798816568046,
            "symbol": "circle"
           },
           "mode": "markers+text",
           "name": "football",
           "orientation": "v",
           "showlegend": true,
           "text": [
            null
           ],
           "type": "scatter",
           "x": [
            46.02
           ],
           "xaxis": "x",
           "y": [
            23.88
           ],
           "yaxis": "y"
          }
         ],
         "name": "16"
        },
        {
         "data": [
          {
           "hovertemplate": "team=home<br>frameId=17<br>x=%{x}<br>y=%{y}<br>size=%{marker.size}<br>jerseyNumber=%{text}<extra></extra>",
           "legendgroup": "home",
           "marker": {
            "color": "rgb(255,60,0)",
            "opacity": 1,
            "size": [
             5,
             5,
             5,
             5,
             5,
             5,
             5,
             5
            ],
            "sizemode": "area",
            "sizeref": 0.029585798816568046,
            "symbol": "circle"
           },
           "mode": "markers+text",
           "name": "home",
           "orientation": "v",
           "showlegend": true,
           "text": [
            22,
            50,
            38,
            49,
            20,
            21,
            23,
            44
           ],
           "type": "scatter",
           "x": [
            50.84,
            49.12,
            66.33,
            52.87,
            51.64,
            67.68,
            50.98,
            54.02
           ],
           "xaxis": "x",
           "y": [
            11.21,
            29.92,
            17.9,
            18.08,
            44.91,
            34.27,
            33.97,
            27.44
           ],
           "yaxis": "y"
          },
          {
           "hovertemplate": "team=away<br>frameId=17<br>x=%{x}<br>y=%{y}<br>size=%{marker.size}<br>jerseyNumber=%{text}<extra></extra>",
           "legendgroup": "away",
           "marker": {
            "color": "rgb(238,173,30)",
            "opacity": 1,
            "size": [
             5,
             5,
             5,
             5,
             5,
             5
            ],
            "sizemode": "area",
            "sizeref": 0.029585798816568046,
            "symbol": "circle"
           },
           "mode": "markers+text",
           "name": "away",
           "orientation": "v",
           "showlegend": true,
           "text": [
            11,
            31,
            86,
            13,
            3,
            16
           ],
           "type": "scatter",
           "x": [
            48.66,
            45.37,
            50,
            49.58,
            44.95,
            48.75
           ],
           "xaxis": "x",
           "y": [
            34.37,
            27.11,
            17.5,
            45.31,
            23.96,
            10.83
           ],
           "yaxis": "y"
          },
          {
           "hovertemplate": "team=football<br>frameId=17<br>x=%{x}<br>y=%{y}<br>size=%{marker.size}<br>jerseyNumber=%{text}<extra></extra>",
           "legendgroup": "football",
           "marker": {
            "color": "rgb(139,69,19)",
            "opacity": 1,
            "size": [
             2
            ],
            "sizemode": "area",
            "sizeref": 0.029585798816568046,
            "symbol": "circle"
           },
           "mode": "markers+text",
           "name": "football",
           "orientation": "v",
           "showlegend": true,
           "text": [
            null
           ],
           "type": "scatter",
           "x": [
            45.53
           ],
           "xaxis": "x",
           "y": [
            23.84
           ],
           "yaxis": "y"
          }
         ],
         "name": "17"
        },
        {
         "data": [
          {
           "hovertemplate": "team=home<br>frameId=18<br>x=%{x}<br>y=%{y}<br>size=%{marker.size}<br>jerseyNumber=%{text}<extra></extra>",
           "legendgroup": "home",
           "marker": {
            "color": "rgb(255,60,0)",
            "opacity": 1,
            "size": [
             5,
             5,
             5,
             5,
             5,
             5,
             5,
             5
            ],
            "sizemode": "area",
            "sizeref": 0.029585798816568046,
            "symbol": "circle"
           },
           "mode": "markers+text",
           "name": "home",
           "orientation": "v",
           "showlegend": true,
           "text": [
            22,
            50,
            38,
            49,
            20,
            21,
            23,
            44
           ],
           "type": "scatter",
           "x": [
            50.95,
            48.8,
            66.54,
            52.89,
            51.7,
            67.75,
            51.08,
            53.97
           ],
           "xaxis": "x",
           "y": [
            11.24,
            29.76,
            17.77,
            18.07,
            44.89,
            34.32,
            33.89,
            27.48
           ],
           "yaxis": "y"
          },
          {
           "hovertemplate": "team=away<br>frameId=18<br>x=%{x}<br>y=%{y}<br>size=%{marker.size}<br>jerseyNumber=%{text}<extra></extra>",
           "legendgroup": "away",
           "marker": {
            "color": "rgb(238,173,30)",
            "opacity": 1,
            "size": [
             5,
             5,
             5,
             5,
             5,
             5
            ],
            "sizemode": "area",
            "sizeref": 0.029585798816568046,
            "symbol": "circle"
           },
           "mode": "markers+text",
           "name": "away",
           "orientation": "v",
           "showlegend": true,
           "text": [
            11,
            31,
            86,
            13,
            3,
            16
           ],
           "type": "scatter",
           "x": [
            48.92,
            45.3,
            50.33,
            49.77,
            44.77,
            48.99
           ],
           "xaxis": "x",
           "y": [
            34.32,
            27.27,
            17.43,
            45.33,
            23.97,
            10.76
           ],
           "yaxis": "y"
          },
          {
           "hovertemplate": "team=football<br>frameId=18<br>x=%{x}<br>y=%{y}<br>size=%{marker.size}<br>jerseyNumber=%{text}<extra></extra>",
           "legendgroup": "football",
           "marker": {
            "color": "rgb(139,69,19)",
            "opacity": 1,
            "size": [
             2
            ],
            "sizemode": "area",
            "sizeref": 0.029585798816568046,
            "symbol": "circle"
           },
           "mode": "markers+text",
           "name": "football",
           "orientation": "v",
           "showlegend": true,
           "text": [
            null
           ],
           "type": "scatter",
           "x": [
            45.1
           ],
           "xaxis": "x",
           "y": [
            23.79
           ],
           "yaxis": "y"
          }
         ],
         "name": "18"
        },
        {
         "data": [
          {
           "hovertemplate": "team=home<br>frameId=19<br>x=%{x}<br>y=%{y}<br>size=%{marker.size}<br>jerseyNumber=%{text}<extra></extra>",
           "legendgroup": "home",
           "marker": {
            "color": "rgb(255,60,0)",
            "opacity": 1,
            "size": [
             5,
             5,
             5,
             5,
             5,
             5,
             5,
             5
            ],
            "sizemode": "area",
            "sizeref": 0.029585798816568046,
            "symbol": "circle"
           },
           "mode": "markers+text",
           "name": "home",
           "orientation": "v",
           "showlegend": true,
           "text": [
            22,
            50,
            38,
            49,
            20,
            21,
            23,
            44
           ],
           "type": "scatter",
           "x": [
            51.07,
            48.46,
            66.75,
            52.96,
            51.82,
            67.84,
            51.19,
            53.9
           ],
           "xaxis": "x",
           "y": [
            11.27,
            29.57,
            17.63,
            18.05,
            44.88,
            34.39,
            33.79,
            27.56
           ],
           "yaxis": "y"
          },
          {
           "hovertemplate": "team=away<br>frameId=19<br>x=%{x}<br>y=%{y}<br>size=%{marker.size}<br>jerseyNumber=%{text}<extra></extra>",
           "legendgroup": "away",
           "marker": {
            "color": "rgb(238,173,30)",
            "opacity": 1,
            "size": [
             5,
             5,
             5,
             5,
             5,
             5
            ],
            "sizemode": "area",
            "sizeref": 0.029585798816568046,
            "symbol": "circle"
           },
           "mode": "markers+text",
           "name": "away",
           "orientation": "v",
           "showlegend": true,
           "text": [
            11,
            31,
            86,
            13,
            3,
            16
           ],
           "type": "scatter",
           "x": [
            49.25,
            45.24,
            50.71,
            50.03,
            44.56,
            49.26
           ],
           "xaxis": "x",
           "y": [
            34.28,
            27.47,
            17.35,
            45.37,
            23.98,
            10.66
           ],
           "yaxis": "y"
          },
          {
           "hovertemplate": "team=football<br>frameId=19<br>x=%{x}<br>y=%{y}<br>size=%{marker.size}<br>jerseyNumber=%{text}<extra></extra>",
           "legendgroup": "football",
           "marker": {
            "color": "rgb(139,69,19)",
            "opacity": 1,
            "size": [
             2
            ],
            "sizemode": "area",
            "sizeref": 0.029585798816568046,
            "symbol": "circle"
           },
           "mode": "markers+text",
           "name": "football",
           "orientation": "v",
           "showlegend": true,
           "text": [
            null
           ],
           "type": "scatter",
           "x": [
            44.73
           ],
           "xaxis": "x",
           "y": [
            23.73
           ],
           "yaxis": "y"
          }
         ],
         "name": "19"
        },
        {
         "data": [
          {
           "hovertemplate": "team=home<br>frameId=20<br>x=%{x}<br>y=%{y}<br>size=%{marker.size}<br>jerseyNumber=%{text}<extra></extra>",
           "legendgroup": "home",
           "marker": {
            "color": "rgb(255,60,0)",
            "opacity": 1,
            "size": [
             5,
             5,
             5,
             5,
             5,
             5,
             5,
             5
            ],
            "sizemode": "area",
            "sizeref": 0.029585798816568046,
            "symbol": "circle"
           },
           "mode": "markers+text",
           "name": "home",
           "orientation": "v",
           "showlegend": true,
           "text": [
            22,
            50,
            38,
            49,
            20,
            21,
            23,
            44
           ],
           "type": "scatter",
           "x": [
            51.23,
            48.11,
            66.98,
            53.06,
            51.98,
            67.97,
            51.35,
            53.8
           ],
           "xaxis": "x",
           "y": [
            11.29,
            29.36,
            17.48,
            18,
            44.88,
            34.47,
            33.69,
            27.67
           ],
           "yaxis": "y"
          },
          {
           "hovertemplate": "team=away<br>frameId=20<br>x=%{x}<br>y=%{y}<br>size=%{marker.size}<br>jerseyNumber=%{text}<extra></extra>",
           "legendgroup": "away",
           "marker": {
            "color": "rgb(238,173,30)",
            "opacity": 1,
            "size": [
             5,
             5,
             5,
             5,
             5,
             5
            ],
            "sizemode": "area",
            "sizeref": 0.029585798816568046,
            "symbol": "circle"
           },
           "mode": "markers+text",
           "name": "away",
           "orientation": "v",
           "showlegend": true,
           "text": [
            11,
            31,
            86,
            13,
            3,
            16
           ],
           "type": "scatter",
           "x": [
            49.6,
            45.2,
            51.13,
            50.34,
            44.33,
            49.57
           ],
           "xaxis": "x",
           "y": [
            34.25,
            27.72,
            17.25,
            45.44,
            23.99,
            10.56
           ],
           "yaxis": "y"
          },
          {
           "hovertemplate": "team=football<br>frameId=20<br>x=%{x}<br>y=%{y}<br>size=%{marker.size}<br>jerseyNumber=%{text}<extra></extra>",
           "legendgroup": "football",
           "marker": {
            "color": "rgb(139,69,19)",
            "opacity": 1,
            "size": [
             2
            ],
            "sizemode": "area",
            "sizeref": 0.029585798816568046,
            "symbol": "circle"
           },
           "mode": "markers+text",
           "name": "football",
           "orientation": "v",
           "showlegend": true,
           "text": [
            null
           ],
           "type": "scatter",
           "x": [
            44.4
           ],
           "xaxis": "x",
           "y": [
            23.69
           ],
           "yaxis": "y"
          }
         ],
         "name": "20"
        },
        {
         "data": [
          {
           "hovertemplate": "team=home<br>frameId=21<br>x=%{x}<br>y=%{y}<br>size=%{marker.size}<br>jerseyNumber=%{text}<extra></extra>",
           "legendgroup": "home",
           "marker": {
            "color": "rgb(255,60,0)",
            "opacity": 1,
            "size": [
             5,
             5,
             5,
             5,
             5,
             5,
             5,
             5
            ],
            "sizemode": "area",
            "sizeref": 0.029585798816568046,
            "symbol": "circle"
           },
           "mode": "markers+text",
           "name": "home",
           "orientation": "v",
           "showlegend": true,
           "text": [
            22,
            50,
            38,
            49,
            20,
            21,
            23,
            44
           ],
           "type": "scatter",
           "x": [
            51.41,
            47.75,
            67.22,
            53.23,
            52.18,
            68.12,
            51.54,
            53.67
           ],
           "xaxis": "x",
           "y": [
            11.29,
            29.12,
            17.32,
            17.95,
            44.9,
            34.55,
            33.6,
            27.81
           ],
           "yaxis": "y"
          },
          {
           "hovertemplate": "team=away<br>frameId=21<br>x=%{x}<br>y=%{y}<br>size=%{marker.size}<br>jerseyNumber=%{text}<extra></extra>",
           "legendgroup": "away",
           "marker": {
            "color": "rgb(238,173,30)",
            "opacity": 1,
            "size": [
             5,
             5,
             5,
             5,
             5,
             5
            ],
            "sizemode": "area",
            "sizeref": 0.029585798816568046,
            "symbol": "circle"
           },
           "mode": "markers+text",
           "name": "away",
           "orientation": "v",
           "showlegend": true,
           "text": [
            11,
            31,
            86,
            13,
            3,
            16
           ],
           "type": "scatter",
           "x": [
            50,
            45.17,
            51.6,
            50.7,
            44.08,
            49.91
           ],
           "xaxis": "x",
           "y": [
            34.24,
            27.99,
            17.15,
            45.54,
            23.99,
            10.44
           ],
           "yaxis": "y"
          },
          {
           "hovertemplate": "team=football<br>frameId=21<br>x=%{x}<br>y=%{y}<br>size=%{marker.size}<br>jerseyNumber=%{text}<extra></extra>",
           "legendgroup": "football",
           "marker": {
            "color": "rgb(139,69,19)",
            "opacity": 1,
            "size": [
             2
            ],
            "sizemode": "area",
            "sizeref": 0.029585798816568046,
            "symbol": "circle"
           },
           "mode": "markers+text",
           "name": "football",
           "orientation": "v",
           "showlegend": true,
           "text": [
            null
           ],
           "type": "scatter",
           "x": [
            44.1
           ],
           "xaxis": "x",
           "y": [
            23.64
           ],
           "yaxis": "y"
          }
         ],
         "name": "21"
        },
        {
         "data": [
          {
           "hovertemplate": "team=home<br>frameId=22<br>x=%{x}<br>y=%{y}<br>size=%{marker.size}<br>jerseyNumber=%{text}<extra></extra>",
           "legendgroup": "home",
           "marker": {
            "color": "rgb(255,60,0)",
            "opacity": 1,
            "size": [
             5,
             5,
             5,
             5,
             5,
             5,
             5,
             5
            ],
            "sizemode": "area",
            "sizeref": 0.029585798816568046,
            "symbol": "circle"
           },
           "mode": "markers+text",
           "name": "home",
           "orientation": "v",
           "showlegend": true,
           "text": [
            22,
            50,
            38,
            49,
            20,
            21,
            23,
            44
           ],
           "type": "scatter",
           "x": [
            51.62,
            47.39,
            67.46,
            53.45,
            52.4,
            68.31,
            51.76,
            53.52
           ],
           "xaxis": "x",
           "y": [
            11.27,
            28.87,
            17.14,
            17.88,
            44.94,
            34.65,
            33.5,
            27.99
           ],
           "yaxis": "y"
          },
          {
           "hovertemplate": "team=away<br>frameId=22<br>x=%{x}<br>y=%{y}<br>size=%{marker.size}<br>jerseyNumber=%{text}<extra></extra>",
           "legendgroup": "away",
           "marker": {
            "color": "rgb(238,173,30)",
            "opacity": 1,
            "size": [
             5,
             5,
             5,
             5,
             5,
             5
            ],
            "sizemode": "area",
            "sizeref": 0.029585798816568046,
            "symbol": "circle"
           },
           "mode": "markers+text",
           "name": "away",
           "orientation": "v",
           "showlegend": true,
           "text": [
            11,
            31,
            86,
            13,
            3,
            16
           ],
           "type": "scatter",
           "x": [
            50.43,
            45.18,
            52.1,
            51.09,
            43.82,
            50.29
           ],
           "xaxis": "x",
           "y": [
            34.22,
            28.28,
            17.05,
            45.66,
            23.98,
            10.3
           ],
           "yaxis": "y"
          },
          {
           "hovertemplate": "team=football<br>frameId=22<br>x=%{x}<br>y=%{y}<br>size=%{marker.size}<br>jerseyNumber=%{text}<extra></extra>",
           "legendgroup": "football",
           "marker": {
            "color": "rgb(139,69,19)",
            "opacity": 1,
            "size": [
             2
            ],
            "sizemode": "area",
            "sizeref": 0.029585798816568046,
            "symbol": "circle"
           },
           "mode": "markers+text",
           "name": "football",
           "orientation": "v",
           "showlegend": true,
           "text": [
            null
           ],
           "type": "scatter",
           "x": [
            43.83
           ],
           "xaxis": "x",
           "y": [
            23.58
           ],
           "yaxis": "y"
          }
         ],
         "name": "22"
        },
        {
         "data": [
          {
           "hovertemplate": "team=home<br>frameId=23<br>x=%{x}<br>y=%{y}<br>size=%{marker.size}<br>jerseyNumber=%{text}<extra></extra>",
           "legendgroup": "home",
           "marker": {
            "color": "rgb(255,60,0)",
            "opacity": 1,
            "size": [
             5,
             5,
             5,
             5,
             5,
             5,
             5,
             5
            ],
            "sizemode": "area",
            "sizeref": 0.029585798816568046,
            "symbol": "circle"
           },
           "mode": "markers+text",
           "name": "home",
           "orientation": "v",
           "showlegend": true,
           "text": [
            22,
            50,
            38,
            49,
            20,
            21,
            23,
            44
           ],
           "type": "scatter",
           "x": [
            51.85,
            47.05,
            67.71,
            53.71,
            52.67,
            68.51,
            52.01,
            53.34
           ],
           "xaxis": "x",
           "y": [
            11.23,
            28.61,
            16.96,
            17.8,
            44.99,
            34.74,
            33.42,
            28.21
           ],
           "yaxis": "y"
          },
          {
           "hovertemplate": "team=away<br>frameId=23<br>x=%{x}<br>y=%{y}<br>size=%{marker.size}<br>jerseyNumber=%{text}<extra></extra>",
           "legendgroup": "away",
           "marker": {
            "color": "rgb(238,173,30)",
            "opacity": 1,
            "size": [
             5,
             5,
             5,
             5,
             5,
             5
            ],
            "sizemode": "area",
            "sizeref": 0.029585798816568046,
            "symbol": "circle"
           },
           "mode": "markers+text",
           "name": "away",
           "orientation": "v",
           "showlegend": true,
           "text": [
            11,
            31,
            86,
            13,
            3,
            16
           ],
           "type": "scatter",
           "x": [
            50.89,
            45.21,
            52.63,
            51.52,
            43.57,
            50.69
           ],
           "xaxis": "x",
           "y": [
            34.23,
            28.59,
            16.94,
            45.81,
            23.97,
            10.15
           ],
           "yaxis": "y"
          },
          {
           "hovertemplate": "team=football<br>frameId=23<br>x=%{x}<br>y=%{y}<br>size=%{marker.size}<br>jerseyNumber=%{text}<extra></extra>",
           "legendgroup": "football",
           "marker": {
            "color": "rgb(139,69,19)",
            "opacity": 1,
            "size": [
             2
            ],
            "sizemode": "area",
            "sizeref": 0.029585798816568046,
            "symbol": "circle"
           },
           "mode": "markers+text",
           "name": "football",
           "orientation": "v",
           "showlegend": true,
           "text": [
            null
           ],
           "type": "scatter",
           "x": [
            43.59
           ],
           "xaxis": "x",
           "y": [
            23.52
           ],
           "yaxis": "y"
          }
         ],
         "name": "23"
        },
        {
         "data": [
          {
           "hovertemplate": "team=home<br>frameId=24<br>x=%{x}<br>y=%{y}<br>size=%{marker.size}<br>jerseyNumber=%{text}<extra></extra>",
           "legendgroup": "home",
           "marker": {
            "color": "rgb(255,60,0)",
            "opacity": 1,
            "size": [
             5,
             5,
             5,
             5,
             5,
             5,
             5,
             5
            ],
            "sizemode": "area",
            "sizeref": 0.029585798816568046,
            "symbol": "circle"
           },
           "mode": "markers+text",
           "name": "home",
           "orientation": "v",
           "showlegend": true,
           "text": [
            22,
            50,
            38,
            49,
            20,
            21,
            23,
            44
           ],
           "type": "scatter",
           "x": [
            52.12,
            46.72,
            67.97,
            54.01,
            52.96,
            68.74,
            52.3,
            53.14
           ],
           "xaxis": "x",
           "y": [
            11.17,
            28.36,
            16.76,
            17.7,
            45.06,
            34.84,
            33.35,
            28.46
           ],
           "yaxis": "y"
          },
          {
           "hovertemplate": "team=away<br>frameId=24<br>x=%{x}<br>y=%{y}<br>size=%{marker.size}<br>jerseyNumber=%{text}<extra></extra>",
           "legendgroup": "away",
           "marker": {
            "color": "rgb(238,173,30)",
            "opacity": 1,
            "size": [
             5,
             5,
             5,
             5,
             5,
             5
            ],
            "sizemode": "area",
            "sizeref": 0.029585798816568046,
            "symbol": "circle"
           },
           "mode": "markers+text",
           "name": "away",
           "orientation": "v",
           "showlegend": true,
           "text": [
            11,
            31,
            86,
            13,
            3,
            16
           ],
           "type": "scatter",
           "x": [
            51.38,
            45.29,
            53.19,
            52,
            43.33,
            51.12
           ],
           "xaxis": "x",
           "y": [
            34.26,
            28.9,
            16.83,
            45.97,
            23.95,
            10
           ],
           "yaxis": "y"
          },
          {
           "hovertemplate": "team=football<br>frameId=24<br>x=%{x}<br>y=%{y}<br>size=%{marker.size}<br>jerseyNumber=%{text}<extra></extra>",
           "legendgroup": "football",
           "marker": {
            "color": "rgb(139,69,19)",
            "opacity": 1,
            "size": [
             2
            ],
            "sizemode": "area",
            "sizeref": 0.029585798816568046,
            "symbol": "circle"
           },
           "mode": "markers+text",
           "name": "football",
           "orientation": "v",
           "showlegend": true,
           "text": [
            null
           ],
           "type": "scatter",
           "x": [
            43.37
           ],
           "xaxis": "x",
           "y": [
            23.46
           ],
           "yaxis": "y"
          }
         ],
         "name": "24"
        },
        {
         "data": [
          {
           "hovertemplate": "team=home<br>frameId=25<br>x=%{x}<br>y=%{y}<br>size=%{marker.size}<br>jerseyNumber=%{text}<extra></extra>",
           "legendgroup": "home",
           "marker": {
            "color": "rgb(255,60,0)",
            "opacity": 1,
            "size": [
             5,
             5,
             5,
             5,
             5,
             5,
             5,
             5
            ],
            "sizemode": "area",
            "sizeref": 0.029585798816568046,
            "symbol": "circle"
           },
           "mode": "markers+text",
           "name": "home",
           "orientation": "v",
           "showlegend": true,
           "text": [
            22,
            50,
            38,
            49,
            20,
            21,
            23,
            44
           ],
           "type": "scatter",
           "x": [
            52.41,
            46.4,
            68.24,
            54.35,
            53.29,
            68.99,
            52.63,
            52.94
           ],
           "xaxis": "x",
           "y": [
            11.08,
            28.12,
            16.57,
            17.6,
            45.16,
            34.93,
            33.31,
            28.71
           ],
           "yaxis": "y"
          },
          {
           "hovertemplate": "team=away<br>frameId=25<br>x=%{x}<br>y=%{y}<br>size=%{marker.size}<br>jerseyNumber=%{text}<extra></extra>",
           "legendgroup": "away",
           "marker": {
            "color": "rgb(238,173,30)",
            "opacity": 1,
            "size": [
             5,
             5,
             5,
             5,
             5,
             5
            ],
            "sizemode": "area",
            "sizeref": 0.029585798816568046,
            "symbol": "circle"
           },
           "mode": "markers+text",
           "name": "away",
           "orientation": "v",
           "showlegend": true,
           "text": [
            11,
            31,
            86,
            13,
            3,
            16
           ],
           "type": "scatter",
           "x": [
            51.88,
            45.42,
            53.76,
            52.5,
            43.1,
            51.58
           ],
           "xaxis": "x",
           "y": [
            34.3,
            29.22,
            16.71,
            46.14,
            23.92,
            9.84
           ],
           "yaxis": "y"
          },
          {
           "hovertemplate": "team=football<br>frameId=25<br>x=%{x}<br>y=%{y}<br>size=%{marker.size}<br>jerseyNumber=%{text}<extra></extra>",
           "legendgroup": "football",
           "marker": {
            "color": "rgb(139,69,19)",
            "opacity": 1,
            "size": [
             2
            ],
            "sizemode": "area",
            "sizeref": 0.029585798816568046,
            "symbol": "circle"
           },
           "mode": "markers+text",
           "name": "football",
           "orientation": "v",
           "showlegend": true,
           "text": [
            null
           ],
           "type": "scatter",
           "x": [
            43.17
           ],
           "xaxis": "x",
           "y": [
            23.42
           ],
           "yaxis": "y"
          }
         ],
         "name": "25"
        },
        {
         "data": [
          {
           "hovertemplate": "team=home<br>frameId=26<br>x=%{x}<br>y=%{y}<br>size=%{marker.size}<br>jerseyNumber=%{text}<extra></extra>",
           "legendgroup": "home",
           "marker": {
            "color": "rgb(255,60,0)",
            "opacity": 1,
            "size": [
             5,
             5,
             5,
             5,
             5,
             5,
             5,
             5
            ],
            "sizemode": "area",
            "sizeref": 0.029585798816568046,
            "symbol": "circle"
           },
           "mode": "markers+text",
           "name": "home",
           "orientation": "v",
           "showlegend": true,
           "text": [
            22,
            50,
            38,
            49,
            20,
            21,
            23,
            44
           ],
           "type": "scatter",
           "x": [
            52.72,
            46.1,
            68.51,
            54.72,
            53.66,
            69.26,
            52.98,
            52.75
           ],
           "xaxis": "x",
           "y": [
            10.97,
            27.91,
            16.37,
            17.49,
            45.28,
            35.01,
            33.28,
            28.97
           ],
           "yaxis": "y"
          },
          {
           "hovertemplate": "team=away<br>frameId=26<br>x=%{x}<br>y=%{y}<br>size=%{marker.size}<br>jerseyNumber=%{text}<extra></extra>",
           "legendgroup": "away",
           "marker": {
            "color": "rgb(238,173,30)",
            "opacity": 1,
            "size": [
             5,
             5,
             5,
             5,
             5,
             5
            ],
            "sizemode": "area",
            "sizeref": 0.029585798816568046,
            "symbol": "circle"
           },
           "mode": "markers+text",
           "name": "away",
           "orientation": "v",
           "showlegend": true,
           "text": [
            11,
            31,
            86,
            13,
            3,
            16
           ],
           "type": "scatter",
           "x": [
            52.4,
            45.63,
            54.34,
            53.04,
            42.91,
            52.08
           ],
           "xaxis": "x",
           "y": [
            34.34,
            29.53,
            16.59,
            46.32,
            23.89,
            9.69
           ],
           "yaxis": "y"
          },
          {
           "hovertemplate": "team=football<br>frameId=26<br>x=%{x}<br>y=%{y}<br>size=%{marker.size}<br>jerseyNumber=%{text}<extra></extra>",
           "legendgroup": "football",
           "marker": {
            "color": "rgb(139,69,19)",
            "opacity": 1,
            "size": [
             2
            ],
            "sizemode": "area",
            "sizeref": 0.029585798816568046,
            "symbol": "circle"
           },
           "mode": "markers+text",
           "name": "football",
           "orientation": "v",
           "showlegend": true,
           "text": [
            null
           ],
           "type": "scatter",
           "x": [
            42.98
           ],
           "xaxis": "x",
           "y": [
            23.38
           ],
           "yaxis": "y"
          }
         ],
         "name": "26"
        },
        {
         "data": [
          {
           "hovertemplate": "team=home<br>frameId=27<br>x=%{x}<br>y=%{y}<br>size=%{marker.size}<br>jerseyNumber=%{text}<extra></extra>",
           "legendgroup": "home",
           "marker": {
            "color": "rgb(255,60,0)",
            "opacity": 1,
            "size": [
             5,
             5,
             5,
             5,
             5,
             5,
             5,
             5
            ],
            "sizemode": "area",
            "sizeref": 0.029585798816568046,
            "symbol": "circle"
           },
           "mode": "markers+text",
           "name": "home",
           "orientation": "v",
           "showlegend": true,
           "text": [
            22,
            50,
            38,
            49,
            20,
            21,
            23,
            44
           ],
           "type": "scatter",
           "x": [
            53.07,
            45.81,
            68.79,
            55.11,
            54.05,
            69.54,
            53.37,
            52.56
           ],
           "xaxis": "x",
           "y": [
            10.82,
            27.72,
            16.17,
            17.38,
            45.43,
            35.09,
            33.27,
            29.24
           ],
           "yaxis": "y"
          },
          {
           "hovertemplate": "team=away<br>frameId=27<br>x=%{x}<br>y=%{y}<br>size=%{marker.size}<br>jerseyNumber=%{text}<extra></extra>",
           "legendgroup": "away",
           "marker": {
            "color": "rgb(238,173,30)",
            "opacity": 1,
            "size": [
             5,
             5,
             5,
             5,
             5,
             5
            ],
            "sizemode": "area",
            "sizeref": 0.029585798816568046,
            "symbol": "circle"
           },
           "mode": "markers+text",
           "name": "away",
           "orientation": "v",
           "showlegend": true,
           "text": [
            11,
            31,
            86,
            13,
            3,
            16
           ],
           "type": "scatter",
           "x": [
            52.93,
            45.89,
            54.92,
            53.61,
            42.75,
            52.6
           ],
           "xaxis": "x",
           "y": [
            34.4,
            29.82,
            16.46,
            46.5,
            23.87,
            9.54
           ],
           "yaxis": "y"
          },
          {
           "hovertemplate": "team=football<br>frameId=27<br>x=%{x}<br>y=%{y}<br>size=%{marker.size}<br>jerseyNumber=%{text}<extra></extra>",
           "legendgroup": "football",
           "marker": {
            "color": "rgb(139,69,19)",
            "opacity": 1,
            "size": [
             2
            ],
            "sizemode": "area",
            "sizeref": 0.029585798816568046,
            "symbol": "circle"
           },
           "mode": "markers+text",
           "name": "football",
           "orientation": "v",
           "showlegend": true,
           "text": [
            null
           ],
           "type": "scatter",
           "x": [
            42.81
           ],
           "xaxis": "x",
           "y": [
            23.34
           ],
           "yaxis": "y"
          }
         ],
         "name": "27"
        },
        {
         "data": [
          {
           "hovertemplate": "team=home<br>frameId=28<br>x=%{x}<br>y=%{y}<br>size=%{marker.size}<br>jerseyNumber=%{text}<extra></extra>",
           "legendgroup": "home",
           "marker": {
            "color": "rgb(255,60,0)",
            "opacity": 1,
            "size": [
             5,
             5,
             5,
             5,
             5,
             5,
             5,
             5
            ],
            "sizemode": "area",
            "sizeref": 0.029585798816568046,
            "symbol": "circle"
           },
           "mode": "markers+text",
           "name": "home",
           "orientation": "v",
           "showlegend": true,
           "text": [
            22,
            50,
            38,
            49,
            20,
            21,
            23,
            44
           ],
           "type": "scatter",
           "x": [
            53.45,
            45.54,
            69.07,
            55.52,
            54.47,
            69.83,
            53.77,
            52.39
           ],
           "xaxis": "x",
           "y": [
            10.65,
            27.57,
            15.98,
            17.26,
            45.59,
            35.16,
            33.28,
            29.5
           ],
           "yaxis": "y"
          },
          {
           "hovertemplate": "team=away<br>frameId=28<br>x=%{x}<br>y=%{y}<br>size=%{marker.size}<br>jerseyNumber=%{text}<extra></extra>",
           "legendgroup": "away",
           "marker": {
            "color": "rgb(238,173,30)",
            "opacity": 1,
            "size": [
             5,
             5,
             5,
             5,
             5,
             5
            ],
            "sizemode": "area",
            "sizeref": 0.029585798816568046,
            "symbol": "circle"
           },
           "mode": "markers+text",
           "name": "away",
           "orientation": "v",
           "showlegend": true,
           "text": [
            11,
            31,
            86,
            13,
            3,
            16
           ],
           "type": "scatter",
           "x": [
            53.47,
            46.2,
            55.48,
            54.22,
            42.63,
            53.14
           ],
           "xaxis": "x",
           "y": [
            34.46,
            30.1,
            16.32,
            46.67,
            23.83,
            9.39
           ],
           "yaxis": "y"
          },
          {
           "hovertemplate": "team=football<br>frameId=28<br>x=%{x}<br>y=%{y}<br>size=%{marker.size}<br>jerseyNumber=%{text}<extra></extra>",
           "legendgroup": "football",
           "marker": {
            "color": "rgb(139,69,19)",
            "opacity": 1,
            "size": [
             2
            ],
            "sizemode": "area",
            "sizeref": 0.029585798816568046,
            "symbol": "circle"
           },
           "mode": "markers+text",
           "name": "football",
           "orientation": "v",
           "showlegend": true,
           "text": [
            null
           ],
           "type": "scatter",
           "x": [
            42.65
           ],
           "xaxis": "x",
           "y": [
            23.33
           ],
           "yaxis": "y"
          }
         ],
         "name": "28"
        },
        {
         "data": [
          {
           "hovertemplate": "team=home<br>frameId=29<br>x=%{x}<br>y=%{y}<br>size=%{marker.size}<br>jerseyNumber=%{text}<extra></extra>",
           "legendgroup": "home",
           "marker": {
            "color": "rgb(255,60,0)",
            "opacity": 1,
            "size": [
             5,
             5,
             5,
             5,
             5,
             5,
             5,
             5
            ],
            "sizemode": "area",
            "sizeref": 0.029585798816568046,
            "symbol": "circle"
           },
           "mode": "markers+text",
           "name": "home",
           "orientation": "v",
           "showlegend": true,
           "text": [
            22,
            50,
            38,
            49,
            20,
            21,
            23,
            44
           ],
           "type": "scatter",
           "x": [
            53.86,
            45.27,
            69.35,
            55.93,
            54.93,
            70.13,
            54.21,
            52.23
           ],
           "xaxis": "x",
           "y": [
            10.47,
            27.46,
            15.79,
            17.14,
            45.78,
            35.21,
            33.29,
            29.75
           ],
           "yaxis": "y"
          },
          {
           "hovertemplate": "team=away<br>frameId=29<br>x=%{x}<br>y=%{y}<br>size=%{marker.size}<br>jerseyNumber=%{text}<extra></extra>",
           "legendgroup": "away",
           "marker": {
            "color": "rgb(238,173,30)",
            "opacity": 1,
            "size": [
             5,
             5,
             5,
             5,
             5,
             5
            ],
            "sizemode": "area",
            "sizeref": 0.029585798816568046,
            "symbol": "circle"
           },
           "mode": "markers+text",
           "name": "away",
           "orientation": "v",
           "showlegend": true,
           "text": [
            11,
            31,
            86,
            13,
            3,
            16
           ],
           "type": "scatter",
           "x": [
            54.03,
            46.57,
            56.02,
            54.85,
            42.53,
            53.72
           ],
           "xaxis": "x",
           "y": [
            34.51,
            30.35,
            16.17,
            46.83,
            23.8,
            9.23
           ],
           "yaxis": "y"
          },
          {
           "hovertemplate": "team=football<br>frameId=29<br>x=%{x}<br>y=%{y}<br>size=%{marker.size}<br>jerseyNumber=%{text}<extra></extra>",
           "legendgroup": "football",
           "marker": {
            "color": "rgb(139,69,19)",
            "opacity": 1,
            "size": [
             2
            ],
            "sizemode": "area",
            "sizeref": 0.029585798816568046,
            "symbol": "circle"
           },
           "mode": "markers+text",
           "name": "football",
           "orientation": "v",
           "showlegend": true,
           "text": [
            null
           ],
           "type": "scatter",
           "x": [
            42.5
           ],
           "xaxis": "x",
           "y": [
            23.35
           ],
           "yaxis": "y"
          }
         ],
         "name": "29"
        },
        {
         "data": [
          {
           "hovertemplate": "team=home<br>frameId=30<br>x=%{x}<br>y=%{y}<br>size=%{marker.size}<br>jerseyNumber=%{text}<extra></extra>",
           "legendgroup": "home",
           "marker": {
            "color": "rgb(255,60,0)",
            "opacity": 1,
            "size": [
             5,
             5,
             5,
             5,
             5,
             5,
             5,
             5
            ],
            "sizemode": "area",
            "sizeref": 0.029585798816568046,
            "symbol": "circle"
           },
           "mode": "markers+text",
           "name": "home",
           "orientation": "v",
           "showlegend": true,
           "text": [
            22,
            50,
            38,
            49,
            20,
            21,
            23,
            44
           ],
           "type": "scatter",
           "x": [
            54.3,
            45.01,
            69.64,
            56.34,
            55.43,
            70.43,
            54.65,
            52.11
           ],
           "xaxis": "x",
           "y": [
            10.29,
            27.4,
            15.6,
            17.02,
            45.97,
            35.26,
            33.3,
            29.98
           ],
           "yaxis": "y"
          },
          {
           "hovertemplate": "team=away<br>frameId=30<br>x=%{x}<br>y=%{y}<br>size=%{marker.size}<br>jerseyNumber=%{text}<extra></extra>",
           "legendgroup": "away",
           "marker": {
            "color": "rgb(238,173,30)",
            "opacity": 1,
            "size": [
             5,
             5,
             5,
             5,
             5,
             5
            ],
            "sizemode": "area",
            "sizeref": 0.029585798816568046,
            "symbol": "circle"
           },
           "mode": "markers+text",
           "name": "away",
           "orientation": "v",
           "showlegend": true,
           "text": [
            11,
            31,
            86,
            13,
            3,
            16
           ],
           "type": "scatter",
           "x": [
            54.59,
            46.99,
            56.52,
            55.52,
            42.5,
            54.3
           ],
           "xaxis": "x",
           "y": [
            34.54,
            30.58,
            16.01,
            46.97,
            23.76,
            9.09
           ],
           "yaxis": "y"
          },
          {
           "hovertemplate": "team=football<br>frameId=30<br>x=%{x}<br>y=%{y}<br>size=%{marker.size}<br>jerseyNumber=%{text}<extra></extra>",
           "legendgroup": "football",
           "marker": {
            "color": "rgb(139,69,19)",
            "opacity": 1,
            "size": [
             2
            ],
            "sizemode": "area",
            "sizeref": 0.029585798816568046,
            "symbol": "circle"
           },
           "mode": "markers+text",
           "name": "football",
           "orientation": "v",
           "showlegend": true,
           "text": [
            null
           ],
           "type": "scatter",
           "x": [
            42.39
           ],
           "xaxis": "x",
           "y": [
            23.38
           ],
           "yaxis": "y"
          }
         ],
         "name": "30"
        },
        {
         "data": [
          {
           "hovertemplate": "team=home<br>frameId=31<br>x=%{x}<br>y=%{y}<br>size=%{marker.size}<br>jerseyNumber=%{text}<extra></extra>",
           "legendgroup": "home",
           "marker": {
            "color": "rgb(255,60,0)",
            "opacity": 1,
            "size": [
             5,
             5,
             5,
             5,
             5,
             5,
             5,
             5
            ],
            "sizemode": "area",
            "sizeref": 0.029585798816568046,
            "symbol": "circle"
           },
           "mode": "markers+text",
           "name": "home",
           "orientation": "v",
           "showlegend": true,
           "text": [
            22,
            50,
            38,
            49,
            20,
            21,
            23,
            44
           ],
           "type": "scatter",
           "x": [
            54.77,
            44.75,
            69.93,
            56.74,
            55.95,
            70.74,
            55.09,
            52.01
           ],
           "xaxis": "x",
           "y": [
            10.11,
            27.38,
            15.42,
            16.89,
            46.17,
            35.3,
            33.32,
            30.21
           ],
           "yaxis": "y"
          },
          {
           "hovertemplate": "team=away<br>frameId=31<br>x=%{x}<br>y=%{y}<br>size=%{marker.size}<br>jerseyNumber=%{text}<extra></extra>",
           "legendgroup": "away",
           "marker": {
            "color": "rgb(238,173,30)",
            "opacity": 1,
            "size": [
             5,
             5,
             5,
             5,
             5,
             5
            ],
            "sizemode": "area",
            "sizeref": 0.029585798816568046,
            "symbol": "circle"
           },
           "mode": "markers+text",
           "name": "away",
           "orientation": "v",
           "showlegend": true,
           "text": [
            11,
            31,
            86,
            13,
            3,
            16
           ],
           "type": "scatter",
           "x": [
            55.14,
            47.43,
            56.97,
            56.2,
            42.49,
            54.9
           ],
           "xaxis": "x",
           "y": [
            34.55,
            30.8,
            15.81,
            47.09,
            23.73,
            8.97
           ],
           "yaxis": "y"
          },
          {
           "hovertemplate": "team=football<br>frameId=31<br>x=%{x}<br>y=%{y}<br>size=%{marker.size}<br>jerseyNumber=%{text}<extra></extra>",
           "legendgroup": "football",
           "marker": {
            "color": "rgb(139,69,19)",
            "opacity": 1,
            "size": [
             2
            ],
            "sizemode": "area",
            "sizeref": 0.029585798816568046,
            "symbol": "circle"
           },
           "mode": "markers+text",
           "name": "football",
           "orientation": "v",
           "showlegend": true,
           "text": [
            null
           ],
           "type": "scatter",
           "x": [
            42.29
           ],
           "xaxis": "x",
           "y": [
            23.42
           ],
           "yaxis": "y"
          }
         ],
         "name": "31"
        },
        {
         "data": [
          {
           "hovertemplate": "team=home<br>frameId=32<br>x=%{x}<br>y=%{y}<br>size=%{marker.size}<br>jerseyNumber=%{text}<extra></extra>",
           "legendgroup": "home",
           "marker": {
            "color": "rgb(255,60,0)",
            "opacity": 1,
            "size": [
             5,
             5,
             5,
             5,
             5,
             5,
             5,
             5
            ],
            "sizemode": "area",
            "sizeref": 0.029585798816568046,
            "symbol": "circle"
           },
           "mode": "markers+text",
           "name": "home",
           "orientation": "v",
           "showlegend": true,
           "text": [
            22,
            50,
            38,
            49,
            20,
            21,
            23,
            44
           ],
           "type": "scatter",
           "x": [
            55.27,
            44.49,
            70.22,
            57.12,
            56.51,
            71.04,
            55.55,
            51.94
           ],
           "xaxis": "x",
           "y": [
            9.95,
            27.42,
            15.24,
            16.74,
            46.36,
            35.34,
            33.32,
            30.43
           ],
           "yaxis": "y"
          },
          {
           "hovertemplate": "team=away<br>frameId=32<br>x=%{x}<br>y=%{y}<br>size=%{marker.size}<br>jerseyNumber=%{text}<extra></extra>",
           "legendgroup": "away",
           "marker": {
            "color": "rgb(238,173,30)",
            "opacity": 1,
            "size": [
             5,
             5,
             5,
             5,
             5,
             5
            ],
            "sizemode": "area",
            "sizeref": 0.029585798816568046,
            "symbol": "circle"
           },
           "mode": "markers+text",
           "name": "away",
           "orientation": "v",
           "showlegend": true,
           "text": [
            11,
            31,
            86,
            13,
            3,
            16
           ],
           "type": "scatter",
           "x": [
            55.69,
            47.9,
            57.36,
            56.9,
            42.52,
            55.52
           ],
           "xaxis": "x",
           "y": [
            34.54,
            31.01,
            15.58,
            47.2,
            23.71,
            8.86
           ],
           "yaxis": "y"
          },
          {
           "hovertemplate": "team=football<br>frameId=32<br>x=%{x}<br>y=%{y}<br>size=%{marker.size}<br>jerseyNumber=%{text}<extra></extra>",
           "legendgroup": "football",
           "marker": {
            "color": "rgb(139,69,19)",
            "opacity": 1,
            "size": [
             2
            ],
            "sizemode": "area",
            "sizeref": 0.029585798816568046,
            "symbol": "circle"
           },
           "mode": "markers+text",
           "name": "football",
           "orientation": "v",
           "showlegend": true,
           "text": [
            null
           ],
           "type": "scatter",
           "x": [
            42.2
           ],
           "xaxis": "x",
           "y": [
            23.48
           ],
           "yaxis": "y"
          }
         ],
         "name": "32"
        },
        {
         "data": [
          {
           "hovertemplate": "team=home<br>frameId=33<br>x=%{x}<br>y=%{y}<br>size=%{marker.size}<br>jerseyNumber=%{text}<extra></extra>",
           "legendgroup": "home",
           "marker": {
            "color": "rgb(255,60,0)",
            "opacity": 1,
            "size": [
             5,
             5,
             5,
             5,
             5,
             5,
             5,
             5
            ],
            "sizemode": "area",
            "sizeref": 0.029585798816568046,
            "symbol": "circle"
           },
           "mode": "markers+text",
           "name": "home",
           "orientation": "v",
           "showlegend": true,
           "text": [
            22,
            50,
            38,
            49,
            20,
            21,
            23,
            44
           ],
           "type": "scatter",
           "x": [
            55.78,
            44.25,
            70.52,
            57.46,
            57.09,
            71.34,
            56,
            51.9
           ],
           "xaxis": "x",
           "y": [
            9.8,
            27.5,
            15.06,
            16.57,
            46.53,
            35.36,
            33.31,
            30.65
           ],
           "yaxis": "y"
          },
          {
           "hovertemplate": "team=away<br>frameId=33<br>x=%{x}<br>y=%{y}<br>size=%{marker.size}<br>jerseyNumber=%{text}<extra></extra>",
           "legendgroup": "away",
           "marker": {
            "color": "rgb(238,173,30)",
            "opacity": 1,
            "size": [
             5,
             5,
             5,
             5,
             5,
             5
            ],
            "sizemode": "area",
            "sizeref": 0.029585798816568046,
            "symbol": "circle"
           },
           "mode": "markers+text",
           "name": "away",
           "orientation": "v",
           "showlegend": true,
           "text": [
            11,
            31,
            86,
            13,
            3,
            16
           ],
           "type": "scatter",
           "x": [
            56.23,
            48.39,
            57.69,
            57.61,
            42.57,
            56.16
           ],
           "xaxis": "x",
           "y": [
            34.49,
            31.22,
            15.33,
            47.29,
            23.69,
            8.76
           ],
           "yaxis": "y"
          },
          {
           "hovertemplate": "team=football<br>frameId=33<br>x=%{x}<br>y=%{y}<br>size=%{marker.size}<br>jerseyNumber=%{text}<extra></extra>",
           "legendgroup": "football",
           "marker": {
            "color": "rgb(139,69,19)",
            "opacity": 1,
            "size": [
             2
            ],
            "sizemode": "area",
            "sizeref": 0.029585798816568046,
            "symbol": "circle"
           },
           "mode": "markers+text",
           "name": "football",
           "orientation": "v",
           "showlegend": true,
           "text": [
            null
           ],
           "type": "scatter",
           "x": [
            42.13
           ],
           "xaxis": "x",
           "y": [
            23.55
           ],
           "yaxis": "y"
          }
         ],
         "name": "33"
        },
        {
         "data": [
          {
           "hovertemplate": "team=home<br>frameId=34<br>x=%{x}<br>y=%{y}<br>size=%{marker.size}<br>jerseyNumber=%{text}<extra></extra>",
           "legendgroup": "home",
           "marker": {
            "color": "rgb(255,60,0)",
            "opacity": 1,
            "size": [
             5,
             5,
             5,
             5,
             5,
             5,
             5,
             5
            ],
            "sizemode": "area",
            "sizeref": 0.029585798816568046,
            "symbol": "circle"
           },
           "mode": "markers+text",
           "name": "home",
           "orientation": "v",
           "showlegend": true,
           "text": [
            22,
            50,
            38,
            49,
            20,
            21,
            23,
            44
           ],
           "type": "scatter",
           "x": [
            56.31,
            44,
            70.8,
            57.77,
            57.68,
            71.64,
            56.45,
            51.89
           ],
           "xaxis": "x",
           "y": [
            9.67,
            27.61,
            14.87,
            16.37,
            46.67,
            35.37,
            33.27,
            30.88
           ],
           "yaxis": "y"
          },
          {
           "hovertemplate": "team=away<br>frameId=34<br>x=%{x}<br>y=%{y}<br>size=%{marker.size}<br>jerseyNumber=%{text}<extra></extra>",
           "legendgroup": "away",
           "marker": {
            "color": "rgb(238,173,30)",
            "opacity": 1,
            "size": [
             5,
             5,
             5,
             5,
             5,
             5
            ],
            "sizemode": "area",
            "sizeref": 0.029585798816568046,
            "symbol": "circle"
           },
           "mode": "markers+text",
           "name": "away",
           "orientation": "v",
           "showlegend": true,
           "text": [
            11,
            31,
            86,
            13,
            3,
            16
           ],
           "type": "scatter",
           "x": [
            56.76,
            48.87,
            57.96,
            58.32,
            42.65,
            56.8
           ],
           "xaxis": "x",
           "y": [
            34.4,
            31.47,
            15.03,
            47.37,
            23.67,
            8.67
           ],
           "yaxis": "y"
          },
          {
           "hovertemplate": "team=football<br>frameId=34<br>x=%{x}<br>y=%{y}<br>size=%{marker.size}<br>jerseyNumber=%{text}<extra></extra>",
           "legendgroup": "football",
           "marker": {
            "color": "rgb(139,69,19)",
            "opacity": 1,
            "size": [
             2
            ],
            "sizemode": "area",
            "sizeref": 0.029585798816568046,
            "symbol": "circle"
           },
           "mode": "markers+text",
           "name": "football",
           "orientation": "v",
           "showlegend": true,
           "text": [
            null
           ],
           "type": "scatter",
           "x": [
            42.07
           ],
           "xaxis": "x",
           "y": [
            23.63
           ],
           "yaxis": "y"
          }
         ],
         "name": "34"
        },
        {
         "data": [
          {
           "hovertemplate": "team=home<br>frameId=35<br>x=%{x}<br>y=%{y}<br>size=%{marker.size}<br>jerseyNumber=%{text}<extra></extra>",
           "legendgroup": "home",
           "marker": {
            "color": "rgb(255,60,0)",
            "opacity": 1,
            "size": [
             5,
             5,
             5,
             5,
             5,
             5,
             5,
             5
            ],
            "sizemode": "area",
            "sizeref": 0.029585798816568046,
            "symbol": "circle"
           },
           "mode": "markers+text",
           "name": "home",
           "orientation": "v",
           "showlegend": true,
           "text": [
            22,
            50,
            38,
            49,
            20,
            21,
            23,
            44
           ],
           "type": "scatter",
           "x": [
            56.86,
            43.77,
            71.08,
            58.04,
            58.3,
            71.92,
            56.89,
            51.91
           ],
           "xaxis": "x",
           "y": [
            9.55,
            27.75,
            14.67,
            16.15,
            46.8,
            35.35,
            33.2,
            31.13
           ],
           "yaxis": "y"
          },
          {
           "hovertemplate": "team=away<br>frameId=35<br>x=%{x}<br>y=%{y}<br>size=%{marker.size}<br>jerseyNumber=%{text}<extra></extra>",
           "legendgroup": "away",
           "marker": {
            "color": "rgb(238,173,30)",
            "opacity": 1,
            "size": [
             5,
             5,
             5,
             5,
             5,
             5
            ],
            "sizemode": "area",
            "sizeref": 0.029585798816568046,
            "symbol": "circle"
           },
           "mode": "markers+text",
           "name": "away",
           "orientation": "v",
           "showlegend": true,
           "text": [
            11,
            31,
            86,
            13,
            3,
            16
           ],
           "type": "scatter",
           "x": [
            57.27,
            49.35,
            58.17,
            59.05,
            42.74,
            57.45
           ],
           "xaxis": "x",
           "y": [
            34.26,
            31.73,
            14.71,
            47.43,
            23.66,
            8.6
           ],
           "yaxis": "y"
          },
          {
           "hovertemplate": "team=football<br>frameId=35<br>x=%{x}<br>y=%{y}<br>size=%{marker.size}<br>jerseyNumber=%{text}<extra></extra>",
           "legendgroup": "football",
           "marker": {
            "color": "rgb(139,69,19)",
            "opacity": 1,
            "size": [
             2
            ],
            "sizemode": "area",
            "sizeref": 0.029585798816568046,
            "symbol": "circle"
           },
           "mode": "markers+text",
           "name": "football",
           "orientation": "v",
           "showlegend": true,
           "text": [
            null
           ],
           "type": "scatter",
           "x": [
            42.06
           ],
           "xaxis": "x",
           "y": [
            23.68
           ],
           "yaxis": "y"
          }
         ],
         "name": "35"
        },
        {
         "data": [
          {
           "hovertemplate": "team=home<br>frameId=36<br>x=%{x}<br>y=%{y}<br>size=%{marker.size}<br>jerseyNumber=%{text}<extra></extra>",
           "legendgroup": "home",
           "marker": {
            "color": "rgb(255,60,0)",
            "opacity": 1,
            "size": [
             5,
             5,
             5,
             5,
             5,
             5,
             5,
             5
            ],
            "sizemode": "area",
            "sizeref": 0.029585798816568046,
            "symbol": "circle"
           },
           "mode": "markers+text",
           "name": "home",
           "orientation": "v",
           "showlegend": true,
           "text": [
            22,
            50,
            38,
            49,
            20,
            21,
            23,
            44
           ],
           "type": "scatter",
           "x": [
            57.42,
            43.55,
            71.34,
            58.27,
            58.94,
            72.19,
            57.32,
            51.96
           ],
           "xaxis": "x",
           "y": [
            9.45,
            27.91,
            14.47,
            15.88,
            46.9,
            35.31,
            33.09,
            31.39
           ],
           "yaxis": "y"
          },
          {
           "hovertemplate": "team=away<br>frameId=36<br>x=%{x}<br>y=%{y}<br>size=%{marker.size}<br>jerseyNumber=%{text}<extra></extra>",
           "legendgroup": "away",
           "marker": {
            "color": "rgb(238,173,30)",
            "opacity": 1,
            "size": [
             5,
             5,
             5,
             5,
             5,
             5
            ],
            "sizemode": "area",
            "sizeref": 0.029585798816568046,
            "symbol": "circle"
           },
           "mode": "markers+text",
           "name": "away",
           "orientation": "v",
           "showlegend": true,
           "text": [
            11,
            31,
            86,
            13,
            3,
            16
           ],
           "type": "scatter",
           "x": [
            57.76,
            49.81,
            58.32,
            59.78,
            42.82,
            58.09
           ],
           "xaxis": "x",
           "y": [
            34.06,
            32.03,
            14.35,
            47.47,
            23.65,
            8.54
           ],
           "yaxis": "y"
          },
          {
           "hovertemplate": "team=football<br>frameId=36<br>x=%{x}<br>y=%{y}<br>size=%{marker.size}<br>jerseyNumber=%{text}<extra></extra>",
           "legendgroup": "football",
           "marker": {
            "color": "rgb(139,69,19)",
            "opacity": 1,
            "size": [
             2
            ],
            "sizemode": "area",
            "sizeref": 0.029585798816568046,
            "symbol": "circle"
           },
           "mode": "markers+text",
           "name": "football",
           "orientation": "v",
           "showlegend": true,
           "text": [
            null
           ],
           "type": "scatter",
           "x": [
            44.54
           ],
           "xaxis": "x",
           "y": [
            21.49
           ],
           "yaxis": "y"
          }
         ],
         "name": "36"
        },
        {
         "data": [
          {
           "hovertemplate": "team=home<br>frameId=37<br>x=%{x}<br>y=%{y}<br>size=%{marker.size}<br>jerseyNumber=%{text}<extra></extra>",
           "legendgroup": "home",
           "marker": {
            "color": "rgb(255,60,0)",
            "opacity": 1,
            "size": [
             5,
             5,
             5,
             5,
             5,
             5,
             5,
             5
            ],
            "sizemode": "area",
            "sizeref": 0.029585798816568046,
            "symbol": "circle"
           },
           "mode": "markers+text",
           "name": "home",
           "orientation": "v",
           "showlegend": true,
           "text": [
            22,
            50,
            38,
            49,
            20,
            21,
            23,
            44
           ],
           "type": "scatter",
           "x": [
            57.98,
            43.35,
            71.59,
            58.44,
            59.58,
            72.44,
            57.72,
            52.03
           ],
           "xaxis": "x",
           "y": [
            9.37,
            28.07,
            14.24,
            15.56,
            46.96,
            35.24,
            32.93,
            31.69
           ],
           "yaxis": "y"
          },
          {
           "hovertemplate": "team=away<br>frameId=37<br>x=%{x}<br>y=%{y}<br>size=%{marker.size}<br>jerseyNumber=%{text}<extra></extra>",
           "legendgroup": "away",
           "marker": {
            "color": "rgb(238,173,30)",
            "opacity": 1,
            "size": [
             5,
             5,
             5,
             5,
             5,
             5
            ],
            "sizemode": "area",
            "sizeref": 0.029585798816568046,
            "symbol": "circle"
           },
           "mode": "markers+text",
           "name": "away",
           "orientation": "v",
           "showlegend": true,
           "text": [
            11,
            31,
            86,
            13,
            3,
            16
           ],
           "type": "scatter",
           "x": [
            58.21,
            50.24,
            58.42,
            60.51,
            42.9,
            58.74
           ],
           "xaxis": "x",
           "y": [
            33.81,
            32.38,
            13.96,
            47.49,
            23.64,
            8.49
           ],
           "yaxis": "y"
          },
          {
           "hovertemplate": "team=football<br>frameId=37<br>x=%{x}<br>y=%{y}<br>size=%{marker.size}<br>jerseyNumber=%{text}<extra></extra>",
           "legendgroup": "football",
           "marker": {
            "color": "rgb(139,69,19)",
            "opacity": 1,
            "size": [
             2
            ],
            "sizemode": "area",
            "sizeref": 0.029585798816568046,
            "symbol": "circle"
           },
           "mode": "markers+text",
           "name": "football",
           "orientation": "v",
           "showlegend": true,
           "text": [
            null
           ],
           "type": "scatter",
           "x": [
            46.39
           ],
           "xaxis": "x",
           "y": [
            19.98
           ],
           "yaxis": "y"
          }
         ],
         "name": "37"
        },
        {
         "data": [
          {
           "hovertemplate": "team=home<br>frameId=38<br>x=%{x}<br>y=%{y}<br>size=%{marker.size}<br>jerseyNumber=%{text}<extra></extra>",
           "legendgroup": "home",
           "marker": {
            "color": "rgb(255,60,0)",
            "opacity": 1,
            "size": [
             5,
             5,
             5,
             5,
             5,
             5,
             5,
             5
            ],
            "sizemode": "area",
            "sizeref": 0.029585798816568046,
            "symbol": "circle"
           },
           "mode": "markers+text",
           "name": "home",
           "orientation": "v",
           "showlegend": true,
           "text": [
            22,
            50,
            38,
            49,
            20,
            21,
            23,
            44
           ],
           "type": "scatter",
           "x": [
            58.54,
            43.17,
            71.81,
            58.55,
            60.23,
            72.65,
            58.11,
            52.13
           ],
           "xaxis": "x",
           "y": [
            9.29,
            28.22,
            14,
            15.19,
            47,
            35.11,
            32.72,
            32.02
           ],
           "yaxis": "y"
          },
          {
           "hovertemplate": "team=away<br>frameId=38<br>x=%{x}<br>y=%{y}<br>size=%{marker.size}<br>jerseyNumber=%{text}<extra></extra>",
           "legendgroup": "away",
           "marker": {
            "color": "rgb(238,173,30)",
            "opacity": 1,
            "size": [
             5,
             5,
             5,
             5,
             5,
             5
            ],
            "sizemode": "area",
            "sizeref": 0.029585798816568046,
            "symbol": "circle"
           },
           "mode": "markers+text",
           "name": "away",
           "orientation": "v",
           "showlegend": true,
           "text": [
            11,
            31,
            86,
            13,
            3,
            16
           ],
           "type": "scatter",
           "x": [
            58.63,
            50.63,
            58.47,
            61.23,
            42.96,
            59.38
           ],
           "xaxis": "x",
           "y": [
            33.51,
            32.78,
            13.53,
            47.5,
            23.61,
            8.45
           ],
           "yaxis": "y"
          },
          {
           "hovertemplate": "team=football<br>frameId=38<br>x=%{x}<br>y=%{y}<br>size=%{marker.size}<br>jerseyNumber=%{text}<extra></extra>",
           "legendgroup": "football",
           "marker": {
            "color": "rgb(139,69,19)",
            "opacity": 1,
            "size": [
             2
            ],
            "sizemode": "area",
            "sizeref": 0.029585798816568046,
            "symbol": "circle"
           },
           "mode": "markers+text",
           "name": "football",
           "orientation": "v",
           "showlegend": true,
           "text": [
            null
           ],
           "type": "scatter",
           "x": [
            48.3
           ],
           "xaxis": "x",
           "y": [
            18.42
           ],
           "yaxis": "y"
          }
         ],
         "name": "38"
        },
        {
         "data": [
          {
           "hovertemplate": "team=home<br>frameId=39<br>x=%{x}<br>y=%{y}<br>size=%{marker.size}<br>jerseyNumber=%{text}<extra></extra>",
           "legendgroup": "home",
           "marker": {
            "color": "rgb(255,60,0)",
            "opacity": 1,
            "size": [
             5,
             5,
             5,
             5,
             5,
             5,
             5,
             5
            ],
            "sizemode": "area",
            "sizeref": 0.029585798816568046,
            "symbol": "circle"
           },
           "mode": "markers+text",
           "name": "home",
           "orientation": "v",
           "showlegend": true,
           "text": [
            22,
            50,
            38,
            49,
            20,
            21,
            23,
            44
           ],
           "type": "scatter",
           "x": [
            59.11,
            43.02,
            72,
            58.63,
            60.87,
            72.83,
            58.48,
            52.24
           ],
           "xaxis": "x",
           "y": [
            9.22,
            28.37,
            13.74,
            14.77,
            47.01,
            34.93,
            32.47,
            32.38
           ],
           "yaxis": "y"
          },
          {
           "hovertemplate": "team=away<br>frameId=39<br>x=%{x}<br>y=%{y}<br>size=%{marker.size}<br>jerseyNumber=%{text}<extra></extra>",
           "legendgroup": "away",
           "marker": {
            "color": "rgb(238,173,30)",
            "opacity": 1,
            "size": [
             5,
             5,
             5,
             5,
             5,
             5
            ],
            "sizemode": "area",
            "sizeref": 0.029585798816568046,
            "symbol": "circle"
           },
           "mode": "markers+text",
           "name": "away",
           "orientation": "v",
           "showlegend": true,
           "text": [
            11,
            31,
            86,
            13,
            3,
            16
           ],
           "type": "scatter",
           "x": [
            59.02,
            50.99,
            58.47,
            61.95,
            43.02,
            60
           ],
           "xaxis": "x",
           "y": [
            33.17,
            33.23,
            13.09,
            47.48,
            23.58,
            8.4
           ],
           "yaxis": "y"
          },
          {
           "hovertemplate": "team=football<br>frameId=39<br>x=%{x}<br>y=%{y}<br>size=%{marker.size}<br>jerseyNumber=%{text}<extra></extra>",
           "legendgroup": "football",
           "marker": {
            "color": "rgb(139,69,19)",
            "opacity": 1,
            "size": [
             2
            ],
            "sizemode": "area",
            "sizeref": 0.029585798816568046,
            "symbol": "circle"
           },
           "mode": "markers+text",
           "name": "football",
           "orientation": "v",
           "showlegend": true,
           "text": [
            null
           ],
           "type": "scatter",
           "x": [
            50.2
           ],
           "xaxis": "x",
           "y": [
            16.87
           ],
           "yaxis": "y"
          }
         ],
         "name": "39"
        },
        {
         "data": [
          {
           "hovertemplate": "team=home<br>frameId=40<br>x=%{x}<br>y=%{y}<br>size=%{marker.size}<br>jerseyNumber=%{text}<extra></extra>",
           "legendgroup": "home",
           "marker": {
            "color": "rgb(255,60,0)",
            "opacity": 1,
            "size": [
             5,
             5,
             5,
             5,
             5,
             5,
             5,
             5
            ],
            "sizemode": "area",
            "sizeref": 0.029585798816568046,
            "symbol": "circle"
           },
           "mode": "markers+text",
           "name": "home",
           "orientation": "v",
           "showlegend": true,
           "text": [
            22,
            50,
            38,
            49,
            20,
            21,
            23,
            44
           ],
           "type": "scatter",
           "x": [
            59.67,
            42.9,
            72.16,
            58.66,
            61.5,
            72.97,
            58.84,
            52.37
           ],
           "xaxis": "x",
           "y": [
            9.16,
            28.5,
            13.47,
            14.32,
            47,
            34.71,
            32.17,
            32.77
           ],
           "yaxis": "y"
          },
          {
           "hovertemplate": "team=away<br>frameId=40<br>x=%{x}<br>y=%{y}<br>size=%{marker.size}<br>jerseyNumber=%{text}<extra></extra>",
           "legendgroup": "away",
           "marker": {
            "color": "rgb(238,173,30)",
            "opacity": 1,
            "size": [
             5,
             5,
             5,
             5,
             5,
             5
            ],
            "sizemode": "area",
            "sizeref": 0.029585798816568046,
            "symbol": "circle"
           },
           "mode": "markers+text",
           "name": "away",
           "orientation": "v",
           "showlegend": true,
           "text": [
            11,
            31,
            86,
            13,
            3,
            16
           ],
           "type": "scatter",
           "x": [
            59.36,
            51.3,
            58.44,
            62.65,
            43.06,
            60.61
           ],
           "xaxis": "x",
           "y": [
            32.81,
            33.73,
            12.64,
            47.44,
            23.54,
            8.36
           ],
           "yaxis": "y"
          },
          {
           "hovertemplate": "team=football<br>frameId=40<br>x=%{x}<br>y=%{y}<br>size=%{marker.size}<br>jerseyNumber=%{text}<extra></extra>",
           "legendgroup": "football",
           "marker": {
            "color": "rgb(139,69,19)",
            "opacity": 1,
            "size": [
             2
            ],
            "sizemode": "area",
            "sizeref": 0.029585798816568046,
            "symbol": "circle"
           },
           "mode": "markers+text",
           "name": "football",
           "orientation": "v",
           "showlegend": true,
           "text": [
            null
           ],
           "type": "scatter",
           "x": [
            52.09
           ],
           "xaxis": "x",
           "y": [
            15.33
           ],
           "yaxis": "y"
          }
         ],
         "name": "40"
        },
        {
         "data": [
          {
           "hovertemplate": "team=home<br>frameId=41<br>x=%{x}<br>y=%{y}<br>size=%{marker.size}<br>jerseyNumber=%{text}<extra></extra>",
           "legendgroup": "home",
           "marker": {
            "color": "rgb(255,60,0)",
            "opacity": 1,
            "size": [
             5,
             5,
             5,
             5,
             5,
             5,
             5,
             5
            ],
            "sizemode": "area",
            "sizeref": 0.029585798816568046,
            "symbol": "circle"
           },
           "mode": "markers+text",
           "name": "home",
           "orientation": "v",
           "showlegend": true,
           "text": [
            22,
            50,
            38,
            49,
            20,
            21,
            23,
            44
           ],
           "type": "scatter",
           "x": [
            60.21,
            42.83,
            72.28,
            58.66,
            62.11,
            73.08,
            59.18,
            52.52
           ],
           "xaxis": "x",
           "y": [
            9.1,
            28.63,
            13.19,
            13.81,
            46.97,
            34.45,
            31.83,
            33.21
           ],
           "yaxis": "y"
          },
          {
           "hovertemplate": "team=away<br>frameId=41<br>x=%{x}<br>y=%{y}<br>size=%{marker.size}<br>jerseyNumber=%{text}<extra></extra>",
           "legendgroup": "away",
           "marker": {
            "color": "rgb(238,173,30)",
            "opacity": 1,
            "size": [
             5,
             5,
             5,
             5,
             5,
             5
            ],
            "sizemode": "area",
            "sizeref": 0.029585798816568046,
            "symbol": "circle"
           },
           "mode": "markers+text",
           "name": "away",
           "orientation": "v",
           "showlegend": true,
           "text": [
            11,
            31,
            86,
            13,
            3,
            16
           ],
           "type": "scatter",
           "x": [
            59.66,
            51.56,
            58.4,
            63.35,
            43.1,
            61.19
           ],
           "xaxis": "x",
           "y": [
            32.42,
            34.27,
            12.17,
            47.37,
            23.5,
            8.31
           ],
           "yaxis": "y"
          },
          {
           "hovertemplate": "team=football<br>frameId=41<br>x=%{x}<br>y=%{y}<br>size=%{marker.size}<br>jerseyNumber=%{text}<extra></extra>",
           "legendgroup": "football",
           "marker": {
            "color": "rgb(139,69,19)",
            "opacity": 1,
            "size": [
             2
            ],
            "sizemode": "area",
            "sizeref": 0.029585798816568046,
            "symbol": "circle"
           },
           "mode": "markers+text",
           "name": "football",
           "orientation": "v",
           "showlegend": true,
           "text": [
            null
           ],
           "type": "scatter",
           "x": [
            53.95
           ],
           "xaxis": "x",
           "y": [
            13.8
           ],
           "yaxis": "y"
          }
         ],
         "name": "41"
        },
        {
         "data": [
          {
           "hovertemplate": "team=home<br>frameId=42<br>x=%{x}<br>y=%{y}<br>size=%{marker.size}<br>jerseyNumber=%{text}<extra></extra>",
           "legendgroup": "home",
           "marker": {
            "color": "rgb(255,60,0)",
            "opacity": 1,
            "size": [
             5,
             5,
             5,
             5,
             5,
             5,
             5,
             5
            ],
            "sizemode": "area",
            "sizeref": 0.029585798816568046,
            "symbol": "circle"
           },
           "mode": "markers+text",
           "name": "home",
           "orientation": "v",
           "showlegend": true,
           "text": [
            22,
            50,
            38,
            49,
            20,
            21,
            23,
            44
           ],
           "type": "scatter",
           "x": [
            60.74,
            42.8,
            72.35,
            58.64,
            62.7,
            73.14,
            59.49,
            52.66
           ],
           "xaxis": "x",
           "y": [
            9.04,
            28.74,
            12.9,
            13.25,
            46.93,
            34.15,
            31.46,
            33.7
           ],
           "yaxis": "y"
          },
          {
           "hovertemplate": "team=away<br>frameId=42<br>x=%{x}<br>y=%{y}<br>size=%{marker.size}<br>jerseyNumber=%{text}<extra></extra>",
           "legendgroup": "away",
           "marker": {
            "color": "rgb(238,173,30)",
            "opacity": 1,
            "size": [
             5,
             5,
             5,
             5,
             5,
             5
            ],
            "sizemode": "area",
            "sizeref": 0.029585798816568046,
            "symbol": "circle"
           },
           "mode": "markers+text",
           "name": "away",
           "orientation": "v",
           "showlegend": true,
           "text": [
            11,
            31,
            86,
            13,
            3,
            16
           ],
           "type": "scatter",
           "x": [
            59.92,
            51.78,
            58.34,
            64.03,
            43.14,
            61.75
           ],
           "xaxis": "x",
           "y": [
            32.03,
            34.85,
            11.69,
            47.26,
            23.45,
            8.27
           ],
           "yaxis": "y"
          },
          {
           "hovertemplate": "team=football<br>frameId=42<br>x=%{x}<br>y=%{y}<br>size=%{marker.size}<br>jerseyNumber=%{text}<extra></extra>",
           "legendgroup": "football",
           "marker": {
            "color": "rgb(139,69,19)",
            "opacity": 1,
            "size": [
             2
            ],
            "sizemode": "area",
            "sizeref": 0.029585798816568046,
            "symbol": "circle"
           },
           "mode": "markers+text",
           "name": "football",
           "orientation": "v",
           "showlegend": true,
           "text": [
            null
           ],
           "type": "scatter",
           "x": [
            55.8
           ],
           "xaxis": "x",
           "y": [
            12.28
           ],
           "yaxis": "y"
          }
         ],
         "name": "42"
        },
        {
         "data": [
          {
           "hovertemplate": "team=home<br>frameId=43<br>x=%{x}<br>y=%{y}<br>size=%{marker.size}<br>jerseyNumber=%{text}<extra></extra>",
           "legendgroup": "home",
           "marker": {
            "color": "rgb(255,60,0)",
            "opacity": 1,
            "size": [
             5,
             5,
             5,
             5,
             5,
             5,
             5,
             5
            ],
            "sizemode": "area",
            "sizeref": 0.029585798816568046,
            "symbol": "circle"
           },
           "mode": "markers+text",
           "name": "home",
           "orientation": "v",
           "showlegend": true,
           "text": [
            22,
            50,
            38,
            49,
            20,
            21,
            23,
            44
           ],
           "type": "scatter",
           "x": [
            61.24,
            42.8,
            72.37,
            58.6,
            63.26,
            73.18,
            59.78,
            52.81
           ],
           "xaxis": "x",
           "y": [
            8.97,
            28.84,
            12.6,
            12.64,
            46.88,
            33.81,
            31.08,
            34.21
           ],
           "yaxis": "y"
          },
          {
           "hovertemplate": "team=away<br>frameId=43<br>x=%{x}<br>y=%{y}<br>size=%{marker.size}<br>jerseyNumber=%{text}<extra></extra>",
           "legendgroup": "away",
           "marker": {
            "color": "rgb(238,173,30)",
            "opacity": 1,
            "size": [
             5,
             5,
             5,
             5,
             5,
             5
            ],
            "sizemode": "area",
            "sizeref": 0.029585798816568046,
            "symbol": "circle"
           },
           "mode": "markers+text",
           "name": "away",
           "orientation": "v",
           "showlegend": true,
           "text": [
            11,
            31,
            86,
            13,
            3,
            16
           ],
           "type": "scatter",
           "x": [
            60.13,
            51.96,
            58.29,
            64.67,
            43.17,
            62.29
           ],
           "xaxis": "x",
           "y": [
            31.63,
            35.46,
            11.21,
            47.1,
            23.39,
            8.22
           ],
           "yaxis": "y"
          },
          {
           "hovertemplate": "team=football<br>frameId=43<br>x=%{x}<br>y=%{y}<br>size=%{marker.size}<br>jerseyNumber=%{text}<extra></extra>",
           "legendgroup": "football",
           "marker": {
            "color": "rgb(139,69,19)",
            "opacity": 1,
            "size": [
             2
            ],
            "sizemode": "area",
            "sizeref": 0.029585798816568046,
            "symbol": "circle"
           },
           "mode": "markers+text",
           "name": "football",
           "orientation": "v",
           "showlegend": true,
           "text": [
            null
           ],
           "type": "scatter",
           "x": [
            57.44
           ],
           "xaxis": "x",
           "y": [
            10.94
           ],
           "yaxis": "y"
          }
         ],
         "name": "43"
        },
        {
         "data": [
          {
           "hovertemplate": "team=home<br>frameId=44<br>x=%{x}<br>y=%{y}<br>size=%{marker.size}<br>jerseyNumber=%{text}<extra></extra>",
           "legendgroup": "home",
           "marker": {
            "color": "rgb(255,60,0)",
            "opacity": 1,
            "size": [
             5,
             5,
             5,
             5,
             5,
             5,
             5,
             5
            ],
            "sizemode": "area",
            "sizeref": 0.029585798816568046,
            "symbol": "circle"
           },
           "mode": "markers+text",
           "name": "home",
           "orientation": "v",
           "showlegend": true,
           "text": [
            22,
            50,
            38,
            49,
            20,
            21,
            23,
            44
           ],
           "type": "scatter",
           "x": [
            61.73,
            42.83,
            72.35,
            58.53,
            63.78,
            73.19,
            60.05,
            52.97
           ],
           "xaxis": "x",
           "y": [
            8.9,
            28.94,
            12.29,
            12.02,
            46.84,
            33.44,
            30.7,
            34.77
           ],
           "yaxis": "y"
          },
          {
           "hovertemplate": "team=away<br>frameId=44<br>x=%{x}<br>y=%{y}<br>size=%{marker.size}<br>jerseyNumber=%{text}<extra></extra>",
           "legendgroup": "away",
           "marker": {
            "color": "rgb(238,173,30)",
            "opacity": 1,
            "size": [
             5,
             5,
             5,
             5,
             5,
             5
            ],
            "sizemode": "area",
            "sizeref": 0.029585798816568046,
            "symbol": "circle"
           },
           "mode": "markers+text",
           "name": "away",
           "orientation": "v",
           "showlegend": true,
           "text": [
            11,
            31,
            86,
            13,
            3,
            16
           ],
           "type": "scatter",
           "x": [
            60.31,
            52.11,
            58.24,
            65.3,
            43.2,
            62.8
           ],
           "xaxis": "x",
           "y": [
            31.23,
            36.09,
            10.72,
            46.91,
            23.33,
            8.15
           ],
           "yaxis": "y"
          },
          {
           "hovertemplate": "team=football<br>frameId=44<br>x=%{x}<br>y=%{y}<br>size=%{marker.size}<br>jerseyNumber=%{text}<extra></extra>",
           "legendgroup": "football",
           "marker": {
            "color": "rgb(139,69,19)",
            "opacity": 1,
            "size": [
             2
            ],
            "sizemode": "area",
            "sizeref": 0.029585798816568046,
            "symbol": "circle"
           },
           "mode": "markers+text",
           "name": "football",
           "orientation": "v",
           "showlegend": true,
           "text": [
            null
           ],
           "type": "scatter",
           "x": [
            57.22
           ],
           "xaxis": "x",
           "y": [
            10.47
           ],
           "yaxis": "y"
          }
         ],
         "name": "44"
        },
        {
         "data": [
          {
           "hovertemplate": "team=home<br>frameId=45<br>x=%{x}<br>y=%{y}<br>size=%{marker.size}<br>jerseyNumber=%{text}<extra></extra>",
           "legendgroup": "home",
           "marker": {
            "color": "rgb(255,60,0)",
            "opacity": 1,
            "size": [
             5,
             5,
             5,
             5,
             5,
             5,
             5,
             5
            ],
            "sizemode": "area",
            "sizeref": 0.029585798816568046,
            "symbol": "circle"
           },
           "mode": "markers+text",
           "name": "home",
           "orientation": "v",
           "showlegend": true,
           "text": [
            22,
            50,
            38,
            49,
            20,
            21,
            23,
            44
           ],
           "type": "scatter",
           "x": [
            62.19,
            42.88,
            72.27,
            58.46,
            64.27,
            73.16,
            60.29,
            53.12
           ],
           "xaxis": "x",
           "y": [
            8.81,
            29.01,
            11.98,
            11.38,
            46.79,
            33.02,
            30.33,
            35.36
           ],
           "yaxis": "y"
          },
          {
           "hovertemplate": "team=away<br>frameId=45<br>x=%{x}<br>y=%{y}<br>size=%{marker.size}<br>jerseyNumber=%{text}<extra></extra>",
           "legendgroup": "away",
           "marker": {
            "color": "rgb(238,173,30)",
            "opacity": 1,
            "size": [
             5,
             5,
             5,
             5,
             5,
             5
            ],
            "sizemode": "area",
            "sizeref": 0.029585798816568046,
            "symbol": "circle"
           },
           "mode": "markers+text",
           "name": "away",
           "orientation": "v",
           "showlegend": true,
           "text": [
            11,
            31,
            86,
            13,
            3,
            16
           ],
           "type": "scatter",
           "x": [
            60.45,
            52.23,
            58.22,
            65.9,
            43.24,
            63.29
           ],
           "xaxis": "x",
           "y": [
            30.85,
            36.73,
            10.24,
            46.67,
            23.26,
            8.08
           ],
           "yaxis": "y"
          },
          {
           "hovertemplate": "team=football<br>frameId=45<br>x=%{x}<br>y=%{y}<br>size=%{marker.size}<br>jerseyNumber=%{text}<extra></extra>",
           "legendgroup": "football",
           "marker": {
            "color": "rgb(139,69,19)",
            "opacity": 1,
            "size": [
             2
            ],
            "sizemode": "area",
            "sizeref": 0.029585798816568046,
            "symbol": "circle"
           },
           "mode": "markers+text",
           "name": "football",
           "orientation": "v",
           "showlegend": true,
           "text": [
            null
           ],
           "type": "scatter",
           "x": [
            57.48
           ],
           "xaxis": "x",
           "y": [
            10.03
           ],
           "yaxis": "y"
          }
         ],
         "name": "45"
        },
        {
         "data": [
          {
           "hovertemplate": "team=home<br>frameId=46<br>x=%{x}<br>y=%{y}<br>size=%{marker.size}<br>jerseyNumber=%{text}<extra></extra>",
           "legendgroup": "home",
           "marker": {
            "color": "rgb(255,60,0)",
            "opacity": 1,
            "size": [
             5,
             5,
             5,
             5,
             5,
             5,
             5,
             5
            ],
            "sizemode": "area",
            "sizeref": 0.029585798816568046,
            "symbol": "circle"
           },
           "mode": "markers+text",
           "name": "home",
           "orientation": "v",
           "showlegend": true,
           "text": [
            22,
            50,
            38,
            49,
            20,
            21,
            23,
            44
           ],
           "type": "scatter",
           "x": [
            62.63,
            42.93,
            72.15,
            58.39,
            64.73,
            73.1,
            60.5,
            53.28
           ],
           "xaxis": "x",
           "y": [
            8.71,
            29.08,
            11.68,
            10.73,
            46.75,
            32.59,
            29.96,
            35.98
           ],
           "yaxis": "y"
          },
          {
           "hovertemplate": "team=away<br>frameId=46<br>x=%{x}<br>y=%{y}<br>size=%{marker.size}<br>jerseyNumber=%{text}<extra></extra>",
           "legendgroup": "away",
           "marker": {
            "color": "rgb(238,173,30)",
            "opacity": 1,
            "size": [
             5,
             5,
             5,
             5,
             5,
             5
            ],
            "sizemode": "area",
            "sizeref": 0.029585798816568046,
            "symbol": "circle"
           },
           "mode": "markers+text",
           "name": "away",
           "orientation": "v",
           "showlegend": true,
           "text": [
            11,
            31,
            86,
            13,
            3,
            16
           ],
           "type": "scatter",
           "x": [
            60.56,
            52.33,
            58.23,
            66.47,
            43.28,
            63.74
           ],
           "xaxis": "x",
           "y": [
            30.48,
            37.39,
            9.76,
            46.39,
            23.19,
            7.98
           ],
           "yaxis": "y"
          },
          {
           "hovertemplate": "team=football<br>frameId=46<br>x=%{x}<br>y=%{y}<br>size=%{marker.size}<br>jerseyNumber=%{text}<extra></extra>",
           "legendgroup": "football",
           "marker": {
            "color": "rgb(139,69,19)",
            "opacity": 1,
            "size": [
             2
            ],
            "sizemode": "area",
            "sizeref": 0.029585798816568046,
            "symbol": "circle"
           },
           "mode": "markers+text",
           "name": "football",
           "orientation": "v",
           "showlegend": true,
           "text": [
            null
           ],
           "type": "scatter",
           "x": [
            57.74
           ],
           "xaxis": "x",
           "y": [
            9.61
           ],
           "yaxis": "y"
          }
         ],
         "name": "46"
        },
        {
         "data": [
          {
           "hovertemplate": "team=home<br>frameId=47<br>x=%{x}<br>y=%{y}<br>size=%{marker.size}<br>jerseyNumber=%{text}<extra></extra>",
           "legendgroup": "home",
           "marker": {
            "color": "rgb(255,60,0)",
            "opacity": 1,
            "size": [
             5,
             5,
             5,
             5,
             5,
             5,
             5,
             5
            ],
            "sizemode": "area",
            "sizeref": 0.029585798816568046,
            "symbol": "circle"
           },
           "mode": "markers+text",
           "name": "home",
           "orientation": "v",
           "showlegend": true,
           "text": [
            22,
            50,
            38,
            49,
            20,
            21,
            23,
            44
           ],
           "type": "scatter",
           "x": [
            63.05,
            42.99,
            71.98,
            58.34,
            65.14,
            73,
            60.69,
            53.42
           ],
           "xaxis": "x",
           "y": [
            8.6,
            29.14,
            11.39,
            10.1,
            46.72,
            32.13,
            29.62,
            36.61
           ],
           "yaxis": "y"
          },
          {
           "hovertemplate": "team=away<br>frameId=47<br>x=%{x}<br>y=%{y}<br>size=%{marker.size}<br>jerseyNumber=%{text}<extra></extra>",
           "legendgroup": "away",
           "marker": {
            "color": "rgb(238,173,30)",
            "opacity": 1,
            "size": [
             5,
             5,
             5,
             5,
             5,
             5
            ],
            "sizemode": "area",
            "sizeref": 0.029585798816568046,
            "symbol": "circle"
           },
           "mode": "markers+text",
           "name": "away",
           "orientation": "v",
           "showlegend": true,
           "text": [
            11,
            31,
            86,
            13,
            3,
            16
           ],
           "type": "scatter",
           "x": [
            60.63,
            52.42,
            58.29,
            67.01,
            43.33,
            64.14
           ],
           "xaxis": "x",
           "y": [
            30.14,
            38.04,
            9.29,
            46.07,
            23.11,
            7.88
           ],
           "yaxis": "y"
          },
          {
           "hovertemplate": "team=football<br>frameId=47<br>x=%{x}<br>y=%{y}<br>size=%{marker.size}<br>jerseyNumber=%{text}<extra></extra>",
           "legendgroup": "football",
           "marker": {
            "color": "rgb(139,69,19)",
            "opacity": 1,
            "size": [
             2
            ],
            "sizemode": "area",
            "sizeref": 0.029585798816568046,
            "symbol": "circle"
           },
           "mode": "markers+text",
           "name": "football",
           "orientation": "v",
           "showlegend": true,
           "text": [
            null
           ],
           "type": "scatter",
           "x": [
            58.01
           ],
           "xaxis": "x",
           "y": [
            9.18
           ],
           "yaxis": "y"
          }
         ],
         "name": "47"
        },
        {
         "data": [
          {
           "hovertemplate": "team=home<br>frameId=48<br>x=%{x}<br>y=%{y}<br>size=%{marker.size}<br>jerseyNumber=%{text}<extra></extra>",
           "legendgroup": "home",
           "marker": {
            "color": "rgb(255,60,0)",
            "opacity": 1,
            "size": [
             5,
             5,
             5,
             5,
             5,
             5,
             5,
             5
            ],
            "sizemode": "area",
            "sizeref": 0.029585798816568046,
            "symbol": "circle"
           },
           "mode": "markers+text",
           "name": "home",
           "orientation": "v",
           "showlegend": true,
           "text": [
            22,
            50,
            38,
            49,
            20,
            21,
            23,
            44
           ],
           "type": "scatter",
           "x": [
            63.44,
            43.06,
            71.77,
            58.31,
            65.51,
            72.9,
            60.85,
            53.56
           ],
           "xaxis": "x",
           "y": [
            8.46,
            29.2,
            11.09,
            9.49,
            46.69,
            31.66,
            29.31,
            37.26
           ],
           "yaxis": "y"
          },
          {
           "hovertemplate": "team=away<br>frameId=48<br>x=%{x}<br>y=%{y}<br>size=%{marker.size}<br>jerseyNumber=%{text}<extra></extra>",
           "legendgroup": "away",
           "marker": {
            "color": "rgb(238,173,30)",
            "opacity": 1,
            "size": [
             5,
             5,
             5,
             5,
             5,
             5
            ],
            "sizemode": "area",
            "sizeref": 0.029585798816568046,
            "symbol": "circle"
           },
           "mode": "markers+text",
           "name": "away",
           "orientation": "v",
           "showlegend": true,
           "text": [
            11,
            31,
            86,
            13,
            3,
            16
           ],
           "type": "scatter",
           "x": [
            60.68,
            52.49,
            58.4,
            67.5,
            43.39,
            64.51
           ],
           "xaxis": "x",
           "y": [
            29.82,
            38.68,
            8.83,
            45.72,
            23.03,
            7.77
           ],
           "yaxis": "y"
          },
          {
           "hovertemplate": "team=football<br>frameId=48<br>x=%{x}<br>y=%{y}<br>size=%{marker.size}<br>jerseyNumber=%{text}<extra></extra>",
           "legendgroup": "football",
           "marker": {
            "color": "rgb(139,69,19)",
            "opacity": 1,
            "size": [
             2
            ],
            "sizemode": "area",
            "sizeref": 0.029585798816568046,
            "symbol": "circle"
           },
           "mode": "markers+text",
           "name": "football",
           "orientation": "v",
           "showlegend": true,
           "text": [
            null
           ],
           "type": "scatter",
           "x": [
            58.29
           ],
           "xaxis": "x",
           "y": [
            8.76
           ],
           "yaxis": "y"
          }
         ],
         "name": "48"
        },
        {
         "data": [
          {
           "hovertemplate": "team=home<br>frameId=49<br>x=%{x}<br>y=%{y}<br>size=%{marker.size}<br>jerseyNumber=%{text}<extra></extra>",
           "legendgroup": "home",
           "marker": {
            "color": "rgb(255,60,0)",
            "opacity": 1,
            "size": [
             5,
             5,
             5,
             5,
             5,
             5,
             5,
             5
            ],
            "sizemode": "area",
            "sizeref": 0.029585798816568046,
            "symbol": "circle"
           },
           "mode": "markers+text",
           "name": "home",
           "orientation": "v",
           "showlegend": true,
           "text": [
            22,
            50,
            38,
            49,
            20,
            21,
            23,
            44
           ],
           "type": "scatter",
           "x": [
            63.8,
            43.12,
            71.53,
            58.31,
            65.85,
            72.78,
            60.98,
            53.69
           ],
           "xaxis": "x",
           "y": [
            8.31,
            29.25,
            10.81,
            8.91,
            46.66,
            31.19,
            29.03,
            37.92
           ],
           "yaxis": "y"
          },
          {
           "hovertemplate": "team=away<br>frameId=49<br>x=%{x}<br>y=%{y}<br>size=%{marker.size}<br>jerseyNumber=%{text}<extra></extra>",
           "legendgroup": "away",
           "marker": {
            "color": "rgb(238,173,30)",
            "opacity": 1,
            "size": [
             5,
             5,
             5,
             5,
             5,
             5
            ],
            "sizemode": "area",
            "sizeref": 0.029585798816568046,
            "symbol": "circle"
           },
           "mode": "markers+text",
           "name": "away",
           "orientation": "v",
           "showlegend": true,
           "text": [
            11,
            31,
            86,
            13,
            3,
            16
           ],
           "type": "scatter",
           "x": [
            60.7,
            52.55,
            58.55,
            67.96,
            43.46,
            64.85
           ],
           "xaxis": "x",
           "y": [
            29.53,
            39.31,
            8.39,
            45.34,
            22.95,
            7.64
           ],
           "yaxis": "y"
          },
          {
           "hovertemplate": "team=football<br>frameId=49<br>x=%{x}<br>y=%{y}<br>size=%{marker.size}<br>jerseyNumber=%{text}<extra></extra>",
           "legendgroup": "football",
           "marker": {
            "color": "rgb(139,69,19)",
            "opacity": 1,
            "size": [
             2
            ],
            "sizemode": "area",
            "sizeref": 0.029585798816568046,
            "symbol": "circle"
           },
           "mode": "markers+text",
           "name": "football",
           "orientation": "v",
           "showlegend": true,
           "text": [
            null
           ],
           "type": "scatter",
           "x": [
            58.57
           ],
           "xaxis": "x",
           "y": [
            8.34
           ],
           "yaxis": "y"
          }
         ],
         "name": "49"
        },
        {
         "data": [
          {
           "hovertemplate": "team=home<br>frameId=50<br>x=%{x}<br>y=%{y}<br>size=%{marker.size}<br>jerseyNumber=%{text}<extra></extra>",
           "legendgroup": "home",
           "marker": {
            "color": "rgb(255,60,0)",
            "opacity": 1,
            "size": [
             5,
             5,
             5,
             5,
             5,
             5,
             5,
             5
            ],
            "sizemode": "area",
            "sizeref": 0.029585798816568046,
            "symbol": "circle"
           },
           "mode": "markers+text",
           "name": "home",
           "orientation": "v",
           "showlegend": true,
           "text": [
            22,
            50,
            38,
            49,
            20,
            21,
            23,
            44
           ],
           "type": "scatter",
           "x": [
            64.13,
            43.16,
            71.26,
            58.35,
            66.15,
            72.66,
            61.09,
            53.82
           ],
           "xaxis": "x",
           "y": [
            8.15,
            29.3,
            10.55,
            8.38,
            46.64,
            30.73,
            28.79,
            38.58
           ],
           "yaxis": "y"
          },
          {
           "hovertemplate": "team=away<br>frameId=50<br>x=%{x}<br>y=%{y}<br>size=%{marker.size}<br>jerseyNumber=%{text}<extra></extra>",
           "legendgroup": "away",
           "marker": {
            "color": "rgb(238,173,30)",
            "opacity": 1,
            "size": [
             5,
             5,
             5,
             5,
             5,
             5
            ],
            "sizemode": "area",
            "sizeref": 0.029585798816568046,
            "symbol": "circle"
           },
           "mode": "markers+text",
           "name": "away",
           "orientation": "v",
           "showlegend": true,
           "text": [
            11,
            31,
            86,
            13,
            3,
            16
           ],
           "type": "scatter",
           "x": [
            60.69,
            52.6,
            58.75,
            68.38,
            43.54,
            65.14
           ],
           "xaxis": "x",
           "y": [
            29.27,
            39.92,
            7.96,
            44.92,
            22.86,
            7.51
           ],
           "yaxis": "y"
          },
          {
           "hovertemplate": "team=football<br>frameId=50<br>x=%{x}<br>y=%{y}<br>size=%{marker.size}<br>jerseyNumber=%{text}<extra></extra>",
           "legendgroup": "football",
           "marker": {
            "color": "rgb(139,69,19)",
            "opacity": 1,
            "size": [
             2
            ],
            "sizemode": "area",
            "sizeref": 0.029585798816568046,
            "symbol": "circle"
           },
           "mode": "markers+text",
           "name": "football",
           "orientation": "v",
           "showlegend": true,
           "text": [
            null
           ],
           "type": "scatter",
           "x": [
            58.85
           ],
           "xaxis": "x",
           "y": [
            7.94
           ],
           "yaxis": "y"
          }
         ],
         "name": "50"
        },
        {
         "data": [
          {
           "hovertemplate": "team=home<br>frameId=51<br>x=%{x}<br>y=%{y}<br>size=%{marker.size}<br>jerseyNumber=%{text}<extra></extra>",
           "legendgroup": "home",
           "marker": {
            "color": "rgb(255,60,0)",
            "opacity": 1,
            "size": [
             5,
             5,
             5,
             5,
             5,
             5,
             5,
             5
            ],
            "sizemode": "area",
            "sizeref": 0.029585798816568046,
            "symbol": "circle"
           },
           "mode": "markers+text",
           "name": "home",
           "orientation": "v",
           "showlegend": true,
           "text": [
            22,
            50,
            38,
            49,
            20,
            21,
            23,
            44
           ],
           "type": "scatter",
           "x": [
            64.43,
            43.19,
            70.96,
            58.42,
            66.4,
            72.53,
            61.18,
            53.92
           ],
           "xaxis": "x",
           "y": [
            7.98,
            29.34,
            10.29,
            7.9,
            46.61,
            30.27,
            28.57,
            39.23
           ],
           "yaxis": "y"
          },
          {
           "hovertemplate": "team=away<br>frameId=51<br>x=%{x}<br>y=%{y}<br>size=%{marker.size}<br>jerseyNumber=%{text}<extra></extra>",
           "legendgroup": "away",
           "marker": {
            "color": "rgb(238,173,30)",
            "opacity": 1,
            "size": [
             5,
             5,
             5,
             5,
             5,
             5
            ],
            "sizemode": "area",
            "sizeref": 0.029585798816568046,
            "symbol": "circle"
           },
           "mode": "markers+text",
           "name": "away",
           "orientation": "v",
           "showlegend": true,
           "text": [
            11,
            31,
            86,
            13,
            3,
            16
           ],
           "type": "scatter",
           "x": [
            60.67,
            52.65,
            58.98,
            68.76,
            43.62,
            65.38
           ],
           "xaxis": "x",
           "y": [
            29.03,
            40.52,
            7.57,
            44.49,
            22.77,
            7.35
           ],
           "yaxis": "y"
          },
          {
           "hovertemplate": "team=football<br>frameId=51<br>x=%{x}<br>y=%{y}<br>size=%{marker.size}<br>jerseyNumber=%{text}<extra></extra>",
           "legendgroup": "football",
           "marker": {
            "color": "rgb(139,69,19)",
            "opacity": 1,
            "size": [
             2
            ],
            "sizemode": "area",
            "sizeref": 0.029585798816568046,
            "symbol": "circle"
           },
           "mode": "markers+text",
           "name": "football",
           "orientation": "v",
           "showlegend": true,
           "text": [
            null
           ],
           "type": "scatter",
           "x": [
            59.11
           ],
           "xaxis": "x",
           "y": [
            7.57
           ],
           "yaxis": "y"
          }
         ],
         "name": "51"
        },
        {
         "data": [
          {
           "hovertemplate": "team=home<br>frameId=52<br>x=%{x}<br>y=%{y}<br>size=%{marker.size}<br>jerseyNumber=%{text}<extra></extra>",
           "legendgroup": "home",
           "marker": {
            "color": "rgb(255,60,0)",
            "opacity": 1,
            "size": [
             5,
             5,
             5,
             5,
             5,
             5,
             5,
             5
            ],
            "sizemode": "area",
            "sizeref": 0.029585798816568046,
            "symbol": "circle"
           },
           "mode": "markers+text",
           "name": "home",
           "orientation": "v",
           "showlegend": true,
           "text": [
            22,
            50,
            38,
            49,
            20,
            21,
            23,
            44
           ],
           "type": "scatter",
           "x": [
            64.7,
            43.21,
            70.65,
            58.51,
            66.63,
            72.4,
            61.25,
            54.01
           ],
           "xaxis": "x",
           "y": [
            7.8,
            29.39,
            10.06,
            7.47,
            46.6,
            29.81,
            28.37,
            39.87
           ],
           "yaxis": "y"
          },
          {
           "hovertemplate": "team=away<br>frameId=52<br>x=%{x}<br>y=%{y}<br>size=%{marker.size}<br>jerseyNumber=%{text}<extra></extra>",
           "legendgroup": "away",
           "marker": {
            "color": "rgb(238,173,30)",
            "opacity": 1,
            "size": [
             5,
             5,
             5,
             5,
             5,
             5
            ],
            "sizemode": "area",
            "sizeref": 0.029585798816568046,
            "symbol": "circle"
           },
           "mode": "markers+text",
           "name": "away",
           "orientation": "v",
           "showlegend": true,
           "text": [
            11,
            31,
            86,
            13,
            3,
            16
           ],
           "type": "scatter",
           "x": [
            60.63,
            52.69,
            59.23,
            69.1,
            43.72,
            65.59
           ],
           "xaxis": "x",
           "y": [
            28.81,
            41.1,
            7.21,
            44.03,
            22.68,
            7.19
           ],
           "yaxis": "y"
          },
          {
           "hovertemplate": "team=football<br>frameId=52<br>x=%{x}<br>y=%{y}<br>size=%{marker.size}<br>jerseyNumber=%{text}<extra></extra>",
           "legendgroup": "football",
           "marker": {
            "color": "rgb(139,69,19)",
            "opacity": 1,
            "size": [
             2
            ],
            "sizemode": "area",
            "sizeref": 0.029585798816568046,
            "symbol": "circle"
           },
           "mode": "markers+text",
           "name": "football",
           "orientation": "v",
           "showlegend": true,
           "text": [
            null
           ],
           "type": "scatter",
           "x": [
            59.35
           ],
           "xaxis": "x",
           "y": [
            7.24
           ],
           "yaxis": "y"
          }
         ],
         "name": "52"
        },
        {
         "data": [
          {
           "hovertemplate": "team=home<br>frameId=53<br>x=%{x}<br>y=%{y}<br>size=%{marker.size}<br>jerseyNumber=%{text}<extra></extra>",
           "legendgroup": "home",
           "marker": {
            "color": "rgb(255,60,0)",
            "opacity": 1,
            "size": [
             5,
             5,
             5,
             5,
             5,
             5,
             5,
             5
            ],
            "sizemode": "area",
            "sizeref": 0.029585798816568046,
            "symbol": "circle"
           },
           "mode": "markers+text",
           "name": "home",
           "orientation": "v",
           "showlegend": true,
           "text": [
            22,
            50,
            38,
            49,
            20,
            21,
            23,
            44
           ],
           "type": "scatter",
           "x": [
            64.92,
            43.22,
            70.34,
            58.64,
            66.83,
            72.27,
            61.31,
            54.09
           ],
           "xaxis": "x",
           "y": [
            7.63,
            29.43,
            9.84,
            7.06,
            46.58,
            29.36,
            28.2,
            40.48
           ],
           "yaxis": "y"
          },
          {
           "hovertemplate": "team=away<br>frameId=53<br>x=%{x}<br>y=%{y}<br>size=%{marker.size}<br>jerseyNumber=%{text}<extra></extra>",
           "legendgroup": "away",
           "marker": {
            "color": "rgb(238,173,30)",
            "opacity": 1,
            "size": [
             5,
             5,
             5,
             5,
             5,
             5
            ],
            "sizemode": "area",
            "sizeref": 0.029585798816568046,
            "symbol": "circle"
           },
           "mode": "markers+text",
           "name": "away",
           "orientation": "v",
           "showlegend": true,
           "text": [
            11,
            31,
            86,
            13,
            3,
            16
           ],
           "type": "scatter",
           "x": [
            60.59,
            52.73,
            59.48,
            69.42,
            43.83,
            65.76
           ],
           "xaxis": "x",
           "y": [
            28.62,
            41.65,
            6.9,
            43.57,
            22.59,
            7.01
           ],
           "yaxis": "y"
          },
          {
           "hovertemplate": "team=football<br>frameId=53<br>x=%{x}<br>y=%{y}<br>size=%{marker.size}<br>jerseyNumber=%{text}<extra></extra>",
           "legendgroup": "football",
           "marker": {
            "color": "rgb(139,69,19)",
            "opacity": 1,
            "size": [
             2
            ],
            "sizemode": "area",
            "sizeref": 0.029585798816568046,
            "symbol": "circle"
           },
           "mode": "markers+text",
           "name": "football",
           "orientation": "v",
           "showlegend": true,
           "text": [
            null
           ],
           "type": "scatter",
           "x": [
            59.58
           ],
           "xaxis": "x",
           "y": [
            6.94
           ],
           "yaxis": "y"
          }
         ],
         "name": "53"
        },
        {
         "data": [
          {
           "hovertemplate": "team=home<br>frameId=54<br>x=%{x}<br>y=%{y}<br>size=%{marker.size}<br>jerseyNumber=%{text}<extra></extra>",
           "legendgroup": "home",
           "marker": {
            "color": "rgb(255,60,0)",
            "opacity": 1,
            "size": [
             5,
             5,
             5,
             5,
             5,
             5,
             5,
             5
            ],
            "sizemode": "area",
            "sizeref": 0.029585798816568046,
            "symbol": "circle"
           },
           "mode": "markers+text",
           "name": "home",
           "orientation": "v",
           "showlegend": true,
           "text": [
            22,
            50,
            38,
            49,
            20,
            21,
            23,
            44
           ],
           "type": "scatter",
           "x": [
            65.1,
            43.23,
            70.01,
            58.78,
            67,
            72.15,
            61.35,
            54.16
           ],
           "xaxis": "x",
           "y": [
            7.45,
            29.46,
            9.64,
            6.7,
            46.57,
            28.94,
            28.05,
            41.08
           ],
           "yaxis": "y"
          },
          {
           "hovertemplate": "team=away<br>frameId=54<br>x=%{x}<br>y=%{y}<br>size=%{marker.size}<br>jerseyNumber=%{text}<extra></extra>",
           "legendgroup": "away",
           "marker": {
            "color": "rgb(238,173,30)",
            "opacity": 1,
            "size": [
             5,
             5,
             5,
             5,
             5,
             5
            ],
            "sizemode": "area",
            "sizeref": 0.029585798816568046,
            "symbol": "circle"
           },
           "mode": "markers+text",
           "name": "away",
           "orientation": "v",
           "showlegend": true,
           "text": [
            11,
            31,
            86,
            13,
            3,
            16
           ],
           "type": "scatter",
           "x": [
            60.53,
            52.77,
            59.72,
            69.69,
            43.96,
            65.88
           ],
           "xaxis": "x",
           "y": [
            28.45,
            42.18,
            6.63,
            43.11,
            22.52,
            6.83
           ],
           "yaxis": "y"
          },
          {
           "hovertemplate": "team=football<br>frameId=54<br>x=%{x}<br>y=%{y}<br>size=%{marker.size}<br>jerseyNumber=%{text}<extra></extra>",
           "legendgroup": "football",
           "marker": {
            "color": "rgb(139,69,19)",
            "opacity": 1,
            "size": [
             2
            ],
            "sizemode": "area",
            "sizeref": 0.029585798816568046,
            "symbol": "circle"
           },
           "mode": "markers+text",
           "name": "football",
           "orientation": "v",
           "showlegend": true,
           "text": [
            null
           ],
           "type": "scatter",
           "x": [
            59.78
           ],
           "xaxis": "x",
           "y": [
            6.68
           ],
           "yaxis": "y"
          }
         ],
         "name": "54"
        },
        {
         "data": [
          {
           "hovertemplate": "team=home<br>frameId=55<br>x=%{x}<br>y=%{y}<br>size=%{marker.size}<br>jerseyNumber=%{text}<extra></extra>",
           "legendgroup": "home",
           "marker": {
            "color": "rgb(255,60,0)",
            "opacity": 1,
            "size": [
             5,
             5,
             5,
             5,
             5,
             5,
             5,
             5
            ],
            "sizemode": "area",
            "sizeref": 0.029585798816568046,
            "symbol": "circle"
           },
           "mode": "markers+text",
           "name": "home",
           "orientation": "v",
           "showlegend": true,
           "text": [
            22,
            50,
            38,
            49,
            20,
            21,
            23,
            44
           ],
           "type": "scatter",
           "x": [
            65.26,
            43.23,
            69.69,
            58.94,
            67.15,
            72.03,
            61.38,
            54.21
           ],
           "xaxis": "x",
           "y": [
            7.28,
            29.5,
            9.47,
            6.39,
            46.55,
            28.53,
            27.92,
            41.65
           ],
           "yaxis": "y"
          },
          {
           "hovertemplate": "team=away<br>frameId=55<br>x=%{x}<br>y=%{y}<br>size=%{marker.size}<br>jerseyNumber=%{text}<extra></extra>",
           "legendgroup": "away",
           "marker": {
            "color": "rgb(238,173,30)",
            "opacity": 1,
            "size": [
             5,
             5,
             5,
             5,
             5,
             5
            ],
            "sizemode": "area",
            "sizeref": 0.029585798816568046,
            "symbol": "circle"
           },
           "mode": "markers+text",
           "name": "away",
           "orientation": "v",
           "showlegend": true,
           "text": [
            11,
            31,
            86,
            13,
            3,
            16
           ],
           "type": "scatter",
           "x": [
            60.48,
            52.81,
            59.95,
            69.93,
            44.11,
            65.97
           ],
           "xaxis": "x",
           "y": [
            28.3,
            42.68,
            6.4,
            42.64,
            22.46,
            6.64
           ],
           "yaxis": "y"
          },
          {
           "hovertemplate": "team=football<br>frameId=55<br>x=%{x}<br>y=%{y}<br>size=%{marker.size}<br>jerseyNumber=%{text}<extra></extra>",
           "legendgroup": "football",
           "marker": {
            "color": "rgb(139,69,19)",
            "opacity": 1,
            "size": [
             2
            ],
            "sizemode": "area",
            "sizeref": 0.029585798816568046,
            "symbol": "circle"
           },
           "mode": "markers+text",
           "name": "football",
           "orientation": "v",
           "showlegend": true,
           "text": [
            null
           ],
           "type": "scatter",
           "x": [
            59.96
           ],
           "xaxis": "x",
           "y": [
            6.45
           ],
           "yaxis": "y"
          }
         ],
         "name": "55"
        },
        {
         "data": [
          {
           "hovertemplate": "team=home<br>frameId=56<br>x=%{x}<br>y=%{y}<br>size=%{marker.size}<br>jerseyNumber=%{text}<extra></extra>",
           "legendgroup": "home",
           "marker": {
            "color": "rgb(255,60,0)",
            "opacity": 1,
            "size": [
             5,
             5,
             5,
             5,
             5,
             5,
             5,
             5
            ],
            "sizemode": "area",
            "sizeref": 0.029585798816568046,
            "symbol": "circle"
           },
           "mode": "markers+text",
           "name": "home",
           "orientation": "v",
           "showlegend": true,
           "text": [
            22,
            50,
            38,
            49,
            20,
            21,
            23,
            44
           ],
           "type": "scatter",
           "x": [
            65.39,
            43.23,
            69.37,
            59.09,
            67.28,
            71.9,
            61.41,
            54.26
           ],
           "xaxis": "x",
           "y": [
            7.11,
            29.52,
            9.31,
            6.1,
            46.53,
            28.16,
            27.81,
            42.2
           ],
           "yaxis": "y"
          },
          {
           "hovertemplate": "team=away<br>frameId=56<br>x=%{x}<br>y=%{y}<br>size=%{marker.size}<br>jerseyNumber=%{text}<extra></extra>",
           "legendgroup": "away",
           "marker": {
            "color": "rgb(238,173,30)",
            "opacity": 1,
            "size": [
             5,
             5,
             5,
             5,
             5,
             5
            ],
            "sizemode": "area",
            "sizeref": 0.029585798816568046,
            "symbol": "circle"
           },
           "mode": "markers+text",
           "name": "away",
           "orientation": "v",
           "showlegend": true,
           "text": [
            11,
            31,
            86,
            13,
            3,
            16
           ],
           "type": "scatter",
           "x": [
            60.42,
            52.84,
            60.14,
            70.13,
            44.26,
            66.02
           ],
           "xaxis": "x",
           "y": [
            28.16,
            43.16,
            6.21,
            42.18,
            22.42,
            6.45
           ],
           "yaxis": "y"
          },
          {
           "hovertemplate": "team=football<br>frameId=56<br>x=%{x}<br>y=%{y}<br>size=%{marker.size}<br>jerseyNumber=%{text}<extra></extra>",
           "legendgroup": "football",
           "marker": {
            "color": "rgb(139,69,19)",
            "opacity": 1,
            "size": [
             2
            ],
            "sizemode": "area",
            "sizeref": 0.029585798816568046,
            "symbol": "circle"
           },
           "mode": "markers+text",
           "name": "football",
           "orientation": "v",
           "showlegend": true,
           "text": [
            null
           ],
           "type": "scatter",
           "x": [
            60.11
           ],
           "xaxis": "x",
           "y": [
            6.25
           ],
           "yaxis": "y"
          }
         ],
         "name": "56"
        }
       ],
       "layout": {
        "annotations": [
         {
          "align": "center",
          "font": {
           "color": "#FFFFFF",
           "family": "sans serif",
           "size": 40
          },
          "text": "KC",
          "textangle": 90,
          "valign": "middle",
          "x": 116.5,
          "y": 20
         },
         {
          "align": "center",
          "font": {
           "color": "#FFFFFF",
           "family": "sans serif",
           "size": 40
          },
          "text": "KC",
          "textangle": -90,
          "valign": "middle",
          "x": 6.5,
          "y": 20
         },
         {
          "align": "center",
          "font": {
           "color": "#FFFFFF",
           "size": 17
          },
          "showarrow": false,
          "text": "1",
          "textangle": 0,
          "valign": "middle",
          "x": 19,
          "y": 13
         },
         {
          "align": "center",
          "font": {
           "color": "#FFFFFF",
           "size": 17
          },
          "showarrow": false,
          "text": "0",
          "textangle": 0,
          "valign": "middle",
          "x": 21,
          "y": 13
         },
         {
          "align": "center",
          "font": {
           "color": "#FFFFFF",
           "size": 17
          },
          "showarrow": false,
          "text": "1",
          "textangle": 0,
          "valign": "middle",
          "x": 19,
          "y": 40.333333333333336
         },
         {
          "align": "center",
          "font": {
           "color": "#FFFFFF",
           "size": 17
          },
          "showarrow": false,
          "text": "0",
          "textangle": 0,
          "valign": "middle",
          "x": 21,
          "y": 40.333333333333336
         },
         {
          "align": "center",
          "font": {
           "color": "#FFFFFF",
           "size": 17
          },
          "showarrow": false,
          "text": "2",
          "textangle": 0,
          "valign": "middle",
          "x": 29,
          "y": 13
         },
         {
          "align": "center",
          "font": {
           "color": "#FFFFFF",
           "size": 17
          },
          "showarrow": false,
          "text": "0",
          "textangle": 0,
          "valign": "middle",
          "x": 31,
          "y": 13
         },
         {
          "align": "center",
          "font": {
           "color": "#FFFFFF",
           "size": 17
          },
          "showarrow": false,
          "text": "2",
          "textangle": 0,
          "valign": "middle",
          "x": 29,
          "y": 40.333333333333336
         },
         {
          "align": "center",
          "font": {
           "color": "#FFFFFF",
           "size": 17
          },
          "showarrow": false,
          "text": "0",
          "textangle": 0,
          "valign": "middle",
          "x": 31,
          "y": 40.333333333333336
         },
         {
          "align": "center",
          "font": {
           "color": "#FFFFFF",
           "size": 17
          },
          "showarrow": false,
          "text": "3",
          "textangle": 0,
          "valign": "middle",
          "x": 39,
          "y": 13
         },
         {
          "align": "center",
          "font": {
           "color": "#FFFFFF",
           "size": 17
          },
          "showarrow": false,
          "text": "0",
          "textangle": 0,
          "valign": "middle",
          "x": 41,
          "y": 13
         },
         {
          "align": "center",
          "font": {
           "color": "#FFFFFF",
           "size": 17
          },
          "showarrow": false,
          "text": "3",
          "textangle": 0,
          "valign": "middle",
          "x": 39,
          "y": 40.333333333333336
         },
         {
          "align": "center",
          "font": {
           "color": "#FFFFFF",
           "size": 17
          },
          "showarrow": false,
          "text": "0",
          "textangle": 0,
          "valign": "middle",
          "x": 41,
          "y": 40.333333333333336
         },
         {
          "align": "center",
          "font": {
           "color": "#FFFFFF",
           "size": 17
          },
          "showarrow": false,
          "text": "4",
          "textangle": 0,
          "valign": "middle",
          "x": 49,
          "y": 13
         },
         {
          "align": "center",
          "font": {
           "color": "#FFFFFF",
           "size": 17
          },
          "showarrow": false,
          "text": "0",
          "textangle": 0,
          "valign": "middle",
          "x": 51,
          "y": 13
         },
         {
          "align": "center",
          "font": {
           "color": "#FFFFFF",
           "size": 17
          },
          "showarrow": false,
          "text": "4",
          "textangle": 0,
          "valign": "middle",
          "x": 49,
          "y": 40.333333333333336
         },
         {
          "align": "center",
          "font": {
           "color": "#FFFFFF",
           "size": 17
          },
          "showarrow": false,
          "text": "0",
          "textangle": 0,
          "valign": "middle",
          "x": 51,
          "y": 40.333333333333336
         },
         {
          "align": "center",
          "font": {
           "color": "#FFFFFF",
           "size": 17
          },
          "showarrow": false,
          "text": "5",
          "textangle": 0,
          "valign": "middle",
          "x": 59,
          "y": 13
         },
         {
          "align": "center",
          "font": {
           "color": "#FFFFFF",
           "size": 17
          },
          "showarrow": false,
          "text": "0",
          "textangle": 0,
          "valign": "middle",
          "x": 61,
          "y": 13
         },
         {
          "align": "center",
          "font": {
           "color": "#FFFFFF",
           "size": 17
          },
          "showarrow": false,
          "text": "5",
          "textangle": 0,
          "valign": "middle",
          "x": 59,
          "y": 40.333333333333336
         },
         {
          "align": "center",
          "font": {
           "color": "#FFFFFF",
           "size": 17
          },
          "showarrow": false,
          "text": "0",
          "textangle": 0,
          "valign": "middle",
          "x": 61,
          "y": 40.333333333333336
         },
         {
          "align": "center",
          "font": {
           "color": "#FFFFFF",
           "size": 17
          },
          "showarrow": false,
          "text": "4",
          "textangle": 0,
          "valign": "middle",
          "x": 69,
          "y": 13
         },
         {
          "align": "center",
          "font": {
           "color": "#FFFFFF",
           "size": 17
          },
          "showarrow": false,
          "text": "0",
          "textangle": 0,
          "valign": "middle",
          "x": 71,
          "y": 13
         },
         {
          "align": "center",
          "font": {
           "color": "#FFFFFF",
           "size": 17
          },
          "showarrow": false,
          "text": "4",
          "textangle": 0,
          "valign": "middle",
          "x": 69,
          "y": 40.333333333333336
         },
         {
          "align": "center",
          "font": {
           "color": "#FFFFFF",
           "size": 17
          },
          "showarrow": false,
          "text": "0",
          "textangle": 0,
          "valign": "middle",
          "x": 71,
          "y": 40.333333333333336
         },
         {
          "align": "center",
          "font": {
           "color": "#FFFFFF",
           "size": 17
          },
          "showarrow": false,
          "text": "3",
          "textangle": 0,
          "valign": "middle",
          "x": 79,
          "y": 13
         },
         {
          "align": "center",
          "font": {
           "color": "#FFFFFF",
           "size": 17
          },
          "showarrow": false,
          "text": "0",
          "textangle": 0,
          "valign": "middle",
          "x": 81,
          "y": 13
         },
         {
          "align": "center",
          "font": {
           "color": "#FFFFFF",
           "size": 17
          },
          "showarrow": false,
          "text": "3",
          "textangle": 0,
          "valign": "middle",
          "x": 79,
          "y": 40.333333333333336
         },
         {
          "align": "center",
          "font": {
           "color": "#FFFFFF",
           "size": 17
          },
          "showarrow": false,
          "text": "0",
          "textangle": 0,
          "valign": "middle",
          "x": 81,
          "y": 40.333333333333336
         },
         {
          "align": "center",
          "font": {
           "color": "#FFFFFF",
           "size": 17
          },
          "showarrow": false,
          "text": "2",
          "textangle": 0,
          "valign": "middle",
          "x": 89,
          "y": 13
         },
         {
          "align": "center",
          "font": {
           "color": "#FFFFFF",
           "size": 17
          },
          "showarrow": false,
          "text": "0",
          "textangle": 0,
          "valign": "middle",
          "x": 91,
          "y": 13
         },
         {
          "align": "center",
          "font": {
           "color": "#FFFFFF",
           "size": 17
          },
          "showarrow": false,
          "text": "2",
          "textangle": 0,
          "valign": "middle",
          "x": 89,
          "y": 40.333333333333336
         },
         {
          "align": "center",
          "font": {
           "color": "#FFFFFF",
           "size": 17
          },
          "showarrow": false,
          "text": "0",
          "textangle": 0,
          "valign": "middle",
          "x": 91,
          "y": 40.333333333333336
         },
         {
          "align": "center",
          "font": {
           "color": "#FFFFFF",
           "size": 17
          },
          "showarrow": false,
          "text": "1",
          "textangle": 0,
          "valign": "middle",
          "x": 99,
          "y": 13
         },
         {
          "align": "center",
          "font": {
           "color": "#FFFFFF",
           "size": 17
          },
          "showarrow": false,
          "text": "0",
          "textangle": 0,
          "valign": "middle",
          "x": 101,
          "y": 13
         },
         {
          "align": "center",
          "font": {
           "color": "#FFFFFF",
           "size": 17
          },
          "showarrow": false,
          "text": "1",
          "textangle": 0,
          "valign": "middle",
          "x": 99,
          "y": 40.333333333333336
         },
         {
          "align": "center",
          "font": {
           "color": "#FFFFFF",
           "size": 17
          },
          "showarrow": false,
          "text": "0",
          "textangle": 0,
          "valign": "middle",
          "x": 101,
          "y": 40.333333333333336
         }
        ],
        "legend": {
         "itemsizing": "constant",
         "title": {
          "text": "team"
         },
         "tracegroupgap": 0
        },
        "paper_bgcolor": "rgba(0, 0, 0, 0)",
        "plot_bgcolor": "rgba(0, 169, 0, 1)",
        "shapes": [
         {
          "layer": "below",
          "line": {
           "color": "White",
           "width": 5
          },
          "type": "line",
          "x0": 10,
          "x1": 10,
          "y0": 0,
          "y1": 53.333333333333336
         },
         {
          "layer": "below",
          "line": {
           "color": "White",
           "width": 5
          },
          "type": "line",
          "x0": 110,
          "x1": 110,
          "y0": 0,
          "y1": 53.333333333333336
         },
         {
          "layer": "below",
          "line": {
           "color": "White",
           "width": 1
          },
          "type": "line",
          "x0": 20,
          "x1": 20,
          "y0": 0,
          "y1": 53.333333333333336
         },
         {
          "layer": "below",
          "line": {
           "color": "White",
           "width": 1
          },
          "type": "line",
          "x0": 30,
          "x1": 30,
          "y0": 0,
          "y1": 53.333333333333336
         },
         {
          "layer": "below",
          "line": {
           "color": "White",
           "width": 1
          },
          "type": "line",
          "x0": 40,
          "x1": 40,
          "y0": 0,
          "y1": 53.333333333333336
         },
         {
          "layer": "below",
          "line": {
           "color": "White",
           "width": 1
          },
          "type": "line",
          "x0": 50,
          "x1": 50,
          "y0": 0,
          "y1": 53.333333333333336
         },
         {
          "layer": "below",
          "line": {
           "color": "White",
           "width": 1
          },
          "type": "line",
          "x0": 60,
          "x1": 60,
          "y0": 0,
          "y1": 53.333333333333336
         },
         {
          "layer": "below",
          "line": {
           "color": "White",
           "width": 1
          },
          "type": "line",
          "x0": 70,
          "x1": 70,
          "y0": 0,
          "y1": 53.333333333333336
         },
         {
          "layer": "below",
          "line": {
           "color": "White",
           "width": 1
          },
          "type": "line",
          "x0": 80,
          "x1": 80,
          "y0": 0,
          "y1": 53.333333333333336
         },
         {
          "layer": "below",
          "line": {
           "color": "White",
           "width": 1
          },
          "type": "line",
          "x0": 90,
          "x1": 90,
          "y0": 0,
          "y1": 53.333333333333336
         },
         {
          "layer": "below",
          "line": {
           "color": "White",
           "width": 1
          },
          "type": "line",
          "x0": 100,
          "x1": 100,
          "y0": 0,
          "y1": 53.333333333333336
         },
         {
          "layer": "below",
          "line": {
           "color": "White",
           "width": 0.5
          },
          "type": "line",
          "x0": 15,
          "x1": 15,
          "y0": 0,
          "y1": 53.333333333333336
         },
         {
          "layer": "below",
          "line": {
           "color": "White",
           "width": 0.5
          },
          "type": "line",
          "x0": 25,
          "x1": 25,
          "y0": 0,
          "y1": 53.333333333333336
         },
         {
          "layer": "below",
          "line": {
           "color": "White",
           "width": 0.5
          },
          "type": "line",
          "x0": 35,
          "x1": 35,
          "y0": 0,
          "y1": 53.333333333333336
         },
         {
          "layer": "below",
          "line": {
           "color": "White",
           "width": 0.5
          },
          "type": "line",
          "x0": 45,
          "x1": 45,
          "y0": 0,
          "y1": 53.333333333333336
         },
         {
          "layer": "below",
          "line": {
           "color": "White",
           "width": 0.5
          },
          "type": "line",
          "x0": 55,
          "x1": 55,
          "y0": 0,
          "y1": 53.333333333333336
         },
         {
          "layer": "below",
          "line": {
           "color": "White",
           "width": 0.5
          },
          "type": "line",
          "x0": 65,
          "x1": 65,
          "y0": 0,
          "y1": 53.333333333333336
         },
         {
          "layer": "below",
          "line": {
           "color": "White",
           "width": 0.5
          },
          "type": "line",
          "x0": 75,
          "x1": 75,
          "y0": 0,
          "y1": 53.333333333333336
         },
         {
          "layer": "below",
          "line": {
           "color": "White",
           "width": 0.5
          },
          "type": "line",
          "x0": 85,
          "x1": 85,
          "y0": 0,
          "y1": 53.333333333333336
         },
         {
          "layer": "below",
          "line": {
           "color": "White",
           "width": 0.5
          },
          "type": "line",
          "x0": 95,
          "x1": 95,
          "y0": 0,
          "y1": 53.333333333333336
         },
         {
          "layer": "below",
          "line": {
           "color": "White",
           "width": 0.5
          },
          "type": "line",
          "x0": 105,
          "x1": 105,
          "y0": 0,
          "y1": 53.333333333333336
         },
         {
          "layer": "below",
          "line": {
           "color": "White",
           "width": 0.5
          },
          "type": "line",
          "x0": 11,
          "x1": 11,
          "y0": 29.73,
          "y1": 30.39
         },
         {
          "layer": "below",
          "line": {
           "color": "White",
           "width": 0.5
          },
          "type": "line",
          "x0": 11,
          "x1": 11,
          "y0": 22.91,
          "y1": 23.57
         },
         {
          "layer": "below",
          "line": {
           "color": "White",
           "width": 0.5
          },
          "type": "line",
          "x0": 11,
          "x1": 11,
          "y0": 0,
          "y1": 0.5
         },
         {
          "layer": "below",
          "line": {
           "color": "White",
           "width": 0.5
          },
          "type": "line",
          "x0": 11,
          "x1": 11,
          "y0": 52.5,
          "y1": 53
         },
         {
          "layer": "below",
          "line": {
           "color": "White",
           "width": 0.5
          },
          "type": "line",
          "x0": 12,
          "x1": 12,
          "y0": 29.73,
          "y1": 30.39
         },
         {
          "layer": "below",
          "line": {
           "color": "White",
           "width": 0.5
          },
          "type": "line",
          "x0": 12,
          "x1": 12,
          "y0": 22.91,
          "y1": 23.57
         },
         {
          "layer": "below",
          "line": {
           "color": "White",
           "width": 0.5
          },
          "type": "line",
          "x0": 12,
          "x1": 12,
          "y0": 0,
          "y1": 0.5
         },
         {
          "layer": "below",
          "line": {
           "color": "White",
           "width": 0.5
          },
          "type": "line",
          "x0": 12,
          "x1": 12,
          "y0": 52.5,
          "y1": 53
         },
         {
          "layer": "below",
          "line": {
           "color": "White",
           "width": 0.5
          },
          "type": "line",
          "x0": 13,
          "x1": 13,
          "y0": 29.73,
          "y1": 30.39
         },
         {
          "layer": "below",
          "line": {
           "color": "White",
           "width": 0.5
          },
          "type": "line",
          "x0": 13,
          "x1": 13,
          "y0": 22.91,
          "y1": 23.57
         },
         {
          "layer": "below",
          "line": {
           "color": "White",
           "width": 0.5
          },
          "type": "line",
          "x0": 13,
          "x1": 13,
          "y0": 0,
          "y1": 0.5
         },
         {
          "layer": "below",
          "line": {
           "color": "White",
           "width": 0.5
          },
          "type": "line",
          "x0": 13,
          "x1": 13,
          "y0": 52.5,
          "y1": 53
         },
         {
          "layer": "below",
          "line": {
           "color": "White",
           "width": 0.5
          },
          "type": "line",
          "x0": 14,
          "x1": 14,
          "y0": 29.73,
          "y1": 30.39
         },
         {
          "layer": "below",
          "line": {
           "color": "White",
           "width": 0.5
          },
          "type": "line",
          "x0": 14,
          "x1": 14,
          "y0": 22.91,
          "y1": 23.57
         },
         {
          "layer": "below",
          "line": {
           "color": "White",
           "width": 0.5
          },
          "type": "line",
          "x0": 14,
          "x1": 14,
          "y0": 0,
          "y1": 0.5
         },
         {
          "layer": "below",
          "line": {
           "color": "White",
           "width": 0.5
          },
          "type": "line",
          "x0": 14,
          "x1": 14,
          "y0": 52.5,
          "y1": 53
         },
         {
          "layer": "below",
          "line": {
           "color": "White",
           "width": 0.5
          },
          "type": "line",
          "x0": 15,
          "x1": 15,
          "y0": 29.73,
          "y1": 30.39
         },
         {
          "layer": "below",
          "line": {
           "color": "White",
           "width": 0.5
          },
          "type": "line",
          "x0": 15,
          "x1": 15,
          "y0": 22.91,
          "y1": 23.57
         },
         {
          "layer": "below",
          "line": {
           "color": "White",
           "width": 0.5
          },
          "type": "line",
          "x0": 15,
          "x1": 15,
          "y0": 0,
          "y1": 0.5
         },
         {
          "layer": "below",
          "line": {
           "color": "White",
           "width": 0.5
          },
          "type": "line",
          "x0": 15,
          "x1": 15,
          "y0": 52.5,
          "y1": 53
         },
         {
          "layer": "below",
          "line": {
           "color": "White",
           "width": 0.5
          },
          "type": "line",
          "x0": 16,
          "x1": 16,
          "y0": 29.73,
          "y1": 30.39
         },
         {
          "layer": "below",
          "line": {
           "color": "White",
           "width": 0.5
          },
          "type": "line",
          "x0": 16,
          "x1": 16,
          "y0": 22.91,
          "y1": 23.57
         },
         {
          "layer": "below",
          "line": {
           "color": "White",
           "width": 0.5
          },
          "type": "line",
          "x0": 16,
          "x1": 16,
          "y0": 0,
          "y1": 0.5
         },
         {
          "layer": "below",
          "line": {
           "color": "White",
           "width": 0.5
          },
          "type": "line",
          "x0": 16,
          "x1": 16,
          "y0": 52.5,
          "y1": 53
         },
         {
          "layer": "below",
          "line": {
           "color": "White",
           "width": 0.5
          },
          "type": "line",
          "x0": 17,
          "x1": 17,
          "y0": 29.73,
          "y1": 30.39
         },
         {
          "layer": "below",
          "line": {
           "color": "White",
           "width": 0.5
          },
          "type": "line",
          "x0": 17,
          "x1": 17,
          "y0": 22.91,
          "y1": 23.57
         },
         {
          "layer": "below",
          "line": {
           "color": "White",
           "width": 0.5
          },
          "type": "line",
          "x0": 17,
          "x1": 17,
          "y0": 0,
          "y1": 0.5
         },
         {
          "layer": "below",
          "line": {
           "color": "White",
           "width": 0.5
          },
          "type": "line",
          "x0": 17,
          "x1": 17,
          "y0": 52.5,
          "y1": 53
         },
         {
          "layer": "below",
          "line": {
           "color": "White",
           "width": 0.5
          },
          "type": "line",
          "x0": 18,
          "x1": 18,
          "y0": 29.73,
          "y1": 30.39
         },
         {
          "layer": "below",
          "line": {
           "color": "White",
           "width": 0.5
          },
          "type": "line",
          "x0": 18,
          "x1": 18,
          "y0": 22.91,
          "y1": 23.57
         },
         {
          "layer": "below",
          "line": {
           "color": "White",
           "width": 0.5
          },
          "type": "line",
          "x0": 18,
          "x1": 18,
          "y0": 0,
          "y1": 0.5
         },
         {
          "layer": "below",
          "line": {
           "color": "White",
           "width": 0.5
          },
          "type": "line",
          "x0": 18,
          "x1": 18,
          "y0": 52.5,
          "y1": 53
         },
         {
          "layer": "below",
          "line": {
           "color": "White",
           "width": 0.5
          },
          "type": "line",
          "x0": 19,
          "x1": 19,
          "y0": 29.73,
          "y1": 30.39
         },
         {
          "layer": "below",
          "line": {
           "color": "White",
           "width": 0.5
          },
          "type": "line",
          "x0": 19,
          "x1": 19,
          "y0": 22.91,
          "y1": 23.57
         },
         {
          "layer": "below",
          "line": {
           "color": "White",
           "width": 0.5
          },
          "type": "line",
          "x0": 19,
          "x1": 19,
          "y0": 0,
          "y1": 0.5
         },
         {
          "layer": "below",
          "line": {
           "color": "White",
           "width": 0.5
          },
          "type": "line",
          "x0": 19,
          "x1": 19,
          "y0": 52.5,
          "y1": 53
         },
         {
          "layer": "below",
          "line": {
           "color": "White",
           "width": 0.5
          },
          "type": "line",
          "x0": 20,
          "x1": 20,
          "y0": 29.73,
          "y1": 30.39
         },
         {
          "layer": "below",
          "line": {
           "color": "White",
           "width": 0.5
          },
          "type": "line",
          "x0": 20,
          "x1": 20,
          "y0": 22.91,
          "y1": 23.57
         },
         {
          "layer": "below",
          "line": {
           "color": "White",
           "width": 0.5
          },
          "type": "line",
          "x0": 20,
          "x1": 20,
          "y0": 0,
          "y1": 0.5
         },
         {
          "layer": "below",
          "line": {
           "color": "White",
           "width": 0.5
          },
          "type": "line",
          "x0": 20,
          "x1": 20,
          "y0": 52.5,
          "y1": 53
         },
         {
          "layer": "below",
          "line": {
           "color": "White",
           "width": 0.5
          },
          "type": "line",
          "x0": 21,
          "x1": 21,
          "y0": 29.73,
          "y1": 30.39
         },
         {
          "layer": "below",
          "line": {
           "color": "White",
           "width": 0.5
          },
          "type": "line",
          "x0": 21,
          "x1": 21,
          "y0": 22.91,
          "y1": 23.57
         },
         {
          "layer": "below",
          "line": {
           "color": "White",
           "width": 0.5
          },
          "type": "line",
          "x0": 21,
          "x1": 21,
          "y0": 0,
          "y1": 0.5
         },
         {
          "layer": "below",
          "line": {
           "color": "White",
           "width": 0.5
          },
          "type": "line",
          "x0": 21,
          "x1": 21,
          "y0": 52.5,
          "y1": 53
         },
         {
          "layer": "below",
          "line": {
           "color": "White",
           "width": 0.5
          },
          "type": "line",
          "x0": 22,
          "x1": 22,
          "y0": 29.73,
          "y1": 30.39
         },
         {
          "layer": "below",
          "line": {
           "color": "White",
           "width": 0.5
          },
          "type": "line",
          "x0": 22,
          "x1": 22,
          "y0": 22.91,
          "y1": 23.57
         },
         {
          "layer": "below",
          "line": {
           "color": "White",
           "width": 0.5
          },
          "type": "line",
          "x0": 22,
          "x1": 22,
          "y0": 0,
          "y1": 0.5
         },
         {
          "layer": "below",
          "line": {
           "color": "White",
           "width": 0.5
          },
          "type": "line",
          "x0": 22,
          "x1": 22,
          "y0": 52.5,
          "y1": 53
         },
         {
          "layer": "below",
          "line": {
           "color": "White",
           "width": 0.5
          },
          "type": "line",
          "x0": 23,
          "x1": 23,
          "y0": 29.73,
          "y1": 30.39
         },
         {
          "layer": "below",
          "line": {
           "color": "White",
           "width": 0.5
          },
          "type": "line",
          "x0": 23,
          "x1": 23,
          "y0": 22.91,
          "y1": 23.57
         },
         {
          "layer": "below",
          "line": {
           "color": "White",
           "width": 0.5
          },
          "type": "line",
          "x0": 23,
          "x1": 23,
          "y0": 0,
          "y1": 0.5
         },
         {
          "layer": "below",
          "line": {
           "color": "White",
           "width": 0.5
          },
          "type": "line",
          "x0": 23,
          "x1": 23,
          "y0": 52.5,
          "y1": 53
         },
         {
          "layer": "below",
          "line": {
           "color": "White",
           "width": 0.5
          },
          "type": "line",
          "x0": 24,
          "x1": 24,
          "y0": 29.73,
          "y1": 30.39
         },
         {
          "layer": "below",
          "line": {
           "color": "White",
           "width": 0.5
          },
          "type": "line",
          "x0": 24,
          "x1": 24,
          "y0": 22.91,
          "y1": 23.57
         },
         {
          "layer": "below",
          "line": {
           "color": "White",
           "width": 0.5
          },
          "type": "line",
          "x0": 24,
          "x1": 24,
          "y0": 0,
          "y1": 0.5
         },
         {
          "layer": "below",
          "line": {
           "color": "White",
           "width": 0.5
          },
          "type": "line",
          "x0": 24,
          "x1": 24,
          "y0": 52.5,
          "y1": 53
         },
         {
          "layer": "below",
          "line": {
           "color": "White",
           "width": 0.5
          },
          "type": "line",
          "x0": 25,
          "x1": 25,
          "y0": 29.73,
          "y1": 30.39
         },
         {
          "layer": "below",
          "line": {
           "color": "White",
           "width": 0.5
          },
          "type": "line",
          "x0": 25,
          "x1": 25,
          "y0": 22.91,
          "y1": 23.57
         },
         {
          "layer": "below",
          "line": {
           "color": "White",
           "width": 0.5
          },
          "type": "line",
          "x0": 25,
          "x1": 25,
          "y0": 0,
          "y1": 0.5
         },
         {
          "layer": "below",
          "line": {
           "color": "White",
           "width": 0.5
          },
          "type": "line",
          "x0": 25,
          "x1": 25,
          "y0": 52.5,
          "y1": 53
         },
         {
          "layer": "below",
          "line": {
           "color": "White",
           "width": 0.5
          },
          "type": "line",
          "x0": 26,
          "x1": 26,
          "y0": 29.73,
          "y1": 30.39
         },
         {
          "layer": "below",
          "line": {
           "color": "White",
           "width": 0.5
          },
          "type": "line",
          "x0": 26,
          "x1": 26,
          "y0": 22.91,
          "y1": 23.57
         },
         {
          "layer": "below",
          "line": {
           "color": "White",
           "width": 0.5
          },
          "type": "line",
          "x0": 26,
          "x1": 26,
          "y0": 0,
          "y1": 0.5
         },
         {
          "layer": "below",
          "line": {
           "color": "White",
           "width": 0.5
          },
          "type": "line",
          "x0": 26,
          "x1": 26,
          "y0": 52.5,
          "y1": 53
         },
         {
          "layer": "below",
          "line": {
           "color": "White",
           "width": 0.5
          },
          "type": "line",
          "x0": 27,
          "x1": 27,
          "y0": 29.73,
          "y1": 30.39
         },
         {
          "layer": "below",
          "line": {
           "color": "White",
           "width": 0.5
          },
          "type": "line",
          "x0": 27,
          "x1": 27,
          "y0": 22.91,
          "y1": 23.57
         },
         {
          "layer": "below",
          "line": {
           "color": "White",
           "width": 0.5
          },
          "type": "line",
          "x0": 27,
          "x1": 27,
          "y0": 0,
          "y1": 0.5
         },
         {
          "layer": "below",
          "line": {
           "color": "White",
           "width": 0.5
          },
          "type": "line",
          "x0": 27,
          "x1": 27,
          "y0": 52.5,
          "y1": 53
         },
         {
          "layer": "below",
          "line": {
           "color": "White",
           "width": 0.5
          },
          "type": "line",
          "x0": 28,
          "x1": 28,
          "y0": 29.73,
          "y1": 30.39
         },
         {
          "layer": "below",
          "line": {
           "color": "White",
           "width": 0.5
          },
          "type": "line",
          "x0": 28,
          "x1": 28,
          "y0": 22.91,
          "y1": 23.57
         },
         {
          "layer": "below",
          "line": {
           "color": "White",
           "width": 0.5
          },
          "type": "line",
          "x0": 28,
          "x1": 28,
          "y0": 0,
          "y1": 0.5
         },
         {
          "layer": "below",
          "line": {
           "color": "White",
           "width": 0.5
          },
          "type": "line",
          "x0": 28,
          "x1": 28,
          "y0": 52.5,
          "y1": 53
         },
         {
          "layer": "below",
          "line": {
           "color": "White",
           "width": 0.5
          },
          "type": "line",
          "x0": 29,
          "x1": 29,
          "y0": 29.73,
          "y1": 30.39
         },
         {
          "layer": "below",
          "line": {
           "color": "White",
           "width": 0.5
          },
          "type": "line",
          "x0": 29,
          "x1": 29,
          "y0": 22.91,
          "y1": 23.57
         },
         {
          "layer": "below",
          "line": {
           "color": "White",
           "width": 0.5
          },
          "type": "line",
          "x0": 29,
          "x1": 29,
          "y0": 0,
          "y1": 0.5
         },
         {
          "layer": "below",
          "line": {
           "color": "White",
           "width": 0.5
          },
          "type": "line",
          "x0": 29,
          "x1": 29,
          "y0": 52.5,
          "y1": 53
         },
         {
          "layer": "below",
          "line": {
           "color": "White",
           "width": 0.5
          },
          "type": "line",
          "x0": 30,
          "x1": 30,
          "y0": 29.73,
          "y1": 30.39
         },
         {
          "layer": "below",
          "line": {
           "color": "White",
           "width": 0.5
          },
          "type": "line",
          "x0": 30,
          "x1": 30,
          "y0": 22.91,
          "y1": 23.57
         },
         {
          "layer": "below",
          "line": {
           "color": "White",
           "width": 0.5
          },
          "type": "line",
          "x0": 30,
          "x1": 30,
          "y0": 0,
          "y1": 0.5
         },
         {
          "layer": "below",
          "line": {
           "color": "White",
           "width": 0.5
          },
          "type": "line",
          "x0": 30,
          "x1": 30,
          "y0": 52.5,
          "y1": 53
         },
         {
          "layer": "below",
          "line": {
           "color": "White",
           "width": 0.5
          },
          "type": "line",
          "x0": 31,
          "x1": 31,
          "y0": 29.73,
          "y1": 30.39
         },
         {
          "layer": "below",
          "line": {
           "color": "White",
           "width": 0.5
          },
          "type": "line",
          "x0": 31,
          "x1": 31,
          "y0": 22.91,
          "y1": 23.57
         },
         {
          "layer": "below",
          "line": {
           "color": "White",
           "width": 0.5
          },
          "type": "line",
          "x0": 31,
          "x1": 31,
          "y0": 0,
          "y1": 0.5
         },
         {
          "layer": "below",
          "line": {
           "color": "White",
           "width": 0.5
          },
          "type": "line",
          "x0": 31,
          "x1": 31,
          "y0": 52.5,
          "y1": 53
         },
         {
          "layer": "below",
          "line": {
           "color": "White",
           "width": 0.5
          },
          "type": "line",
          "x0": 32,
          "x1": 32,
          "y0": 29.73,
          "y1": 30.39
         },
         {
          "layer": "below",
          "line": {
           "color": "White",
           "width": 0.5
          },
          "type": "line",
          "x0": 32,
          "x1": 32,
          "y0": 22.91,
          "y1": 23.57
         },
         {
          "layer": "below",
          "line": {
           "color": "White",
           "width": 0.5
          },
          "type": "line",
          "x0": 32,
          "x1": 32,
          "y0": 0,
          "y1": 0.5
         },
         {
          "layer": "below",
          "line": {
           "color": "White",
           "width": 0.5
          },
          "type": "line",
          "x0": 32,
          "x1": 32,
          "y0": 52.5,
          "y1": 53
         },
         {
          "layer": "below",
          "line": {
           "color": "White",
           "width": 0.5
          },
          "type": "line",
          "x0": 33,
          "x1": 33,
          "y0": 29.73,
          "y1": 30.39
         },
         {
          "layer": "below",
          "line": {
           "color": "White",
           "width": 0.5
          },
          "type": "line",
          "x0": 33,
          "x1": 33,
          "y0": 22.91,
          "y1": 23.57
         },
         {
          "layer": "below",
          "line": {
           "color": "White",
           "width": 0.5
          },
          "type": "line",
          "x0": 33,
          "x1": 33,
          "y0": 0,
          "y1": 0.5
         },
         {
          "layer": "below",
          "line": {
           "color": "White",
           "width": 0.5
          },
          "type": "line",
          "x0": 33,
          "x1": 33,
          "y0": 52.5,
          "y1": 53
         },
         {
          "layer": "below",
          "line": {
           "color": "White",
           "width": 0.5
          },
          "type": "line",
          "x0": 34,
          "x1": 34,
          "y0": 29.73,
          "y1": 30.39
         },
         {
          "layer": "below",
          "line": {
           "color": "White",
           "width": 0.5
          },
          "type": "line",
          "x0": 34,
          "x1": 34,
          "y0": 22.91,
          "y1": 23.57
         },
         {
          "layer": "below",
          "line": {
           "color": "White",
           "width": 0.5
          },
          "type": "line",
          "x0": 34,
          "x1": 34,
          "y0": 0,
          "y1": 0.5
         },
         {
          "layer": "below",
          "line": {
           "color": "White",
           "width": 0.5
          },
          "type": "line",
          "x0": 34,
          "x1": 34,
          "y0": 52.5,
          "y1": 53
         },
         {
          "layer": "below",
          "line": {
           "color": "White",
           "width": 0.5
          },
          "type": "line",
          "x0": 35,
          "x1": 35,
          "y0": 29.73,
          "y1": 30.39
         },
         {
          "layer": "below",
          "line": {
           "color": "White",
           "width": 0.5
          },
          "type": "line",
          "x0": 35,
          "x1": 35,
          "y0": 22.91,
          "y1": 23.57
         },
         {
          "layer": "below",
          "line": {
           "color": "White",
           "width": 0.5
          },
          "type": "line",
          "x0": 35,
          "x1": 35,
          "y0": 0,
          "y1": 0.5
         },
         {
          "layer": "below",
          "line": {
           "color": "White",
           "width": 0.5
          },
          "type": "line",
          "x0": 35,
          "x1": 35,
          "y0": 52.5,
          "y1": 53
         },
         {
          "layer": "below",
          "line": {
           "color": "White",
           "width": 0.5
          },
          "type": "line",
          "x0": 36,
          "x1": 36,
          "y0": 29.73,
          "y1": 30.39
         },
         {
          "layer": "below",
          "line": {
           "color": "White",
           "width": 0.5
          },
          "type": "line",
          "x0": 36,
          "x1": 36,
          "y0": 22.91,
          "y1": 23.57
         },
         {
          "layer": "below",
          "line": {
           "color": "White",
           "width": 0.5
          },
          "type": "line",
          "x0": 36,
          "x1": 36,
          "y0": 0,
          "y1": 0.5
         },
         {
          "layer": "below",
          "line": {
           "color": "White",
           "width": 0.5
          },
          "type": "line",
          "x0": 36,
          "x1": 36,
          "y0": 52.5,
          "y1": 53
         },
         {
          "layer": "below",
          "line": {
           "color": "White",
           "width": 0.5
          },
          "type": "line",
          "x0": 37,
          "x1": 37,
          "y0": 29.73,
          "y1": 30.39
         },
         {
          "layer": "below",
          "line": {
           "color": "White",
           "width": 0.5
          },
          "type": "line",
          "x0": 37,
          "x1": 37,
          "y0": 22.91,
          "y1": 23.57
         },
         {
          "layer": "below",
          "line": {
           "color": "White",
           "width": 0.5
          },
          "type": "line",
          "x0": 37,
          "x1": 37,
          "y0": 0,
          "y1": 0.5
         },
         {
          "layer": "below",
          "line": {
           "color": "White",
           "width": 0.5
          },
          "type": "line",
          "x0": 37,
          "x1": 37,
          "y0": 52.5,
          "y1": 53
         },
         {
          "layer": "below",
          "line": {
           "color": "White",
           "width": 0.5
          },
          "type": "line",
          "x0": 38,
          "x1": 38,
          "y0": 29.73,
          "y1": 30.39
         },
         {
          "layer": "below",
          "line": {
           "color": "White",
           "width": 0.5
          },
          "type": "line",
          "x0": 38,
          "x1": 38,
          "y0": 22.91,
          "y1": 23.57
         },
         {
          "layer": "below",
          "line": {
           "color": "White",
           "width": 0.5
          },
          "type": "line",
          "x0": 38,
          "x1": 38,
          "y0": 0,
          "y1": 0.5
         },
         {
          "layer": "below",
          "line": {
           "color": "White",
           "width": 0.5
          },
          "type": "line",
          "x0": 38,
          "x1": 38,
          "y0": 52.5,
          "y1": 53
         },
         {
          "layer": "below",
          "line": {
           "color": "White",
           "width": 0.5
          },
          "type": "line",
          "x0": 39,
          "x1": 39,
          "y0": 29.73,
          "y1": 30.39
         },
         {
          "layer": "below",
          "line": {
           "color": "White",
           "width": 0.5
          },
          "type": "line",
          "x0": 39,
          "x1": 39,
          "y0": 22.91,
          "y1": 23.57
         },
         {
          "layer": "below",
          "line": {
           "color": "White",
           "width": 0.5
          },
          "type": "line",
          "x0": 39,
          "x1": 39,
          "y0": 0,
          "y1": 0.5
         },
         {
          "layer": "below",
          "line": {
           "color": "White",
           "width": 0.5
          },
          "type": "line",
          "x0": 39,
          "x1": 39,
          "y0": 52.5,
          "y1": 53
         },
         {
          "layer": "below",
          "line": {
           "color": "White",
           "width": 0.5
          },
          "type": "line",
          "x0": 40,
          "x1": 40,
          "y0": 29.73,
          "y1": 30.39
         },
         {
          "layer": "below",
          "line": {
           "color": "White",
           "width": 0.5
          },
          "type": "line",
          "x0": 40,
          "x1": 40,
          "y0": 22.91,
          "y1": 23.57
         },
         {
          "layer": "below",
          "line": {
           "color": "White",
           "width": 0.5
          },
          "type": "line",
          "x0": 40,
          "x1": 40,
          "y0": 0,
          "y1": 0.5
         },
         {
          "layer": "below",
          "line": {
           "color": "White",
           "width": 0.5
          },
          "type": "line",
          "x0": 40,
          "x1": 40,
          "y0": 52.5,
          "y1": 53
         },
         {
          "layer": "below",
          "line": {
           "color": "White",
           "width": 0.5
          },
          "type": "line",
          "x0": 41,
          "x1": 41,
          "y0": 29.73,
          "y1": 30.39
         },
         {
          "layer": "below",
          "line": {
           "color": "White",
           "width": 0.5
          },
          "type": "line",
          "x0": 41,
          "x1": 41,
          "y0": 22.91,
          "y1": 23.57
         },
         {
          "layer": "below",
          "line": {
           "color": "White",
           "width": 0.5
          },
          "type": "line",
          "x0": 41,
          "x1": 41,
          "y0": 0,
          "y1": 0.5
         },
         {
          "layer": "below",
          "line": {
           "color": "White",
           "width": 0.5
          },
          "type": "line",
          "x0": 41,
          "x1": 41,
          "y0": 52.5,
          "y1": 53
         },
         {
          "layer": "below",
          "line": {
           "color": "White",
           "width": 0.5
          },
          "type": "line",
          "x0": 42,
          "x1": 42,
          "y0": 29.73,
          "y1": 30.39
         },
         {
          "layer": "below",
          "line": {
           "color": "White",
           "width": 0.5
          },
          "type": "line",
          "x0": 42,
          "x1": 42,
          "y0": 22.91,
          "y1": 23.57
         },
         {
          "layer": "below",
          "line": {
           "color": "White",
           "width": 0.5
          },
          "type": "line",
          "x0": 42,
          "x1": 42,
          "y0": 0,
          "y1": 0.5
         },
         {
          "layer": "below",
          "line": {
           "color": "White",
           "width": 0.5
          },
          "type": "line",
          "x0": 42,
          "x1": 42,
          "y0": 52.5,
          "y1": 53
         },
         {
          "layer": "below",
          "line": {
           "color": "White",
           "width": 0.5
          },
          "type": "line",
          "x0": 43,
          "x1": 43,
          "y0": 29.73,
          "y1": 30.39
         },
         {
          "layer": "below",
          "line": {
           "color": "White",
           "width": 0.5
          },
          "type": "line",
          "x0": 43,
          "x1": 43,
          "y0": 22.91,
          "y1": 23.57
         },
         {
          "layer": "below",
          "line": {
           "color": "White",
           "width": 0.5
          },
          "type": "line",
          "x0": 43,
          "x1": 43,
          "y0": 0,
          "y1": 0.5
         },
         {
          "layer": "below",
          "line": {
           "color": "White",
           "width": 0.5
          },
          "type": "line",
          "x0": 43,
          "x1": 43,
          "y0": 52.5,
          "y1": 53
         },
         {
          "layer": "below",
          "line": {
           "color": "White",
           "width": 0.5
          },
          "type": "line",
          "x0": 44,
          "x1": 44,
          "y0": 29.73,
          "y1": 30.39
         },
         {
          "layer": "below",
          "line": {
           "color": "White",
           "width": 0.5
          },
          "type": "line",
          "x0": 44,
          "x1": 44,
          "y0": 22.91,
          "y1": 23.57
         },
         {
          "layer": "below",
          "line": {
           "color": "White",
           "width": 0.5
          },
          "type": "line",
          "x0": 44,
          "x1": 44,
          "y0": 0,
          "y1": 0.5
         },
         {
          "layer": "below",
          "line": {
           "color": "White",
           "width": 0.5
          },
          "type": "line",
          "x0": 44,
          "x1": 44,
          "y0": 52.5,
          "y1": 53
         },
         {
          "layer": "below",
          "line": {
           "color": "White",
           "width": 0.5
          },
          "type": "line",
          "x0": 45,
          "x1": 45,
          "y0": 29.73,
          "y1": 30.39
         },
         {
          "layer": "below",
          "line": {
           "color": "White",
           "width": 0.5
          },
          "type": "line",
          "x0": 45,
          "x1": 45,
          "y0": 22.91,
          "y1": 23.57
         },
         {
          "layer": "below",
          "line": {
           "color": "White",
           "width": 0.5
          },
          "type": "line",
          "x0": 45,
          "x1": 45,
          "y0": 0,
          "y1": 0.5
         },
         {
          "layer": "below",
          "line": {
           "color": "White",
           "width": 0.5
          },
          "type": "line",
          "x0": 45,
          "x1": 45,
          "y0": 52.5,
          "y1": 53
         },
         {
          "layer": "below",
          "line": {
           "color": "White",
           "width": 0.5
          },
          "type": "line",
          "x0": 46,
          "x1": 46,
          "y0": 29.73,
          "y1": 30.39
         },
         {
          "layer": "below",
          "line": {
           "color": "White",
           "width": 0.5
          },
          "type": "line",
          "x0": 46,
          "x1": 46,
          "y0": 22.91,
          "y1": 23.57
         },
         {
          "layer": "below",
          "line": {
           "color": "White",
           "width": 0.5
          },
          "type": "line",
          "x0": 46,
          "x1": 46,
          "y0": 0,
          "y1": 0.5
         },
         {
          "layer": "below",
          "line": {
           "color": "White",
           "width": 0.5
          },
          "type": "line",
          "x0": 46,
          "x1": 46,
          "y0": 52.5,
          "y1": 53
         },
         {
          "layer": "below",
          "line": {
           "color": "White",
           "width": 0.5
          },
          "type": "line",
          "x0": 47,
          "x1": 47,
          "y0": 29.73,
          "y1": 30.39
         },
         {
          "layer": "below",
          "line": {
           "color": "White",
           "width": 0.5
          },
          "type": "line",
          "x0": 47,
          "x1": 47,
          "y0": 22.91,
          "y1": 23.57
         },
         {
          "layer": "below",
          "line": {
           "color": "White",
           "width": 0.5
          },
          "type": "line",
          "x0": 47,
          "x1": 47,
          "y0": 0,
          "y1": 0.5
         },
         {
          "layer": "below",
          "line": {
           "color": "White",
           "width": 0.5
          },
          "type": "line",
          "x0": 47,
          "x1": 47,
          "y0": 52.5,
          "y1": 53
         },
         {
          "layer": "below",
          "line": {
           "color": "White",
           "width": 0.5
          },
          "type": "line",
          "x0": 48,
          "x1": 48,
          "y0": 29.73,
          "y1": 30.39
         },
         {
          "layer": "below",
          "line": {
           "color": "White",
           "width": 0.5
          },
          "type": "line",
          "x0": 48,
          "x1": 48,
          "y0": 22.91,
          "y1": 23.57
         },
         {
          "layer": "below",
          "line": {
           "color": "White",
           "width": 0.5
          },
          "type": "line",
          "x0": 48,
          "x1": 48,
          "y0": 0,
          "y1": 0.5
         },
         {
          "layer": "below",
          "line": {
           "color": "White",
           "width": 0.5
          },
          "type": "line",
          "x0": 48,
          "x1": 48,
          "y0": 52.5,
          "y1": 53
         },
         {
          "layer": "below",
          "line": {
           "color": "White",
           "width": 0.5
          },
          "type": "line",
          "x0": 49,
          "x1": 49,
          "y0": 29.73,
          "y1": 30.39
         },
         {
          "layer": "below",
          "line": {
           "color": "White",
           "width": 0.5
          },
          "type": "line",
          "x0": 49,
          "x1": 49,
          "y0": 22.91,
          "y1": 23.57
         },
         {
          "layer": "below",
          "line": {
           "color": "White",
           "width": 0.5
          },
          "type": "line",
          "x0": 49,
          "x1": 49,
          "y0": 0,
          "y1": 0.5
         },
         {
          "layer": "below",
          "line": {
           "color": "White",
           "width": 0.5
          },
          "type": "line",
          "x0": 49,
          "x1": 49,
          "y0": 52.5,
          "y1": 53
         },
         {
          "layer": "below",
          "line": {
           "color": "White",
           "width": 0.5
          },
          "type": "line",
          "x0": 50,
          "x1": 50,
          "y0": 29.73,
          "y1": 30.39
         },
         {
          "layer": "below",
          "line": {
           "color": "White",
           "width": 0.5
          },
          "type": "line",
          "x0": 50,
          "x1": 50,
          "y0": 22.91,
          "y1": 23.57
         },
         {
          "layer": "below",
          "line": {
           "color": "White",
           "width": 0.5
          },
          "type": "line",
          "x0": 50,
          "x1": 50,
          "y0": 0,
          "y1": 0.5
         },
         {
          "layer": "below",
          "line": {
           "color": "White",
           "width": 0.5
          },
          "type": "line",
          "x0": 50,
          "x1": 50,
          "y0": 52.5,
          "y1": 53
         },
         {
          "layer": "below",
          "line": {
           "color": "White",
           "width": 0.5
          },
          "type": "line",
          "x0": 51,
          "x1": 51,
          "y0": 29.73,
          "y1": 30.39
         },
         {
          "layer": "below",
          "line": {
           "color": "White",
           "width": 0.5
          },
          "type": "line",
          "x0": 51,
          "x1": 51,
          "y0": 22.91,
          "y1": 23.57
         },
         {
          "layer": "below",
          "line": {
           "color": "White",
           "width": 0.5
          },
          "type": "line",
          "x0": 51,
          "x1": 51,
          "y0": 0,
          "y1": 0.5
         },
         {
          "layer": "below",
          "line": {
           "color": "White",
           "width": 0.5
          },
          "type": "line",
          "x0": 51,
          "x1": 51,
          "y0": 52.5,
          "y1": 53
         },
         {
          "layer": "below",
          "line": {
           "color": "White",
           "width": 0.5
          },
          "type": "line",
          "x0": 52,
          "x1": 52,
          "y0": 29.73,
          "y1": 30.39
         },
         {
          "layer": "below",
          "line": {
           "color": "White",
           "width": 0.5
          },
          "type": "line",
          "x0": 52,
          "x1": 52,
          "y0": 22.91,
          "y1": 23.57
         },
         {
          "layer": "below",
          "line": {
           "color": "White",
           "width": 0.5
          },
          "type": "line",
          "x0": 52,
          "x1": 52,
          "y0": 0,
          "y1": 0.5
         },
         {
          "layer": "below",
          "line": {
           "color": "White",
           "width": 0.5
          },
          "type": "line",
          "x0": 52,
          "x1": 52,
          "y0": 52.5,
          "y1": 53
         },
         {
          "layer": "below",
          "line": {
           "color": "White",
           "width": 0.5
          },
          "type": "line",
          "x0": 53,
          "x1": 53,
          "y0": 29.73,
          "y1": 30.39
         },
         {
          "layer": "below",
          "line": {
           "color": "White",
           "width": 0.5
          },
          "type": "line",
          "x0": 53,
          "x1": 53,
          "y0": 22.91,
          "y1": 23.57
         },
         {
          "layer": "below",
          "line": {
           "color": "White",
           "width": 0.5
          },
          "type": "line",
          "x0": 53,
          "x1": 53,
          "y0": 0,
          "y1": 0.5
         },
         {
          "layer": "below",
          "line": {
           "color": "White",
           "width": 0.5
          },
          "type": "line",
          "x0": 53,
          "x1": 53,
          "y0": 52.5,
          "y1": 53
         },
         {
          "layer": "below",
          "line": {
           "color": "White",
           "width": 0.5
          },
          "type": "line",
          "x0": 54,
          "x1": 54,
          "y0": 29.73,
          "y1": 30.39
         },
         {
          "layer": "below",
          "line": {
           "color": "White",
           "width": 0.5
          },
          "type": "line",
          "x0": 54,
          "x1": 54,
          "y0": 22.91,
          "y1": 23.57
         },
         {
          "layer": "below",
          "line": {
           "color": "White",
           "width": 0.5
          },
          "type": "line",
          "x0": 54,
          "x1": 54,
          "y0": 0,
          "y1": 0.5
         },
         {
          "layer": "below",
          "line": {
           "color": "White",
           "width": 0.5
          },
          "type": "line",
          "x0": 54,
          "x1": 54,
          "y0": 52.5,
          "y1": 53
         },
         {
          "layer": "below",
          "line": {
           "color": "White",
           "width": 0.5
          },
          "type": "line",
          "x0": 55,
          "x1": 55,
          "y0": 29.73,
          "y1": 30.39
         },
         {
          "layer": "below",
          "line": {
           "color": "White",
           "width": 0.5
          },
          "type": "line",
          "x0": 55,
          "x1": 55,
          "y0": 22.91,
          "y1": 23.57
         },
         {
          "layer": "below",
          "line": {
           "color": "White",
           "width": 0.5
          },
          "type": "line",
          "x0": 55,
          "x1": 55,
          "y0": 0,
          "y1": 0.5
         },
         {
          "layer": "below",
          "line": {
           "color": "White",
           "width": 0.5
          },
          "type": "line",
          "x0": 55,
          "x1": 55,
          "y0": 52.5,
          "y1": 53
         },
         {
          "layer": "below",
          "line": {
           "color": "White",
           "width": 0.5
          },
          "type": "line",
          "x0": 56,
          "x1": 56,
          "y0": 29.73,
          "y1": 30.39
         },
         {
          "layer": "below",
          "line": {
           "color": "White",
           "width": 0.5
          },
          "type": "line",
          "x0": 56,
          "x1": 56,
          "y0": 22.91,
          "y1": 23.57
         },
         {
          "layer": "below",
          "line": {
           "color": "White",
           "width": 0.5
          },
          "type": "line",
          "x0": 56,
          "x1": 56,
          "y0": 0,
          "y1": 0.5
         },
         {
          "layer": "below",
          "line": {
           "color": "White",
           "width": 0.5
          },
          "type": "line",
          "x0": 56,
          "x1": 56,
          "y0": 52.5,
          "y1": 53
         },
         {
          "layer": "below",
          "line": {
           "color": "White",
           "width": 0.5
          },
          "type": "line",
          "x0": 57,
          "x1": 57,
          "y0": 29.73,
          "y1": 30.39
         },
         {
          "layer": "below",
          "line": {
           "color": "White",
           "width": 0.5
          },
          "type": "line",
          "x0": 57,
          "x1": 57,
          "y0": 22.91,
          "y1": 23.57
         },
         {
          "layer": "below",
          "line": {
           "color": "White",
           "width": 0.5
          },
          "type": "line",
          "x0": 57,
          "x1": 57,
          "y0": 0,
          "y1": 0.5
         },
         {
          "layer": "below",
          "line": {
           "color": "White",
           "width": 0.5
          },
          "type": "line",
          "x0": 57,
          "x1": 57,
          "y0": 52.5,
          "y1": 53
         },
         {
          "layer": "below",
          "line": {
           "color": "White",
           "width": 0.5
          },
          "type": "line",
          "x0": 58,
          "x1": 58,
          "y0": 29.73,
          "y1": 30.39
         },
         {
          "layer": "below",
          "line": {
           "color": "White",
           "width": 0.5
          },
          "type": "line",
          "x0": 58,
          "x1": 58,
          "y0": 22.91,
          "y1": 23.57
         },
         {
          "layer": "below",
          "line": {
           "color": "White",
           "width": 0.5
          },
          "type": "line",
          "x0": 58,
          "x1": 58,
          "y0": 0,
          "y1": 0.5
         },
         {
          "layer": "below",
          "line": {
           "color": "White",
           "width": 0.5
          },
          "type": "line",
          "x0": 58,
          "x1": 58,
          "y0": 52.5,
          "y1": 53
         },
         {
          "layer": "below",
          "line": {
           "color": "White",
           "width": 0.5
          },
          "type": "line",
          "x0": 59,
          "x1": 59,
          "y0": 29.73,
          "y1": 30.39
         },
         {
          "layer": "below",
          "line": {
           "color": "White",
           "width": 0.5
          },
          "type": "line",
          "x0": 59,
          "x1": 59,
          "y0": 22.91,
          "y1": 23.57
         },
         {
          "layer": "below",
          "line": {
           "color": "White",
           "width": 0.5
          },
          "type": "line",
          "x0": 59,
          "x1": 59,
          "y0": 0,
          "y1": 0.5
         },
         {
          "layer": "below",
          "line": {
           "color": "White",
           "width": 0.5
          },
          "type": "line",
          "x0": 59,
          "x1": 59,
          "y0": 52.5,
          "y1": 53
         },
         {
          "layer": "below",
          "line": {
           "color": "White",
           "width": 0.5
          },
          "type": "line",
          "x0": 60,
          "x1": 60,
          "y0": 29.73,
          "y1": 30.39
         },
         {
          "layer": "below",
          "line": {
           "color": "White",
           "width": 0.5
          },
          "type": "line",
          "x0": 60,
          "x1": 60,
          "y0": 22.91,
          "y1": 23.57
         },
         {
          "layer": "below",
          "line": {
           "color": "White",
           "width": 0.5
          },
          "type": "line",
          "x0": 60,
          "x1": 60,
          "y0": 0,
          "y1": 0.5
         },
         {
          "layer": "below",
          "line": {
           "color": "White",
           "width": 0.5
          },
          "type": "line",
          "x0": 60,
          "x1": 60,
          "y0": 52.5,
          "y1": 53
         },
         {
          "layer": "below",
          "line": {
           "color": "White",
           "width": 0.5
          },
          "type": "line",
          "x0": 61,
          "x1": 61,
          "y0": 29.73,
          "y1": 30.39
         },
         {
          "layer": "below",
          "line": {
           "color": "White",
           "width": 0.5
          },
          "type": "line",
          "x0": 61,
          "x1": 61,
          "y0": 22.91,
          "y1": 23.57
         },
         {
          "layer": "below",
          "line": {
           "color": "White",
           "width": 0.5
          },
          "type": "line",
          "x0": 61,
          "x1": 61,
          "y0": 0,
          "y1": 0.5
         },
         {
          "layer": "below",
          "line": {
           "color": "White",
           "width": 0.5
          },
          "type": "line",
          "x0": 61,
          "x1": 61,
          "y0": 52.5,
          "y1": 53
         },
         {
          "layer": "below",
          "line": {
           "color": "White",
           "width": 0.5
          },
          "type": "line",
          "x0": 62,
          "x1": 62,
          "y0": 29.73,
          "y1": 30.39
         },
         {
          "layer": "below",
          "line": {
           "color": "White",
           "width": 0.5
          },
          "type": "line",
          "x0": 62,
          "x1": 62,
          "y0": 22.91,
          "y1": 23.57
         },
         {
          "layer": "below",
          "line": {
           "color": "White",
           "width": 0.5
          },
          "type": "line",
          "x0": 62,
          "x1": 62,
          "y0": 0,
          "y1": 0.5
         },
         {
          "layer": "below",
          "line": {
           "color": "White",
           "width": 0.5
          },
          "type": "line",
          "x0": 62,
          "x1": 62,
          "y0": 52.5,
          "y1": 53
         },
         {
          "layer": "below",
          "line": {
           "color": "White",
           "width": 0.5
          },
          "type": "line",
          "x0": 63,
          "x1": 63,
          "y0": 29.73,
          "y1": 30.39
         },
         {
          "layer": "below",
          "line": {
           "color": "White",
           "width": 0.5
          },
          "type": "line",
          "x0": 63,
          "x1": 63,
          "y0": 22.91,
          "y1": 23.57
         },
         {
          "layer": "below",
          "line": {
           "color": "White",
           "width": 0.5
          },
          "type": "line",
          "x0": 63,
          "x1": 63,
          "y0": 0,
          "y1": 0.5
         },
         {
          "layer": "below",
          "line": {
           "color": "White",
           "width": 0.5
          },
          "type": "line",
          "x0": 63,
          "x1": 63,
          "y0": 52.5,
          "y1": 53
         },
         {
          "layer": "below",
          "line": {
           "color": "White",
           "width": 0.5
          },
          "type": "line",
          "x0": 64,
          "x1": 64,
          "y0": 29.73,
          "y1": 30.39
         },
         {
          "layer": "below",
          "line": {
           "color": "White",
           "width": 0.5
          },
          "type": "line",
          "x0": 64,
          "x1": 64,
          "y0": 22.91,
          "y1": 23.57
         },
         {
          "layer": "below",
          "line": {
           "color": "White",
           "width": 0.5
          },
          "type": "line",
          "x0": 64,
          "x1": 64,
          "y0": 0,
          "y1": 0.5
         },
         {
          "layer": "below",
          "line": {
           "color": "White",
           "width": 0.5
          },
          "type": "line",
          "x0": 64,
          "x1": 64,
          "y0": 52.5,
          "y1": 53
         },
         {
          "layer": "below",
          "line": {
           "color": "White",
           "width": 0.5
          },
          "type": "line",
          "x0": 65,
          "x1": 65,
          "y0": 29.73,
          "y1": 30.39
         },
         {
          "layer": "below",
          "line": {
           "color": "White",
           "width": 0.5
          },
          "type": "line",
          "x0": 65,
          "x1": 65,
          "y0": 22.91,
          "y1": 23.57
         },
         {
          "layer": "below",
          "line": {
           "color": "White",
           "width": 0.5
          },
          "type": "line",
          "x0": 65,
          "x1": 65,
          "y0": 0,
          "y1": 0.5
         },
         {
          "layer": "below",
          "line": {
           "color": "White",
           "width": 0.5
          },
          "type": "line",
          "x0": 65,
          "x1": 65,
          "y0": 52.5,
          "y1": 53
         },
         {
          "layer": "below",
          "line": {
           "color": "White",
           "width": 0.5
          },
          "type": "line",
          "x0": 66,
          "x1": 66,
          "y0": 29.73,
          "y1": 30.39
         },
         {
          "layer": "below",
          "line": {
           "color": "White",
           "width": 0.5
          },
          "type": "line",
          "x0": 66,
          "x1": 66,
          "y0": 22.91,
          "y1": 23.57
         },
         {
          "layer": "below",
          "line": {
           "color": "White",
           "width": 0.5
          },
          "type": "line",
          "x0": 66,
          "x1": 66,
          "y0": 0,
          "y1": 0.5
         },
         {
          "layer": "below",
          "line": {
           "color": "White",
           "width": 0.5
          },
          "type": "line",
          "x0": 66,
          "x1": 66,
          "y0": 52.5,
          "y1": 53
         },
         {
          "layer": "below",
          "line": {
           "color": "White",
           "width": 0.5
          },
          "type": "line",
          "x0": 67,
          "x1": 67,
          "y0": 29.73,
          "y1": 30.39
         },
         {
          "layer": "below",
          "line": {
           "color": "White",
           "width": 0.5
          },
          "type": "line",
          "x0": 67,
          "x1": 67,
          "y0": 22.91,
          "y1": 23.57
         },
         {
          "layer": "below",
          "line": {
           "color": "White",
           "width": 0.5
          },
          "type": "line",
          "x0": 67,
          "x1": 67,
          "y0": 0,
          "y1": 0.5
         },
         {
          "layer": "below",
          "line": {
           "color": "White",
           "width": 0.5
          },
          "type": "line",
          "x0": 67,
          "x1": 67,
          "y0": 52.5,
          "y1": 53
         },
         {
          "layer": "below",
          "line": {
           "color": "White",
           "width": 0.5
          },
          "type": "line",
          "x0": 68,
          "x1": 68,
          "y0": 29.73,
          "y1": 30.39
         },
         {
          "layer": "below",
          "line": {
           "color": "White",
           "width": 0.5
          },
          "type": "line",
          "x0": 68,
          "x1": 68,
          "y0": 22.91,
          "y1": 23.57
         },
         {
          "layer": "below",
          "line": {
           "color": "White",
           "width": 0.5
          },
          "type": "line",
          "x0": 68,
          "x1": 68,
          "y0": 0,
          "y1": 0.5
         },
         {
          "layer": "below",
          "line": {
           "color": "White",
           "width": 0.5
          },
          "type": "line",
          "x0": 68,
          "x1": 68,
          "y0": 52.5,
          "y1": 53
         },
         {
          "layer": "below",
          "line": {
           "color": "White",
           "width": 0.5
          },
          "type": "line",
          "x0": 69,
          "x1": 69,
          "y0": 29.73,
          "y1": 30.39
         },
         {
          "layer": "below",
          "line": {
           "color": "White",
           "width": 0.5
          },
          "type": "line",
          "x0": 69,
          "x1": 69,
          "y0": 22.91,
          "y1": 23.57
         },
         {
          "layer": "below",
          "line": {
           "color": "White",
           "width": 0.5
          },
          "type": "line",
          "x0": 69,
          "x1": 69,
          "y0": 0,
          "y1": 0.5
         },
         {
          "layer": "below",
          "line": {
           "color": "White",
           "width": 0.5
          },
          "type": "line",
          "x0": 69,
          "x1": 69,
          "y0": 52.5,
          "y1": 53
         },
         {
          "layer": "below",
          "line": {
           "color": "White",
           "width": 0.5
          },
          "type": "line",
          "x0": 70,
          "x1": 70,
          "y0": 29.73,
          "y1": 30.39
         },
         {
          "layer": "below",
          "line": {
           "color": "White",
           "width": 0.5
          },
          "type": "line",
          "x0": 70,
          "x1": 70,
          "y0": 22.91,
          "y1": 23.57
         },
         {
          "layer": "below",
          "line": {
           "color": "White",
           "width": 0.5
          },
          "type": "line",
          "x0": 70,
          "x1": 70,
          "y0": 0,
          "y1": 0.5
         },
         {
          "layer": "below",
          "line": {
           "color": "White",
           "width": 0.5
          },
          "type": "line",
          "x0": 70,
          "x1": 70,
          "y0": 52.5,
          "y1": 53
         },
         {
          "layer": "below",
          "line": {
           "color": "White",
           "width": 0.5
          },
          "type": "line",
          "x0": 71,
          "x1": 71,
          "y0": 29.73,
          "y1": 30.39
         },
         {
          "layer": "below",
          "line": {
           "color": "White",
           "width": 0.5
          },
          "type": "line",
          "x0": 71,
          "x1": 71,
          "y0": 22.91,
          "y1": 23.57
         },
         {
          "layer": "below",
          "line": {
           "color": "White",
           "width": 0.5
          },
          "type": "line",
          "x0": 71,
          "x1": 71,
          "y0": 0,
          "y1": 0.5
         },
         {
          "layer": "below",
          "line": {
           "color": "White",
           "width": 0.5
          },
          "type": "line",
          "x0": 71,
          "x1": 71,
          "y0": 52.5,
          "y1": 53
         },
         {
          "layer": "below",
          "line": {
           "color": "White",
           "width": 0.5
          },
          "type": "line",
          "x0": 72,
          "x1": 72,
          "y0": 29.73,
          "y1": 30.39
         },
         {
          "layer": "below",
          "line": {
           "color": "White",
           "width": 0.5
          },
          "type": "line",
          "x0": 72,
          "x1": 72,
          "y0": 22.91,
          "y1": 23.57
         },
         {
          "layer": "below",
          "line": {
           "color": "White",
           "width": 0.5
          },
          "type": "line",
          "x0": 72,
          "x1": 72,
          "y0": 0,
          "y1": 0.5
         },
         {
          "layer": "below",
          "line": {
           "color": "White",
           "width": 0.5
          },
          "type": "line",
          "x0": 72,
          "x1": 72,
          "y0": 52.5,
          "y1": 53
         },
         {
          "layer": "below",
          "line": {
           "color": "White",
           "width": 0.5
          },
          "type": "line",
          "x0": 73,
          "x1": 73,
          "y0": 29.73,
          "y1": 30.39
         },
         {
          "layer": "below",
          "line": {
           "color": "White",
           "width": 0.5
          },
          "type": "line",
          "x0": 73,
          "x1": 73,
          "y0": 22.91,
          "y1": 23.57
         },
         {
          "layer": "below",
          "line": {
           "color": "White",
           "width": 0.5
          },
          "type": "line",
          "x0": 73,
          "x1": 73,
          "y0": 0,
          "y1": 0.5
         },
         {
          "layer": "below",
          "line": {
           "color": "White",
           "width": 0.5
          },
          "type": "line",
          "x0": 73,
          "x1": 73,
          "y0": 52.5,
          "y1": 53
         },
         {
          "layer": "below",
          "line": {
           "color": "White",
           "width": 0.5
          },
          "type": "line",
          "x0": 74,
          "x1": 74,
          "y0": 29.73,
          "y1": 30.39
         },
         {
          "layer": "below",
          "line": {
           "color": "White",
           "width": 0.5
          },
          "type": "line",
          "x0": 74,
          "x1": 74,
          "y0": 22.91,
          "y1": 23.57
         },
         {
          "layer": "below",
          "line": {
           "color": "White",
           "width": 0.5
          },
          "type": "line",
          "x0": 74,
          "x1": 74,
          "y0": 0,
          "y1": 0.5
         },
         {
          "layer": "below",
          "line": {
           "color": "White",
           "width": 0.5
          },
          "type": "line",
          "x0": 74,
          "x1": 74,
          "y0": 52.5,
          "y1": 53
         },
         {
          "layer": "below",
          "line": {
           "color": "White",
           "width": 0.5
          },
          "type": "line",
          "x0": 75,
          "x1": 75,
          "y0": 29.73,
          "y1": 30.39
         },
         {
          "layer": "below",
          "line": {
           "color": "White",
           "width": 0.5
          },
          "type": "line",
          "x0": 75,
          "x1": 75,
          "y0": 22.91,
          "y1": 23.57
         },
         {
          "layer": "below",
          "line": {
           "color": "White",
           "width": 0.5
          },
          "type": "line",
          "x0": 75,
          "x1": 75,
          "y0": 0,
          "y1": 0.5
         },
         {
          "layer": "below",
          "line": {
           "color": "White",
           "width": 0.5
          },
          "type": "line",
          "x0": 75,
          "x1": 75,
          "y0": 52.5,
          "y1": 53
         },
         {
          "layer": "below",
          "line": {
           "color": "White",
           "width": 0.5
          },
          "type": "line",
          "x0": 76,
          "x1": 76,
          "y0": 29.73,
          "y1": 30.39
         },
         {
          "layer": "below",
          "line": {
           "color": "White",
           "width": 0.5
          },
          "type": "line",
          "x0": 76,
          "x1": 76,
          "y0": 22.91,
          "y1": 23.57
         },
         {
          "layer": "below",
          "line": {
           "color": "White",
           "width": 0.5
          },
          "type": "line",
          "x0": 76,
          "x1": 76,
          "y0": 0,
          "y1": 0.5
         },
         {
          "layer": "below",
          "line": {
           "color": "White",
           "width": 0.5
          },
          "type": "line",
          "x0": 76,
          "x1": 76,
          "y0": 52.5,
          "y1": 53
         },
         {
          "layer": "below",
          "line": {
           "color": "White",
           "width": 0.5
          },
          "type": "line",
          "x0": 77,
          "x1": 77,
          "y0": 29.73,
          "y1": 30.39
         },
         {
          "layer": "below",
          "line": {
           "color": "White",
           "width": 0.5
          },
          "type": "line",
          "x0": 77,
          "x1": 77,
          "y0": 22.91,
          "y1": 23.57
         },
         {
          "layer": "below",
          "line": {
           "color": "White",
           "width": 0.5
          },
          "type": "line",
          "x0": 77,
          "x1": 77,
          "y0": 0,
          "y1": 0.5
         },
         {
          "layer": "below",
          "line": {
           "color": "White",
           "width": 0.5
          },
          "type": "line",
          "x0": 77,
          "x1": 77,
          "y0": 52.5,
          "y1": 53
         },
         {
          "layer": "below",
          "line": {
           "color": "White",
           "width": 0.5
          },
          "type": "line",
          "x0": 78,
          "x1": 78,
          "y0": 29.73,
          "y1": 30.39
         },
         {
          "layer": "below",
          "line": {
           "color": "White",
           "width": 0.5
          },
          "type": "line",
          "x0": 78,
          "x1": 78,
          "y0": 22.91,
          "y1": 23.57
         },
         {
          "layer": "below",
          "line": {
           "color": "White",
           "width": 0.5
          },
          "type": "line",
          "x0": 78,
          "x1": 78,
          "y0": 0,
          "y1": 0.5
         },
         {
          "layer": "below",
          "line": {
           "color": "White",
           "width": 0.5
          },
          "type": "line",
          "x0": 78,
          "x1": 78,
          "y0": 52.5,
          "y1": 53
         },
         {
          "layer": "below",
          "line": {
           "color": "White",
           "width": 0.5
          },
          "type": "line",
          "x0": 79,
          "x1": 79,
          "y0": 29.73,
          "y1": 30.39
         },
         {
          "layer": "below",
          "line": {
           "color": "White",
           "width": 0.5
          },
          "type": "line",
          "x0": 79,
          "x1": 79,
          "y0": 22.91,
          "y1": 23.57
         },
         {
          "layer": "below",
          "line": {
           "color": "White",
           "width": 0.5
          },
          "type": "line",
          "x0": 79,
          "x1": 79,
          "y0": 0,
          "y1": 0.5
         },
         {
          "layer": "below",
          "line": {
           "color": "White",
           "width": 0.5
          },
          "type": "line",
          "x0": 79,
          "x1": 79,
          "y0": 52.5,
          "y1": 53
         },
         {
          "layer": "below",
          "line": {
           "color": "White",
           "width": 0.5
          },
          "type": "line",
          "x0": 80,
          "x1": 80,
          "y0": 29.73,
          "y1": 30.39
         },
         {
          "layer": "below",
          "line": {
           "color": "White",
           "width": 0.5
          },
          "type": "line",
          "x0": 80,
          "x1": 80,
          "y0": 22.91,
          "y1": 23.57
         },
         {
          "layer": "below",
          "line": {
           "color": "White",
           "width": 0.5
          },
          "type": "line",
          "x0": 80,
          "x1": 80,
          "y0": 0,
          "y1": 0.5
         },
         {
          "layer": "below",
          "line": {
           "color": "White",
           "width": 0.5
          },
          "type": "line",
          "x0": 80,
          "x1": 80,
          "y0": 52.5,
          "y1": 53
         },
         {
          "layer": "below",
          "line": {
           "color": "White",
           "width": 0.5
          },
          "type": "line",
          "x0": 81,
          "x1": 81,
          "y0": 29.73,
          "y1": 30.39
         },
         {
          "layer": "below",
          "line": {
           "color": "White",
           "width": 0.5
          },
          "type": "line",
          "x0": 81,
          "x1": 81,
          "y0": 22.91,
          "y1": 23.57
         },
         {
          "layer": "below",
          "line": {
           "color": "White",
           "width": 0.5
          },
          "type": "line",
          "x0": 81,
          "x1": 81,
          "y0": 0,
          "y1": 0.5
         },
         {
          "layer": "below",
          "line": {
           "color": "White",
           "width": 0.5
          },
          "type": "line",
          "x0": 81,
          "x1": 81,
          "y0": 52.5,
          "y1": 53
         },
         {
          "layer": "below",
          "line": {
           "color": "White",
           "width": 0.5
          },
          "type": "line",
          "x0": 82,
          "x1": 82,
          "y0": 29.73,
          "y1": 30.39
         },
         {
          "layer": "below",
          "line": {
           "color": "White",
           "width": 0.5
          },
          "type": "line",
          "x0": 82,
          "x1": 82,
          "y0": 22.91,
          "y1": 23.57
         },
         {
          "layer": "below",
          "line": {
           "color": "White",
           "width": 0.5
          },
          "type": "line",
          "x0": 82,
          "x1": 82,
          "y0": 0,
          "y1": 0.5
         },
         {
          "layer": "below",
          "line": {
           "color": "White",
           "width": 0.5
          },
          "type": "line",
          "x0": 82,
          "x1": 82,
          "y0": 52.5,
          "y1": 53
         },
         {
          "layer": "below",
          "line": {
           "color": "White",
           "width": 0.5
          },
          "type": "line",
          "x0": 83,
          "x1": 83,
          "y0": 29.73,
          "y1": 30.39
         },
         {
          "layer": "below",
          "line": {
           "color": "White",
           "width": 0.5
          },
          "type": "line",
          "x0": 83,
          "x1": 83,
          "y0": 22.91,
          "y1": 23.57
         },
         {
          "layer": "below",
          "line": {
           "color": "White",
           "width": 0.5
          },
          "type": "line",
          "x0": 83,
          "x1": 83,
          "y0": 0,
          "y1": 0.5
         },
         {
          "layer": "below",
          "line": {
           "color": "White",
           "width": 0.5
          },
          "type": "line",
          "x0": 83,
          "x1": 83,
          "y0": 52.5,
          "y1": 53
         },
         {
          "layer": "below",
          "line": {
           "color": "White",
           "width": 0.5
          },
          "type": "line",
          "x0": 84,
          "x1": 84,
          "y0": 29.73,
          "y1": 30.39
         },
         {
          "layer": "below",
          "line": {
           "color": "White",
           "width": 0.5
          },
          "type": "line",
          "x0": 84,
          "x1": 84,
          "y0": 22.91,
          "y1": 23.57
         },
         {
          "layer": "below",
          "line": {
           "color": "White",
           "width": 0.5
          },
          "type": "line",
          "x0": 84,
          "x1": 84,
          "y0": 0,
          "y1": 0.5
         },
         {
          "layer": "below",
          "line": {
           "color": "White",
           "width": 0.5
          },
          "type": "line",
          "x0": 84,
          "x1": 84,
          "y0": 52.5,
          "y1": 53
         },
         {
          "layer": "below",
          "line": {
           "color": "White",
           "width": 0.5
          },
          "type": "line",
          "x0": 85,
          "x1": 85,
          "y0": 29.73,
          "y1": 30.39
         },
         {
          "layer": "below",
          "line": {
           "color": "White",
           "width": 0.5
          },
          "type": "line",
          "x0": 85,
          "x1": 85,
          "y0": 22.91,
          "y1": 23.57
         },
         {
          "layer": "below",
          "line": {
           "color": "White",
           "width": 0.5
          },
          "type": "line",
          "x0": 85,
          "x1": 85,
          "y0": 0,
          "y1": 0.5
         },
         {
          "layer": "below",
          "line": {
           "color": "White",
           "width": 0.5
          },
          "type": "line",
          "x0": 85,
          "x1": 85,
          "y0": 52.5,
          "y1": 53
         },
         {
          "layer": "below",
          "line": {
           "color": "White",
           "width": 0.5
          },
          "type": "line",
          "x0": 86,
          "x1": 86,
          "y0": 29.73,
          "y1": 30.39
         },
         {
          "layer": "below",
          "line": {
           "color": "White",
           "width": 0.5
          },
          "type": "line",
          "x0": 86,
          "x1": 86,
          "y0": 22.91,
          "y1": 23.57
         },
         {
          "layer": "below",
          "line": {
           "color": "White",
           "width": 0.5
          },
          "type": "line",
          "x0": 86,
          "x1": 86,
          "y0": 0,
          "y1": 0.5
         },
         {
          "layer": "below",
          "line": {
           "color": "White",
           "width": 0.5
          },
          "type": "line",
          "x0": 86,
          "x1": 86,
          "y0": 52.5,
          "y1": 53
         },
         {
          "layer": "below",
          "line": {
           "color": "White",
           "width": 0.5
          },
          "type": "line",
          "x0": 87,
          "x1": 87,
          "y0": 29.73,
          "y1": 30.39
         },
         {
          "layer": "below",
          "line": {
           "color": "White",
           "width": 0.5
          },
          "type": "line",
          "x0": 87,
          "x1": 87,
          "y0": 22.91,
          "y1": 23.57
         },
         {
          "layer": "below",
          "line": {
           "color": "White",
           "width": 0.5
          },
          "type": "line",
          "x0": 87,
          "x1": 87,
          "y0": 0,
          "y1": 0.5
         },
         {
          "layer": "below",
          "line": {
           "color": "White",
           "width": 0.5
          },
          "type": "line",
          "x0": 87,
          "x1": 87,
          "y0": 52.5,
          "y1": 53
         },
         {
          "layer": "below",
          "line": {
           "color": "White",
           "width": 0.5
          },
          "type": "line",
          "x0": 88,
          "x1": 88,
          "y0": 29.73,
          "y1": 30.39
         },
         {
          "layer": "below",
          "line": {
           "color": "White",
           "width": 0.5
          },
          "type": "line",
          "x0": 88,
          "x1": 88,
          "y0": 22.91,
          "y1": 23.57
         },
         {
          "layer": "below",
          "line": {
           "color": "White",
           "width": 0.5
          },
          "type": "line",
          "x0": 88,
          "x1": 88,
          "y0": 0,
          "y1": 0.5
         },
         {
          "layer": "below",
          "line": {
           "color": "White",
           "width": 0.5
          },
          "type": "line",
          "x0": 88,
          "x1": 88,
          "y0": 52.5,
          "y1": 53
         },
         {
          "layer": "below",
          "line": {
           "color": "White",
           "width": 0.5
          },
          "type": "line",
          "x0": 89,
          "x1": 89,
          "y0": 29.73,
          "y1": 30.39
         },
         {
          "layer": "below",
          "line": {
           "color": "White",
           "width": 0.5
          },
          "type": "line",
          "x0": 89,
          "x1": 89,
          "y0": 22.91,
          "y1": 23.57
         },
         {
          "layer": "below",
          "line": {
           "color": "White",
           "width": 0.5
          },
          "type": "line",
          "x0": 89,
          "x1": 89,
          "y0": 0,
          "y1": 0.5
         },
         {
          "layer": "below",
          "line": {
           "color": "White",
           "width": 0.5
          },
          "type": "line",
          "x0": 89,
          "x1": 89,
          "y0": 52.5,
          "y1": 53
         },
         {
          "layer": "below",
          "line": {
           "color": "White",
           "width": 0.5
          },
          "type": "line",
          "x0": 90,
          "x1": 90,
          "y0": 29.73,
          "y1": 30.39
         },
         {
          "layer": "below",
          "line": {
           "color": "White",
           "width": 0.5
          },
          "type": "line",
          "x0": 90,
          "x1": 90,
          "y0": 22.91,
          "y1": 23.57
         },
         {
          "layer": "below",
          "line": {
           "color": "White",
           "width": 0.5
          },
          "type": "line",
          "x0": 90,
          "x1": 90,
          "y0": 0,
          "y1": 0.5
         },
         {
          "layer": "below",
          "line": {
           "color": "White",
           "width": 0.5
          },
          "type": "line",
          "x0": 90,
          "x1": 90,
          "y0": 52.5,
          "y1": 53
         },
         {
          "layer": "below",
          "line": {
           "color": "White",
           "width": 0.5
          },
          "type": "line",
          "x0": 91,
          "x1": 91,
          "y0": 29.73,
          "y1": 30.39
         },
         {
          "layer": "below",
          "line": {
           "color": "White",
           "width": 0.5
          },
          "type": "line",
          "x0": 91,
          "x1": 91,
          "y0": 22.91,
          "y1": 23.57
         },
         {
          "layer": "below",
          "line": {
           "color": "White",
           "width": 0.5
          },
          "type": "line",
          "x0": 91,
          "x1": 91,
          "y0": 0,
          "y1": 0.5
         },
         {
          "layer": "below",
          "line": {
           "color": "White",
           "width": 0.5
          },
          "type": "line",
          "x0": 91,
          "x1": 91,
          "y0": 52.5,
          "y1": 53
         },
         {
          "layer": "below",
          "line": {
           "color": "White",
           "width": 0.5
          },
          "type": "line",
          "x0": 92,
          "x1": 92,
          "y0": 29.73,
          "y1": 30.39
         },
         {
          "layer": "below",
          "line": {
           "color": "White",
           "width": 0.5
          },
          "type": "line",
          "x0": 92,
          "x1": 92,
          "y0": 22.91,
          "y1": 23.57
         },
         {
          "layer": "below",
          "line": {
           "color": "White",
           "width": 0.5
          },
          "type": "line",
          "x0": 92,
          "x1": 92,
          "y0": 0,
          "y1": 0.5
         },
         {
          "layer": "below",
          "line": {
           "color": "White",
           "width": 0.5
          },
          "type": "line",
          "x0": 92,
          "x1": 92,
          "y0": 52.5,
          "y1": 53
         },
         {
          "layer": "below",
          "line": {
           "color": "White",
           "width": 0.5
          },
          "type": "line",
          "x0": 93,
          "x1": 93,
          "y0": 29.73,
          "y1": 30.39
         },
         {
          "layer": "below",
          "line": {
           "color": "White",
           "width": 0.5
          },
          "type": "line",
          "x0": 93,
          "x1": 93,
          "y0": 22.91,
          "y1": 23.57
         },
         {
          "layer": "below",
          "line": {
           "color": "White",
           "width": 0.5
          },
          "type": "line",
          "x0": 93,
          "x1": 93,
          "y0": 0,
          "y1": 0.5
         },
         {
          "layer": "below",
          "line": {
           "color": "White",
           "width": 0.5
          },
          "type": "line",
          "x0": 93,
          "x1": 93,
          "y0": 52.5,
          "y1": 53
         },
         {
          "layer": "below",
          "line": {
           "color": "White",
           "width": 0.5
          },
          "type": "line",
          "x0": 94,
          "x1": 94,
          "y0": 29.73,
          "y1": 30.39
         },
         {
          "layer": "below",
          "line": {
           "color": "White",
           "width": 0.5
          },
          "type": "line",
          "x0": 94,
          "x1": 94,
          "y0": 22.91,
          "y1": 23.57
         },
         {
          "layer": "below",
          "line": {
           "color": "White",
           "width": 0.5
          },
          "type": "line",
          "x0": 94,
          "x1": 94,
          "y0": 0,
          "y1": 0.5
         },
         {
          "layer": "below",
          "line": {
           "color": "White",
           "width": 0.5
          },
          "type": "line",
          "x0": 94,
          "x1": 94,
          "y0": 52.5,
          "y1": 53
         },
         {
          "layer": "below",
          "line": {
           "color": "White",
           "width": 0.5
          },
          "type": "line",
          "x0": 95,
          "x1": 95,
          "y0": 29.73,
          "y1": 30.39
         },
         {
          "layer": "below",
          "line": {
           "color": "White",
           "width": 0.5
          },
          "type": "line",
          "x0": 95,
          "x1": 95,
          "y0": 22.91,
          "y1": 23.57
         },
         {
          "layer": "below",
          "line": {
           "color": "White",
           "width": 0.5
          },
          "type": "line",
          "x0": 95,
          "x1": 95,
          "y0": 0,
          "y1": 0.5
         },
         {
          "layer": "below",
          "line": {
           "color": "White",
           "width": 0.5
          },
          "type": "line",
          "x0": 95,
          "x1": 95,
          "y0": 52.5,
          "y1": 53
         },
         {
          "layer": "below",
          "line": {
           "color": "White",
           "width": 0.5
          },
          "type": "line",
          "x0": 96,
          "x1": 96,
          "y0": 29.73,
          "y1": 30.39
         },
         {
          "layer": "below",
          "line": {
           "color": "White",
           "width": 0.5
          },
          "type": "line",
          "x0": 96,
          "x1": 96,
          "y0": 22.91,
          "y1": 23.57
         },
         {
          "layer": "below",
          "line": {
           "color": "White",
           "width": 0.5
          },
          "type": "line",
          "x0": 96,
          "x1": 96,
          "y0": 0,
          "y1": 0.5
         },
         {
          "layer": "below",
          "line": {
           "color": "White",
           "width": 0.5
          },
          "type": "line",
          "x0": 96,
          "x1": 96,
          "y0": 52.5,
          "y1": 53
         },
         {
          "layer": "below",
          "line": {
           "color": "White",
           "width": 0.5
          },
          "type": "line",
          "x0": 97,
          "x1": 97,
          "y0": 29.73,
          "y1": 30.39
         },
         {
          "layer": "below",
          "line": {
           "color": "White",
           "width": 0.5
          },
          "type": "line",
          "x0": 97,
          "x1": 97,
          "y0": 22.91,
          "y1": 23.57
         },
         {
          "layer": "below",
          "line": {
           "color": "White",
           "width": 0.5
          },
          "type": "line",
          "x0": 97,
          "x1": 97,
          "y0": 0,
          "y1": 0.5
         },
         {
          "layer": "below",
          "line": {
           "color": "White",
           "width": 0.5
          },
          "type": "line",
          "x0": 97,
          "x1": 97,
          "y0": 52.5,
          "y1": 53
         },
         {
          "layer": "below",
          "line": {
           "color": "White",
           "width": 0.5
          },
          "type": "line",
          "x0": 98,
          "x1": 98,
          "y0": 29.73,
          "y1": 30.39
         },
         {
          "layer": "below",
          "line": {
           "color": "White",
           "width": 0.5
          },
          "type": "line",
          "x0": 98,
          "x1": 98,
          "y0": 22.91,
          "y1": 23.57
         },
         {
          "layer": "below",
          "line": {
           "color": "White",
           "width": 0.5
          },
          "type": "line",
          "x0": 98,
          "x1": 98,
          "y0": 0,
          "y1": 0.5
         },
         {
          "layer": "below",
          "line": {
           "color": "White",
           "width": 0.5
          },
          "type": "line",
          "x0": 98,
          "x1": 98,
          "y0": 52.5,
          "y1": 53
         },
         {
          "layer": "below",
          "line": {
           "color": "White",
           "width": 0.5
          },
          "type": "line",
          "x0": 99,
          "x1": 99,
          "y0": 29.73,
          "y1": 30.39
         },
         {
          "layer": "below",
          "line": {
           "color": "White",
           "width": 0.5
          },
          "type": "line",
          "x0": 99,
          "x1": 99,
          "y0": 22.91,
          "y1": 23.57
         },
         {
          "layer": "below",
          "line": {
           "color": "White",
           "width": 0.5
          },
          "type": "line",
          "x0": 99,
          "x1": 99,
          "y0": 0,
          "y1": 0.5
         },
         {
          "layer": "below",
          "line": {
           "color": "White",
           "width": 0.5
          },
          "type": "line",
          "x0": 99,
          "x1": 99,
          "y0": 52.5,
          "y1": 53
         },
         {
          "layer": "below",
          "line": {
           "color": "White",
           "width": 0.5
          },
          "type": "line",
          "x0": 100,
          "x1": 100,
          "y0": 29.73,
          "y1": 30.39
         },
         {
          "layer": "below",
          "line": {
           "color": "White",
           "width": 0.5
          },
          "type": "line",
          "x0": 100,
          "x1": 100,
          "y0": 22.91,
          "y1": 23.57
         },
         {
          "layer": "below",
          "line": {
           "color": "White",
           "width": 0.5
          },
          "type": "line",
          "x0": 100,
          "x1": 100,
          "y0": 0,
          "y1": 0.5
         },
         {
          "layer": "below",
          "line": {
           "color": "White",
           "width": 0.5
          },
          "type": "line",
          "x0": 100,
          "x1": 100,
          "y0": 52.5,
          "y1": 53
         },
         {
          "layer": "below",
          "line": {
           "color": "White",
           "width": 0.5
          },
          "type": "line",
          "x0": 101,
          "x1": 101,
          "y0": 29.73,
          "y1": 30.39
         },
         {
          "layer": "below",
          "line": {
           "color": "White",
           "width": 0.5
          },
          "type": "line",
          "x0": 101,
          "x1": 101,
          "y0": 22.91,
          "y1": 23.57
         },
         {
          "layer": "below",
          "line": {
           "color": "White",
           "width": 0.5
          },
          "type": "line",
          "x0": 101,
          "x1": 101,
          "y0": 0,
          "y1": 0.5
         },
         {
          "layer": "below",
          "line": {
           "color": "White",
           "width": 0.5
          },
          "type": "line",
          "x0": 101,
          "x1": 101,
          "y0": 52.5,
          "y1": 53
         },
         {
          "layer": "below",
          "line": {
           "color": "White",
           "width": 0.5
          },
          "type": "line",
          "x0": 102,
          "x1": 102,
          "y0": 29.73,
          "y1": 30.39
         },
         {
          "layer": "below",
          "line": {
           "color": "White",
           "width": 0.5
          },
          "type": "line",
          "x0": 102,
          "x1": 102,
          "y0": 22.91,
          "y1": 23.57
         },
         {
          "layer": "below",
          "line": {
           "color": "White",
           "width": 0.5
          },
          "type": "line",
          "x0": 102,
          "x1": 102,
          "y0": 0,
          "y1": 0.5
         },
         {
          "layer": "below",
          "line": {
           "color": "White",
           "width": 0.5
          },
          "type": "line",
          "x0": 102,
          "x1": 102,
          "y0": 52.5,
          "y1": 53
         },
         {
          "layer": "below",
          "line": {
           "color": "White",
           "width": 0.5
          },
          "type": "line",
          "x0": 103,
          "x1": 103,
          "y0": 29.73,
          "y1": 30.39
         },
         {
          "layer": "below",
          "line": {
           "color": "White",
           "width": 0.5
          },
          "type": "line",
          "x0": 103,
          "x1": 103,
          "y0": 22.91,
          "y1": 23.57
         },
         {
          "layer": "below",
          "line": {
           "color": "White",
           "width": 0.5
          },
          "type": "line",
          "x0": 103,
          "x1": 103,
          "y0": 0,
          "y1": 0.5
         },
         {
          "layer": "below",
          "line": {
           "color": "White",
           "width": 0.5
          },
          "type": "line",
          "x0": 103,
          "x1": 103,
          "y0": 52.5,
          "y1": 53
         },
         {
          "layer": "below",
          "line": {
           "color": "White",
           "width": 0.5
          },
          "type": "line",
          "x0": 104,
          "x1": 104,
          "y0": 29.73,
          "y1": 30.39
         },
         {
          "layer": "below",
          "line": {
           "color": "White",
           "width": 0.5
          },
          "type": "line",
          "x0": 104,
          "x1": 104,
          "y0": 22.91,
          "y1": 23.57
         },
         {
          "layer": "below",
          "line": {
           "color": "White",
           "width": 0.5
          },
          "type": "line",
          "x0": 104,
          "x1": 104,
          "y0": 0,
          "y1": 0.5
         },
         {
          "layer": "below",
          "line": {
           "color": "White",
           "width": 0.5
          },
          "type": "line",
          "x0": 104,
          "x1": 104,
          "y0": 52.5,
          "y1": 53
         },
         {
          "layer": "below",
          "line": {
           "color": "White",
           "width": 0.5
          },
          "type": "line",
          "x0": 105,
          "x1": 105,
          "y0": 29.73,
          "y1": 30.39
         },
         {
          "layer": "below",
          "line": {
           "color": "White",
           "width": 0.5
          },
          "type": "line",
          "x0": 105,
          "x1": 105,
          "y0": 22.91,
          "y1": 23.57
         },
         {
          "layer": "below",
          "line": {
           "color": "White",
           "width": 0.5
          },
          "type": "line",
          "x0": 105,
          "x1": 105,
          "y0": 0,
          "y1": 0.5
         },
         {
          "layer": "below",
          "line": {
           "color": "White",
           "width": 0.5
          },
          "type": "line",
          "x0": 105,
          "x1": 105,
          "y0": 52.5,
          "y1": 53
         },
         {
          "layer": "below",
          "line": {
           "color": "White",
           "width": 0.5
          },
          "type": "line",
          "x0": 106,
          "x1": 106,
          "y0": 29.73,
          "y1": 30.39
         },
         {
          "layer": "below",
          "line": {
           "color": "White",
           "width": 0.5
          },
          "type": "line",
          "x0": 106,
          "x1": 106,
          "y0": 22.91,
          "y1": 23.57
         },
         {
          "layer": "below",
          "line": {
           "color": "White",
           "width": 0.5
          },
          "type": "line",
          "x0": 106,
          "x1": 106,
          "y0": 0,
          "y1": 0.5
         },
         {
          "layer": "below",
          "line": {
           "color": "White",
           "width": 0.5
          },
          "type": "line",
          "x0": 106,
          "x1": 106,
          "y0": 52.5,
          "y1": 53
         },
         {
          "layer": "below",
          "line": {
           "color": "White",
           "width": 0.5
          },
          "type": "line",
          "x0": 107,
          "x1": 107,
          "y0": 29.73,
          "y1": 30.39
         },
         {
          "layer": "below",
          "line": {
           "color": "White",
           "width": 0.5
          },
          "type": "line",
          "x0": 107,
          "x1": 107,
          "y0": 22.91,
          "y1": 23.57
         },
         {
          "layer": "below",
          "line": {
           "color": "White",
           "width": 0.5
          },
          "type": "line",
          "x0": 107,
          "x1": 107,
          "y0": 0,
          "y1": 0.5
         },
         {
          "layer": "below",
          "line": {
           "color": "White",
           "width": 0.5
          },
          "type": "line",
          "x0": 107,
          "x1": 107,
          "y0": 52.5,
          "y1": 53
         },
         {
          "layer": "below",
          "line": {
           "color": "White",
           "width": 0.5
          },
          "type": "line",
          "x0": 108,
          "x1": 108,
          "y0": 29.73,
          "y1": 30.39
         },
         {
          "layer": "below",
          "line": {
           "color": "White",
           "width": 0.5
          },
          "type": "line",
          "x0": 108,
          "x1": 108,
          "y0": 22.91,
          "y1": 23.57
         },
         {
          "layer": "below",
          "line": {
           "color": "White",
           "width": 0.5
          },
          "type": "line",
          "x0": 108,
          "x1": 108,
          "y0": 0,
          "y1": 0.5
         },
         {
          "layer": "below",
          "line": {
           "color": "White",
           "width": 0.5
          },
          "type": "line",
          "x0": 108,
          "x1": 108,
          "y0": 52.5,
          "y1": 53
         },
         {
          "layer": "below",
          "line": {
           "color": "White",
           "width": 0.5
          },
          "type": "line",
          "x0": 109,
          "x1": 109,
          "y0": 29.73,
          "y1": 30.39
         },
         {
          "layer": "below",
          "line": {
           "color": "White",
           "width": 0.5
          },
          "type": "line",
          "x0": 109,
          "x1": 109,
          "y0": 22.91,
          "y1": 23.57
         },
         {
          "layer": "below",
          "line": {
           "color": "White",
           "width": 0.5
          },
          "type": "line",
          "x0": 109,
          "x1": 109,
          "y0": 0,
          "y1": 0.5
         },
         {
          "layer": "below",
          "line": {
           "color": "White",
           "width": 0.5
          },
          "type": "line",
          "x0": 109,
          "x1": 109,
          "y0": 52.5,
          "y1": 53
         },
         {
          "fillcolor": "rgb(97, 61, 25)",
          "layer": "below",
          "line": {
           "color": "White",
           "width": 1
          },
          "opacity": 1,
          "type": "rect",
          "x0": 110,
          "x1": 120,
          "y0": 0,
          "y1": 53.333333333333336
         },
         {
          "fillcolor": "rgb(97, 61, 25)",
          "layer": "below",
          "line": {
           "color": "White",
           "width": 1
          },
          "opacity": 1,
          "type": "rect",
          "x0": 0,
          "x1": 10,
          "y0": 0,
          "y1": 53.333333333333336
         }
        ],
        "showlegend": false,
        "sliders": [
         {
          "active": 0,
          "currentvalue": {
           "prefix": "frameId="
          },
          "len": 0.9,
          "pad": {
           "b": 10,
           "t": 60
          },
          "steps": [
           {
            "args": [
             [
              "1"
             ],
             {
              "frame": {
               "duration": 0,
               "redraw": false
              },
              "fromcurrent": true,
              "mode": "immediate",
              "transition": {
               "duration": 0,
               "easing": "linear"
              }
             }
            ],
            "label": "1",
            "method": "animate"
           },
           {
            "args": [
             [
              "2"
             ],
             {
              "frame": {
               "duration": 0,
               "redraw": false
              },
              "fromcurrent": true,
              "mode": "immediate",
              "transition": {
               "duration": 0,
               "easing": "linear"
              }
             }
            ],
            "label": "2",
            "method": "animate"
           },
           {
            "args": [
             [
              "3"
             ],
             {
              "frame": {
               "duration": 0,
               "redraw": false
              },
              "fromcurrent": true,
              "mode": "immediate",
              "transition": {
               "duration": 0,
               "easing": "linear"
              }
             }
            ],
            "label": "3",
            "method": "animate"
           },
           {
            "args": [
             [
              "4"
             ],
             {
              "frame": {
               "duration": 0,
               "redraw": false
              },
              "fromcurrent": true,
              "mode": "immediate",
              "transition": {
               "duration": 0,
               "easing": "linear"
              }
             }
            ],
            "label": "4",
            "method": "animate"
           },
           {
            "args": [
             [
              "5"
             ],
             {
              "frame": {
               "duration": 0,
               "redraw": false
              },
              "fromcurrent": true,
              "mode": "immediate",
              "transition": {
               "duration": 0,
               "easing": "linear"
              }
             }
            ],
            "label": "5",
            "method": "animate"
           },
           {
            "args": [
             [
              "6"
             ],
             {
              "frame": {
               "duration": 0,
               "redraw": false
              },
              "fromcurrent": true,
              "mode": "immediate",
              "transition": {
               "duration": 0,
               "easing": "linear"
              }
             }
            ],
            "label": "6",
            "method": "animate"
           },
           {
            "args": [
             [
              "7"
             ],
             {
              "frame": {
               "duration": 0,
               "redraw": false
              },
              "fromcurrent": true,
              "mode": "immediate",
              "transition": {
               "duration": 0,
               "easing": "linear"
              }
             }
            ],
            "label": "7",
            "method": "animate"
           },
           {
            "args": [
             [
              "8"
             ],
             {
              "frame": {
               "duration": 0,
               "redraw": false
              },
              "fromcurrent": true,
              "mode": "immediate",
              "transition": {
               "duration": 0,
               "easing": "linear"
              }
             }
            ],
            "label": "8",
            "method": "animate"
           },
           {
            "args": [
             [
              "9"
             ],
             {
              "frame": {
               "duration": 0,
               "redraw": false
              },
              "fromcurrent": true,
              "mode": "immediate",
              "transition": {
               "duration": 0,
               "easing": "linear"
              }
             }
            ],
            "label": "9",
            "method": "animate"
           },
           {
            "args": [
             [
              "10"
             ],
             {
              "frame": {
               "duration": 0,
               "redraw": false
              },
              "fromcurrent": true,
              "mode": "immediate",
              "transition": {
               "duration": 0,
               "easing": "linear"
              }
             }
            ],
            "label": "10",
            "method": "animate"
           },
           {
            "args": [
             [
              "11"
             ],
             {
              "frame": {
               "duration": 0,
               "redraw": false
              },
              "fromcurrent": true,
              "mode": "immediate",
              "transition": {
               "duration": 0,
               "easing": "linear"
              }
             }
            ],
            "label": "11",
            "method": "animate"
           },
           {
            "args": [
             [
              "12"
             ],
             {
              "frame": {
               "duration": 0,
               "redraw": false
              },
              "fromcurrent": true,
              "mode": "immediate",
              "transition": {
               "duration": 0,
               "easing": "linear"
              }
             }
            ],
            "label": "12",
            "method": "animate"
           },
           {
            "args": [
             [
              "13"
             ],
             {
              "frame": {
               "duration": 0,
               "redraw": false
              },
              "fromcurrent": true,
              "mode": "immediate",
              "transition": {
               "duration": 0,
               "easing": "linear"
              }
             }
            ],
            "label": "13",
            "method": "animate"
           },
           {
            "args": [
             [
              "14"
             ],
             {
              "frame": {
               "duration": 0,
               "redraw": false
              },
              "fromcurrent": true,
              "mode": "immediate",
              "transition": {
               "duration": 0,
               "easing": "linear"
              }
             }
            ],
            "label": "14",
            "method": "animate"
           },
           {
            "args": [
             [
              "15"
             ],
             {
              "frame": {
               "duration": 0,
               "redraw": false
              },
              "fromcurrent": true,
              "mode": "immediate",
              "transition": {
               "duration": 0,
               "easing": "linear"
              }
             }
            ],
            "label": "15",
            "method": "animate"
           },
           {
            "args": [
             [
              "16"
             ],
             {
              "frame": {
               "duration": 0,
               "redraw": false
              },
              "fromcurrent": true,
              "mode": "immediate",
              "transition": {
               "duration": 0,
               "easing": "linear"
              }
             }
            ],
            "label": "16",
            "method": "animate"
           },
           {
            "args": [
             [
              "17"
             ],
             {
              "frame": {
               "duration": 0,
               "redraw": false
              },
              "fromcurrent": true,
              "mode": "immediate",
              "transition": {
               "duration": 0,
               "easing": "linear"
              }
             }
            ],
            "label": "17",
            "method": "animate"
           },
           {
            "args": [
             [
              "18"
             ],
             {
              "frame": {
               "duration": 0,
               "redraw": false
              },
              "fromcurrent": true,
              "mode": "immediate",
              "transition": {
               "duration": 0,
               "easing": "linear"
              }
             }
            ],
            "label": "18",
            "method": "animate"
           },
           {
            "args": [
             [
              "19"
             ],
             {
              "frame": {
               "duration": 0,
               "redraw": false
              },
              "fromcurrent": true,
              "mode": "immediate",
              "transition": {
               "duration": 0,
               "easing": "linear"
              }
             }
            ],
            "label": "19",
            "method": "animate"
           },
           {
            "args": [
             [
              "20"
             ],
             {
              "frame": {
               "duration": 0,
               "redraw": false
              },
              "fromcurrent": true,
              "mode": "immediate",
              "transition": {
               "duration": 0,
               "easing": "linear"
              }
             }
            ],
            "label": "20",
            "method": "animate"
           },
           {
            "args": [
             [
              "21"
             ],
             {
              "frame": {
               "duration": 0,
               "redraw": false
              },
              "fromcurrent": true,
              "mode": "immediate",
              "transition": {
               "duration": 0,
               "easing": "linear"
              }
             }
            ],
            "label": "21",
            "method": "animate"
           },
           {
            "args": [
             [
              "22"
             ],
             {
              "frame": {
               "duration": 0,
               "redraw": false
              },
              "fromcurrent": true,
              "mode": "immediate",
              "transition": {
               "duration": 0,
               "easing": "linear"
              }
             }
            ],
            "label": "22",
            "method": "animate"
           },
           {
            "args": [
             [
              "23"
             ],
             {
              "frame": {
               "duration": 0,
               "redraw": false
              },
              "fromcurrent": true,
              "mode": "immediate",
              "transition": {
               "duration": 0,
               "easing": "linear"
              }
             }
            ],
            "label": "23",
            "method": "animate"
           },
           {
            "args": [
             [
              "24"
             ],
             {
              "frame": {
               "duration": 0,
               "redraw": false
              },
              "fromcurrent": true,
              "mode": "immediate",
              "transition": {
               "duration": 0,
               "easing": "linear"
              }
             }
            ],
            "label": "24",
            "method": "animate"
           },
           {
            "args": [
             [
              "25"
             ],
             {
              "frame": {
               "duration": 0,
               "redraw": false
              },
              "fromcurrent": true,
              "mode": "immediate",
              "transition": {
               "duration": 0,
               "easing": "linear"
              }
             }
            ],
            "label": "25",
            "method": "animate"
           },
           {
            "args": [
             [
              "26"
             ],
             {
              "frame": {
               "duration": 0,
               "redraw": false
              },
              "fromcurrent": true,
              "mode": "immediate",
              "transition": {
               "duration": 0,
               "easing": "linear"
              }
             }
            ],
            "label": "26",
            "method": "animate"
           },
           {
            "args": [
             [
              "27"
             ],
             {
              "frame": {
               "duration": 0,
               "redraw": false
              },
              "fromcurrent": true,
              "mode": "immediate",
              "transition": {
               "duration": 0,
               "easing": "linear"
              }
             }
            ],
            "label": "27",
            "method": "animate"
           },
           {
            "args": [
             [
              "28"
             ],
             {
              "frame": {
               "duration": 0,
               "redraw": false
              },
              "fromcurrent": true,
              "mode": "immediate",
              "transition": {
               "duration": 0,
               "easing": "linear"
              }
             }
            ],
            "label": "28",
            "method": "animate"
           },
           {
            "args": [
             [
              "29"
             ],
             {
              "frame": {
               "duration": 0,
               "redraw": false
              },
              "fromcurrent": true,
              "mode": "immediate",
              "transition": {
               "duration": 0,
               "easing": "linear"
              }
             }
            ],
            "label": "29",
            "method": "animate"
           },
           {
            "args": [
             [
              "30"
             ],
             {
              "frame": {
               "duration": 0,
               "redraw": false
              },
              "fromcurrent": true,
              "mode": "immediate",
              "transition": {
               "duration": 0,
               "easing": "linear"
              }
             }
            ],
            "label": "30",
            "method": "animate"
           },
           {
            "args": [
             [
              "31"
             ],
             {
              "frame": {
               "duration": 0,
               "redraw": false
              },
              "fromcurrent": true,
              "mode": "immediate",
              "transition": {
               "duration": 0,
               "easing": "linear"
              }
             }
            ],
            "label": "31",
            "method": "animate"
           },
           {
            "args": [
             [
              "32"
             ],
             {
              "frame": {
               "duration": 0,
               "redraw": false
              },
              "fromcurrent": true,
              "mode": "immediate",
              "transition": {
               "duration": 0,
               "easing": "linear"
              }
             }
            ],
            "label": "32",
            "method": "animate"
           },
           {
            "args": [
             [
              "33"
             ],
             {
              "frame": {
               "duration": 0,
               "redraw": false
              },
              "fromcurrent": true,
              "mode": "immediate",
              "transition": {
               "duration": 0,
               "easing": "linear"
              }
             }
            ],
            "label": "33",
            "method": "animate"
           },
           {
            "args": [
             [
              "34"
             ],
             {
              "frame": {
               "duration": 0,
               "redraw": false
              },
              "fromcurrent": true,
              "mode": "immediate",
              "transition": {
               "duration": 0,
               "easing": "linear"
              }
             }
            ],
            "label": "34",
            "method": "animate"
           },
           {
            "args": [
             [
              "35"
             ],
             {
              "frame": {
               "duration": 0,
               "redraw": false
              },
              "fromcurrent": true,
              "mode": "immediate",
              "transition": {
               "duration": 0,
               "easing": "linear"
              }
             }
            ],
            "label": "35",
            "method": "animate"
           },
           {
            "args": [
             [
              "36"
             ],
             {
              "frame": {
               "duration": 0,
               "redraw": false
              },
              "fromcurrent": true,
              "mode": "immediate",
              "transition": {
               "duration": 0,
               "easing": "linear"
              }
             }
            ],
            "label": "36",
            "method": "animate"
           },
           {
            "args": [
             [
              "37"
             ],
             {
              "frame": {
               "duration": 0,
               "redraw": false
              },
              "fromcurrent": true,
              "mode": "immediate",
              "transition": {
               "duration": 0,
               "easing": "linear"
              }
             }
            ],
            "label": "37",
            "method": "animate"
           },
           {
            "args": [
             [
              "38"
             ],
             {
              "frame": {
               "duration": 0,
               "redraw": false
              },
              "fromcurrent": true,
              "mode": "immediate",
              "transition": {
               "duration": 0,
               "easing": "linear"
              }
             }
            ],
            "label": "38",
            "method": "animate"
           },
           {
            "args": [
             [
              "39"
             ],
             {
              "frame": {
               "duration": 0,
               "redraw": false
              },
              "fromcurrent": true,
              "mode": "immediate",
              "transition": {
               "duration": 0,
               "easing": "linear"
              }
             }
            ],
            "label": "39",
            "method": "animate"
           },
           {
            "args": [
             [
              "40"
             ],
             {
              "frame": {
               "duration": 0,
               "redraw": false
              },
              "fromcurrent": true,
              "mode": "immediate",
              "transition": {
               "duration": 0,
               "easing": "linear"
              }
             }
            ],
            "label": "40",
            "method": "animate"
           },
           {
            "args": [
             [
              "41"
             ],
             {
              "frame": {
               "duration": 0,
               "redraw": false
              },
              "fromcurrent": true,
              "mode": "immediate",
              "transition": {
               "duration": 0,
               "easing": "linear"
              }
             }
            ],
            "label": "41",
            "method": "animate"
           },
           {
            "args": [
             [
              "42"
             ],
             {
              "frame": {
               "duration": 0,
               "redraw": false
              },
              "fromcurrent": true,
              "mode": "immediate",
              "transition": {
               "duration": 0,
               "easing": "linear"
              }
             }
            ],
            "label": "42",
            "method": "animate"
           },
           {
            "args": [
             [
              "43"
             ],
             {
              "frame": {
               "duration": 0,
               "redraw": false
              },
              "fromcurrent": true,
              "mode": "immediate",
              "transition": {
               "duration": 0,
               "easing": "linear"
              }
             }
            ],
            "label": "43",
            "method": "animate"
           },
           {
            "args": [
             [
              "44"
             ],
             {
              "frame": {
               "duration": 0,
               "redraw": false
              },
              "fromcurrent": true,
              "mode": "immediate",
              "transition": {
               "duration": 0,
               "easing": "linear"
              }
             }
            ],
            "label": "44",
            "method": "animate"
           },
           {
            "args": [
             [
              "45"
             ],
             {
              "frame": {
               "duration": 0,
               "redraw": false
              },
              "fromcurrent": true,
              "mode": "immediate",
              "transition": {
               "duration": 0,
               "easing": "linear"
              }
             }
            ],
            "label": "45",
            "method": "animate"
           },
           {
            "args": [
             [
              "46"
             ],
             {
              "frame": {
               "duration": 0,
               "redraw": false
              },
              "fromcurrent": true,
              "mode": "immediate",
              "transition": {
               "duration": 0,
               "easing": "linear"
              }
             }
            ],
            "label": "46",
            "method": "animate"
           },
           {
            "args": [
             [
              "47"
             ],
             {
              "frame": {
               "duration": 0,
               "redraw": false
              },
              "fromcurrent": true,
              "mode": "immediate",
              "transition": {
               "duration": 0,
               "easing": "linear"
              }
             }
            ],
            "label": "47",
            "method": "animate"
           },
           {
            "args": [
             [
              "48"
             ],
             {
              "frame": {
               "duration": 0,
               "redraw": false
              },
              "fromcurrent": true,
              "mode": "immediate",
              "transition": {
               "duration": 0,
               "easing": "linear"
              }
             }
            ],
            "label": "48",
            "method": "animate"
           },
           {
            "args": [
             [
              "49"
             ],
             {
              "frame": {
               "duration": 0,
               "redraw": false
              },
              "fromcurrent": true,
              "mode": "immediate",
              "transition": {
               "duration": 0,
               "easing": "linear"
              }
             }
            ],
            "label": "49",
            "method": "animate"
           },
           {
            "args": [
             [
              "50"
             ],
             {
              "frame": {
               "duration": 0,
               "redraw": false
              },
              "fromcurrent": true,
              "mode": "immediate",
              "transition": {
               "duration": 0,
               "easing": "linear"
              }
             }
            ],
            "label": "50",
            "method": "animate"
           },
           {
            "args": [
             [
              "51"
             ],
             {
              "frame": {
               "duration": 0,
               "redraw": false
              },
              "fromcurrent": true,
              "mode": "immediate",
              "transition": {
               "duration": 0,
               "easing": "linear"
              }
             }
            ],
            "label": "51",
            "method": "animate"
           },
           {
            "args": [
             [
              "52"
             ],
             {
              "frame": {
               "duration": 0,
               "redraw": false
              },
              "fromcurrent": true,
              "mode": "immediate",
              "transition": {
               "duration": 0,
               "easing": "linear"
              }
             }
            ],
            "label": "52",
            "method": "animate"
           },
           {
            "args": [
             [
              "53"
             ],
             {
              "frame": {
               "duration": 0,
               "redraw": false
              },
              "fromcurrent": true,
              "mode": "immediate",
              "transition": {
               "duration": 0,
               "easing": "linear"
              }
             }
            ],
            "label": "53",
            "method": "animate"
           },
           {
            "args": [
             [
              "54"
             ],
             {
              "frame": {
               "duration": 0,
               "redraw": false
              },
              "fromcurrent": true,
              "mode": "immediate",
              "transition": {
               "duration": 0,
               "easing": "linear"
              }
             }
            ],
            "label": "54",
            "method": "animate"
           },
           {
            "args": [
             [
              "55"
             ],
             {
              "frame": {
               "duration": 0,
               "redraw": false
              },
              "fromcurrent": true,
              "mode": "immediate",
              "transition": {
               "duration": 0,
               "easing": "linear"
              }
             }
            ],
            "label": "55",
            "method": "animate"
           },
           {
            "args": [
             [
              "56"
             ],
             {
              "frame": {
               "duration": 0,
               "redraw": false
              },
              "fromcurrent": true,
              "mode": "immediate",
              "transition": {
               "duration": 0,
               "easing": "linear"
              }
             }
            ],
            "label": "56",
            "method": "animate"
           }
          ],
          "x": 0.1,
          "xanchor": "left",
          "y": 0,
          "yanchor": "top"
         }
        ],
        "template": {
         "data": {
          "bar": [
           {
            "error_x": {
             "color": "#2a3f5f"
            },
            "error_y": {
             "color": "#2a3f5f"
            },
            "marker": {
             "line": {
              "color": "#E5ECF6",
              "width": 0.5
             }
            },
            "type": "bar"
           }
          ],
          "barpolar": [
           {
            "marker": {
             "line": {
              "color": "#E5ECF6",
              "width": 0.5
             }
            },
            "type": "barpolar"
           }
          ],
          "carpet": [
           {
            "aaxis": {
             "endlinecolor": "#2a3f5f",
             "gridcolor": "white",
             "linecolor": "white",
             "minorgridcolor": "white",
             "startlinecolor": "#2a3f5f"
            },
            "baxis": {
             "endlinecolor": "#2a3f5f",
             "gridcolor": "white",
             "linecolor": "white",
             "minorgridcolor": "white",
             "startlinecolor": "#2a3f5f"
            },
            "type": "carpet"
           }
          ],
          "choropleth": [
           {
            "colorbar": {
             "outlinewidth": 0,
             "ticks": ""
            },
            "type": "choropleth"
           }
          ],
          "contour": [
           {
            "colorbar": {
             "outlinewidth": 0,
             "ticks": ""
            },
            "colorscale": [
             [
              0,
              "#0d0887"
             ],
             [
              0.1111111111111111,
              "#46039f"
             ],
             [
              0.2222222222222222,
              "#7201a8"
             ],
             [
              0.3333333333333333,
              "#9c179e"
             ],
             [
              0.4444444444444444,
              "#bd3786"
             ],
             [
              0.5555555555555556,
              "#d8576b"
             ],
             [
              0.6666666666666666,
              "#ed7953"
             ],
             [
              0.7777777777777778,
              "#fb9f3a"
             ],
             [
              0.8888888888888888,
              "#fdca26"
             ],
             [
              1,
              "#f0f921"
             ]
            ],
            "type": "contour"
           }
          ],
          "contourcarpet": [
           {
            "colorbar": {
             "outlinewidth": 0,
             "ticks": ""
            },
            "type": "contourcarpet"
           }
          ],
          "heatmap": [
           {
            "colorbar": {
             "outlinewidth": 0,
             "ticks": ""
            },
            "colorscale": [
             [
              0,
              "#0d0887"
             ],
             [
              0.1111111111111111,
              "#46039f"
             ],
             [
              0.2222222222222222,
              "#7201a8"
             ],
             [
              0.3333333333333333,
              "#9c179e"
             ],
             [
              0.4444444444444444,
              "#bd3786"
             ],
             [
              0.5555555555555556,
              "#d8576b"
             ],
             [
              0.6666666666666666,
              "#ed7953"
             ],
             [
              0.7777777777777778,
              "#fb9f3a"
             ],
             [
              0.8888888888888888,
              "#fdca26"
             ],
             [
              1,
              "#f0f921"
             ]
            ],
            "type": "heatmap"
           }
          ],
          "heatmapgl": [
           {
            "colorbar": {
             "outlinewidth": 0,
             "ticks": ""
            },
            "colorscale": [
             [
              0,
              "#0d0887"
             ],
             [
              0.1111111111111111,
              "#46039f"
             ],
             [
              0.2222222222222222,
              "#7201a8"
             ],
             [
              0.3333333333333333,
              "#9c179e"
             ],
             [
              0.4444444444444444,
              "#bd3786"
             ],
             [
              0.5555555555555556,
              "#d8576b"
             ],
             [
              0.6666666666666666,
              "#ed7953"
             ],
             [
              0.7777777777777778,
              "#fb9f3a"
             ],
             [
              0.8888888888888888,
              "#fdca26"
             ],
             [
              1,
              "#f0f921"
             ]
            ],
            "type": "heatmapgl"
           }
          ],
          "histogram": [
           {
            "marker": {
             "colorbar": {
              "outlinewidth": 0,
              "ticks": ""
             }
            },
            "type": "histogram"
           }
          ],
          "histogram2d": [
           {
            "colorbar": {
             "outlinewidth": 0,
             "ticks": ""
            },
            "colorscale": [
             [
              0,
              "#0d0887"
             ],
             [
              0.1111111111111111,
              "#46039f"
             ],
             [
              0.2222222222222222,
              "#7201a8"
             ],
             [
              0.3333333333333333,
              "#9c179e"
             ],
             [
              0.4444444444444444,
              "#bd3786"
             ],
             [
              0.5555555555555556,
              "#d8576b"
             ],
             [
              0.6666666666666666,
              "#ed7953"
             ],
             [
              0.7777777777777778,
              "#fb9f3a"
             ],
             [
              0.8888888888888888,
              "#fdca26"
             ],
             [
              1,
              "#f0f921"
             ]
            ],
            "type": "histogram2d"
           }
          ],
          "histogram2dcontour": [
           {
            "colorbar": {
             "outlinewidth": 0,
             "ticks": ""
            },
            "colorscale": [
             [
              0,
              "#0d0887"
             ],
             [
              0.1111111111111111,
              "#46039f"
             ],
             [
              0.2222222222222222,
              "#7201a8"
             ],
             [
              0.3333333333333333,
              "#9c179e"
             ],
             [
              0.4444444444444444,
              "#bd3786"
             ],
             [
              0.5555555555555556,
              "#d8576b"
             ],
             [
              0.6666666666666666,
              "#ed7953"
             ],
             [
              0.7777777777777778,
              "#fb9f3a"
             ],
             [
              0.8888888888888888,
              "#fdca26"
             ],
             [
              1,
              "#f0f921"
             ]
            ],
            "type": "histogram2dcontour"
           }
          ],
          "mesh3d": [
           {
            "colorbar": {
             "outlinewidth": 0,
             "ticks": ""
            },
            "type": "mesh3d"
           }
          ],
          "parcoords": [
           {
            "line": {
             "colorbar": {
              "outlinewidth": 0,
              "ticks": ""
             }
            },
            "type": "parcoords"
           }
          ],
          "pie": [
           {
            "automargin": true,
            "type": "pie"
           }
          ],
          "scatter": [
           {
            "marker": {
             "colorbar": {
              "outlinewidth": 0,
              "ticks": ""
             }
            },
            "type": "scatter"
           }
          ],
          "scatter3d": [
           {
            "line": {
             "colorbar": {
              "outlinewidth": 0,
              "ticks": ""
             }
            },
            "marker": {
             "colorbar": {
              "outlinewidth": 0,
              "ticks": ""
             }
            },
            "type": "scatter3d"
           }
          ],
          "scattercarpet": [
           {
            "marker": {
             "colorbar": {
              "outlinewidth": 0,
              "ticks": ""
             }
            },
            "type": "scattercarpet"
           }
          ],
          "scattergeo": [
           {
            "marker": {
             "colorbar": {
              "outlinewidth": 0,
              "ticks": ""
             }
            },
            "type": "scattergeo"
           }
          ],
          "scattergl": [
           {
            "marker": {
             "colorbar": {
              "outlinewidth": 0,
              "ticks": ""
             }
            },
            "type": "scattergl"
           }
          ],
          "scattermapbox": [
           {
            "marker": {
             "colorbar": {
              "outlinewidth": 0,
              "ticks": ""
             }
            },
            "type": "scattermapbox"
           }
          ],
          "scatterpolar": [
           {
            "marker": {
             "colorbar": {
              "outlinewidth": 0,
              "ticks": ""
             }
            },
            "type": "scatterpolar"
           }
          ],
          "scatterpolargl": [
           {
            "marker": {
             "colorbar": {
              "outlinewidth": 0,
              "ticks": ""
             }
            },
            "type": "scatterpolargl"
           }
          ],
          "scatterternary": [
           {
            "marker": {
             "colorbar": {
              "outlinewidth": 0,
              "ticks": ""
             }
            },
            "type": "scatterternary"
           }
          ],
          "surface": [
           {
            "colorbar": {
             "outlinewidth": 0,
             "ticks": ""
            },
            "colorscale": [
             [
              0,
              "#0d0887"
             ],
             [
              0.1111111111111111,
              "#46039f"
             ],
             [
              0.2222222222222222,
              "#7201a8"
             ],
             [
              0.3333333333333333,
              "#9c179e"
             ],
             [
              0.4444444444444444,
              "#bd3786"
             ],
             [
              0.5555555555555556,
              "#d8576b"
             ],
             [
              0.6666666666666666,
              "#ed7953"
             ],
             [
              0.7777777777777778,
              "#fb9f3a"
             ],
             [
              0.8888888888888888,
              "#fdca26"
             ],
             [
              1,
              "#f0f921"
             ]
            ],
            "type": "surface"
           }
          ],
          "table": [
           {
            "cells": {
             "fill": {
              "color": "#EBF0F8"
             },
             "line": {
              "color": "white"
             }
            },
            "header": {
             "fill": {
              "color": "#C8D4E3"
             },
             "line": {
              "color": "white"
             }
            },
            "type": "table"
           }
          ]
         },
         "layout": {
          "annotationdefaults": {
           "arrowcolor": "#2a3f5f",
           "arrowhead": 0,
           "arrowwidth": 1
          },
          "coloraxis": {
           "colorbar": {
            "outlinewidth": 0,
            "ticks": ""
           }
          },
          "colorscale": {
           "diverging": [
            [
             0,
             "#8e0152"
            ],
            [
             0.1,
             "#c51b7d"
            ],
            [
             0.2,
             "#de77ae"
            ],
            [
             0.3,
             "#f1b6da"
            ],
            [
             0.4,
             "#fde0ef"
            ],
            [
             0.5,
             "#f7f7f7"
            ],
            [
             0.6,
             "#e6f5d0"
            ],
            [
             0.7,
             "#b8e186"
            ],
            [
             0.8,
             "#7fbc41"
            ],
            [
             0.9,
             "#4d9221"
            ],
            [
             1,
             "#276419"
            ]
           ],
           "sequential": [
            [
             0,
             "#0d0887"
            ],
            [
             0.1111111111111111,
             "#46039f"
            ],
            [
             0.2222222222222222,
             "#7201a8"
            ],
            [
             0.3333333333333333,
             "#9c179e"
            ],
            [
             0.4444444444444444,
             "#bd3786"
            ],
            [
             0.5555555555555556,
             "#d8576b"
            ],
            [
             0.6666666666666666,
             "#ed7953"
            ],
            [
             0.7777777777777778,
             "#fb9f3a"
            ],
            [
             0.8888888888888888,
             "#fdca26"
            ],
            [
             1,
             "#f0f921"
            ]
           ],
           "sequentialminus": [
            [
             0,
             "#0d0887"
            ],
            [
             0.1111111111111111,
             "#46039f"
            ],
            [
             0.2222222222222222,
             "#7201a8"
            ],
            [
             0.3333333333333333,
             "#9c179e"
            ],
            [
             0.4444444444444444,
             "#bd3786"
            ],
            [
             0.5555555555555556,
             "#d8576b"
            ],
            [
             0.6666666666666666,
             "#ed7953"
            ],
            [
             0.7777777777777778,
             "#fb9f3a"
            ],
            [
             0.8888888888888888,
             "#fdca26"
            ],
            [
             1,
             "#f0f921"
            ]
           ]
          },
          "colorway": [
           "#636efa",
           "#EF553B",
           "#00cc96",
           "#ab63fa",
           "#FFA15A",
           "#19d3f3",
           "#FF6692",
           "#B6E880",
           "#FF97FF",
           "#FECB52"
          ],
          "font": {
           "color": "#2a3f5f"
          },
          "geo": {
           "bgcolor": "white",
           "lakecolor": "white",
           "landcolor": "#E5ECF6",
           "showlakes": true,
           "showland": true,
           "subunitcolor": "white"
          },
          "hoverlabel": {
           "align": "left"
          },
          "hovermode": "closest",
          "mapbox": {
           "style": "light"
          },
          "paper_bgcolor": "white",
          "plot_bgcolor": "#E5ECF6",
          "polar": {
           "angularaxis": {
            "gridcolor": "white",
            "linecolor": "white",
            "ticks": ""
           },
           "bgcolor": "#E5ECF6",
           "radialaxis": {
            "gridcolor": "white",
            "linecolor": "white",
            "ticks": ""
           }
          },
          "scene": {
           "xaxis": {
            "backgroundcolor": "#E5ECF6",
            "gridcolor": "white",
            "gridwidth": 2,
            "linecolor": "white",
            "showbackground": true,
            "ticks": "",
            "zerolinecolor": "white"
           },
           "yaxis": {
            "backgroundcolor": "#E5ECF6",
            "gridcolor": "white",
            "gridwidth": 2,
            "linecolor": "white",
            "showbackground": true,
            "ticks": "",
            "zerolinecolor": "white"
           },
           "zaxis": {
            "backgroundcolor": "#E5ECF6",
            "gridcolor": "white",
            "gridwidth": 2,
            "linecolor": "white",
            "showbackground": true,
            "ticks": "",
            "zerolinecolor": "white"
           }
          },
          "shapedefaults": {
           "line": {
            "color": "#2a3f5f"
           }
          },
          "ternary": {
           "aaxis": {
            "gridcolor": "white",
            "linecolor": "white",
            "ticks": ""
           },
           "baxis": {
            "gridcolor": "white",
            "linecolor": "white",
            "ticks": ""
           },
           "bgcolor": "#E5ECF6",
           "caxis": {
            "gridcolor": "white",
            "linecolor": "white",
            "ticks": ""
           }
          },
          "title": {
           "x": 0.05
          },
          "xaxis": {
           "automargin": true,
           "gridcolor": "white",
           "linecolor": "white",
           "ticks": "",
           "title": {
            "standoff": 15
           },
           "zerolinecolor": "white",
           "zerolinewidth": 2
          },
          "yaxis": {
           "automargin": true,
           "gridcolor": "white",
           "linecolor": "white",
           "ticks": "",
           "title": {
            "standoff": 15
           },
           "zerolinecolor": "white",
           "zerolinewidth": 2
          }
         }
        },
        "title": {
         "text": "(4:31) (No Huddle, Shotgun) J.Rosen pass short right to R.Seals-Jones to 50 for 10 yards (D.Sorensen)."
        },
        "transition": {
         "duration": 3000
        },
        "updatemenus": [
         {
          "buttons": [
           {
            "args": [
             null,
             {
              "frame": {
               "duration": 500,
               "redraw": false
              },
              "fromcurrent": true,
              "mode": "immediate",
              "transition": {
               "duration": 500,
               "easing": "linear"
              }
             }
            ],
            "label": "&#9654;",
            "method": "animate"
           },
           {
            "args": [
             [
              null
             ],
             {
              "frame": {
               "duration": 0,
               "redraw": false
              },
              "fromcurrent": true,
              "mode": "immediate",
              "transition": {
               "duration": 0,
               "easing": "linear"
              }
             }
            ],
            "label": "&#9724;",
            "method": "animate"
           }
          ],
          "direction": "left",
          "pad": {
           "r": 10,
           "t": 70
          },
          "showactive": false,
          "type": "buttons",
          "x": 0.1,
          "xanchor": "right",
          "y": 0,
          "yanchor": "top"
         }
        ],
        "xaxis": {
         "anchor": "y",
         "domain": [
          0,
          1
         ],
         "range": [
          0,
          120
         ],
         "showgrid": true,
         "showticklabels": false,
         "title": {
          "text": "ARI @ KC  Week 10, 2018-11-11. PlayID: 3492 GameID: 2018111105"
         },
         "visible": true
        },
        "yaxis": {
         "anchor": "x",
         "domain": [
          0,
          1
         ],
         "range": [
          0,
          53.333333333333336
         ],
         "showgrid": false,
         "showticklabels": false,
         "title": {
          "text": "y"
         },
         "visible": false
        }
       }
      },
      "text/html": [
       "<div>\n",
       "        \n",
       "        \n",
       "            <div id=\"2cbff2ce-083e-4a82-9fc9-e7e2f2f51e80\" class=\"plotly-graph-div\" style=\"height:525px; width:100%;\"></div>\n",
       "            <script type=\"text/javascript\">\n",
       "                require([\"plotly\"], function(Plotly) {\n",
       "                    window.PLOTLYENV=window.PLOTLYENV || {};\n",
       "                    \n",
       "                if (document.getElementById(\"2cbff2ce-083e-4a82-9fc9-e7e2f2f51e80\")) {\n",
       "                    Plotly.newPlot(\n",
       "                        '2cbff2ce-083e-4a82-9fc9-e7e2f2f51e80',\n",
       "                        [{\"hovertemplate\": \"team=home<br>frameId=1<br>x=%{x}<br>y=%{y}<br>size=%{marker.size}<br>jerseyNumber=%{text}<extra></extra>\", \"legendgroup\": \"home\", \"marker\": {\"color\": \"rgb(255,60,0)\", \"opacity\": 1, \"size\": [5, 5, 5, 5, 5, 5, 5, 5], \"sizemode\": \"area\", \"sizeref\": 0.029585798816568046, \"symbol\": \"circle\"}, \"mode\": \"markers+text\", \"name\": \"home\", \"orientation\": \"v\", \"showlegend\": true, \"text\": [22.0, 50.0, 38.0, 49.0, 20.0, 21.0, 23.0, 44.0], \"type\": \"scatter\", \"x\": [50.77, 50.28, 64.26, 52.78, 51.55, 67.06, 50.82, 54.31], \"xaxis\": \"x\", \"y\": [11.12, 30.47, 19.1, 18.04, 44.97, 34.02, 34.24, 27.25], \"yaxis\": \"y\"}, {\"hovertemplate\": \"team=away<br>frameId=1<br>x=%{x}<br>y=%{y}<br>size=%{marker.size}<br>jerseyNumber=%{text}<extra></extra>\", \"legendgroup\": \"away\", \"marker\": {\"color\": \"rgb(238,173,30)\", \"opacity\": 1, \"size\": [5, 5, 5, 5, 5, 5], \"sizemode\": \"area\", \"sizeref\": 0.029585798816568046, \"symbol\": \"circle\"}, \"mode\": \"markers+text\", \"name\": \"away\", \"orientation\": \"v\", \"showlegend\": true, \"text\": [11.0, 31.0, 86.0, 13.0, 3.0, 16.0], \"type\": \"scatter\", \"x\": [47.98, 45.5, 49.0, 49.2, 45.38, 48.17], \"xaxis\": \"x\", \"y\": [34.56, 26.84, 17.69, 45.32, 23.97, 10.98], \"yaxis\": \"y\"}, {\"hovertemplate\": \"team=football<br>frameId=1<br>x=%{x}<br>y=%{y}<br>size=%{marker.size}<br>jerseyNumber=%{text}<extra></extra>\", \"legendgroup\": \"football\", \"marker\": {\"color\": \"rgb(139,69,19)\", \"opacity\": 1, \"size\": [2], \"sizemode\": \"area\", \"sizeref\": 0.029585798816568046, \"symbol\": \"circle\"}, \"mode\": \"markers+text\", \"name\": \"football\", \"orientation\": \"v\", \"showlegend\": true, \"text\": [null], \"type\": \"scatter\", \"x\": [49.81], \"xaxis\": \"x\", \"y\": [23.82], \"yaxis\": \"y\"}],\n",
       "                        {\"annotations\": [{\"align\": \"center\", \"font\": {\"color\": \"#FFFFFF\", \"family\": \"sans serif\", \"size\": 40}, \"text\": \"KC\", \"textangle\": 90, \"valign\": \"middle\", \"x\": 116.5, \"y\": 20}, {\"align\": \"center\", \"font\": {\"color\": \"#FFFFFF\", \"family\": \"sans serif\", \"size\": 40}, \"text\": \"KC\", \"textangle\": -90, \"valign\": \"middle\", \"x\": 6.5, \"y\": 20}, {\"align\": \"center\", \"font\": {\"color\": \"#FFFFFF\", \"size\": 17}, \"showarrow\": false, \"text\": \"1\", \"textangle\": 0, \"valign\": \"middle\", \"x\": 19, \"y\": 13}, {\"align\": \"center\", \"font\": {\"color\": \"#FFFFFF\", \"size\": 17}, \"showarrow\": false, \"text\": \"0\", \"textangle\": 0, \"valign\": \"middle\", \"x\": 21, \"y\": 13}, {\"align\": \"center\", \"font\": {\"color\": \"#FFFFFF\", \"size\": 17}, \"showarrow\": false, \"text\": \"1\", \"textangle\": 0, \"valign\": \"middle\", \"x\": 19, \"y\": 40.333333333333336}, {\"align\": \"center\", \"font\": {\"color\": \"#FFFFFF\", \"size\": 17}, \"showarrow\": false, \"text\": \"0\", \"textangle\": 0, \"valign\": \"middle\", \"x\": 21, \"y\": 40.333333333333336}, {\"align\": \"center\", \"font\": {\"color\": \"#FFFFFF\", \"size\": 17}, \"showarrow\": false, \"text\": \"2\", \"textangle\": 0, \"valign\": \"middle\", \"x\": 29, \"y\": 13}, {\"align\": \"center\", \"font\": {\"color\": \"#FFFFFF\", \"size\": 17}, \"showarrow\": false, \"text\": \"0\", \"textangle\": 0, \"valign\": \"middle\", \"x\": 31, \"y\": 13}, {\"align\": \"center\", \"font\": {\"color\": \"#FFFFFF\", \"size\": 17}, \"showarrow\": false, \"text\": \"2\", \"textangle\": 0, \"valign\": \"middle\", \"x\": 29, \"y\": 40.333333333333336}, {\"align\": \"center\", \"font\": {\"color\": \"#FFFFFF\", \"size\": 17}, \"showarrow\": false, \"text\": \"0\", \"textangle\": 0, \"valign\": \"middle\", \"x\": 31, \"y\": 40.333333333333336}, {\"align\": \"center\", \"font\": {\"color\": \"#FFFFFF\", \"size\": 17}, \"showarrow\": false, \"text\": \"3\", \"textangle\": 0, \"valign\": \"middle\", \"x\": 39, \"y\": 13}, {\"align\": \"center\", \"font\": {\"color\": \"#FFFFFF\", \"size\": 17}, \"showarrow\": false, \"text\": \"0\", \"textangle\": 0, \"valign\": \"middle\", \"x\": 41, \"y\": 13}, {\"align\": \"center\", \"font\": {\"color\": \"#FFFFFF\", \"size\": 17}, \"showarrow\": false, \"text\": \"3\", \"textangle\": 0, \"valign\": \"middle\", \"x\": 39, \"y\": 40.333333333333336}, {\"align\": \"center\", \"font\": {\"color\": \"#FFFFFF\", \"size\": 17}, \"showarrow\": false, \"text\": \"0\", \"textangle\": 0, \"valign\": \"middle\", \"x\": 41, \"y\": 40.333333333333336}, {\"align\": \"center\", \"font\": {\"color\": \"#FFFFFF\", \"size\": 17}, \"showarrow\": false, \"text\": \"4\", \"textangle\": 0, \"valign\": \"middle\", \"x\": 49, \"y\": 13}, {\"align\": \"center\", \"font\": {\"color\": \"#FFFFFF\", \"size\": 17}, \"showarrow\": false, \"text\": \"0\", \"textangle\": 0, \"valign\": \"middle\", \"x\": 51, \"y\": 13}, {\"align\": \"center\", \"font\": {\"color\": \"#FFFFFF\", \"size\": 17}, \"showarrow\": false, \"text\": \"4\", \"textangle\": 0, \"valign\": \"middle\", \"x\": 49, \"y\": 40.333333333333336}, {\"align\": \"center\", \"font\": {\"color\": \"#FFFFFF\", \"size\": 17}, \"showarrow\": false, \"text\": \"0\", \"textangle\": 0, \"valign\": \"middle\", \"x\": 51, \"y\": 40.333333333333336}, {\"align\": \"center\", \"font\": {\"color\": \"#FFFFFF\", \"size\": 17}, \"showarrow\": false, \"text\": \"5\", \"textangle\": 0, \"valign\": \"middle\", \"x\": 59, \"y\": 13}, {\"align\": \"center\", \"font\": {\"color\": \"#FFFFFF\", \"size\": 17}, \"showarrow\": false, \"text\": \"0\", \"textangle\": 0, \"valign\": \"middle\", \"x\": 61, \"y\": 13}, {\"align\": \"center\", \"font\": {\"color\": \"#FFFFFF\", \"size\": 17}, \"showarrow\": false, \"text\": \"5\", \"textangle\": 0, \"valign\": \"middle\", \"x\": 59, \"y\": 40.333333333333336}, {\"align\": \"center\", \"font\": {\"color\": \"#FFFFFF\", \"size\": 17}, \"showarrow\": false, \"text\": \"0\", \"textangle\": 0, \"valign\": \"middle\", \"x\": 61, \"y\": 40.333333333333336}, {\"align\": \"center\", \"font\": {\"color\": \"#FFFFFF\", \"size\": 17}, \"showarrow\": false, \"text\": \"4\", \"textangle\": 0, \"valign\": \"middle\", \"x\": 69, \"y\": 13}, {\"align\": \"center\", \"font\": {\"color\": \"#FFFFFF\", \"size\": 17}, \"showarrow\": false, \"text\": \"0\", \"textangle\": 0, \"valign\": \"middle\", \"x\": 71, \"y\": 13}, {\"align\": \"center\", \"font\": {\"color\": \"#FFFFFF\", \"size\": 17}, \"showarrow\": false, \"text\": \"4\", \"textangle\": 0, \"valign\": \"middle\", \"x\": 69, \"y\": 40.333333333333336}, {\"align\": \"center\", \"font\": {\"color\": \"#FFFFFF\", \"size\": 17}, \"showarrow\": false, \"text\": \"0\", \"textangle\": 0, \"valign\": \"middle\", \"x\": 71, \"y\": 40.333333333333336}, {\"align\": \"center\", \"font\": {\"color\": \"#FFFFFF\", \"size\": 17}, \"showarrow\": false, \"text\": \"3\", \"textangle\": 0, \"valign\": \"middle\", \"x\": 79, \"y\": 13}, {\"align\": \"center\", \"font\": {\"color\": \"#FFFFFF\", \"size\": 17}, \"showarrow\": false, \"text\": \"0\", \"textangle\": 0, \"valign\": \"middle\", \"x\": 81, \"y\": 13}, {\"align\": \"center\", \"font\": {\"color\": \"#FFFFFF\", \"size\": 17}, \"showarrow\": false, \"text\": \"3\", \"textangle\": 0, \"valign\": \"middle\", \"x\": 79, \"y\": 40.333333333333336}, {\"align\": \"center\", \"font\": {\"color\": \"#FFFFFF\", \"size\": 17}, \"showarrow\": false, \"text\": \"0\", \"textangle\": 0, \"valign\": \"middle\", \"x\": 81, \"y\": 40.333333333333336}, {\"align\": \"center\", \"font\": {\"color\": \"#FFFFFF\", \"size\": 17}, \"showarrow\": false, \"text\": \"2\", \"textangle\": 0, \"valign\": \"middle\", \"x\": 89, \"y\": 13}, {\"align\": \"center\", \"font\": {\"color\": \"#FFFFFF\", \"size\": 17}, \"showarrow\": false, \"text\": \"0\", \"textangle\": 0, \"valign\": \"middle\", \"x\": 91, \"y\": 13}, {\"align\": \"center\", \"font\": {\"color\": \"#FFFFFF\", \"size\": 17}, \"showarrow\": false, \"text\": \"2\", \"textangle\": 0, \"valign\": \"middle\", \"x\": 89, \"y\": 40.333333333333336}, {\"align\": \"center\", \"font\": {\"color\": \"#FFFFFF\", \"size\": 17}, \"showarrow\": false, \"text\": \"0\", \"textangle\": 0, \"valign\": \"middle\", \"x\": 91, \"y\": 40.333333333333336}, {\"align\": \"center\", \"font\": {\"color\": \"#FFFFFF\", \"size\": 17}, \"showarrow\": false, \"text\": \"1\", \"textangle\": 0, \"valign\": \"middle\", \"x\": 99, \"y\": 13}, {\"align\": \"center\", \"font\": {\"color\": \"#FFFFFF\", \"size\": 17}, \"showarrow\": false, \"text\": \"0\", \"textangle\": 0, \"valign\": \"middle\", \"x\": 101, \"y\": 13}, {\"align\": \"center\", \"font\": {\"color\": \"#FFFFFF\", \"size\": 17}, \"showarrow\": false, \"text\": \"1\", \"textangle\": 0, \"valign\": \"middle\", \"x\": 99, \"y\": 40.333333333333336}, {\"align\": \"center\", \"font\": {\"color\": \"#FFFFFF\", \"size\": 17}, \"showarrow\": false, \"text\": \"0\", \"textangle\": 0, \"valign\": \"middle\", \"x\": 101, \"y\": 40.333333333333336}], \"legend\": {\"itemsizing\": \"constant\", \"title\": {\"text\": \"team\"}, \"tracegroupgap\": 0}, \"paper_bgcolor\": \"rgba(0, 0, 0, 0)\", \"plot_bgcolor\": \"rgba(0, 169, 0, 1)\", \"shapes\": [{\"layer\": \"below\", \"line\": {\"color\": \"White\", \"width\": 5}, \"type\": \"line\", \"x0\": 10, \"x1\": 10, \"y0\": 0, \"y1\": 53.333333333333336}, {\"layer\": \"below\", \"line\": {\"color\": \"White\", \"width\": 5}, \"type\": \"line\", \"x0\": 110, \"x1\": 110, \"y0\": 0, \"y1\": 53.333333333333336}, {\"layer\": \"below\", \"line\": {\"color\": \"White\", \"width\": 1}, \"type\": \"line\", \"x0\": 20, \"x1\": 20, \"y0\": 0, \"y1\": 53.333333333333336}, {\"layer\": \"below\", \"line\": {\"color\": \"White\", \"width\": 1}, \"type\": \"line\", \"x0\": 30, \"x1\": 30, \"y0\": 0, \"y1\": 53.333333333333336}, {\"layer\": \"below\", \"line\": {\"color\": \"White\", \"width\": 1}, \"type\": \"line\", \"x0\": 40, \"x1\": 40, \"y0\": 0, \"y1\": 53.333333333333336}, {\"layer\": \"below\", \"line\": {\"color\": \"White\", \"width\": 1}, \"type\": \"line\", \"x0\": 50, \"x1\": 50, \"y0\": 0, \"y1\": 53.333333333333336}, {\"layer\": \"below\", \"line\": {\"color\": \"White\", \"width\": 1}, \"type\": \"line\", \"x0\": 60, \"x1\": 60, \"y0\": 0, \"y1\": 53.333333333333336}, {\"layer\": \"below\", \"line\": {\"color\": \"White\", \"width\": 1}, \"type\": \"line\", \"x0\": 70, \"x1\": 70, \"y0\": 0, \"y1\": 53.333333333333336}, {\"layer\": \"below\", \"line\": {\"color\": \"White\", \"width\": 1}, \"type\": \"line\", \"x0\": 80, \"x1\": 80, \"y0\": 0, \"y1\": 53.333333333333336}, {\"layer\": \"below\", \"line\": {\"color\": \"White\", \"width\": 1}, \"type\": \"line\", \"x0\": 90, \"x1\": 90, \"y0\": 0, \"y1\": 53.333333333333336}, {\"layer\": \"below\", \"line\": {\"color\": \"White\", \"width\": 1}, \"type\": \"line\", \"x0\": 100, \"x1\": 100, \"y0\": 0, \"y1\": 53.333333333333336}, {\"layer\": \"below\", \"line\": {\"color\": \"White\", \"width\": 0.5}, \"type\": \"line\", \"x0\": 15, \"x1\": 15, \"y0\": 0, \"y1\": 53.333333333333336}, {\"layer\": \"below\", \"line\": {\"color\": \"White\", \"width\": 0.5}, \"type\": \"line\", \"x0\": 25, \"x1\": 25, \"y0\": 0, \"y1\": 53.333333333333336}, {\"layer\": \"below\", \"line\": {\"color\": \"White\", \"width\": 0.5}, \"type\": \"line\", \"x0\": 35, \"x1\": 35, \"y0\": 0, \"y1\": 53.333333333333336}, {\"layer\": \"below\", \"line\": {\"color\": \"White\", \"width\": 0.5}, \"type\": \"line\", \"x0\": 45, \"x1\": 45, \"y0\": 0, \"y1\": 53.333333333333336}, {\"layer\": \"below\", \"line\": {\"color\": \"White\", \"width\": 0.5}, \"type\": \"line\", \"x0\": 55, \"x1\": 55, \"y0\": 0, \"y1\": 53.333333333333336}, {\"layer\": \"below\", \"line\": {\"color\": \"White\", \"width\": 0.5}, \"type\": \"line\", \"x0\": 65, \"x1\": 65, \"y0\": 0, \"y1\": 53.333333333333336}, {\"layer\": \"below\", \"line\": {\"color\": \"White\", \"width\": 0.5}, \"type\": \"line\", \"x0\": 75, \"x1\": 75, \"y0\": 0, \"y1\": 53.333333333333336}, {\"layer\": \"below\", \"line\": {\"color\": \"White\", \"width\": 0.5}, \"type\": \"line\", \"x0\": 85, \"x1\": 85, \"y0\": 0, \"y1\": 53.333333333333336}, {\"layer\": \"below\", \"line\": {\"color\": \"White\", \"width\": 0.5}, \"type\": \"line\", \"x0\": 95, \"x1\": 95, \"y0\": 0, \"y1\": 53.333333333333336}, {\"layer\": \"below\", \"line\": {\"color\": \"White\", \"width\": 0.5}, \"type\": \"line\", \"x0\": 105, \"x1\": 105, \"y0\": 0, \"y1\": 53.333333333333336}, {\"layer\": \"below\", \"line\": {\"color\": \"White\", \"width\": 0.5}, \"type\": \"line\", \"x0\": 11, \"x1\": 11, \"y0\": 29.73, \"y1\": 30.39}, {\"layer\": \"below\", \"line\": {\"color\": \"White\", \"width\": 0.5}, \"type\": \"line\", \"x0\": 11, \"x1\": 11, \"y0\": 22.91, \"y1\": 23.57}, {\"layer\": \"below\", \"line\": {\"color\": \"White\", \"width\": 0.5}, \"type\": \"line\", \"x0\": 11, \"x1\": 11, \"y0\": 0.0, \"y1\": 0.5}, {\"layer\": \"below\", \"line\": {\"color\": \"White\", \"width\": 0.5}, \"type\": \"line\", \"x0\": 11, \"x1\": 11, \"y0\": 52.5, \"y1\": 53}, {\"layer\": \"below\", \"line\": {\"color\": \"White\", \"width\": 0.5}, \"type\": \"line\", \"x0\": 12, \"x1\": 12, \"y0\": 29.73, \"y1\": 30.39}, {\"layer\": \"below\", \"line\": {\"color\": \"White\", \"width\": 0.5}, \"type\": \"line\", \"x0\": 12, \"x1\": 12, \"y0\": 22.91, \"y1\": 23.57}, {\"layer\": \"below\", \"line\": {\"color\": \"White\", \"width\": 0.5}, \"type\": \"line\", \"x0\": 12, \"x1\": 12, \"y0\": 0.0, \"y1\": 0.5}, {\"layer\": \"below\", \"line\": {\"color\": \"White\", \"width\": 0.5}, \"type\": \"line\", \"x0\": 12, \"x1\": 12, \"y0\": 52.5, \"y1\": 53}, {\"layer\": \"below\", \"line\": {\"color\": \"White\", \"width\": 0.5}, \"type\": \"line\", \"x0\": 13, \"x1\": 13, \"y0\": 29.73, \"y1\": 30.39}, {\"layer\": \"below\", \"line\": {\"color\": \"White\", \"width\": 0.5}, \"type\": \"line\", \"x0\": 13, \"x1\": 13, \"y0\": 22.91, \"y1\": 23.57}, {\"layer\": \"below\", \"line\": {\"color\": \"White\", \"width\": 0.5}, \"type\": \"line\", \"x0\": 13, \"x1\": 13, \"y0\": 0.0, \"y1\": 0.5}, {\"layer\": \"below\", \"line\": {\"color\": \"White\", \"width\": 0.5}, \"type\": \"line\", \"x0\": 13, \"x1\": 13, \"y0\": 52.5, \"y1\": 53}, {\"layer\": \"below\", \"line\": {\"color\": \"White\", \"width\": 0.5}, \"type\": \"line\", \"x0\": 14, \"x1\": 14, \"y0\": 29.73, \"y1\": 30.39}, {\"layer\": \"below\", \"line\": {\"color\": \"White\", \"width\": 0.5}, \"type\": \"line\", \"x0\": 14, \"x1\": 14, \"y0\": 22.91, \"y1\": 23.57}, {\"layer\": \"below\", \"line\": {\"color\": \"White\", \"width\": 0.5}, \"type\": \"line\", \"x0\": 14, \"x1\": 14, \"y0\": 0.0, \"y1\": 0.5}, {\"layer\": \"below\", \"line\": {\"color\": \"White\", \"width\": 0.5}, \"type\": \"line\", \"x0\": 14, \"x1\": 14, \"y0\": 52.5, \"y1\": 53}, {\"layer\": \"below\", \"line\": {\"color\": \"White\", \"width\": 0.5}, \"type\": \"line\", \"x0\": 15, \"x1\": 15, \"y0\": 29.73, \"y1\": 30.39}, {\"layer\": \"below\", \"line\": {\"color\": \"White\", \"width\": 0.5}, \"type\": \"line\", \"x0\": 15, \"x1\": 15, \"y0\": 22.91, \"y1\": 23.57}, {\"layer\": \"below\", \"line\": {\"color\": \"White\", \"width\": 0.5}, \"type\": \"line\", \"x0\": 15, \"x1\": 15, \"y0\": 0.0, \"y1\": 0.5}, {\"layer\": \"below\", \"line\": {\"color\": \"White\", \"width\": 0.5}, \"type\": \"line\", \"x0\": 15, \"x1\": 15, \"y0\": 52.5, \"y1\": 53}, {\"layer\": \"below\", \"line\": {\"color\": \"White\", \"width\": 0.5}, \"type\": \"line\", \"x0\": 16, \"x1\": 16, \"y0\": 29.73, \"y1\": 30.39}, {\"layer\": \"below\", \"line\": {\"color\": \"White\", \"width\": 0.5}, \"type\": \"line\", \"x0\": 16, \"x1\": 16, \"y0\": 22.91, \"y1\": 23.57}, {\"layer\": \"below\", \"line\": {\"color\": \"White\", \"width\": 0.5}, \"type\": \"line\", \"x0\": 16, \"x1\": 16, \"y0\": 0.0, \"y1\": 0.5}, {\"layer\": \"below\", \"line\": {\"color\": \"White\", \"width\": 0.5}, \"type\": \"line\", \"x0\": 16, \"x1\": 16, \"y0\": 52.5, \"y1\": 53}, {\"layer\": \"below\", \"line\": {\"color\": \"White\", \"width\": 0.5}, \"type\": \"line\", \"x0\": 17, \"x1\": 17, \"y0\": 29.73, \"y1\": 30.39}, {\"layer\": \"below\", \"line\": {\"color\": \"White\", \"width\": 0.5}, \"type\": \"line\", \"x0\": 17, \"x1\": 17, \"y0\": 22.91, \"y1\": 23.57}, {\"layer\": \"below\", \"line\": {\"color\": \"White\", \"width\": 0.5}, \"type\": \"line\", \"x0\": 17, \"x1\": 17, \"y0\": 0.0, \"y1\": 0.5}, {\"layer\": \"below\", \"line\": {\"color\": \"White\", \"width\": 0.5}, \"type\": \"line\", \"x0\": 17, \"x1\": 17, \"y0\": 52.5, \"y1\": 53}, {\"layer\": \"below\", \"line\": {\"color\": \"White\", \"width\": 0.5}, \"type\": \"line\", \"x0\": 18, \"x1\": 18, \"y0\": 29.73, \"y1\": 30.39}, {\"layer\": \"below\", \"line\": {\"color\": \"White\", \"width\": 0.5}, \"type\": \"line\", \"x0\": 18, \"x1\": 18, \"y0\": 22.91, \"y1\": 23.57}, {\"layer\": \"below\", \"line\": {\"color\": \"White\", \"width\": 0.5}, \"type\": \"line\", \"x0\": 18, \"x1\": 18, \"y0\": 0.0, \"y1\": 0.5}, {\"layer\": \"below\", \"line\": {\"color\": \"White\", \"width\": 0.5}, \"type\": \"line\", \"x0\": 18, \"x1\": 18, \"y0\": 52.5, \"y1\": 53}, {\"layer\": \"below\", \"line\": {\"color\": \"White\", \"width\": 0.5}, \"type\": \"line\", \"x0\": 19, \"x1\": 19, \"y0\": 29.73, \"y1\": 30.39}, {\"layer\": \"below\", \"line\": {\"color\": \"White\", \"width\": 0.5}, \"type\": \"line\", \"x0\": 19, \"x1\": 19, \"y0\": 22.91, \"y1\": 23.57}, {\"layer\": \"below\", \"line\": {\"color\": \"White\", \"width\": 0.5}, \"type\": \"line\", \"x0\": 19, \"x1\": 19, \"y0\": 0.0, \"y1\": 0.5}, {\"layer\": \"below\", \"line\": {\"color\": \"White\", \"width\": 0.5}, \"type\": \"line\", \"x0\": 19, \"x1\": 19, \"y0\": 52.5, \"y1\": 53}, {\"layer\": \"below\", \"line\": {\"color\": \"White\", \"width\": 0.5}, \"type\": \"line\", \"x0\": 20, \"x1\": 20, \"y0\": 29.73, \"y1\": 30.39}, {\"layer\": \"below\", \"line\": {\"color\": \"White\", \"width\": 0.5}, \"type\": \"line\", \"x0\": 20, \"x1\": 20, \"y0\": 22.91, \"y1\": 23.57}, {\"layer\": \"below\", \"line\": {\"color\": \"White\", \"width\": 0.5}, \"type\": \"line\", \"x0\": 20, \"x1\": 20, \"y0\": 0.0, \"y1\": 0.5}, {\"layer\": \"below\", \"line\": {\"color\": \"White\", \"width\": 0.5}, \"type\": \"line\", \"x0\": 20, \"x1\": 20, \"y0\": 52.5, \"y1\": 53}, {\"layer\": \"below\", \"line\": {\"color\": \"White\", \"width\": 0.5}, \"type\": \"line\", \"x0\": 21, \"x1\": 21, \"y0\": 29.73, \"y1\": 30.39}, {\"layer\": \"below\", \"line\": {\"color\": \"White\", \"width\": 0.5}, \"type\": \"line\", \"x0\": 21, \"x1\": 21, \"y0\": 22.91, \"y1\": 23.57}, {\"layer\": \"below\", \"line\": {\"color\": \"White\", \"width\": 0.5}, \"type\": \"line\", \"x0\": 21, \"x1\": 21, \"y0\": 0.0, \"y1\": 0.5}, {\"layer\": \"below\", \"line\": {\"color\": \"White\", \"width\": 0.5}, \"type\": \"line\", \"x0\": 21, \"x1\": 21, \"y0\": 52.5, \"y1\": 53}, {\"layer\": \"below\", \"line\": {\"color\": \"White\", \"width\": 0.5}, \"type\": \"line\", \"x0\": 22, \"x1\": 22, \"y0\": 29.73, \"y1\": 30.39}, {\"layer\": \"below\", \"line\": {\"color\": \"White\", \"width\": 0.5}, \"type\": \"line\", \"x0\": 22, \"x1\": 22, \"y0\": 22.91, \"y1\": 23.57}, {\"layer\": \"below\", \"line\": {\"color\": \"White\", \"width\": 0.5}, \"type\": \"line\", \"x0\": 22, \"x1\": 22, \"y0\": 0.0, \"y1\": 0.5}, {\"layer\": \"below\", \"line\": {\"color\": \"White\", \"width\": 0.5}, \"type\": \"line\", \"x0\": 22, \"x1\": 22, \"y0\": 52.5, \"y1\": 53}, {\"layer\": \"below\", \"line\": {\"color\": \"White\", \"width\": 0.5}, \"type\": \"line\", \"x0\": 23, \"x1\": 23, \"y0\": 29.73, \"y1\": 30.39}, {\"layer\": \"below\", \"line\": {\"color\": \"White\", \"width\": 0.5}, \"type\": \"line\", \"x0\": 23, \"x1\": 23, \"y0\": 22.91, \"y1\": 23.57}, {\"layer\": \"below\", \"line\": {\"color\": \"White\", \"width\": 0.5}, \"type\": \"line\", \"x0\": 23, \"x1\": 23, \"y0\": 0.0, \"y1\": 0.5}, {\"layer\": \"below\", \"line\": {\"color\": \"White\", \"width\": 0.5}, \"type\": \"line\", \"x0\": 23, \"x1\": 23, \"y0\": 52.5, \"y1\": 53}, {\"layer\": \"below\", \"line\": {\"color\": \"White\", \"width\": 0.5}, \"type\": \"line\", \"x0\": 24, \"x1\": 24, \"y0\": 29.73, \"y1\": 30.39}, {\"layer\": \"below\", \"line\": {\"color\": \"White\", \"width\": 0.5}, \"type\": \"line\", \"x0\": 24, \"x1\": 24, \"y0\": 22.91, \"y1\": 23.57}, {\"layer\": \"below\", \"line\": {\"color\": \"White\", \"width\": 0.5}, \"type\": \"line\", \"x0\": 24, \"x1\": 24, \"y0\": 0.0, \"y1\": 0.5}, {\"layer\": \"below\", \"line\": {\"color\": \"White\", \"width\": 0.5}, \"type\": \"line\", \"x0\": 24, \"x1\": 24, \"y0\": 52.5, \"y1\": 53}, {\"layer\": \"below\", \"line\": {\"color\": \"White\", \"width\": 0.5}, \"type\": \"line\", \"x0\": 25, \"x1\": 25, \"y0\": 29.73, \"y1\": 30.39}, {\"layer\": \"below\", \"line\": {\"color\": \"White\", \"width\": 0.5}, \"type\": \"line\", \"x0\": 25, \"x1\": 25, \"y0\": 22.91, \"y1\": 23.57}, {\"layer\": \"below\", \"line\": {\"color\": \"White\", \"width\": 0.5}, \"type\": \"line\", \"x0\": 25, \"x1\": 25, \"y0\": 0.0, \"y1\": 0.5}, {\"layer\": \"below\", \"line\": {\"color\": \"White\", \"width\": 0.5}, \"type\": \"line\", \"x0\": 25, \"x1\": 25, \"y0\": 52.5, \"y1\": 53}, {\"layer\": \"below\", \"line\": {\"color\": \"White\", \"width\": 0.5}, \"type\": \"line\", \"x0\": 26, \"x1\": 26, \"y0\": 29.73, \"y1\": 30.39}, {\"layer\": \"below\", \"line\": {\"color\": \"White\", \"width\": 0.5}, \"type\": \"line\", \"x0\": 26, \"x1\": 26, \"y0\": 22.91, \"y1\": 23.57}, {\"layer\": \"below\", \"line\": {\"color\": \"White\", \"width\": 0.5}, \"type\": \"line\", \"x0\": 26, \"x1\": 26, \"y0\": 0.0, \"y1\": 0.5}, {\"layer\": \"below\", \"line\": {\"color\": \"White\", \"width\": 0.5}, \"type\": \"line\", \"x0\": 26, \"x1\": 26, \"y0\": 52.5, \"y1\": 53}, {\"layer\": \"below\", \"line\": {\"color\": \"White\", \"width\": 0.5}, \"type\": \"line\", \"x0\": 27, \"x1\": 27, \"y0\": 29.73, \"y1\": 30.39}, {\"layer\": \"below\", \"line\": {\"color\": \"White\", \"width\": 0.5}, \"type\": \"line\", \"x0\": 27, \"x1\": 27, \"y0\": 22.91, \"y1\": 23.57}, {\"layer\": \"below\", \"line\": {\"color\": \"White\", \"width\": 0.5}, \"type\": \"line\", \"x0\": 27, \"x1\": 27, \"y0\": 0.0, \"y1\": 0.5}, {\"layer\": \"below\", \"line\": {\"color\": \"White\", \"width\": 0.5}, \"type\": \"line\", \"x0\": 27, \"x1\": 27, \"y0\": 52.5, \"y1\": 53}, {\"layer\": \"below\", \"line\": {\"color\": \"White\", \"width\": 0.5}, \"type\": \"line\", \"x0\": 28, \"x1\": 28, \"y0\": 29.73, \"y1\": 30.39}, {\"layer\": \"below\", \"line\": {\"color\": \"White\", \"width\": 0.5}, \"type\": \"line\", \"x0\": 28, \"x1\": 28, \"y0\": 22.91, \"y1\": 23.57}, {\"layer\": \"below\", \"line\": {\"color\": \"White\", \"width\": 0.5}, \"type\": \"line\", \"x0\": 28, \"x1\": 28, \"y0\": 0.0, \"y1\": 0.5}, {\"layer\": \"below\", \"line\": {\"color\": \"White\", \"width\": 0.5}, \"type\": \"line\", \"x0\": 28, \"x1\": 28, \"y0\": 52.5, \"y1\": 53}, {\"layer\": \"below\", \"line\": {\"color\": \"White\", \"width\": 0.5}, \"type\": \"line\", \"x0\": 29, \"x1\": 29, \"y0\": 29.73, \"y1\": 30.39}, {\"layer\": \"below\", \"line\": {\"color\": \"White\", \"width\": 0.5}, \"type\": \"line\", \"x0\": 29, \"x1\": 29, \"y0\": 22.91, \"y1\": 23.57}, {\"layer\": \"below\", \"line\": {\"color\": \"White\", \"width\": 0.5}, \"type\": \"line\", \"x0\": 29, \"x1\": 29, \"y0\": 0.0, \"y1\": 0.5}, {\"layer\": \"below\", \"line\": {\"color\": \"White\", \"width\": 0.5}, \"type\": \"line\", \"x0\": 29, \"x1\": 29, \"y0\": 52.5, \"y1\": 53}, {\"layer\": \"below\", \"line\": {\"color\": \"White\", \"width\": 0.5}, \"type\": \"line\", \"x0\": 30, \"x1\": 30, \"y0\": 29.73, \"y1\": 30.39}, {\"layer\": \"below\", \"line\": {\"color\": \"White\", \"width\": 0.5}, \"type\": \"line\", \"x0\": 30, \"x1\": 30, \"y0\": 22.91, \"y1\": 23.57}, {\"layer\": \"below\", \"line\": {\"color\": \"White\", \"width\": 0.5}, \"type\": \"line\", \"x0\": 30, \"x1\": 30, \"y0\": 0.0, \"y1\": 0.5}, {\"layer\": \"below\", \"line\": {\"color\": \"White\", \"width\": 0.5}, \"type\": \"line\", \"x0\": 30, \"x1\": 30, \"y0\": 52.5, \"y1\": 53}, {\"layer\": \"below\", \"line\": {\"color\": \"White\", \"width\": 0.5}, \"type\": \"line\", \"x0\": 31, \"x1\": 31, \"y0\": 29.73, \"y1\": 30.39}, {\"layer\": \"below\", \"line\": {\"color\": \"White\", \"width\": 0.5}, \"type\": \"line\", \"x0\": 31, \"x1\": 31, \"y0\": 22.91, \"y1\": 23.57}, {\"layer\": \"below\", \"line\": {\"color\": \"White\", \"width\": 0.5}, \"type\": \"line\", \"x0\": 31, \"x1\": 31, \"y0\": 0.0, \"y1\": 0.5}, {\"layer\": \"below\", \"line\": {\"color\": \"White\", \"width\": 0.5}, \"type\": \"line\", \"x0\": 31, \"x1\": 31, \"y0\": 52.5, \"y1\": 53}, {\"layer\": \"below\", \"line\": {\"color\": \"White\", \"width\": 0.5}, \"type\": \"line\", \"x0\": 32, \"x1\": 32, \"y0\": 29.73, \"y1\": 30.39}, {\"layer\": \"below\", \"line\": {\"color\": \"White\", \"width\": 0.5}, \"type\": \"line\", \"x0\": 32, \"x1\": 32, \"y0\": 22.91, \"y1\": 23.57}, {\"layer\": \"below\", \"line\": {\"color\": \"White\", \"width\": 0.5}, \"type\": \"line\", \"x0\": 32, \"x1\": 32, \"y0\": 0.0, \"y1\": 0.5}, {\"layer\": \"below\", \"line\": {\"color\": \"White\", \"width\": 0.5}, \"type\": \"line\", \"x0\": 32, \"x1\": 32, \"y0\": 52.5, \"y1\": 53}, {\"layer\": \"below\", \"line\": {\"color\": \"White\", \"width\": 0.5}, \"type\": \"line\", \"x0\": 33, \"x1\": 33, \"y0\": 29.73, \"y1\": 30.39}, {\"layer\": \"below\", \"line\": {\"color\": \"White\", \"width\": 0.5}, \"type\": \"line\", \"x0\": 33, \"x1\": 33, \"y0\": 22.91, \"y1\": 23.57}, {\"layer\": \"below\", \"line\": {\"color\": \"White\", \"width\": 0.5}, \"type\": \"line\", \"x0\": 33, \"x1\": 33, \"y0\": 0.0, \"y1\": 0.5}, {\"layer\": \"below\", \"line\": {\"color\": \"White\", \"width\": 0.5}, \"type\": \"line\", \"x0\": 33, \"x1\": 33, \"y0\": 52.5, \"y1\": 53}, {\"layer\": \"below\", \"line\": {\"color\": \"White\", \"width\": 0.5}, \"type\": \"line\", \"x0\": 34, \"x1\": 34, \"y0\": 29.73, \"y1\": 30.39}, {\"layer\": \"below\", \"line\": {\"color\": \"White\", \"width\": 0.5}, \"type\": \"line\", \"x0\": 34, \"x1\": 34, \"y0\": 22.91, \"y1\": 23.57}, {\"layer\": \"below\", \"line\": {\"color\": \"White\", \"width\": 0.5}, \"type\": \"line\", \"x0\": 34, \"x1\": 34, \"y0\": 0.0, \"y1\": 0.5}, {\"layer\": \"below\", \"line\": {\"color\": \"White\", \"width\": 0.5}, \"type\": \"line\", \"x0\": 34, \"x1\": 34, \"y0\": 52.5, \"y1\": 53}, {\"layer\": \"below\", \"line\": {\"color\": \"White\", \"width\": 0.5}, \"type\": \"line\", \"x0\": 35, \"x1\": 35, \"y0\": 29.73, \"y1\": 30.39}, {\"layer\": \"below\", \"line\": {\"color\": \"White\", \"width\": 0.5}, \"type\": \"line\", \"x0\": 35, \"x1\": 35, \"y0\": 22.91, \"y1\": 23.57}, {\"layer\": \"below\", \"line\": {\"color\": \"White\", \"width\": 0.5}, \"type\": \"line\", \"x0\": 35, \"x1\": 35, \"y0\": 0.0, \"y1\": 0.5}, {\"layer\": \"below\", \"line\": {\"color\": \"White\", \"width\": 0.5}, \"type\": \"line\", \"x0\": 35, \"x1\": 35, \"y0\": 52.5, \"y1\": 53}, {\"layer\": \"below\", \"line\": {\"color\": \"White\", \"width\": 0.5}, \"type\": \"line\", \"x0\": 36, \"x1\": 36, \"y0\": 29.73, \"y1\": 30.39}, {\"layer\": \"below\", \"line\": {\"color\": \"White\", \"width\": 0.5}, \"type\": \"line\", \"x0\": 36, \"x1\": 36, \"y0\": 22.91, \"y1\": 23.57}, {\"layer\": \"below\", \"line\": {\"color\": \"White\", \"width\": 0.5}, \"type\": \"line\", \"x0\": 36, \"x1\": 36, \"y0\": 0.0, \"y1\": 0.5}, {\"layer\": \"below\", \"line\": {\"color\": \"White\", \"width\": 0.5}, \"type\": \"line\", \"x0\": 36, \"x1\": 36, \"y0\": 52.5, \"y1\": 53}, {\"layer\": \"below\", \"line\": {\"color\": \"White\", \"width\": 0.5}, \"type\": \"line\", \"x0\": 37, \"x1\": 37, \"y0\": 29.73, \"y1\": 30.39}, {\"layer\": \"below\", \"line\": {\"color\": \"White\", \"width\": 0.5}, \"type\": \"line\", \"x0\": 37, \"x1\": 37, \"y0\": 22.91, \"y1\": 23.57}, {\"layer\": \"below\", \"line\": {\"color\": \"White\", \"width\": 0.5}, \"type\": \"line\", \"x0\": 37, \"x1\": 37, \"y0\": 0.0, \"y1\": 0.5}, {\"layer\": \"below\", \"line\": {\"color\": \"White\", \"width\": 0.5}, \"type\": \"line\", \"x0\": 37, \"x1\": 37, \"y0\": 52.5, \"y1\": 53}, {\"layer\": \"below\", \"line\": {\"color\": \"White\", \"width\": 0.5}, \"type\": \"line\", \"x0\": 38, \"x1\": 38, \"y0\": 29.73, \"y1\": 30.39}, {\"layer\": \"below\", \"line\": {\"color\": \"White\", \"width\": 0.5}, \"type\": \"line\", \"x0\": 38, \"x1\": 38, \"y0\": 22.91, \"y1\": 23.57}, {\"layer\": \"below\", \"line\": {\"color\": \"White\", \"width\": 0.5}, \"type\": \"line\", \"x0\": 38, \"x1\": 38, \"y0\": 0.0, \"y1\": 0.5}, {\"layer\": \"below\", \"line\": {\"color\": \"White\", \"width\": 0.5}, \"type\": \"line\", \"x0\": 38, \"x1\": 38, \"y0\": 52.5, \"y1\": 53}, {\"layer\": \"below\", \"line\": {\"color\": \"White\", \"width\": 0.5}, \"type\": \"line\", \"x0\": 39, \"x1\": 39, \"y0\": 29.73, \"y1\": 30.39}, {\"layer\": \"below\", \"line\": {\"color\": \"White\", \"width\": 0.5}, \"type\": \"line\", \"x0\": 39, \"x1\": 39, \"y0\": 22.91, \"y1\": 23.57}, {\"layer\": \"below\", \"line\": {\"color\": \"White\", \"width\": 0.5}, \"type\": \"line\", \"x0\": 39, \"x1\": 39, \"y0\": 0.0, \"y1\": 0.5}, {\"layer\": \"below\", \"line\": {\"color\": \"White\", \"width\": 0.5}, \"type\": \"line\", \"x0\": 39, \"x1\": 39, \"y0\": 52.5, \"y1\": 53}, {\"layer\": \"below\", \"line\": {\"color\": \"White\", \"width\": 0.5}, \"type\": \"line\", \"x0\": 40, \"x1\": 40, \"y0\": 29.73, \"y1\": 30.39}, {\"layer\": \"below\", \"line\": {\"color\": \"White\", \"width\": 0.5}, \"type\": \"line\", \"x0\": 40, \"x1\": 40, \"y0\": 22.91, \"y1\": 23.57}, {\"layer\": \"below\", \"line\": {\"color\": \"White\", \"width\": 0.5}, \"type\": \"line\", \"x0\": 40, \"x1\": 40, \"y0\": 0.0, \"y1\": 0.5}, {\"layer\": \"below\", \"line\": {\"color\": \"White\", \"width\": 0.5}, \"type\": \"line\", \"x0\": 40, \"x1\": 40, \"y0\": 52.5, \"y1\": 53}, {\"layer\": \"below\", \"line\": {\"color\": \"White\", \"width\": 0.5}, \"type\": \"line\", \"x0\": 41, \"x1\": 41, \"y0\": 29.73, \"y1\": 30.39}, {\"layer\": \"below\", \"line\": {\"color\": \"White\", \"width\": 0.5}, \"type\": \"line\", \"x0\": 41, \"x1\": 41, \"y0\": 22.91, \"y1\": 23.57}, {\"layer\": \"below\", \"line\": {\"color\": \"White\", \"width\": 0.5}, \"type\": \"line\", \"x0\": 41, \"x1\": 41, \"y0\": 0.0, \"y1\": 0.5}, {\"layer\": \"below\", \"line\": {\"color\": \"White\", \"width\": 0.5}, \"type\": \"line\", \"x0\": 41, \"x1\": 41, \"y0\": 52.5, \"y1\": 53}, {\"layer\": \"below\", \"line\": {\"color\": \"White\", \"width\": 0.5}, \"type\": \"line\", \"x0\": 42, \"x1\": 42, \"y0\": 29.73, \"y1\": 30.39}, {\"layer\": \"below\", \"line\": {\"color\": \"White\", \"width\": 0.5}, \"type\": \"line\", \"x0\": 42, \"x1\": 42, \"y0\": 22.91, \"y1\": 23.57}, {\"layer\": \"below\", \"line\": {\"color\": \"White\", \"width\": 0.5}, \"type\": \"line\", \"x0\": 42, \"x1\": 42, \"y0\": 0.0, \"y1\": 0.5}, {\"layer\": \"below\", \"line\": {\"color\": \"White\", \"width\": 0.5}, \"type\": \"line\", \"x0\": 42, \"x1\": 42, \"y0\": 52.5, \"y1\": 53}, {\"layer\": \"below\", \"line\": {\"color\": \"White\", \"width\": 0.5}, \"type\": \"line\", \"x0\": 43, \"x1\": 43, \"y0\": 29.73, \"y1\": 30.39}, {\"layer\": \"below\", \"line\": {\"color\": \"White\", \"width\": 0.5}, \"type\": \"line\", \"x0\": 43, \"x1\": 43, \"y0\": 22.91, \"y1\": 23.57}, {\"layer\": \"below\", \"line\": {\"color\": \"White\", \"width\": 0.5}, \"type\": \"line\", \"x0\": 43, \"x1\": 43, \"y0\": 0.0, \"y1\": 0.5}, {\"layer\": \"below\", \"line\": {\"color\": \"White\", \"width\": 0.5}, \"type\": \"line\", \"x0\": 43, \"x1\": 43, \"y0\": 52.5, \"y1\": 53}, {\"layer\": \"below\", \"line\": {\"color\": \"White\", \"width\": 0.5}, \"type\": \"line\", \"x0\": 44, \"x1\": 44, \"y0\": 29.73, \"y1\": 30.39}, {\"layer\": \"below\", \"line\": {\"color\": \"White\", \"width\": 0.5}, \"type\": \"line\", \"x0\": 44, \"x1\": 44, \"y0\": 22.91, \"y1\": 23.57}, {\"layer\": \"below\", \"line\": {\"color\": \"White\", \"width\": 0.5}, \"type\": \"line\", \"x0\": 44, \"x1\": 44, \"y0\": 0.0, \"y1\": 0.5}, {\"layer\": \"below\", \"line\": {\"color\": \"White\", \"width\": 0.5}, \"type\": \"line\", \"x0\": 44, \"x1\": 44, \"y0\": 52.5, \"y1\": 53}, {\"layer\": \"below\", \"line\": {\"color\": \"White\", \"width\": 0.5}, \"type\": \"line\", \"x0\": 45, \"x1\": 45, \"y0\": 29.73, \"y1\": 30.39}, {\"layer\": \"below\", \"line\": {\"color\": \"White\", \"width\": 0.5}, \"type\": \"line\", \"x0\": 45, \"x1\": 45, \"y0\": 22.91, \"y1\": 23.57}, {\"layer\": \"below\", \"line\": {\"color\": \"White\", \"width\": 0.5}, \"type\": \"line\", \"x0\": 45, \"x1\": 45, \"y0\": 0.0, \"y1\": 0.5}, {\"layer\": \"below\", \"line\": {\"color\": \"White\", \"width\": 0.5}, \"type\": \"line\", \"x0\": 45, \"x1\": 45, \"y0\": 52.5, \"y1\": 53}, {\"layer\": \"below\", \"line\": {\"color\": \"White\", \"width\": 0.5}, \"type\": \"line\", \"x0\": 46, \"x1\": 46, \"y0\": 29.73, \"y1\": 30.39}, {\"layer\": \"below\", \"line\": {\"color\": \"White\", \"width\": 0.5}, \"type\": \"line\", \"x0\": 46, \"x1\": 46, \"y0\": 22.91, \"y1\": 23.57}, {\"layer\": \"below\", \"line\": {\"color\": \"White\", \"width\": 0.5}, \"type\": \"line\", \"x0\": 46, \"x1\": 46, \"y0\": 0.0, \"y1\": 0.5}, {\"layer\": \"below\", \"line\": {\"color\": \"White\", \"width\": 0.5}, \"type\": \"line\", \"x0\": 46, \"x1\": 46, \"y0\": 52.5, \"y1\": 53}, {\"layer\": \"below\", \"line\": {\"color\": \"White\", \"width\": 0.5}, \"type\": \"line\", \"x0\": 47, \"x1\": 47, \"y0\": 29.73, \"y1\": 30.39}, {\"layer\": \"below\", \"line\": {\"color\": \"White\", \"width\": 0.5}, \"type\": \"line\", \"x0\": 47, \"x1\": 47, \"y0\": 22.91, \"y1\": 23.57}, {\"layer\": \"below\", \"line\": {\"color\": \"White\", \"width\": 0.5}, \"type\": \"line\", \"x0\": 47, \"x1\": 47, \"y0\": 0.0, \"y1\": 0.5}, {\"layer\": \"below\", \"line\": {\"color\": \"White\", \"width\": 0.5}, \"type\": \"line\", \"x0\": 47, \"x1\": 47, \"y0\": 52.5, \"y1\": 53}, {\"layer\": \"below\", \"line\": {\"color\": \"White\", \"width\": 0.5}, \"type\": \"line\", \"x0\": 48, \"x1\": 48, \"y0\": 29.73, \"y1\": 30.39}, {\"layer\": \"below\", \"line\": {\"color\": \"White\", \"width\": 0.5}, \"type\": \"line\", \"x0\": 48, \"x1\": 48, \"y0\": 22.91, \"y1\": 23.57}, {\"layer\": \"below\", \"line\": {\"color\": \"White\", \"width\": 0.5}, \"type\": \"line\", \"x0\": 48, \"x1\": 48, \"y0\": 0.0, \"y1\": 0.5}, {\"layer\": \"below\", \"line\": {\"color\": \"White\", \"width\": 0.5}, \"type\": \"line\", \"x0\": 48, \"x1\": 48, \"y0\": 52.5, \"y1\": 53}, {\"layer\": \"below\", \"line\": {\"color\": \"White\", \"width\": 0.5}, \"type\": \"line\", \"x0\": 49, \"x1\": 49, \"y0\": 29.73, \"y1\": 30.39}, {\"layer\": \"below\", \"line\": {\"color\": \"White\", \"width\": 0.5}, \"type\": \"line\", \"x0\": 49, \"x1\": 49, \"y0\": 22.91, \"y1\": 23.57}, {\"layer\": \"below\", \"line\": {\"color\": \"White\", \"width\": 0.5}, \"type\": \"line\", \"x0\": 49, \"x1\": 49, \"y0\": 0.0, \"y1\": 0.5}, {\"layer\": \"below\", \"line\": {\"color\": \"White\", \"width\": 0.5}, \"type\": \"line\", \"x0\": 49, \"x1\": 49, \"y0\": 52.5, \"y1\": 53}, {\"layer\": \"below\", \"line\": {\"color\": \"White\", \"width\": 0.5}, \"type\": \"line\", \"x0\": 50, \"x1\": 50, \"y0\": 29.73, \"y1\": 30.39}, {\"layer\": \"below\", \"line\": {\"color\": \"White\", \"width\": 0.5}, \"type\": \"line\", \"x0\": 50, \"x1\": 50, \"y0\": 22.91, \"y1\": 23.57}, {\"layer\": \"below\", \"line\": {\"color\": \"White\", \"width\": 0.5}, \"type\": \"line\", \"x0\": 50, \"x1\": 50, \"y0\": 0.0, \"y1\": 0.5}, {\"layer\": \"below\", \"line\": {\"color\": \"White\", \"width\": 0.5}, \"type\": \"line\", \"x0\": 50, \"x1\": 50, \"y0\": 52.5, \"y1\": 53}, {\"layer\": \"below\", \"line\": {\"color\": \"White\", \"width\": 0.5}, \"type\": \"line\", \"x0\": 51, \"x1\": 51, \"y0\": 29.73, \"y1\": 30.39}, {\"layer\": \"below\", \"line\": {\"color\": \"White\", \"width\": 0.5}, \"type\": \"line\", \"x0\": 51, \"x1\": 51, \"y0\": 22.91, \"y1\": 23.57}, {\"layer\": \"below\", \"line\": {\"color\": \"White\", \"width\": 0.5}, \"type\": \"line\", \"x0\": 51, \"x1\": 51, \"y0\": 0.0, \"y1\": 0.5}, {\"layer\": \"below\", \"line\": {\"color\": \"White\", \"width\": 0.5}, \"type\": \"line\", \"x0\": 51, \"x1\": 51, \"y0\": 52.5, \"y1\": 53}, {\"layer\": \"below\", \"line\": {\"color\": \"White\", \"width\": 0.5}, \"type\": \"line\", \"x0\": 52, \"x1\": 52, \"y0\": 29.73, \"y1\": 30.39}, {\"layer\": \"below\", \"line\": {\"color\": \"White\", \"width\": 0.5}, \"type\": \"line\", \"x0\": 52, \"x1\": 52, \"y0\": 22.91, \"y1\": 23.57}, {\"layer\": \"below\", \"line\": {\"color\": \"White\", \"width\": 0.5}, \"type\": \"line\", \"x0\": 52, \"x1\": 52, \"y0\": 0.0, \"y1\": 0.5}, {\"layer\": \"below\", \"line\": {\"color\": \"White\", \"width\": 0.5}, \"type\": \"line\", \"x0\": 52, \"x1\": 52, \"y0\": 52.5, \"y1\": 53}, {\"layer\": \"below\", \"line\": {\"color\": \"White\", \"width\": 0.5}, \"type\": \"line\", \"x0\": 53, \"x1\": 53, \"y0\": 29.73, \"y1\": 30.39}, {\"layer\": \"below\", \"line\": {\"color\": \"White\", \"width\": 0.5}, \"type\": \"line\", \"x0\": 53, \"x1\": 53, \"y0\": 22.91, \"y1\": 23.57}, {\"layer\": \"below\", \"line\": {\"color\": \"White\", \"width\": 0.5}, \"type\": \"line\", \"x0\": 53, \"x1\": 53, \"y0\": 0.0, \"y1\": 0.5}, {\"layer\": \"below\", \"line\": {\"color\": \"White\", \"width\": 0.5}, \"type\": \"line\", \"x0\": 53, \"x1\": 53, \"y0\": 52.5, \"y1\": 53}, {\"layer\": \"below\", \"line\": {\"color\": \"White\", \"width\": 0.5}, \"type\": \"line\", \"x0\": 54, \"x1\": 54, \"y0\": 29.73, \"y1\": 30.39}, {\"layer\": \"below\", \"line\": {\"color\": \"White\", \"width\": 0.5}, \"type\": \"line\", \"x0\": 54, \"x1\": 54, \"y0\": 22.91, \"y1\": 23.57}, {\"layer\": \"below\", \"line\": {\"color\": \"White\", \"width\": 0.5}, \"type\": \"line\", \"x0\": 54, \"x1\": 54, \"y0\": 0.0, \"y1\": 0.5}, {\"layer\": \"below\", \"line\": {\"color\": \"White\", \"width\": 0.5}, \"type\": \"line\", \"x0\": 54, \"x1\": 54, \"y0\": 52.5, \"y1\": 53}, {\"layer\": \"below\", \"line\": {\"color\": \"White\", \"width\": 0.5}, \"type\": \"line\", \"x0\": 55, \"x1\": 55, \"y0\": 29.73, \"y1\": 30.39}, {\"layer\": \"below\", \"line\": {\"color\": \"White\", \"width\": 0.5}, \"type\": \"line\", \"x0\": 55, \"x1\": 55, \"y0\": 22.91, \"y1\": 23.57}, {\"layer\": \"below\", \"line\": {\"color\": \"White\", \"width\": 0.5}, \"type\": \"line\", \"x0\": 55, \"x1\": 55, \"y0\": 0.0, \"y1\": 0.5}, {\"layer\": \"below\", \"line\": {\"color\": \"White\", \"width\": 0.5}, \"type\": \"line\", \"x0\": 55, \"x1\": 55, \"y0\": 52.5, \"y1\": 53}, {\"layer\": \"below\", \"line\": {\"color\": \"White\", \"width\": 0.5}, \"type\": \"line\", \"x0\": 56, \"x1\": 56, \"y0\": 29.73, \"y1\": 30.39}, {\"layer\": \"below\", \"line\": {\"color\": \"White\", \"width\": 0.5}, \"type\": \"line\", \"x0\": 56, \"x1\": 56, \"y0\": 22.91, \"y1\": 23.57}, {\"layer\": \"below\", \"line\": {\"color\": \"White\", \"width\": 0.5}, \"type\": \"line\", \"x0\": 56, \"x1\": 56, \"y0\": 0.0, \"y1\": 0.5}, {\"layer\": \"below\", \"line\": {\"color\": \"White\", \"width\": 0.5}, \"type\": \"line\", \"x0\": 56, \"x1\": 56, \"y0\": 52.5, \"y1\": 53}, {\"layer\": \"below\", \"line\": {\"color\": \"White\", \"width\": 0.5}, \"type\": \"line\", \"x0\": 57, \"x1\": 57, \"y0\": 29.73, \"y1\": 30.39}, {\"layer\": \"below\", \"line\": {\"color\": \"White\", \"width\": 0.5}, \"type\": \"line\", \"x0\": 57, \"x1\": 57, \"y0\": 22.91, \"y1\": 23.57}, {\"layer\": \"below\", \"line\": {\"color\": \"White\", \"width\": 0.5}, \"type\": \"line\", \"x0\": 57, \"x1\": 57, \"y0\": 0.0, \"y1\": 0.5}, {\"layer\": \"below\", \"line\": {\"color\": \"White\", \"width\": 0.5}, \"type\": \"line\", \"x0\": 57, \"x1\": 57, \"y0\": 52.5, \"y1\": 53}, {\"layer\": \"below\", \"line\": {\"color\": \"White\", \"width\": 0.5}, \"type\": \"line\", \"x0\": 58, \"x1\": 58, \"y0\": 29.73, \"y1\": 30.39}, {\"layer\": \"below\", \"line\": {\"color\": \"White\", \"width\": 0.5}, \"type\": \"line\", \"x0\": 58, \"x1\": 58, \"y0\": 22.91, \"y1\": 23.57}, {\"layer\": \"below\", \"line\": {\"color\": \"White\", \"width\": 0.5}, \"type\": \"line\", \"x0\": 58, \"x1\": 58, \"y0\": 0.0, \"y1\": 0.5}, {\"layer\": \"below\", \"line\": {\"color\": \"White\", \"width\": 0.5}, \"type\": \"line\", \"x0\": 58, \"x1\": 58, \"y0\": 52.5, \"y1\": 53}, {\"layer\": \"below\", \"line\": {\"color\": \"White\", \"width\": 0.5}, \"type\": \"line\", \"x0\": 59, \"x1\": 59, \"y0\": 29.73, \"y1\": 30.39}, {\"layer\": \"below\", \"line\": {\"color\": \"White\", \"width\": 0.5}, \"type\": \"line\", \"x0\": 59, \"x1\": 59, \"y0\": 22.91, \"y1\": 23.57}, {\"layer\": \"below\", \"line\": {\"color\": \"White\", \"width\": 0.5}, \"type\": \"line\", \"x0\": 59, \"x1\": 59, \"y0\": 0.0, \"y1\": 0.5}, {\"layer\": \"below\", \"line\": {\"color\": \"White\", \"width\": 0.5}, \"type\": \"line\", \"x0\": 59, \"x1\": 59, \"y0\": 52.5, \"y1\": 53}, {\"layer\": \"below\", \"line\": {\"color\": \"White\", \"width\": 0.5}, \"type\": \"line\", \"x0\": 60, \"x1\": 60, \"y0\": 29.73, \"y1\": 30.39}, {\"layer\": \"below\", \"line\": {\"color\": \"White\", \"width\": 0.5}, \"type\": \"line\", \"x0\": 60, \"x1\": 60, \"y0\": 22.91, \"y1\": 23.57}, {\"layer\": \"below\", \"line\": {\"color\": \"White\", \"width\": 0.5}, \"type\": \"line\", \"x0\": 60, \"x1\": 60, \"y0\": 0.0, \"y1\": 0.5}, {\"layer\": \"below\", \"line\": {\"color\": \"White\", \"width\": 0.5}, \"type\": \"line\", \"x0\": 60, \"x1\": 60, \"y0\": 52.5, \"y1\": 53}, {\"layer\": \"below\", \"line\": {\"color\": \"White\", \"width\": 0.5}, \"type\": \"line\", \"x0\": 61, \"x1\": 61, \"y0\": 29.73, \"y1\": 30.39}, {\"layer\": \"below\", \"line\": {\"color\": \"White\", \"width\": 0.5}, \"type\": \"line\", \"x0\": 61, \"x1\": 61, \"y0\": 22.91, \"y1\": 23.57}, {\"layer\": \"below\", \"line\": {\"color\": \"White\", \"width\": 0.5}, \"type\": \"line\", \"x0\": 61, \"x1\": 61, \"y0\": 0.0, \"y1\": 0.5}, {\"layer\": \"below\", \"line\": {\"color\": \"White\", \"width\": 0.5}, \"type\": \"line\", \"x0\": 61, \"x1\": 61, \"y0\": 52.5, \"y1\": 53}, {\"layer\": \"below\", \"line\": {\"color\": \"White\", \"width\": 0.5}, \"type\": \"line\", \"x0\": 62, \"x1\": 62, \"y0\": 29.73, \"y1\": 30.39}, {\"layer\": \"below\", \"line\": {\"color\": \"White\", \"width\": 0.5}, \"type\": \"line\", \"x0\": 62, \"x1\": 62, \"y0\": 22.91, \"y1\": 23.57}, {\"layer\": \"below\", \"line\": {\"color\": \"White\", \"width\": 0.5}, \"type\": \"line\", \"x0\": 62, \"x1\": 62, \"y0\": 0.0, \"y1\": 0.5}, {\"layer\": \"below\", \"line\": {\"color\": \"White\", \"width\": 0.5}, \"type\": \"line\", \"x0\": 62, \"x1\": 62, \"y0\": 52.5, \"y1\": 53}, {\"layer\": \"below\", \"line\": {\"color\": \"White\", \"width\": 0.5}, \"type\": \"line\", \"x0\": 63, \"x1\": 63, \"y0\": 29.73, \"y1\": 30.39}, {\"layer\": \"below\", \"line\": {\"color\": \"White\", \"width\": 0.5}, \"type\": \"line\", \"x0\": 63, \"x1\": 63, \"y0\": 22.91, \"y1\": 23.57}, {\"layer\": \"below\", \"line\": {\"color\": \"White\", \"width\": 0.5}, \"type\": \"line\", \"x0\": 63, \"x1\": 63, \"y0\": 0.0, \"y1\": 0.5}, {\"layer\": \"below\", \"line\": {\"color\": \"White\", \"width\": 0.5}, \"type\": \"line\", \"x0\": 63, \"x1\": 63, \"y0\": 52.5, \"y1\": 53}, {\"layer\": \"below\", \"line\": {\"color\": \"White\", \"width\": 0.5}, \"type\": \"line\", \"x0\": 64, \"x1\": 64, \"y0\": 29.73, \"y1\": 30.39}, {\"layer\": \"below\", \"line\": {\"color\": \"White\", \"width\": 0.5}, \"type\": \"line\", \"x0\": 64, \"x1\": 64, \"y0\": 22.91, \"y1\": 23.57}, {\"layer\": \"below\", \"line\": {\"color\": \"White\", \"width\": 0.5}, \"type\": \"line\", \"x0\": 64, \"x1\": 64, \"y0\": 0.0, \"y1\": 0.5}, {\"layer\": \"below\", \"line\": {\"color\": \"White\", \"width\": 0.5}, \"type\": \"line\", \"x0\": 64, \"x1\": 64, \"y0\": 52.5, \"y1\": 53}, {\"layer\": \"below\", \"line\": {\"color\": \"White\", \"width\": 0.5}, \"type\": \"line\", \"x0\": 65, \"x1\": 65, \"y0\": 29.73, \"y1\": 30.39}, {\"layer\": \"below\", \"line\": {\"color\": \"White\", \"width\": 0.5}, \"type\": \"line\", \"x0\": 65, \"x1\": 65, \"y0\": 22.91, \"y1\": 23.57}, {\"layer\": \"below\", \"line\": {\"color\": \"White\", \"width\": 0.5}, \"type\": \"line\", \"x0\": 65, \"x1\": 65, \"y0\": 0.0, \"y1\": 0.5}, {\"layer\": \"below\", \"line\": {\"color\": \"White\", \"width\": 0.5}, \"type\": \"line\", \"x0\": 65, \"x1\": 65, \"y0\": 52.5, \"y1\": 53}, {\"layer\": \"below\", \"line\": {\"color\": \"White\", \"width\": 0.5}, \"type\": \"line\", \"x0\": 66, \"x1\": 66, \"y0\": 29.73, \"y1\": 30.39}, {\"layer\": \"below\", \"line\": {\"color\": \"White\", \"width\": 0.5}, \"type\": \"line\", \"x0\": 66, \"x1\": 66, \"y0\": 22.91, \"y1\": 23.57}, {\"layer\": \"below\", \"line\": {\"color\": \"White\", \"width\": 0.5}, \"type\": \"line\", \"x0\": 66, \"x1\": 66, \"y0\": 0.0, \"y1\": 0.5}, {\"layer\": \"below\", \"line\": {\"color\": \"White\", \"width\": 0.5}, \"type\": \"line\", \"x0\": 66, \"x1\": 66, \"y0\": 52.5, \"y1\": 53}, {\"layer\": \"below\", \"line\": {\"color\": \"White\", \"width\": 0.5}, \"type\": \"line\", \"x0\": 67, \"x1\": 67, \"y0\": 29.73, \"y1\": 30.39}, {\"layer\": \"below\", \"line\": {\"color\": \"White\", \"width\": 0.5}, \"type\": \"line\", \"x0\": 67, \"x1\": 67, \"y0\": 22.91, \"y1\": 23.57}, {\"layer\": \"below\", \"line\": {\"color\": \"White\", \"width\": 0.5}, \"type\": \"line\", \"x0\": 67, \"x1\": 67, \"y0\": 0.0, \"y1\": 0.5}, {\"layer\": \"below\", \"line\": {\"color\": \"White\", \"width\": 0.5}, \"type\": \"line\", \"x0\": 67, \"x1\": 67, \"y0\": 52.5, \"y1\": 53}, {\"layer\": \"below\", \"line\": {\"color\": \"White\", \"width\": 0.5}, \"type\": \"line\", \"x0\": 68, \"x1\": 68, \"y0\": 29.73, \"y1\": 30.39}, {\"layer\": \"below\", \"line\": {\"color\": \"White\", \"width\": 0.5}, \"type\": \"line\", \"x0\": 68, \"x1\": 68, \"y0\": 22.91, \"y1\": 23.57}, {\"layer\": \"below\", \"line\": {\"color\": \"White\", \"width\": 0.5}, \"type\": \"line\", \"x0\": 68, \"x1\": 68, \"y0\": 0.0, \"y1\": 0.5}, {\"layer\": \"below\", \"line\": {\"color\": \"White\", \"width\": 0.5}, \"type\": \"line\", \"x0\": 68, \"x1\": 68, \"y0\": 52.5, \"y1\": 53}, {\"layer\": \"below\", \"line\": {\"color\": \"White\", \"width\": 0.5}, \"type\": \"line\", \"x0\": 69, \"x1\": 69, \"y0\": 29.73, \"y1\": 30.39}, {\"layer\": \"below\", \"line\": {\"color\": \"White\", \"width\": 0.5}, \"type\": \"line\", \"x0\": 69, \"x1\": 69, \"y0\": 22.91, \"y1\": 23.57}, {\"layer\": \"below\", \"line\": {\"color\": \"White\", \"width\": 0.5}, \"type\": \"line\", \"x0\": 69, \"x1\": 69, \"y0\": 0.0, \"y1\": 0.5}, {\"layer\": \"below\", \"line\": {\"color\": \"White\", \"width\": 0.5}, \"type\": \"line\", \"x0\": 69, \"x1\": 69, \"y0\": 52.5, \"y1\": 53}, {\"layer\": \"below\", \"line\": {\"color\": \"White\", \"width\": 0.5}, \"type\": \"line\", \"x0\": 70, \"x1\": 70, \"y0\": 29.73, \"y1\": 30.39}, {\"layer\": \"below\", \"line\": {\"color\": \"White\", \"width\": 0.5}, \"type\": \"line\", \"x0\": 70, \"x1\": 70, \"y0\": 22.91, \"y1\": 23.57}, {\"layer\": \"below\", \"line\": {\"color\": \"White\", \"width\": 0.5}, \"type\": \"line\", \"x0\": 70, \"x1\": 70, \"y0\": 0.0, \"y1\": 0.5}, {\"layer\": \"below\", \"line\": {\"color\": \"White\", \"width\": 0.5}, \"type\": \"line\", \"x0\": 70, \"x1\": 70, \"y0\": 52.5, \"y1\": 53}, {\"layer\": \"below\", \"line\": {\"color\": \"White\", \"width\": 0.5}, \"type\": \"line\", \"x0\": 71, \"x1\": 71, \"y0\": 29.73, \"y1\": 30.39}, {\"layer\": \"below\", \"line\": {\"color\": \"White\", \"width\": 0.5}, \"type\": \"line\", \"x0\": 71, \"x1\": 71, \"y0\": 22.91, \"y1\": 23.57}, {\"layer\": \"below\", \"line\": {\"color\": \"White\", \"width\": 0.5}, \"type\": \"line\", \"x0\": 71, \"x1\": 71, \"y0\": 0.0, \"y1\": 0.5}, {\"layer\": \"below\", \"line\": {\"color\": \"White\", \"width\": 0.5}, \"type\": \"line\", \"x0\": 71, \"x1\": 71, \"y0\": 52.5, \"y1\": 53}, {\"layer\": \"below\", \"line\": {\"color\": \"White\", \"width\": 0.5}, \"type\": \"line\", \"x0\": 72, \"x1\": 72, \"y0\": 29.73, \"y1\": 30.39}, {\"layer\": \"below\", \"line\": {\"color\": \"White\", \"width\": 0.5}, \"type\": \"line\", \"x0\": 72, \"x1\": 72, \"y0\": 22.91, \"y1\": 23.57}, {\"layer\": \"below\", \"line\": {\"color\": \"White\", \"width\": 0.5}, \"type\": \"line\", \"x0\": 72, \"x1\": 72, \"y0\": 0.0, \"y1\": 0.5}, {\"layer\": \"below\", \"line\": {\"color\": \"White\", \"width\": 0.5}, \"type\": \"line\", \"x0\": 72, \"x1\": 72, \"y0\": 52.5, \"y1\": 53}, {\"layer\": \"below\", \"line\": {\"color\": \"White\", \"width\": 0.5}, \"type\": \"line\", \"x0\": 73, \"x1\": 73, \"y0\": 29.73, \"y1\": 30.39}, {\"layer\": \"below\", \"line\": {\"color\": \"White\", \"width\": 0.5}, \"type\": \"line\", \"x0\": 73, \"x1\": 73, \"y0\": 22.91, \"y1\": 23.57}, {\"layer\": \"below\", \"line\": {\"color\": \"White\", \"width\": 0.5}, \"type\": \"line\", \"x0\": 73, \"x1\": 73, \"y0\": 0.0, \"y1\": 0.5}, {\"layer\": \"below\", \"line\": {\"color\": \"White\", \"width\": 0.5}, \"type\": \"line\", \"x0\": 73, \"x1\": 73, \"y0\": 52.5, \"y1\": 53}, {\"layer\": \"below\", \"line\": {\"color\": \"White\", \"width\": 0.5}, \"type\": \"line\", \"x0\": 74, \"x1\": 74, \"y0\": 29.73, \"y1\": 30.39}, {\"layer\": \"below\", \"line\": {\"color\": \"White\", \"width\": 0.5}, \"type\": \"line\", \"x0\": 74, \"x1\": 74, \"y0\": 22.91, \"y1\": 23.57}, {\"layer\": \"below\", \"line\": {\"color\": \"White\", \"width\": 0.5}, \"type\": \"line\", \"x0\": 74, \"x1\": 74, \"y0\": 0.0, \"y1\": 0.5}, {\"layer\": \"below\", \"line\": {\"color\": \"White\", \"width\": 0.5}, \"type\": \"line\", \"x0\": 74, \"x1\": 74, \"y0\": 52.5, \"y1\": 53}, {\"layer\": \"below\", \"line\": {\"color\": \"White\", \"width\": 0.5}, \"type\": \"line\", \"x0\": 75, \"x1\": 75, \"y0\": 29.73, \"y1\": 30.39}, {\"layer\": \"below\", \"line\": {\"color\": \"White\", \"width\": 0.5}, \"type\": \"line\", \"x0\": 75, \"x1\": 75, \"y0\": 22.91, \"y1\": 23.57}, {\"layer\": \"below\", \"line\": {\"color\": \"White\", \"width\": 0.5}, \"type\": \"line\", \"x0\": 75, \"x1\": 75, \"y0\": 0.0, \"y1\": 0.5}, {\"layer\": \"below\", \"line\": {\"color\": \"White\", \"width\": 0.5}, \"type\": \"line\", \"x0\": 75, \"x1\": 75, \"y0\": 52.5, \"y1\": 53}, {\"layer\": \"below\", \"line\": {\"color\": \"White\", \"width\": 0.5}, \"type\": \"line\", \"x0\": 76, \"x1\": 76, \"y0\": 29.73, \"y1\": 30.39}, {\"layer\": \"below\", \"line\": {\"color\": \"White\", \"width\": 0.5}, \"type\": \"line\", \"x0\": 76, \"x1\": 76, \"y0\": 22.91, \"y1\": 23.57}, {\"layer\": \"below\", \"line\": {\"color\": \"White\", \"width\": 0.5}, \"type\": \"line\", \"x0\": 76, \"x1\": 76, \"y0\": 0.0, \"y1\": 0.5}, {\"layer\": \"below\", \"line\": {\"color\": \"White\", \"width\": 0.5}, \"type\": \"line\", \"x0\": 76, \"x1\": 76, \"y0\": 52.5, \"y1\": 53}, {\"layer\": \"below\", \"line\": {\"color\": \"White\", \"width\": 0.5}, \"type\": \"line\", \"x0\": 77, \"x1\": 77, \"y0\": 29.73, \"y1\": 30.39}, {\"layer\": \"below\", \"line\": {\"color\": \"White\", \"width\": 0.5}, \"type\": \"line\", \"x0\": 77, \"x1\": 77, \"y0\": 22.91, \"y1\": 23.57}, {\"layer\": \"below\", \"line\": {\"color\": \"White\", \"width\": 0.5}, \"type\": \"line\", \"x0\": 77, \"x1\": 77, \"y0\": 0.0, \"y1\": 0.5}, {\"layer\": \"below\", \"line\": {\"color\": \"White\", \"width\": 0.5}, \"type\": \"line\", \"x0\": 77, \"x1\": 77, \"y0\": 52.5, \"y1\": 53}, {\"layer\": \"below\", \"line\": {\"color\": \"White\", \"width\": 0.5}, \"type\": \"line\", \"x0\": 78, \"x1\": 78, \"y0\": 29.73, \"y1\": 30.39}, {\"layer\": \"below\", \"line\": {\"color\": \"White\", \"width\": 0.5}, \"type\": \"line\", \"x0\": 78, \"x1\": 78, \"y0\": 22.91, \"y1\": 23.57}, {\"layer\": \"below\", \"line\": {\"color\": \"White\", \"width\": 0.5}, \"type\": \"line\", \"x0\": 78, \"x1\": 78, \"y0\": 0.0, \"y1\": 0.5}, {\"layer\": \"below\", \"line\": {\"color\": \"White\", \"width\": 0.5}, \"type\": \"line\", \"x0\": 78, \"x1\": 78, \"y0\": 52.5, \"y1\": 53}, {\"layer\": \"below\", \"line\": {\"color\": \"White\", \"width\": 0.5}, \"type\": \"line\", \"x0\": 79, \"x1\": 79, \"y0\": 29.73, \"y1\": 30.39}, {\"layer\": \"below\", \"line\": {\"color\": \"White\", \"width\": 0.5}, \"type\": \"line\", \"x0\": 79, \"x1\": 79, \"y0\": 22.91, \"y1\": 23.57}, {\"layer\": \"below\", \"line\": {\"color\": \"White\", \"width\": 0.5}, \"type\": \"line\", \"x0\": 79, \"x1\": 79, \"y0\": 0.0, \"y1\": 0.5}, {\"layer\": \"below\", \"line\": {\"color\": \"White\", \"width\": 0.5}, \"type\": \"line\", \"x0\": 79, \"x1\": 79, \"y0\": 52.5, \"y1\": 53}, {\"layer\": \"below\", \"line\": {\"color\": \"White\", \"width\": 0.5}, \"type\": \"line\", \"x0\": 80, \"x1\": 80, \"y0\": 29.73, \"y1\": 30.39}, {\"layer\": \"below\", \"line\": {\"color\": \"White\", \"width\": 0.5}, \"type\": \"line\", \"x0\": 80, \"x1\": 80, \"y0\": 22.91, \"y1\": 23.57}, {\"layer\": \"below\", \"line\": {\"color\": \"White\", \"width\": 0.5}, \"type\": \"line\", \"x0\": 80, \"x1\": 80, \"y0\": 0.0, \"y1\": 0.5}, {\"layer\": \"below\", \"line\": {\"color\": \"White\", \"width\": 0.5}, \"type\": \"line\", \"x0\": 80, \"x1\": 80, \"y0\": 52.5, \"y1\": 53}, {\"layer\": \"below\", \"line\": {\"color\": \"White\", \"width\": 0.5}, \"type\": \"line\", \"x0\": 81, \"x1\": 81, \"y0\": 29.73, \"y1\": 30.39}, {\"layer\": \"below\", \"line\": {\"color\": \"White\", \"width\": 0.5}, \"type\": \"line\", \"x0\": 81, \"x1\": 81, \"y0\": 22.91, \"y1\": 23.57}, {\"layer\": \"below\", \"line\": {\"color\": \"White\", \"width\": 0.5}, \"type\": \"line\", \"x0\": 81, \"x1\": 81, \"y0\": 0.0, \"y1\": 0.5}, {\"layer\": \"below\", \"line\": {\"color\": \"White\", \"width\": 0.5}, \"type\": \"line\", \"x0\": 81, \"x1\": 81, \"y0\": 52.5, \"y1\": 53}, {\"layer\": \"below\", \"line\": {\"color\": \"White\", \"width\": 0.5}, \"type\": \"line\", \"x0\": 82, \"x1\": 82, \"y0\": 29.73, \"y1\": 30.39}, {\"layer\": \"below\", \"line\": {\"color\": \"White\", \"width\": 0.5}, \"type\": \"line\", \"x0\": 82, \"x1\": 82, \"y0\": 22.91, \"y1\": 23.57}, {\"layer\": \"below\", \"line\": {\"color\": \"White\", \"width\": 0.5}, \"type\": \"line\", \"x0\": 82, \"x1\": 82, \"y0\": 0.0, \"y1\": 0.5}, {\"layer\": \"below\", \"line\": {\"color\": \"White\", \"width\": 0.5}, \"type\": \"line\", \"x0\": 82, \"x1\": 82, \"y0\": 52.5, \"y1\": 53}, {\"layer\": \"below\", \"line\": {\"color\": \"White\", \"width\": 0.5}, \"type\": \"line\", \"x0\": 83, \"x1\": 83, \"y0\": 29.73, \"y1\": 30.39}, {\"layer\": \"below\", \"line\": {\"color\": \"White\", \"width\": 0.5}, \"type\": \"line\", \"x0\": 83, \"x1\": 83, \"y0\": 22.91, \"y1\": 23.57}, {\"layer\": \"below\", \"line\": {\"color\": \"White\", \"width\": 0.5}, \"type\": \"line\", \"x0\": 83, \"x1\": 83, \"y0\": 0.0, \"y1\": 0.5}, {\"layer\": \"below\", \"line\": {\"color\": \"White\", \"width\": 0.5}, \"type\": \"line\", \"x0\": 83, \"x1\": 83, \"y0\": 52.5, \"y1\": 53}, {\"layer\": \"below\", \"line\": {\"color\": \"White\", \"width\": 0.5}, \"type\": \"line\", \"x0\": 84, \"x1\": 84, \"y0\": 29.73, \"y1\": 30.39}, {\"layer\": \"below\", \"line\": {\"color\": \"White\", \"width\": 0.5}, \"type\": \"line\", \"x0\": 84, \"x1\": 84, \"y0\": 22.91, \"y1\": 23.57}, {\"layer\": \"below\", \"line\": {\"color\": \"White\", \"width\": 0.5}, \"type\": \"line\", \"x0\": 84, \"x1\": 84, \"y0\": 0.0, \"y1\": 0.5}, {\"layer\": \"below\", \"line\": {\"color\": \"White\", \"width\": 0.5}, \"type\": \"line\", \"x0\": 84, \"x1\": 84, \"y0\": 52.5, \"y1\": 53}, {\"layer\": \"below\", \"line\": {\"color\": \"White\", \"width\": 0.5}, \"type\": \"line\", \"x0\": 85, \"x1\": 85, \"y0\": 29.73, \"y1\": 30.39}, {\"layer\": \"below\", \"line\": {\"color\": \"White\", \"width\": 0.5}, \"type\": \"line\", \"x0\": 85, \"x1\": 85, \"y0\": 22.91, \"y1\": 23.57}, {\"layer\": \"below\", \"line\": {\"color\": \"White\", \"width\": 0.5}, \"type\": \"line\", \"x0\": 85, \"x1\": 85, \"y0\": 0.0, \"y1\": 0.5}, {\"layer\": \"below\", \"line\": {\"color\": \"White\", \"width\": 0.5}, \"type\": \"line\", \"x0\": 85, \"x1\": 85, \"y0\": 52.5, \"y1\": 53}, {\"layer\": \"below\", \"line\": {\"color\": \"White\", \"width\": 0.5}, \"type\": \"line\", \"x0\": 86, \"x1\": 86, \"y0\": 29.73, \"y1\": 30.39}, {\"layer\": \"below\", \"line\": {\"color\": \"White\", \"width\": 0.5}, \"type\": \"line\", \"x0\": 86, \"x1\": 86, \"y0\": 22.91, \"y1\": 23.57}, {\"layer\": \"below\", \"line\": {\"color\": \"White\", \"width\": 0.5}, \"type\": \"line\", \"x0\": 86, \"x1\": 86, \"y0\": 0.0, \"y1\": 0.5}, {\"layer\": \"below\", \"line\": {\"color\": \"White\", \"width\": 0.5}, \"type\": \"line\", \"x0\": 86, \"x1\": 86, \"y0\": 52.5, \"y1\": 53}, {\"layer\": \"below\", \"line\": {\"color\": \"White\", \"width\": 0.5}, \"type\": \"line\", \"x0\": 87, \"x1\": 87, \"y0\": 29.73, \"y1\": 30.39}, {\"layer\": \"below\", \"line\": {\"color\": \"White\", \"width\": 0.5}, \"type\": \"line\", \"x0\": 87, \"x1\": 87, \"y0\": 22.91, \"y1\": 23.57}, {\"layer\": \"below\", \"line\": {\"color\": \"White\", \"width\": 0.5}, \"type\": \"line\", \"x0\": 87, \"x1\": 87, \"y0\": 0.0, \"y1\": 0.5}, {\"layer\": \"below\", \"line\": {\"color\": \"White\", \"width\": 0.5}, \"type\": \"line\", \"x0\": 87, \"x1\": 87, \"y0\": 52.5, \"y1\": 53}, {\"layer\": \"below\", \"line\": {\"color\": \"White\", \"width\": 0.5}, \"type\": \"line\", \"x0\": 88, \"x1\": 88, \"y0\": 29.73, \"y1\": 30.39}, {\"layer\": \"below\", \"line\": {\"color\": \"White\", \"width\": 0.5}, \"type\": \"line\", \"x0\": 88, \"x1\": 88, \"y0\": 22.91, \"y1\": 23.57}, {\"layer\": \"below\", \"line\": {\"color\": \"White\", \"width\": 0.5}, \"type\": \"line\", \"x0\": 88, \"x1\": 88, \"y0\": 0.0, \"y1\": 0.5}, {\"layer\": \"below\", \"line\": {\"color\": \"White\", \"width\": 0.5}, \"type\": \"line\", \"x0\": 88, \"x1\": 88, \"y0\": 52.5, \"y1\": 53}, {\"layer\": \"below\", \"line\": {\"color\": \"White\", \"width\": 0.5}, \"type\": \"line\", \"x0\": 89, \"x1\": 89, \"y0\": 29.73, \"y1\": 30.39}, {\"layer\": \"below\", \"line\": {\"color\": \"White\", \"width\": 0.5}, \"type\": \"line\", \"x0\": 89, \"x1\": 89, \"y0\": 22.91, \"y1\": 23.57}, {\"layer\": \"below\", \"line\": {\"color\": \"White\", \"width\": 0.5}, \"type\": \"line\", \"x0\": 89, \"x1\": 89, \"y0\": 0.0, \"y1\": 0.5}, {\"layer\": \"below\", \"line\": {\"color\": \"White\", \"width\": 0.5}, \"type\": \"line\", \"x0\": 89, \"x1\": 89, \"y0\": 52.5, \"y1\": 53}, {\"layer\": \"below\", \"line\": {\"color\": \"White\", \"width\": 0.5}, \"type\": \"line\", \"x0\": 90, \"x1\": 90, \"y0\": 29.73, \"y1\": 30.39}, {\"layer\": \"below\", \"line\": {\"color\": \"White\", \"width\": 0.5}, \"type\": \"line\", \"x0\": 90, \"x1\": 90, \"y0\": 22.91, \"y1\": 23.57}, {\"layer\": \"below\", \"line\": {\"color\": \"White\", \"width\": 0.5}, \"type\": \"line\", \"x0\": 90, \"x1\": 90, \"y0\": 0.0, \"y1\": 0.5}, {\"layer\": \"below\", \"line\": {\"color\": \"White\", \"width\": 0.5}, \"type\": \"line\", \"x0\": 90, \"x1\": 90, \"y0\": 52.5, \"y1\": 53}, {\"layer\": \"below\", \"line\": {\"color\": \"White\", \"width\": 0.5}, \"type\": \"line\", \"x0\": 91, \"x1\": 91, \"y0\": 29.73, \"y1\": 30.39}, {\"layer\": \"below\", \"line\": {\"color\": \"White\", \"width\": 0.5}, \"type\": \"line\", \"x0\": 91, \"x1\": 91, \"y0\": 22.91, \"y1\": 23.57}, {\"layer\": \"below\", \"line\": {\"color\": \"White\", \"width\": 0.5}, \"type\": \"line\", \"x0\": 91, \"x1\": 91, \"y0\": 0.0, \"y1\": 0.5}, {\"layer\": \"below\", \"line\": {\"color\": \"White\", \"width\": 0.5}, \"type\": \"line\", \"x0\": 91, \"x1\": 91, \"y0\": 52.5, \"y1\": 53}, {\"layer\": \"below\", \"line\": {\"color\": \"White\", \"width\": 0.5}, \"type\": \"line\", \"x0\": 92, \"x1\": 92, \"y0\": 29.73, \"y1\": 30.39}, {\"layer\": \"below\", \"line\": {\"color\": \"White\", \"width\": 0.5}, \"type\": \"line\", \"x0\": 92, \"x1\": 92, \"y0\": 22.91, \"y1\": 23.57}, {\"layer\": \"below\", \"line\": {\"color\": \"White\", \"width\": 0.5}, \"type\": \"line\", \"x0\": 92, \"x1\": 92, \"y0\": 0.0, \"y1\": 0.5}, {\"layer\": \"below\", \"line\": {\"color\": \"White\", \"width\": 0.5}, \"type\": \"line\", \"x0\": 92, \"x1\": 92, \"y0\": 52.5, \"y1\": 53}, {\"layer\": \"below\", \"line\": {\"color\": \"White\", \"width\": 0.5}, \"type\": \"line\", \"x0\": 93, \"x1\": 93, \"y0\": 29.73, \"y1\": 30.39}, {\"layer\": \"below\", \"line\": {\"color\": \"White\", \"width\": 0.5}, \"type\": \"line\", \"x0\": 93, \"x1\": 93, \"y0\": 22.91, \"y1\": 23.57}, {\"layer\": \"below\", \"line\": {\"color\": \"White\", \"width\": 0.5}, \"type\": \"line\", \"x0\": 93, \"x1\": 93, \"y0\": 0.0, \"y1\": 0.5}, {\"layer\": \"below\", \"line\": {\"color\": \"White\", \"width\": 0.5}, \"type\": \"line\", \"x0\": 93, \"x1\": 93, \"y0\": 52.5, \"y1\": 53}, {\"layer\": \"below\", \"line\": {\"color\": \"White\", \"width\": 0.5}, \"type\": \"line\", \"x0\": 94, \"x1\": 94, \"y0\": 29.73, \"y1\": 30.39}, {\"layer\": \"below\", \"line\": {\"color\": \"White\", \"width\": 0.5}, \"type\": \"line\", \"x0\": 94, \"x1\": 94, \"y0\": 22.91, \"y1\": 23.57}, {\"layer\": \"below\", \"line\": {\"color\": \"White\", \"width\": 0.5}, \"type\": \"line\", \"x0\": 94, \"x1\": 94, \"y0\": 0.0, \"y1\": 0.5}, {\"layer\": \"below\", \"line\": {\"color\": \"White\", \"width\": 0.5}, \"type\": \"line\", \"x0\": 94, \"x1\": 94, \"y0\": 52.5, \"y1\": 53}, {\"layer\": \"below\", \"line\": {\"color\": \"White\", \"width\": 0.5}, \"type\": \"line\", \"x0\": 95, \"x1\": 95, \"y0\": 29.73, \"y1\": 30.39}, {\"layer\": \"below\", \"line\": {\"color\": \"White\", \"width\": 0.5}, \"type\": \"line\", \"x0\": 95, \"x1\": 95, \"y0\": 22.91, \"y1\": 23.57}, {\"layer\": \"below\", \"line\": {\"color\": \"White\", \"width\": 0.5}, \"type\": \"line\", \"x0\": 95, \"x1\": 95, \"y0\": 0.0, \"y1\": 0.5}, {\"layer\": \"below\", \"line\": {\"color\": \"White\", \"width\": 0.5}, \"type\": \"line\", \"x0\": 95, \"x1\": 95, \"y0\": 52.5, \"y1\": 53}, {\"layer\": \"below\", \"line\": {\"color\": \"White\", \"width\": 0.5}, \"type\": \"line\", \"x0\": 96, \"x1\": 96, \"y0\": 29.73, \"y1\": 30.39}, {\"layer\": \"below\", \"line\": {\"color\": \"White\", \"width\": 0.5}, \"type\": \"line\", \"x0\": 96, \"x1\": 96, \"y0\": 22.91, \"y1\": 23.57}, {\"layer\": \"below\", \"line\": {\"color\": \"White\", \"width\": 0.5}, \"type\": \"line\", \"x0\": 96, \"x1\": 96, \"y0\": 0.0, \"y1\": 0.5}, {\"layer\": \"below\", \"line\": {\"color\": \"White\", \"width\": 0.5}, \"type\": \"line\", \"x0\": 96, \"x1\": 96, \"y0\": 52.5, \"y1\": 53}, {\"layer\": \"below\", \"line\": {\"color\": \"White\", \"width\": 0.5}, \"type\": \"line\", \"x0\": 97, \"x1\": 97, \"y0\": 29.73, \"y1\": 30.39}, {\"layer\": \"below\", \"line\": {\"color\": \"White\", \"width\": 0.5}, \"type\": \"line\", \"x0\": 97, \"x1\": 97, \"y0\": 22.91, \"y1\": 23.57}, {\"layer\": \"below\", \"line\": {\"color\": \"White\", \"width\": 0.5}, \"type\": \"line\", \"x0\": 97, \"x1\": 97, \"y0\": 0.0, \"y1\": 0.5}, {\"layer\": \"below\", \"line\": {\"color\": \"White\", \"width\": 0.5}, \"type\": \"line\", \"x0\": 97, \"x1\": 97, \"y0\": 52.5, \"y1\": 53}, {\"layer\": \"below\", \"line\": {\"color\": \"White\", \"width\": 0.5}, \"type\": \"line\", \"x0\": 98, \"x1\": 98, \"y0\": 29.73, \"y1\": 30.39}, {\"layer\": \"below\", \"line\": {\"color\": \"White\", \"width\": 0.5}, \"type\": \"line\", \"x0\": 98, \"x1\": 98, \"y0\": 22.91, \"y1\": 23.57}, {\"layer\": \"below\", \"line\": {\"color\": \"White\", \"width\": 0.5}, \"type\": \"line\", \"x0\": 98, \"x1\": 98, \"y0\": 0.0, \"y1\": 0.5}, {\"layer\": \"below\", \"line\": {\"color\": \"White\", \"width\": 0.5}, \"type\": \"line\", \"x0\": 98, \"x1\": 98, \"y0\": 52.5, \"y1\": 53}, {\"layer\": \"below\", \"line\": {\"color\": \"White\", \"width\": 0.5}, \"type\": \"line\", \"x0\": 99, \"x1\": 99, \"y0\": 29.73, \"y1\": 30.39}, {\"layer\": \"below\", \"line\": {\"color\": \"White\", \"width\": 0.5}, \"type\": \"line\", \"x0\": 99, \"x1\": 99, \"y0\": 22.91, \"y1\": 23.57}, {\"layer\": \"below\", \"line\": {\"color\": \"White\", \"width\": 0.5}, \"type\": \"line\", \"x0\": 99, \"x1\": 99, \"y0\": 0.0, \"y1\": 0.5}, {\"layer\": \"below\", \"line\": {\"color\": \"White\", \"width\": 0.5}, \"type\": \"line\", \"x0\": 99, \"x1\": 99, \"y0\": 52.5, \"y1\": 53}, {\"layer\": \"below\", \"line\": {\"color\": \"White\", \"width\": 0.5}, \"type\": \"line\", \"x0\": 100, \"x1\": 100, \"y0\": 29.73, \"y1\": 30.39}, {\"layer\": \"below\", \"line\": {\"color\": \"White\", \"width\": 0.5}, \"type\": \"line\", \"x0\": 100, \"x1\": 100, \"y0\": 22.91, \"y1\": 23.57}, {\"layer\": \"below\", \"line\": {\"color\": \"White\", \"width\": 0.5}, \"type\": \"line\", \"x0\": 100, \"x1\": 100, \"y0\": 0.0, \"y1\": 0.5}, {\"layer\": \"below\", \"line\": {\"color\": \"White\", \"width\": 0.5}, \"type\": \"line\", \"x0\": 100, \"x1\": 100, \"y0\": 52.5, \"y1\": 53}, {\"layer\": \"below\", \"line\": {\"color\": \"White\", \"width\": 0.5}, \"type\": \"line\", \"x0\": 101, \"x1\": 101, \"y0\": 29.73, \"y1\": 30.39}, {\"layer\": \"below\", \"line\": {\"color\": \"White\", \"width\": 0.5}, \"type\": \"line\", \"x0\": 101, \"x1\": 101, \"y0\": 22.91, \"y1\": 23.57}, {\"layer\": \"below\", \"line\": {\"color\": \"White\", \"width\": 0.5}, \"type\": \"line\", \"x0\": 101, \"x1\": 101, \"y0\": 0.0, \"y1\": 0.5}, {\"layer\": \"below\", \"line\": {\"color\": \"White\", \"width\": 0.5}, \"type\": \"line\", \"x0\": 101, \"x1\": 101, \"y0\": 52.5, \"y1\": 53}, {\"layer\": \"below\", \"line\": {\"color\": \"White\", \"width\": 0.5}, \"type\": \"line\", \"x0\": 102, \"x1\": 102, \"y0\": 29.73, \"y1\": 30.39}, {\"layer\": \"below\", \"line\": {\"color\": \"White\", \"width\": 0.5}, \"type\": \"line\", \"x0\": 102, \"x1\": 102, \"y0\": 22.91, \"y1\": 23.57}, {\"layer\": \"below\", \"line\": {\"color\": \"White\", \"width\": 0.5}, \"type\": \"line\", \"x0\": 102, \"x1\": 102, \"y0\": 0.0, \"y1\": 0.5}, {\"layer\": \"below\", \"line\": {\"color\": \"White\", \"width\": 0.5}, \"type\": \"line\", \"x0\": 102, \"x1\": 102, \"y0\": 52.5, \"y1\": 53}, {\"layer\": \"below\", \"line\": {\"color\": \"White\", \"width\": 0.5}, \"type\": \"line\", \"x0\": 103, \"x1\": 103, \"y0\": 29.73, \"y1\": 30.39}, {\"layer\": \"below\", \"line\": {\"color\": \"White\", \"width\": 0.5}, \"type\": \"line\", \"x0\": 103, \"x1\": 103, \"y0\": 22.91, \"y1\": 23.57}, {\"layer\": \"below\", \"line\": {\"color\": \"White\", \"width\": 0.5}, \"type\": \"line\", \"x0\": 103, \"x1\": 103, \"y0\": 0.0, \"y1\": 0.5}, {\"layer\": \"below\", \"line\": {\"color\": \"White\", \"width\": 0.5}, \"type\": \"line\", \"x0\": 103, \"x1\": 103, \"y0\": 52.5, \"y1\": 53}, {\"layer\": \"below\", \"line\": {\"color\": \"White\", \"width\": 0.5}, \"type\": \"line\", \"x0\": 104, \"x1\": 104, \"y0\": 29.73, \"y1\": 30.39}, {\"layer\": \"below\", \"line\": {\"color\": \"White\", \"width\": 0.5}, \"type\": \"line\", \"x0\": 104, \"x1\": 104, \"y0\": 22.91, \"y1\": 23.57}, {\"layer\": \"below\", \"line\": {\"color\": \"White\", \"width\": 0.5}, \"type\": \"line\", \"x0\": 104, \"x1\": 104, \"y0\": 0.0, \"y1\": 0.5}, {\"layer\": \"below\", \"line\": {\"color\": \"White\", \"width\": 0.5}, \"type\": \"line\", \"x0\": 104, \"x1\": 104, \"y0\": 52.5, \"y1\": 53}, {\"layer\": \"below\", \"line\": {\"color\": \"White\", \"width\": 0.5}, \"type\": \"line\", \"x0\": 105, \"x1\": 105, \"y0\": 29.73, \"y1\": 30.39}, {\"layer\": \"below\", \"line\": {\"color\": \"White\", \"width\": 0.5}, \"type\": \"line\", \"x0\": 105, \"x1\": 105, \"y0\": 22.91, \"y1\": 23.57}, {\"layer\": \"below\", \"line\": {\"color\": \"White\", \"width\": 0.5}, \"type\": \"line\", \"x0\": 105, \"x1\": 105, \"y0\": 0.0, \"y1\": 0.5}, {\"layer\": \"below\", \"line\": {\"color\": \"White\", \"width\": 0.5}, \"type\": \"line\", \"x0\": 105, \"x1\": 105, \"y0\": 52.5, \"y1\": 53}, {\"layer\": \"below\", \"line\": {\"color\": \"White\", \"width\": 0.5}, \"type\": \"line\", \"x0\": 106, \"x1\": 106, \"y0\": 29.73, \"y1\": 30.39}, {\"layer\": \"below\", \"line\": {\"color\": \"White\", \"width\": 0.5}, \"type\": \"line\", \"x0\": 106, \"x1\": 106, \"y0\": 22.91, \"y1\": 23.57}, {\"layer\": \"below\", \"line\": {\"color\": \"White\", \"width\": 0.5}, \"type\": \"line\", \"x0\": 106, \"x1\": 106, \"y0\": 0.0, \"y1\": 0.5}, {\"layer\": \"below\", \"line\": {\"color\": \"White\", \"width\": 0.5}, \"type\": \"line\", \"x0\": 106, \"x1\": 106, \"y0\": 52.5, \"y1\": 53}, {\"layer\": \"below\", \"line\": {\"color\": \"White\", \"width\": 0.5}, \"type\": \"line\", \"x0\": 107, \"x1\": 107, \"y0\": 29.73, \"y1\": 30.39}, {\"layer\": \"below\", \"line\": {\"color\": \"White\", \"width\": 0.5}, \"type\": \"line\", \"x0\": 107, \"x1\": 107, \"y0\": 22.91, \"y1\": 23.57}, {\"layer\": \"below\", \"line\": {\"color\": \"White\", \"width\": 0.5}, \"type\": \"line\", \"x0\": 107, \"x1\": 107, \"y0\": 0.0, \"y1\": 0.5}, {\"layer\": \"below\", \"line\": {\"color\": \"White\", \"width\": 0.5}, \"type\": \"line\", \"x0\": 107, \"x1\": 107, \"y0\": 52.5, \"y1\": 53}, {\"layer\": \"below\", \"line\": {\"color\": \"White\", \"width\": 0.5}, \"type\": \"line\", \"x0\": 108, \"x1\": 108, \"y0\": 29.73, \"y1\": 30.39}, {\"layer\": \"below\", \"line\": {\"color\": \"White\", \"width\": 0.5}, \"type\": \"line\", \"x0\": 108, \"x1\": 108, \"y0\": 22.91, \"y1\": 23.57}, {\"layer\": \"below\", \"line\": {\"color\": \"White\", \"width\": 0.5}, \"type\": \"line\", \"x0\": 108, \"x1\": 108, \"y0\": 0.0, \"y1\": 0.5}, {\"layer\": \"below\", \"line\": {\"color\": \"White\", \"width\": 0.5}, \"type\": \"line\", \"x0\": 108, \"x1\": 108, \"y0\": 52.5, \"y1\": 53}, {\"layer\": \"below\", \"line\": {\"color\": \"White\", \"width\": 0.5}, \"type\": \"line\", \"x0\": 109, \"x1\": 109, \"y0\": 29.73, \"y1\": 30.39}, {\"layer\": \"below\", \"line\": {\"color\": \"White\", \"width\": 0.5}, \"type\": \"line\", \"x0\": 109, \"x1\": 109, \"y0\": 22.91, \"y1\": 23.57}, {\"layer\": \"below\", \"line\": {\"color\": \"White\", \"width\": 0.5}, \"type\": \"line\", \"x0\": 109, \"x1\": 109, \"y0\": 0.0, \"y1\": 0.5}, {\"layer\": \"below\", \"line\": {\"color\": \"White\", \"width\": 0.5}, \"type\": \"line\", \"x0\": 109, \"x1\": 109, \"y0\": 52.5, \"y1\": 53}, {\"fillcolor\": \"rgb(97, 61, 25)\", \"layer\": \"below\", \"line\": {\"color\": \"White\", \"width\": 1}, \"opacity\": 1, \"type\": \"rect\", \"x0\": 110, \"x1\": 120, \"y0\": 0, \"y1\": 53.333333333333336}, {\"fillcolor\": \"rgb(97, 61, 25)\", \"layer\": \"below\", \"line\": {\"color\": \"White\", \"width\": 1}, \"opacity\": 1, \"type\": \"rect\", \"x0\": 0, \"x1\": 10, \"y0\": 0, \"y1\": 53.333333333333336}], \"showlegend\": false, \"sliders\": [{\"active\": 0, \"currentvalue\": {\"prefix\": \"frameId=\"}, \"len\": 0.9, \"pad\": {\"b\": 10, \"t\": 60}, \"steps\": [{\"args\": [[\"1\"], {\"frame\": {\"duration\": 0, \"redraw\": false}, \"fromcurrent\": true, \"mode\": \"immediate\", \"transition\": {\"duration\": 0, \"easing\": \"linear\"}}], \"label\": \"1\", \"method\": \"animate\"}, {\"args\": [[\"2\"], {\"frame\": {\"duration\": 0, \"redraw\": false}, \"fromcurrent\": true, \"mode\": \"immediate\", \"transition\": {\"duration\": 0, \"easing\": \"linear\"}}], \"label\": \"2\", \"method\": \"animate\"}, {\"args\": [[\"3\"], {\"frame\": {\"duration\": 0, \"redraw\": false}, \"fromcurrent\": true, \"mode\": \"immediate\", \"transition\": {\"duration\": 0, \"easing\": \"linear\"}}], \"label\": \"3\", \"method\": \"animate\"}, {\"args\": [[\"4\"], {\"frame\": {\"duration\": 0, \"redraw\": false}, \"fromcurrent\": true, \"mode\": \"immediate\", \"transition\": {\"duration\": 0, \"easing\": \"linear\"}}], \"label\": \"4\", \"method\": \"animate\"}, {\"args\": [[\"5\"], {\"frame\": {\"duration\": 0, \"redraw\": false}, \"fromcurrent\": true, \"mode\": \"immediate\", \"transition\": {\"duration\": 0, \"easing\": \"linear\"}}], \"label\": \"5\", \"method\": \"animate\"}, {\"args\": [[\"6\"], {\"frame\": {\"duration\": 0, \"redraw\": false}, \"fromcurrent\": true, \"mode\": \"immediate\", \"transition\": {\"duration\": 0, \"easing\": \"linear\"}}], \"label\": \"6\", \"method\": \"animate\"}, {\"args\": [[\"7\"], {\"frame\": {\"duration\": 0, \"redraw\": false}, \"fromcurrent\": true, \"mode\": \"immediate\", \"transition\": {\"duration\": 0, \"easing\": \"linear\"}}], \"label\": \"7\", \"method\": \"animate\"}, {\"args\": [[\"8\"], {\"frame\": {\"duration\": 0, \"redraw\": false}, \"fromcurrent\": true, \"mode\": \"immediate\", \"transition\": {\"duration\": 0, \"easing\": \"linear\"}}], \"label\": \"8\", \"method\": \"animate\"}, {\"args\": [[\"9\"], {\"frame\": {\"duration\": 0, \"redraw\": false}, \"fromcurrent\": true, \"mode\": \"immediate\", \"transition\": {\"duration\": 0, \"easing\": \"linear\"}}], \"label\": \"9\", \"method\": \"animate\"}, {\"args\": [[\"10\"], {\"frame\": {\"duration\": 0, \"redraw\": false}, \"fromcurrent\": true, \"mode\": \"immediate\", \"transition\": {\"duration\": 0, \"easing\": \"linear\"}}], \"label\": \"10\", \"method\": \"animate\"}, {\"args\": [[\"11\"], {\"frame\": {\"duration\": 0, \"redraw\": false}, \"fromcurrent\": true, \"mode\": \"immediate\", \"transition\": {\"duration\": 0, \"easing\": \"linear\"}}], \"label\": \"11\", \"method\": \"animate\"}, {\"args\": [[\"12\"], {\"frame\": {\"duration\": 0, \"redraw\": false}, \"fromcurrent\": true, \"mode\": \"immediate\", \"transition\": {\"duration\": 0, \"easing\": \"linear\"}}], \"label\": \"12\", \"method\": \"animate\"}, {\"args\": [[\"13\"], {\"frame\": {\"duration\": 0, \"redraw\": false}, \"fromcurrent\": true, \"mode\": \"immediate\", \"transition\": {\"duration\": 0, \"easing\": \"linear\"}}], \"label\": \"13\", \"method\": \"animate\"}, {\"args\": [[\"14\"], {\"frame\": {\"duration\": 0, \"redraw\": false}, \"fromcurrent\": true, \"mode\": \"immediate\", \"transition\": {\"duration\": 0, \"easing\": \"linear\"}}], \"label\": \"14\", \"method\": \"animate\"}, {\"args\": [[\"15\"], {\"frame\": {\"duration\": 0, \"redraw\": false}, \"fromcurrent\": true, \"mode\": \"immediate\", \"transition\": {\"duration\": 0, \"easing\": \"linear\"}}], \"label\": \"15\", \"method\": \"animate\"}, {\"args\": [[\"16\"], {\"frame\": {\"duration\": 0, \"redraw\": false}, \"fromcurrent\": true, \"mode\": \"immediate\", \"transition\": {\"duration\": 0, \"easing\": \"linear\"}}], \"label\": \"16\", \"method\": \"animate\"}, {\"args\": [[\"17\"], {\"frame\": {\"duration\": 0, \"redraw\": false}, \"fromcurrent\": true, \"mode\": \"immediate\", \"transition\": {\"duration\": 0, \"easing\": \"linear\"}}], \"label\": \"17\", \"method\": \"animate\"}, {\"args\": [[\"18\"], {\"frame\": {\"duration\": 0, \"redraw\": false}, \"fromcurrent\": true, \"mode\": \"immediate\", \"transition\": {\"duration\": 0, \"easing\": \"linear\"}}], \"label\": \"18\", \"method\": \"animate\"}, {\"args\": [[\"19\"], {\"frame\": {\"duration\": 0, \"redraw\": false}, \"fromcurrent\": true, \"mode\": \"immediate\", \"transition\": {\"duration\": 0, \"easing\": \"linear\"}}], \"label\": \"19\", \"method\": \"animate\"}, {\"args\": [[\"20\"], {\"frame\": {\"duration\": 0, \"redraw\": false}, \"fromcurrent\": true, \"mode\": \"immediate\", \"transition\": {\"duration\": 0, \"easing\": \"linear\"}}], \"label\": \"20\", \"method\": \"animate\"}, {\"args\": [[\"21\"], {\"frame\": {\"duration\": 0, \"redraw\": false}, \"fromcurrent\": true, \"mode\": \"immediate\", \"transition\": {\"duration\": 0, \"easing\": \"linear\"}}], \"label\": \"21\", \"method\": \"animate\"}, {\"args\": [[\"22\"], {\"frame\": {\"duration\": 0, \"redraw\": false}, \"fromcurrent\": true, \"mode\": \"immediate\", \"transition\": {\"duration\": 0, \"easing\": \"linear\"}}], \"label\": \"22\", \"method\": \"animate\"}, {\"args\": [[\"23\"], {\"frame\": {\"duration\": 0, \"redraw\": false}, \"fromcurrent\": true, \"mode\": \"immediate\", \"transition\": {\"duration\": 0, \"easing\": \"linear\"}}], \"label\": \"23\", \"method\": \"animate\"}, {\"args\": [[\"24\"], {\"frame\": {\"duration\": 0, \"redraw\": false}, \"fromcurrent\": true, \"mode\": \"immediate\", \"transition\": {\"duration\": 0, \"easing\": \"linear\"}}], \"label\": \"24\", \"method\": \"animate\"}, {\"args\": [[\"25\"], {\"frame\": {\"duration\": 0, \"redraw\": false}, \"fromcurrent\": true, \"mode\": \"immediate\", \"transition\": {\"duration\": 0, \"easing\": \"linear\"}}], \"label\": \"25\", \"method\": \"animate\"}, {\"args\": [[\"26\"], {\"frame\": {\"duration\": 0, \"redraw\": false}, \"fromcurrent\": true, \"mode\": \"immediate\", \"transition\": {\"duration\": 0, \"easing\": \"linear\"}}], \"label\": \"26\", \"method\": \"animate\"}, {\"args\": [[\"27\"], {\"frame\": {\"duration\": 0, \"redraw\": false}, \"fromcurrent\": true, \"mode\": \"immediate\", \"transition\": {\"duration\": 0, \"easing\": \"linear\"}}], \"label\": \"27\", \"method\": \"animate\"}, {\"args\": [[\"28\"], {\"frame\": {\"duration\": 0, \"redraw\": false}, \"fromcurrent\": true, \"mode\": \"immediate\", \"transition\": {\"duration\": 0, \"easing\": \"linear\"}}], \"label\": \"28\", \"method\": \"animate\"}, {\"args\": [[\"29\"], {\"frame\": {\"duration\": 0, \"redraw\": false}, \"fromcurrent\": true, \"mode\": \"immediate\", \"transition\": {\"duration\": 0, \"easing\": \"linear\"}}], \"label\": \"29\", \"method\": \"animate\"}, {\"args\": [[\"30\"], {\"frame\": {\"duration\": 0, \"redraw\": false}, \"fromcurrent\": true, \"mode\": \"immediate\", \"transition\": {\"duration\": 0, \"easing\": \"linear\"}}], \"label\": \"30\", \"method\": \"animate\"}, {\"args\": [[\"31\"], {\"frame\": {\"duration\": 0, \"redraw\": false}, \"fromcurrent\": true, \"mode\": \"immediate\", \"transition\": {\"duration\": 0, \"easing\": \"linear\"}}], \"label\": \"31\", \"method\": \"animate\"}, {\"args\": [[\"32\"], {\"frame\": {\"duration\": 0, \"redraw\": false}, \"fromcurrent\": true, \"mode\": \"immediate\", \"transition\": {\"duration\": 0, \"easing\": \"linear\"}}], \"label\": \"32\", \"method\": \"animate\"}, {\"args\": [[\"33\"], {\"frame\": {\"duration\": 0, \"redraw\": false}, \"fromcurrent\": true, \"mode\": \"immediate\", \"transition\": {\"duration\": 0, \"easing\": \"linear\"}}], \"label\": \"33\", \"method\": \"animate\"}, {\"args\": [[\"34\"], {\"frame\": {\"duration\": 0, \"redraw\": false}, \"fromcurrent\": true, \"mode\": \"immediate\", \"transition\": {\"duration\": 0, \"easing\": \"linear\"}}], \"label\": \"34\", \"method\": \"animate\"}, {\"args\": [[\"35\"], {\"frame\": {\"duration\": 0, \"redraw\": false}, \"fromcurrent\": true, \"mode\": \"immediate\", \"transition\": {\"duration\": 0, \"easing\": \"linear\"}}], \"label\": \"35\", \"method\": \"animate\"}, {\"args\": [[\"36\"], {\"frame\": {\"duration\": 0, \"redraw\": false}, \"fromcurrent\": true, \"mode\": \"immediate\", \"transition\": {\"duration\": 0, \"easing\": \"linear\"}}], \"label\": \"36\", \"method\": \"animate\"}, {\"args\": [[\"37\"], {\"frame\": {\"duration\": 0, \"redraw\": false}, \"fromcurrent\": true, \"mode\": \"immediate\", \"transition\": {\"duration\": 0, \"easing\": \"linear\"}}], \"label\": \"37\", \"method\": \"animate\"}, {\"args\": [[\"38\"], {\"frame\": {\"duration\": 0, \"redraw\": false}, \"fromcurrent\": true, \"mode\": \"immediate\", \"transition\": {\"duration\": 0, \"easing\": \"linear\"}}], \"label\": \"38\", \"method\": \"animate\"}, {\"args\": [[\"39\"], {\"frame\": {\"duration\": 0, \"redraw\": false}, \"fromcurrent\": true, \"mode\": \"immediate\", \"transition\": {\"duration\": 0, \"easing\": \"linear\"}}], \"label\": \"39\", \"method\": \"animate\"}, {\"args\": [[\"40\"], {\"frame\": {\"duration\": 0, \"redraw\": false}, \"fromcurrent\": true, \"mode\": \"immediate\", \"transition\": {\"duration\": 0, \"easing\": \"linear\"}}], \"label\": \"40\", \"method\": \"animate\"}, {\"args\": [[\"41\"], {\"frame\": {\"duration\": 0, \"redraw\": false}, \"fromcurrent\": true, \"mode\": \"immediate\", \"transition\": {\"duration\": 0, \"easing\": \"linear\"}}], \"label\": \"41\", \"method\": \"animate\"}, {\"args\": [[\"42\"], {\"frame\": {\"duration\": 0, \"redraw\": false}, \"fromcurrent\": true, \"mode\": \"immediate\", \"transition\": {\"duration\": 0, \"easing\": \"linear\"}}], \"label\": \"42\", \"method\": \"animate\"}, {\"args\": [[\"43\"], {\"frame\": {\"duration\": 0, \"redraw\": false}, \"fromcurrent\": true, \"mode\": \"immediate\", \"transition\": {\"duration\": 0, \"easing\": \"linear\"}}], \"label\": \"43\", \"method\": \"animate\"}, {\"args\": [[\"44\"], {\"frame\": {\"duration\": 0, \"redraw\": false}, \"fromcurrent\": true, \"mode\": \"immediate\", \"transition\": {\"duration\": 0, \"easing\": \"linear\"}}], \"label\": \"44\", \"method\": \"animate\"}, {\"args\": [[\"45\"], {\"frame\": {\"duration\": 0, \"redraw\": false}, \"fromcurrent\": true, \"mode\": \"immediate\", \"transition\": {\"duration\": 0, \"easing\": \"linear\"}}], \"label\": \"45\", \"method\": \"animate\"}, {\"args\": [[\"46\"], {\"frame\": {\"duration\": 0, \"redraw\": false}, \"fromcurrent\": true, \"mode\": \"immediate\", \"transition\": {\"duration\": 0, \"easing\": \"linear\"}}], \"label\": \"46\", \"method\": \"animate\"}, {\"args\": [[\"47\"], {\"frame\": {\"duration\": 0, \"redraw\": false}, \"fromcurrent\": true, \"mode\": \"immediate\", \"transition\": {\"duration\": 0, \"easing\": \"linear\"}}], \"label\": \"47\", \"method\": \"animate\"}, {\"args\": [[\"48\"], {\"frame\": {\"duration\": 0, \"redraw\": false}, \"fromcurrent\": true, \"mode\": \"immediate\", \"transition\": {\"duration\": 0, \"easing\": \"linear\"}}], \"label\": \"48\", \"method\": \"animate\"}, {\"args\": [[\"49\"], {\"frame\": {\"duration\": 0, \"redraw\": false}, \"fromcurrent\": true, \"mode\": \"immediate\", \"transition\": {\"duration\": 0, \"easing\": \"linear\"}}], \"label\": \"49\", \"method\": \"animate\"}, {\"args\": [[\"50\"], {\"frame\": {\"duration\": 0, \"redraw\": false}, \"fromcurrent\": true, \"mode\": \"immediate\", \"transition\": {\"duration\": 0, \"easing\": \"linear\"}}], \"label\": \"50\", \"method\": \"animate\"}, {\"args\": [[\"51\"], {\"frame\": {\"duration\": 0, \"redraw\": false}, \"fromcurrent\": true, \"mode\": \"immediate\", \"transition\": {\"duration\": 0, \"easing\": \"linear\"}}], \"label\": \"51\", \"method\": \"animate\"}, {\"args\": [[\"52\"], {\"frame\": {\"duration\": 0, \"redraw\": false}, \"fromcurrent\": true, \"mode\": \"immediate\", \"transition\": {\"duration\": 0, \"easing\": \"linear\"}}], \"label\": \"52\", \"method\": \"animate\"}, {\"args\": [[\"53\"], {\"frame\": {\"duration\": 0, \"redraw\": false}, \"fromcurrent\": true, \"mode\": \"immediate\", \"transition\": {\"duration\": 0, \"easing\": \"linear\"}}], \"label\": \"53\", \"method\": \"animate\"}, {\"args\": [[\"54\"], {\"frame\": {\"duration\": 0, \"redraw\": false}, \"fromcurrent\": true, \"mode\": \"immediate\", \"transition\": {\"duration\": 0, \"easing\": \"linear\"}}], \"label\": \"54\", \"method\": \"animate\"}, {\"args\": [[\"55\"], {\"frame\": {\"duration\": 0, \"redraw\": false}, \"fromcurrent\": true, \"mode\": \"immediate\", \"transition\": {\"duration\": 0, \"easing\": \"linear\"}}], \"label\": \"55\", \"method\": \"animate\"}, {\"args\": [[\"56\"], {\"frame\": {\"duration\": 0, \"redraw\": false}, \"fromcurrent\": true, \"mode\": \"immediate\", \"transition\": {\"duration\": 0, \"easing\": \"linear\"}}], \"label\": \"56\", \"method\": \"animate\"}], \"x\": 0.1, \"xanchor\": \"left\", \"y\": 0, \"yanchor\": \"top\"}], \"template\": {\"data\": {\"bar\": [{\"error_x\": {\"color\": \"#2a3f5f\"}, \"error_y\": {\"color\": \"#2a3f5f\"}, \"marker\": {\"line\": {\"color\": \"#E5ECF6\", \"width\": 0.5}}, \"type\": \"bar\"}], \"barpolar\": [{\"marker\": {\"line\": {\"color\": \"#E5ECF6\", \"width\": 0.5}}, \"type\": \"barpolar\"}], \"carpet\": [{\"aaxis\": {\"endlinecolor\": \"#2a3f5f\", \"gridcolor\": \"white\", \"linecolor\": \"white\", \"minorgridcolor\": \"white\", \"startlinecolor\": \"#2a3f5f\"}, \"baxis\": {\"endlinecolor\": \"#2a3f5f\", \"gridcolor\": \"white\", \"linecolor\": \"white\", \"minorgridcolor\": \"white\", \"startlinecolor\": \"#2a3f5f\"}, \"type\": \"carpet\"}], \"choropleth\": [{\"colorbar\": {\"outlinewidth\": 0, \"ticks\": \"\"}, \"type\": \"choropleth\"}], \"contour\": [{\"colorbar\": {\"outlinewidth\": 0, \"ticks\": \"\"}, \"colorscale\": [[0.0, \"#0d0887\"], [0.1111111111111111, \"#46039f\"], [0.2222222222222222, \"#7201a8\"], [0.3333333333333333, \"#9c179e\"], [0.4444444444444444, \"#bd3786\"], [0.5555555555555556, \"#d8576b\"], [0.6666666666666666, \"#ed7953\"], [0.7777777777777778, \"#fb9f3a\"], [0.8888888888888888, \"#fdca26\"], [1.0, \"#f0f921\"]], \"type\": \"contour\"}], \"contourcarpet\": [{\"colorbar\": {\"outlinewidth\": 0, \"ticks\": \"\"}, \"type\": \"contourcarpet\"}], \"heatmap\": [{\"colorbar\": {\"outlinewidth\": 0, \"ticks\": \"\"}, \"colorscale\": [[0.0, \"#0d0887\"], [0.1111111111111111, \"#46039f\"], [0.2222222222222222, \"#7201a8\"], [0.3333333333333333, \"#9c179e\"], [0.4444444444444444, \"#bd3786\"], [0.5555555555555556, \"#d8576b\"], [0.6666666666666666, \"#ed7953\"], [0.7777777777777778, \"#fb9f3a\"], [0.8888888888888888, \"#fdca26\"], [1.0, \"#f0f921\"]], \"type\": \"heatmap\"}], \"heatmapgl\": [{\"colorbar\": {\"outlinewidth\": 0, \"ticks\": \"\"}, \"colorscale\": [[0.0, \"#0d0887\"], [0.1111111111111111, \"#46039f\"], [0.2222222222222222, \"#7201a8\"], [0.3333333333333333, \"#9c179e\"], [0.4444444444444444, \"#bd3786\"], [0.5555555555555556, \"#d8576b\"], [0.6666666666666666, \"#ed7953\"], [0.7777777777777778, \"#fb9f3a\"], [0.8888888888888888, \"#fdca26\"], [1.0, \"#f0f921\"]], \"type\": \"heatmapgl\"}], \"histogram\": [{\"marker\": {\"colorbar\": {\"outlinewidth\": 0, \"ticks\": \"\"}}, \"type\": \"histogram\"}], \"histogram2d\": [{\"colorbar\": {\"outlinewidth\": 0, \"ticks\": \"\"}, \"colorscale\": [[0.0, \"#0d0887\"], [0.1111111111111111, \"#46039f\"], [0.2222222222222222, \"#7201a8\"], [0.3333333333333333, \"#9c179e\"], [0.4444444444444444, \"#bd3786\"], [0.5555555555555556, \"#d8576b\"], [0.6666666666666666, \"#ed7953\"], [0.7777777777777778, \"#fb9f3a\"], [0.8888888888888888, \"#fdca26\"], [1.0, \"#f0f921\"]], \"type\": \"histogram2d\"}], \"histogram2dcontour\": [{\"colorbar\": {\"outlinewidth\": 0, \"ticks\": \"\"}, \"colorscale\": [[0.0, \"#0d0887\"], [0.1111111111111111, \"#46039f\"], [0.2222222222222222, \"#7201a8\"], [0.3333333333333333, \"#9c179e\"], [0.4444444444444444, \"#bd3786\"], [0.5555555555555556, \"#d8576b\"], [0.6666666666666666, \"#ed7953\"], [0.7777777777777778, \"#fb9f3a\"], [0.8888888888888888, \"#fdca26\"], [1.0, \"#f0f921\"]], \"type\": \"histogram2dcontour\"}], \"mesh3d\": [{\"colorbar\": {\"outlinewidth\": 0, \"ticks\": \"\"}, \"type\": \"mesh3d\"}], \"parcoords\": [{\"line\": {\"colorbar\": {\"outlinewidth\": 0, \"ticks\": \"\"}}, \"type\": \"parcoords\"}], \"pie\": [{\"automargin\": true, \"type\": \"pie\"}], \"scatter\": [{\"marker\": {\"colorbar\": {\"outlinewidth\": 0, \"ticks\": \"\"}}, \"type\": \"scatter\"}], \"scatter3d\": [{\"line\": {\"colorbar\": {\"outlinewidth\": 0, \"ticks\": \"\"}}, \"marker\": {\"colorbar\": {\"outlinewidth\": 0, \"ticks\": \"\"}}, \"type\": \"scatter3d\"}], \"scattercarpet\": [{\"marker\": {\"colorbar\": {\"outlinewidth\": 0, \"ticks\": \"\"}}, \"type\": \"scattercarpet\"}], \"scattergeo\": [{\"marker\": {\"colorbar\": {\"outlinewidth\": 0, \"ticks\": \"\"}}, \"type\": \"scattergeo\"}], \"scattergl\": [{\"marker\": {\"colorbar\": {\"outlinewidth\": 0, \"ticks\": \"\"}}, \"type\": \"scattergl\"}], \"scattermapbox\": [{\"marker\": {\"colorbar\": {\"outlinewidth\": 0, \"ticks\": \"\"}}, \"type\": \"scattermapbox\"}], \"scatterpolar\": [{\"marker\": {\"colorbar\": {\"outlinewidth\": 0, \"ticks\": \"\"}}, \"type\": \"scatterpolar\"}], \"scatterpolargl\": [{\"marker\": {\"colorbar\": {\"outlinewidth\": 0, \"ticks\": \"\"}}, \"type\": \"scatterpolargl\"}], \"scatterternary\": [{\"marker\": {\"colorbar\": {\"outlinewidth\": 0, \"ticks\": \"\"}}, \"type\": \"scatterternary\"}], \"surface\": [{\"colorbar\": {\"outlinewidth\": 0, \"ticks\": \"\"}, \"colorscale\": [[0.0, \"#0d0887\"], [0.1111111111111111, \"#46039f\"], [0.2222222222222222, \"#7201a8\"], [0.3333333333333333, \"#9c179e\"], [0.4444444444444444, \"#bd3786\"], [0.5555555555555556, \"#d8576b\"], [0.6666666666666666, \"#ed7953\"], [0.7777777777777778, \"#fb9f3a\"], [0.8888888888888888, \"#fdca26\"], [1.0, \"#f0f921\"]], \"type\": \"surface\"}], \"table\": [{\"cells\": {\"fill\": {\"color\": \"#EBF0F8\"}, \"line\": {\"color\": \"white\"}}, \"header\": {\"fill\": {\"color\": \"#C8D4E3\"}, \"line\": {\"color\": \"white\"}}, \"type\": \"table\"}]}, \"layout\": {\"annotationdefaults\": {\"arrowcolor\": \"#2a3f5f\", \"arrowhead\": 0, \"arrowwidth\": 1}, \"coloraxis\": {\"colorbar\": {\"outlinewidth\": 0, \"ticks\": \"\"}}, \"colorscale\": {\"diverging\": [[0, \"#8e0152\"], [0.1, \"#c51b7d\"], [0.2, \"#de77ae\"], [0.3, \"#f1b6da\"], [0.4, \"#fde0ef\"], [0.5, \"#f7f7f7\"], [0.6, \"#e6f5d0\"], [0.7, \"#b8e186\"], [0.8, \"#7fbc41\"], [0.9, \"#4d9221\"], [1, \"#276419\"]], \"sequential\": [[0.0, \"#0d0887\"], [0.1111111111111111, \"#46039f\"], [0.2222222222222222, \"#7201a8\"], [0.3333333333333333, \"#9c179e\"], [0.4444444444444444, \"#bd3786\"], [0.5555555555555556, \"#d8576b\"], [0.6666666666666666, \"#ed7953\"], [0.7777777777777778, \"#fb9f3a\"], [0.8888888888888888, \"#fdca26\"], [1.0, \"#f0f921\"]], \"sequentialminus\": [[0.0, \"#0d0887\"], [0.1111111111111111, \"#46039f\"], [0.2222222222222222, \"#7201a8\"], [0.3333333333333333, \"#9c179e\"], [0.4444444444444444, \"#bd3786\"], [0.5555555555555556, \"#d8576b\"], [0.6666666666666666, \"#ed7953\"], [0.7777777777777778, \"#fb9f3a\"], [0.8888888888888888, \"#fdca26\"], [1.0, \"#f0f921\"]]}, \"colorway\": [\"#636efa\", \"#EF553B\", \"#00cc96\", \"#ab63fa\", \"#FFA15A\", \"#19d3f3\", \"#FF6692\", \"#B6E880\", \"#FF97FF\", \"#FECB52\"], \"font\": {\"color\": \"#2a3f5f\"}, \"geo\": {\"bgcolor\": \"white\", \"lakecolor\": \"white\", \"landcolor\": \"#E5ECF6\", \"showlakes\": true, \"showland\": true, \"subunitcolor\": \"white\"}, \"hoverlabel\": {\"align\": \"left\"}, \"hovermode\": \"closest\", \"mapbox\": {\"style\": \"light\"}, \"paper_bgcolor\": \"white\", \"plot_bgcolor\": \"#E5ECF6\", \"polar\": {\"angularaxis\": {\"gridcolor\": \"white\", \"linecolor\": \"white\", \"ticks\": \"\"}, \"bgcolor\": \"#E5ECF6\", \"radialaxis\": {\"gridcolor\": \"white\", \"linecolor\": \"white\", \"ticks\": \"\"}}, \"scene\": {\"xaxis\": {\"backgroundcolor\": \"#E5ECF6\", \"gridcolor\": \"white\", \"gridwidth\": 2, \"linecolor\": \"white\", \"showbackground\": true, \"ticks\": \"\", \"zerolinecolor\": \"white\"}, \"yaxis\": {\"backgroundcolor\": \"#E5ECF6\", \"gridcolor\": \"white\", \"gridwidth\": 2, \"linecolor\": \"white\", \"showbackground\": true, \"ticks\": \"\", \"zerolinecolor\": \"white\"}, \"zaxis\": {\"backgroundcolor\": \"#E5ECF6\", \"gridcolor\": \"white\", \"gridwidth\": 2, \"linecolor\": \"white\", \"showbackground\": true, \"ticks\": \"\", \"zerolinecolor\": \"white\"}}, \"shapedefaults\": {\"line\": {\"color\": \"#2a3f5f\"}}, \"ternary\": {\"aaxis\": {\"gridcolor\": \"white\", \"linecolor\": \"white\", \"ticks\": \"\"}, \"baxis\": {\"gridcolor\": \"white\", \"linecolor\": \"white\", \"ticks\": \"\"}, \"bgcolor\": \"#E5ECF6\", \"caxis\": {\"gridcolor\": \"white\", \"linecolor\": \"white\", \"ticks\": \"\"}}, \"title\": {\"x\": 0.05}, \"xaxis\": {\"automargin\": true, \"gridcolor\": \"white\", \"linecolor\": \"white\", \"ticks\": \"\", \"title\": {\"standoff\": 15}, \"zerolinecolor\": \"white\", \"zerolinewidth\": 2}, \"yaxis\": {\"automargin\": true, \"gridcolor\": \"white\", \"linecolor\": \"white\", \"ticks\": \"\", \"title\": {\"standoff\": 15}, \"zerolinecolor\": \"white\", \"zerolinewidth\": 2}}}, \"title\": {\"text\": \"(4:31) (No Huddle, Shotgun) J.Rosen pass short right to R.Seals-Jones to 50 for 10 yards (D.Sorensen).\"}, \"transition\": {\"duration\": 3000}, \"updatemenus\": [{\"buttons\": [{\"args\": [null, {\"frame\": {\"duration\": 500, \"redraw\": false}, \"fromcurrent\": true, \"mode\": \"immediate\", \"transition\": {\"duration\": 500, \"easing\": \"linear\"}}], \"label\": \"&#9654;\", \"method\": \"animate\"}, {\"args\": [[null], {\"frame\": {\"duration\": 0, \"redraw\": false}, \"fromcurrent\": true, \"mode\": \"immediate\", \"transition\": {\"duration\": 0, \"easing\": \"linear\"}}], \"label\": \"&#9724;\", \"method\": \"animate\"}], \"direction\": \"left\", \"pad\": {\"r\": 10, \"t\": 70}, \"showactive\": false, \"type\": \"buttons\", \"x\": 0.1, \"xanchor\": \"right\", \"y\": 0, \"yanchor\": \"top\"}], \"xaxis\": {\"anchor\": \"y\", \"domain\": [0.0, 1.0], \"range\": [0, 120], \"showgrid\": true, \"showticklabels\": false, \"title\": {\"text\": \"ARI @ KC  Week 10, 2018-11-11. PlayID: 3492 GameID: 2018111105\"}, \"visible\": true}, \"yaxis\": {\"anchor\": \"x\", \"domain\": [0.0, 1.0], \"range\": [0, 53.333333333333336], \"showgrid\": false, \"showticklabels\": false, \"title\": {\"text\": \"y\"}, \"visible\": false}},\n",
       "                        {\"responsive\": true}\n",
       "                    ).then(function(){\n",
       "                            Plotly.addFrames('2cbff2ce-083e-4a82-9fc9-e7e2f2f51e80', [{\"data\": [{\"hovertemplate\": \"team=home<br>frameId=1<br>x=%{x}<br>y=%{y}<br>size=%{marker.size}<br>jerseyNumber=%{text}<extra></extra>\", \"legendgroup\": \"home\", \"marker\": {\"color\": \"rgb(255,60,0)\", \"opacity\": 1, \"size\": [5, 5, 5, 5, 5, 5, 5, 5], \"sizemode\": \"area\", \"sizeref\": 0.029585798816568046, \"symbol\": \"circle\"}, \"mode\": \"markers+text\", \"name\": \"home\", \"orientation\": \"v\", \"showlegend\": true, \"text\": [22.0, 50.0, 38.0, 49.0, 20.0, 21.0, 23.0, 44.0], \"x\": [50.77, 50.28, 64.26, 52.78, 51.55, 67.06, 50.82, 54.31], \"xaxis\": \"x\", \"y\": [11.12, 30.47, 19.1, 18.04, 44.97, 34.02, 34.24, 27.25], \"yaxis\": \"y\", \"type\": \"scatter\"}, {\"hovertemplate\": \"team=away<br>frameId=1<br>x=%{x}<br>y=%{y}<br>size=%{marker.size}<br>jerseyNumber=%{text}<extra></extra>\", \"legendgroup\": \"away\", \"marker\": {\"color\": \"rgb(238,173,30)\", \"opacity\": 1, \"size\": [5, 5, 5, 5, 5, 5], \"sizemode\": \"area\", \"sizeref\": 0.029585798816568046, \"symbol\": \"circle\"}, \"mode\": \"markers+text\", \"name\": \"away\", \"orientation\": \"v\", \"showlegend\": true, \"text\": [11.0, 31.0, 86.0, 13.0, 3.0, 16.0], \"x\": [47.98, 45.5, 49.0, 49.2, 45.38, 48.17], \"xaxis\": \"x\", \"y\": [34.56, 26.84, 17.69, 45.32, 23.97, 10.98], \"yaxis\": \"y\", \"type\": \"scatter\"}, {\"hovertemplate\": \"team=football<br>frameId=1<br>x=%{x}<br>y=%{y}<br>size=%{marker.size}<br>jerseyNumber=%{text}<extra></extra>\", \"legendgroup\": \"football\", \"marker\": {\"color\": \"rgb(139,69,19)\", \"opacity\": 1, \"size\": [2], \"sizemode\": \"area\", \"sizeref\": 0.029585798816568046, \"symbol\": \"circle\"}, \"mode\": \"markers+text\", \"name\": \"football\", \"orientation\": \"v\", \"showlegend\": true, \"text\": [null], \"x\": [49.81], \"xaxis\": \"x\", \"y\": [23.82], \"yaxis\": \"y\", \"type\": \"scatter\"}], \"name\": \"1\"}, {\"data\": [{\"hovertemplate\": \"team=home<br>frameId=2<br>x=%{x}<br>y=%{y}<br>size=%{marker.size}<br>jerseyNumber=%{text}<extra></extra>\", \"legendgroup\": \"home\", \"marker\": {\"color\": \"rgb(255,60,0)\", \"opacity\": 1, \"size\": [5, 5, 5, 5, 5, 5, 5, 5], \"sizemode\": \"area\", \"sizeref\": 0.029585798816568046, \"symbol\": \"circle\"}, \"mode\": \"markers+text\", \"name\": \"home\", \"orientation\": \"v\", \"showlegend\": true, \"text\": [22.0, 50.0, 38.0, 49.0, 20.0, 21.0, 23.0, 44.0], \"x\": [50.72, 50.26, 64.36, 52.77, 51.55, 67.07, 50.81, 54.31], \"xaxis\": \"x\", \"y\": [11.14, 30.48, 19.03, 18.03, 44.99, 34.01, 34.25, 27.24], \"yaxis\": \"y\", \"type\": \"scatter\"}, {\"hovertemplate\": \"team=away<br>frameId=2<br>x=%{x}<br>y=%{y}<br>size=%{marker.size}<br>jerseyNumber=%{text}<extra></extra>\", \"legendgroup\": \"away\", \"marker\": {\"color\": \"rgb(238,173,30)\", \"opacity\": 1, \"size\": [5, 5, 5, 5, 5, 5], \"sizemode\": \"area\", \"sizeref\": 0.029585798816568046, \"symbol\": \"circle\"}, \"mode\": \"markers+text\", \"name\": \"away\", \"orientation\": \"v\", \"showlegend\": true, \"text\": [11.0, 31.0, 86.0, 13.0, 3.0, 16.0], \"x\": [47.98, 45.5, 48.99, 49.2, 45.38, 48.18], \"xaxis\": \"x\", \"y\": [34.56, 26.83, 17.69, 45.32, 23.97, 10.98], \"yaxis\": \"y\", \"type\": \"scatter\"}, {\"hovertemplate\": \"team=football<br>frameId=2<br>x=%{x}<br>y=%{y}<br>size=%{marker.size}<br>jerseyNumber=%{text}<extra></extra>\", \"legendgroup\": \"football\", \"marker\": {\"color\": \"rgb(139,69,19)\", \"opacity\": 1, \"size\": [2], \"sizemode\": \"area\", \"sizeref\": 0.029585798816568046, \"symbol\": \"circle\"}, \"mode\": \"markers+text\", \"name\": \"football\", \"orientation\": \"v\", \"showlegend\": true, \"text\": [null], \"x\": [49.81], \"xaxis\": \"x\", \"y\": [23.82], \"yaxis\": \"y\", \"type\": \"scatter\"}], \"name\": \"2\"}, {\"data\": [{\"hovertemplate\": \"team=home<br>frameId=3<br>x=%{x}<br>y=%{y}<br>size=%{marker.size}<br>jerseyNumber=%{text}<extra></extra>\", \"legendgroup\": \"home\", \"marker\": {\"color\": \"rgb(255,60,0)\", \"opacity\": 1, \"size\": [5, 5, 5, 5, 5, 5, 5, 5], \"sizemode\": \"area\", \"sizeref\": 0.029585798816568046, \"symbol\": \"circle\"}, \"mode\": \"markers+text\", \"name\": \"home\", \"orientation\": \"v\", \"showlegend\": true, \"text\": [22.0, 50.0, 38.0, 49.0, 20.0, 21.0, 23.0, 44.0], \"x\": [50.68, 50.25, 64.46, 52.77, 51.54, 67.09, 50.8, 54.31], \"xaxis\": \"x\", \"y\": [11.17, 30.48, 18.96, 18.04, 45.0, 34.0, 34.26, 27.24], \"yaxis\": \"y\", \"type\": \"scatter\"}, {\"hovertemplate\": \"team=away<br>frameId=3<br>x=%{x}<br>y=%{y}<br>size=%{marker.size}<br>jerseyNumber=%{text}<extra></extra>\", \"legendgroup\": \"away\", \"marker\": {\"color\": \"rgb(238,173,30)\", \"opacity\": 1, \"size\": [5, 5, 5, 5, 5, 5], \"sizemode\": \"area\", \"sizeref\": 0.029585798816568046, \"symbol\": \"circle\"}, \"mode\": \"markers+text\", \"name\": \"away\", \"orientation\": \"v\", \"showlegend\": true, \"text\": [11.0, 31.0, 86.0, 13.0, 3.0, 16.0], \"x\": [47.98, 45.5, 48.99, 49.2, 45.38, 48.18], \"xaxis\": \"x\", \"y\": [34.55, 26.83, 17.69, 45.32, 23.96, 10.98], \"yaxis\": \"y\", \"type\": \"scatter\"}, {\"hovertemplate\": \"team=football<br>frameId=3<br>x=%{x}<br>y=%{y}<br>size=%{marker.size}<br>jerseyNumber=%{text}<extra></extra>\", \"legendgroup\": \"football\", \"marker\": {\"color\": \"rgb(139,69,19)\", \"opacity\": 1, \"size\": [2], \"sizemode\": \"area\", \"sizeref\": 0.029585798816568046, \"symbol\": \"circle\"}, \"mode\": \"markers+text\", \"name\": \"football\", \"orientation\": \"v\", \"showlegend\": true, \"text\": [null], \"x\": [49.81], \"xaxis\": \"x\", \"y\": [23.82], \"yaxis\": \"y\", \"type\": \"scatter\"}], \"name\": \"3\"}, {\"data\": [{\"hovertemplate\": \"team=home<br>frameId=4<br>x=%{x}<br>y=%{y}<br>size=%{marker.size}<br>jerseyNumber=%{text}<extra></extra>\", \"legendgroup\": \"home\", \"marker\": {\"color\": \"rgb(255,60,0)\", \"opacity\": 1, \"size\": [5, 5, 5, 5, 5, 5, 5, 5], \"sizemode\": \"area\", \"sizeref\": 0.029585798816568046, \"symbol\": \"circle\"}, \"mode\": \"markers+text\", \"name\": \"home\", \"orientation\": \"v\", \"showlegend\": true, \"text\": [22.0, 50.0, 38.0, 49.0, 20.0, 21.0, 23.0, 44.0], \"x\": [50.64, 50.25, 64.56, 52.76, 51.54, 67.11, 50.79, 54.31], \"xaxis\": \"x\", \"y\": [11.19, 30.48, 18.9, 18.05, 45.0, 33.99, 34.27, 27.24], \"yaxis\": \"y\", \"type\": \"scatter\"}, {\"hovertemplate\": \"team=away<br>frameId=4<br>x=%{x}<br>y=%{y}<br>size=%{marker.size}<br>jerseyNumber=%{text}<extra></extra>\", \"legendgroup\": \"away\", \"marker\": {\"color\": \"rgb(238,173,30)\", \"opacity\": 1, \"size\": [5, 5, 5, 5, 5, 5], \"sizemode\": \"area\", \"sizeref\": 0.029585798816568046, \"symbol\": \"circle\"}, \"mode\": \"markers+text\", \"name\": \"away\", \"orientation\": \"v\", \"showlegend\": true, \"text\": [11.0, 31.0, 86.0, 13.0, 3.0, 16.0], \"x\": [47.98, 45.5, 48.99, 49.2, 45.38, 48.19], \"xaxis\": \"x\", \"y\": [34.55, 26.83, 17.69, 45.32, 23.96, 10.98], \"yaxis\": \"y\", \"type\": \"scatter\"}, {\"hovertemplate\": \"team=football<br>frameId=4<br>x=%{x}<br>y=%{y}<br>size=%{marker.size}<br>jerseyNumber=%{text}<extra></extra>\", \"legendgroup\": \"football\", \"marker\": {\"color\": \"rgb(139,69,19)\", \"opacity\": 1, \"size\": [2], \"sizemode\": \"area\", \"sizeref\": 0.029585798816568046, \"symbol\": \"circle\"}, \"mode\": \"markers+text\", \"name\": \"football\", \"orientation\": \"v\", \"showlegend\": true, \"text\": [null], \"x\": [49.81], \"xaxis\": \"x\", \"y\": [23.82], \"yaxis\": \"y\", \"type\": \"scatter\"}], \"name\": \"4\"}, {\"data\": [{\"hovertemplate\": \"team=home<br>frameId=5<br>x=%{x}<br>y=%{y}<br>size=%{marker.size}<br>jerseyNumber=%{text}<extra></extra>\", \"legendgroup\": \"home\", \"marker\": {\"color\": \"rgb(255,60,0)\", \"opacity\": 1, \"size\": [5, 5, 5, 5, 5, 5, 5, 5], \"sizemode\": \"area\", \"sizeref\": 0.029585798816568046, \"symbol\": \"circle\"}, \"mode\": \"markers+text\", \"name\": \"home\", \"orientation\": \"v\", \"showlegend\": true, \"text\": [22.0, 50.0, 38.0, 49.0, 20.0, 21.0, 23.0, 44.0], \"x\": [50.6, 50.25, 64.66, 52.75, 51.54, 67.14, 50.78, 54.3], \"xaxis\": \"x\", \"y\": [11.2, 30.48, 18.84, 18.07, 45.01, 33.98, 34.27, 27.24], \"yaxis\": \"y\", \"type\": \"scatter\"}, {\"hovertemplate\": \"team=away<br>frameId=5<br>x=%{x}<br>y=%{y}<br>size=%{marker.size}<br>jerseyNumber=%{text}<extra></extra>\", \"legendgroup\": \"away\", \"marker\": {\"color\": \"rgb(238,173,30)\", \"opacity\": 1, \"size\": [5, 5, 5, 5, 5, 5], \"sizemode\": \"area\", \"sizeref\": 0.029585798816568046, \"symbol\": \"circle\"}, \"mode\": \"markers+text\", \"name\": \"away\", \"orientation\": \"v\", \"showlegend\": true, \"text\": [11.0, 31.0, 86.0, 13.0, 3.0, 16.0], \"x\": [47.98, 45.5, 48.99, 49.2, 45.37, 48.2], \"xaxis\": \"x\", \"y\": [34.55, 26.83, 17.7, 45.32, 23.96, 10.98], \"yaxis\": \"y\", \"type\": \"scatter\"}, {\"hovertemplate\": \"team=football<br>frameId=5<br>x=%{x}<br>y=%{y}<br>size=%{marker.size}<br>jerseyNumber=%{text}<extra></extra>\", \"legendgroup\": \"football\", \"marker\": {\"color\": \"rgb(139,69,19)\", \"opacity\": 1, \"size\": [2], \"sizemode\": \"area\", \"sizeref\": 0.029585798816568046, \"symbol\": \"circle\"}, \"mode\": \"markers+text\", \"name\": \"football\", \"orientation\": \"v\", \"showlegend\": true, \"text\": [null], \"x\": [49.81], \"xaxis\": \"x\", \"y\": [23.82], \"yaxis\": \"y\", \"type\": \"scatter\"}], \"name\": \"5\"}, {\"data\": [{\"hovertemplate\": \"team=home<br>frameId=6<br>x=%{x}<br>y=%{y}<br>size=%{marker.size}<br>jerseyNumber=%{text}<extra></extra>\", \"legendgroup\": \"home\", \"marker\": {\"color\": \"rgb(255,60,0)\", \"opacity\": 1, \"size\": [5, 5, 5, 5, 5, 5, 5, 5], \"sizemode\": \"area\", \"sizeref\": 0.029585798816568046, \"symbol\": \"circle\"}, \"mode\": \"markers+text\", \"name\": \"home\", \"orientation\": \"v\", \"showlegend\": true, \"text\": [22.0, 50.0, 38.0, 49.0, 20.0, 21.0, 23.0, 44.0], \"x\": [50.58, 50.25, 64.77, 52.75, 51.53, 67.18, 50.77, 54.29], \"xaxis\": \"x\", \"y\": [11.21, 30.49, 18.78, 18.07, 45.0, 33.97, 34.26, 27.24], \"yaxis\": \"y\", \"type\": \"scatter\"}, {\"hovertemplate\": \"team=away<br>frameId=6<br>x=%{x}<br>y=%{y}<br>size=%{marker.size}<br>jerseyNumber=%{text}<extra></extra>\", \"legendgroup\": \"away\", \"marker\": {\"color\": \"rgb(238,173,30)\", \"opacity\": 1, \"size\": [5, 5, 5, 5, 5, 5], \"sizemode\": \"area\", \"sizeref\": 0.029585798816568046, \"symbol\": \"circle\"}, \"mode\": \"markers+text\", \"name\": \"away\", \"orientation\": \"v\", \"showlegend\": true, \"text\": [11.0, 31.0, 86.0, 13.0, 3.0, 16.0], \"x\": [47.98, 45.5, 48.99, 49.2, 45.37, 48.2], \"xaxis\": \"x\", \"y\": [34.55, 26.83, 17.69, 45.32, 23.95, 10.97], \"yaxis\": \"y\", \"type\": \"scatter\"}, {\"hovertemplate\": \"team=football<br>frameId=6<br>x=%{x}<br>y=%{y}<br>size=%{marker.size}<br>jerseyNumber=%{text}<extra></extra>\", \"legendgroup\": \"football\", \"marker\": {\"color\": \"rgb(139,69,19)\", \"opacity\": 1, \"size\": [2], \"sizemode\": \"area\", \"sizeref\": 0.029585798816568046, \"symbol\": \"circle\"}, \"mode\": \"markers+text\", \"name\": \"football\", \"orientation\": \"v\", \"showlegend\": true, \"text\": [null], \"x\": [49.81], \"xaxis\": \"x\", \"y\": [23.82], \"yaxis\": \"y\", \"type\": \"scatter\"}], \"name\": \"6\"}, {\"data\": [{\"hovertemplate\": \"team=home<br>frameId=7<br>x=%{x}<br>y=%{y}<br>size=%{marker.size}<br>jerseyNumber=%{text}<extra></extra>\", \"legendgroup\": \"home\", \"marker\": {\"color\": \"rgb(255,60,0)\", \"opacity\": 1, \"size\": [5, 5, 5, 5, 5, 5, 5, 5], \"sizemode\": \"area\", \"sizeref\": 0.029585798816568046, \"symbol\": \"circle\"}, \"mode\": \"markers+text\", \"name\": \"home\", \"orientation\": \"v\", \"showlegend\": true, \"text\": [22.0, 50.0, 38.0, 49.0, 20.0, 21.0, 23.0, 44.0], \"x\": [50.56, 50.26, 64.88, 52.75, 51.53, 67.22, 50.76, 54.28], \"xaxis\": \"x\", \"y\": [11.22, 30.48, 18.71, 18.07, 45.01, 33.96, 34.25, 27.24], \"yaxis\": \"y\", \"type\": \"scatter\"}, {\"hovertemplate\": \"team=away<br>frameId=7<br>x=%{x}<br>y=%{y}<br>size=%{marker.size}<br>jerseyNumber=%{text}<extra></extra>\", \"legendgroup\": \"away\", \"marker\": {\"color\": \"rgb(238,173,30)\", \"opacity\": 1, \"size\": [5, 5, 5, 5, 5, 5], \"sizemode\": \"area\", \"sizeref\": 0.029585798816568046, \"symbol\": \"circle\"}, \"mode\": \"markers+text\", \"name\": \"away\", \"orientation\": \"v\", \"showlegend\": true, \"text\": [11.0, 31.0, 86.0, 13.0, 3.0, 16.0], \"x\": [47.98, 45.5, 48.99, 49.21, 45.37, 48.21], \"xaxis\": \"x\", \"y\": [34.55, 26.83, 17.69, 45.33, 23.96, 10.97], \"yaxis\": \"y\", \"type\": \"scatter\"}, {\"hovertemplate\": \"team=football<br>frameId=7<br>x=%{x}<br>y=%{y}<br>size=%{marker.size}<br>jerseyNumber=%{text}<extra></extra>\", \"legendgroup\": \"football\", \"marker\": {\"color\": \"rgb(139,69,19)\", \"opacity\": 1, \"size\": [2], \"sizemode\": \"area\", \"sizeref\": 0.029585798816568046, \"symbol\": \"circle\"}, \"mode\": \"markers+text\", \"name\": \"football\", \"orientation\": \"v\", \"showlegend\": true, \"text\": [null], \"x\": [49.81], \"xaxis\": \"x\", \"y\": [23.82], \"yaxis\": \"y\", \"type\": \"scatter\"}], \"name\": \"7\"}, {\"data\": [{\"hovertemplate\": \"team=home<br>frameId=8<br>x=%{x}<br>y=%{y}<br>size=%{marker.size}<br>jerseyNumber=%{text}<extra></extra>\", \"legendgroup\": \"home\", \"marker\": {\"color\": \"rgb(255,60,0)\", \"opacity\": 1, \"size\": [5, 5, 5, 5, 5, 5, 5, 5], \"sizemode\": \"area\", \"sizeref\": 0.029585798816568046, \"symbol\": \"circle\"}, \"mode\": \"markers+text\", \"name\": \"home\", \"orientation\": \"v\", \"showlegend\": true, \"text\": [22.0, 50.0, 38.0, 49.0, 20.0, 21.0, 23.0, 44.0], \"x\": [50.55, 50.26, 64.99, 52.75, 51.53, 67.26, 50.76, 54.27], \"xaxis\": \"x\", \"y\": [11.21, 30.48, 18.66, 18.05, 45.0, 33.99, 34.24, 27.25], \"yaxis\": \"y\", \"type\": \"scatter\"}, {\"hovertemplate\": \"team=away<br>frameId=8<br>x=%{x}<br>y=%{y}<br>size=%{marker.size}<br>jerseyNumber=%{text}<extra></extra>\", \"legendgroup\": \"away\", \"marker\": {\"color\": \"rgb(238,173,30)\", \"opacity\": 1, \"size\": [5, 5, 5, 5, 5, 5], \"sizemode\": \"area\", \"sizeref\": 0.029585798816568046, \"symbol\": \"circle\"}, \"mode\": \"markers+text\", \"name\": \"away\", \"orientation\": \"v\", \"showlegend\": true, \"text\": [11.0, 31.0, 86.0, 13.0, 3.0, 16.0], \"x\": [47.98, 45.5, 49.0, 49.21, 45.36, 48.21], \"xaxis\": \"x\", \"y\": [34.55, 26.83, 17.69, 45.32, 23.94, 10.97], \"yaxis\": \"y\", \"type\": \"scatter\"}, {\"hovertemplate\": \"team=football<br>frameId=8<br>x=%{x}<br>y=%{y}<br>size=%{marker.size}<br>jerseyNumber=%{text}<extra></extra>\", \"legendgroup\": \"football\", \"marker\": {\"color\": \"rgb(139,69,19)\", \"opacity\": 1, \"size\": [2], \"sizemode\": \"area\", \"sizeref\": 0.029585798816568046, \"symbol\": \"circle\"}, \"mode\": \"markers+text\", \"name\": \"football\", \"orientation\": \"v\", \"showlegend\": true, \"text\": [null], \"x\": [49.81], \"xaxis\": \"x\", \"y\": [23.82], \"yaxis\": \"y\", \"type\": \"scatter\"}], \"name\": \"8\"}, {\"data\": [{\"hovertemplate\": \"team=home<br>frameId=9<br>x=%{x}<br>y=%{y}<br>size=%{marker.size}<br>jerseyNumber=%{text}<extra></extra>\", \"legendgroup\": \"home\", \"marker\": {\"color\": \"rgb(255,60,0)\", \"opacity\": 1, \"size\": [5, 5, 5, 5, 5, 5, 5, 5], \"sizemode\": \"area\", \"sizeref\": 0.029585798816568046, \"symbol\": \"circle\"}, \"mode\": \"markers+text\", \"name\": \"home\", \"orientation\": \"v\", \"showlegend\": true, \"text\": [22.0, 50.0, 38.0, 49.0, 20.0, 21.0, 23.0, 44.0], \"x\": [50.54, 50.26, 65.1, 52.75, 51.53, 67.28, 50.75, 54.26], \"xaxis\": \"x\", \"y\": [11.2, 30.47, 18.6, 18.05, 45.0, 34.01, 34.23, 27.27], \"yaxis\": \"y\", \"type\": \"scatter\"}, {\"hovertemplate\": \"team=away<br>frameId=9<br>x=%{x}<br>y=%{y}<br>size=%{marker.size}<br>jerseyNumber=%{text}<extra></extra>\", \"legendgroup\": \"away\", \"marker\": {\"color\": \"rgb(238,173,30)\", \"opacity\": 1, \"size\": [5, 5, 5, 5, 5, 5], \"sizemode\": \"area\", \"sizeref\": 0.029585798816568046, \"symbol\": \"circle\"}, \"mode\": \"markers+text\", \"name\": \"away\", \"orientation\": \"v\", \"showlegend\": true, \"text\": [11.0, 31.0, 86.0, 13.0, 3.0, 16.0], \"x\": [47.98, 45.5, 49.0, 49.2, 45.36, 48.21], \"xaxis\": \"x\", \"y\": [34.55, 26.83, 17.69, 45.32, 23.93, 10.96], \"yaxis\": \"y\", \"type\": \"scatter\"}, {\"hovertemplate\": \"team=football<br>frameId=9<br>x=%{x}<br>y=%{y}<br>size=%{marker.size}<br>jerseyNumber=%{text}<extra></extra>\", \"legendgroup\": \"football\", \"marker\": {\"color\": \"rgb(139,69,19)\", \"opacity\": 1, \"size\": [2], \"sizemode\": \"area\", \"sizeref\": 0.029585798816568046, \"symbol\": \"circle\"}, \"mode\": \"markers+text\", \"name\": \"football\", \"orientation\": \"v\", \"showlegend\": true, \"text\": [null], \"x\": [49.81], \"xaxis\": \"x\", \"y\": [23.82], \"yaxis\": \"y\", \"type\": \"scatter\"}], \"name\": \"9\"}, {\"data\": [{\"hovertemplate\": \"team=home<br>frameId=10<br>x=%{x}<br>y=%{y}<br>size=%{marker.size}<br>jerseyNumber=%{text}<extra></extra>\", \"legendgroup\": \"home\", \"marker\": {\"color\": \"rgb(255,60,0)\", \"opacity\": 1, \"size\": [5, 5, 5, 5, 5, 5, 5, 5], \"sizemode\": \"area\", \"sizeref\": 0.029585798816568046, \"symbol\": \"circle\"}, \"mode\": \"markers+text\", \"name\": \"home\", \"orientation\": \"v\", \"showlegend\": true, \"text\": [22.0, 50.0, 38.0, 49.0, 20.0, 21.0, 23.0, 44.0], \"x\": [50.54, 50.24, 65.21, 52.75, 51.53, 67.32, 50.76, 54.25], \"xaxis\": \"x\", \"y\": [11.18, 30.45, 18.55, 18.04, 45.01, 34.03, 34.23, 27.27], \"yaxis\": \"y\", \"type\": \"scatter\"}, {\"hovertemplate\": \"team=away<br>frameId=10<br>x=%{x}<br>y=%{y}<br>size=%{marker.size}<br>jerseyNumber=%{text}<extra></extra>\", \"legendgroup\": \"away\", \"marker\": {\"color\": \"rgb(238,173,30)\", \"opacity\": 1, \"size\": [5, 5, 5, 5, 5, 5], \"sizemode\": \"area\", \"sizeref\": 0.029585798816568046, \"symbol\": \"circle\"}, \"mode\": \"markers+text\", \"name\": \"away\", \"orientation\": \"v\", \"showlegend\": true, \"text\": [11.0, 31.0, 86.0, 13.0, 3.0, 16.0], \"x\": [47.99, 45.49, 49.0, 49.21, 45.36, 48.22], \"xaxis\": \"x\", \"y\": [34.55, 26.84, 17.7, 45.32, 23.93, 10.96], \"yaxis\": \"y\", \"type\": \"scatter\"}, {\"hovertemplate\": \"team=football<br>frameId=10<br>x=%{x}<br>y=%{y}<br>size=%{marker.size}<br>jerseyNumber=%{text}<extra></extra>\", \"legendgroup\": \"football\", \"marker\": {\"color\": \"rgb(139,69,19)\", \"opacity\": 1, \"size\": [2], \"sizemode\": \"area\", \"sizeref\": 0.029585798816568046, \"symbol\": \"circle\"}, \"mode\": \"markers+text\", \"name\": \"football\", \"orientation\": \"v\", \"showlegend\": true, \"text\": [null], \"x\": [50.01], \"xaxis\": \"x\", \"y\": [23.86], \"yaxis\": \"y\", \"type\": \"scatter\"}], \"name\": \"10\"}, {\"data\": [{\"hovertemplate\": \"team=home<br>frameId=11<br>x=%{x}<br>y=%{y}<br>size=%{marker.size}<br>jerseyNumber=%{text}<extra></extra>\", \"legendgroup\": \"home\", \"marker\": {\"color\": \"rgb(255,60,0)\", \"opacity\": 1, \"size\": [5, 5, 5, 5, 5, 5, 5, 5], \"sizemode\": \"area\", \"sizeref\": 0.029585798816568046, \"symbol\": \"circle\"}, \"mode\": \"markers+text\", \"name\": \"home\", \"orientation\": \"v\", \"showlegend\": true, \"text\": [22.0, 50.0, 38.0, 49.0, 20.0, 21.0, 23.0, 44.0], \"x\": [50.56, 50.19, 65.34, 52.75, 51.53, 67.36, 50.76, 54.23], \"xaxis\": \"x\", \"y\": [11.17, 30.42, 18.49, 18.05, 45.02, 34.06, 34.23, 27.27], \"yaxis\": \"y\", \"type\": \"scatter\"}, {\"hovertemplate\": \"team=away<br>frameId=11<br>x=%{x}<br>y=%{y}<br>size=%{marker.size}<br>jerseyNumber=%{text}<extra></extra>\", \"legendgroup\": \"away\", \"marker\": {\"color\": \"rgb(238,173,30)\", \"opacity\": 1, \"size\": [5, 5, 5, 5, 5, 5], \"sizemode\": \"area\", \"sizeref\": 0.029585798816568046, \"symbol\": \"circle\"}, \"mode\": \"markers+text\", \"name\": \"away\", \"orientation\": \"v\", \"showlegend\": true, \"text\": [11.0, 31.0, 86.0, 13.0, 3.0, 16.0], \"x\": [48.0, 45.49, 49.03, 49.22, 45.35, 48.23], \"xaxis\": \"x\", \"y\": [34.55, 26.84, 17.69, 45.32, 23.93, 10.96], \"yaxis\": \"y\", \"type\": \"scatter\"}, {\"hovertemplate\": \"team=football<br>frameId=11<br>x=%{x}<br>y=%{y}<br>size=%{marker.size}<br>jerseyNumber=%{text}<extra></extra>\", \"legendgroup\": \"football\", \"marker\": {\"color\": \"rgb(139,69,19)\", \"opacity\": 1, \"size\": [2], \"sizemode\": \"area\", \"sizeref\": 0.029585798816568046, \"symbol\": \"circle\"}, \"mode\": \"markers+text\", \"name\": \"football\", \"orientation\": \"v\", \"showlegend\": true, \"text\": [null], \"x\": [49.26], \"xaxis\": \"x\", \"y\": [23.89], \"yaxis\": \"y\", \"type\": \"scatter\"}], \"name\": \"11\"}, {\"data\": [{\"hovertemplate\": \"team=home<br>frameId=12<br>x=%{x}<br>y=%{y}<br>size=%{marker.size}<br>jerseyNumber=%{text}<extra></extra>\", \"legendgroup\": \"home\", \"marker\": {\"color\": \"rgb(255,60,0)\", \"opacity\": 1, \"size\": [5, 5, 5, 5, 5, 5, 5, 5], \"sizemode\": \"area\", \"sizeref\": 0.029585798816568046, \"symbol\": \"circle\"}, \"mode\": \"markers+text\", \"name\": \"home\", \"orientation\": \"v\", \"showlegend\": true, \"text\": [22.0, 50.0, 38.0, 49.0, 20.0, 21.0, 23.0, 44.0], \"x\": [50.58, 50.11, 65.48, 52.75, 51.53, 67.41, 50.77, 54.2], \"xaxis\": \"x\", \"y\": [11.16, 30.38, 18.41, 18.07, 44.98, 34.11, 34.22, 27.27], \"yaxis\": \"y\", \"type\": \"scatter\"}, {\"hovertemplate\": \"team=away<br>frameId=12<br>x=%{x}<br>y=%{y}<br>size=%{marker.size}<br>jerseyNumber=%{text}<extra></extra>\", \"legendgroup\": \"away\", \"marker\": {\"color\": \"rgb(238,173,30)\", \"opacity\": 1, \"size\": [5, 5, 5, 5, 5, 5], \"sizemode\": \"area\", \"sizeref\": 0.029585798816568046, \"symbol\": \"circle\"}, \"mode\": \"markers+text\", \"name\": \"away\", \"orientation\": \"v\", \"showlegend\": true, \"text\": [11.0, 31.0, 86.0, 13.0, 3.0, 16.0], \"x\": [48.01, 45.48, 49.07, 49.25, 45.32, 48.24], \"xaxis\": \"x\", \"y\": [34.54, 26.85, 17.69, 45.32, 23.93, 10.96], \"yaxis\": \"y\", \"type\": \"scatter\"}, {\"hovertemplate\": \"team=football<br>frameId=12<br>x=%{x}<br>y=%{y}<br>size=%{marker.size}<br>jerseyNumber=%{text}<extra></extra>\", \"legendgroup\": \"football\", \"marker\": {\"color\": \"rgb(139,69,19)\", \"opacity\": 1, \"size\": [2], \"sizemode\": \"area\", \"sizeref\": 0.029585798816568046, \"symbol\": \"circle\"}, \"mode\": \"markers+text\", \"name\": \"football\", \"orientation\": \"v\", \"showlegend\": true, \"text\": [null], \"x\": [48.53], \"xaxis\": \"x\", \"y\": [23.9], \"yaxis\": \"y\", \"type\": \"scatter\"}], \"name\": \"12\"}, {\"data\": [{\"hovertemplate\": \"team=home<br>frameId=13<br>x=%{x}<br>y=%{y}<br>size=%{marker.size}<br>jerseyNumber=%{text}<extra></extra>\", \"legendgroup\": \"home\", \"marker\": {\"color\": \"rgb(255,60,0)\", \"opacity\": 1, \"size\": [5, 5, 5, 5, 5, 5, 5, 5], \"sizemode\": \"area\", \"sizeref\": 0.029585798816568046, \"symbol\": \"circle\"}, \"mode\": \"markers+text\", \"name\": \"home\", \"orientation\": \"v\", \"showlegend\": true, \"text\": [22.0, 50.0, 38.0, 49.0, 20.0, 21.0, 23.0, 44.0], \"x\": [50.6, 49.99, 65.62, 52.75, 51.55, 67.46, 50.79, 54.16], \"xaxis\": \"x\", \"y\": [11.15, 30.32, 18.33, 18.08, 44.95, 34.14, 34.17, 27.29], \"yaxis\": \"y\", \"type\": \"scatter\"}, {\"hovertemplate\": \"team=away<br>frameId=13<br>x=%{x}<br>y=%{y}<br>size=%{marker.size}<br>jerseyNumber=%{text}<extra></extra>\", \"legendgroup\": \"away\", \"marker\": {\"color\": \"rgb(238,173,30)\", \"opacity\": 1, \"size\": [5, 5, 5, 5, 5, 5], \"sizemode\": \"area\", \"sizeref\": 0.029585798816568046, \"symbol\": \"circle\"}, \"mode\": \"markers+text\", \"name\": \"away\", \"orientation\": \"v\", \"showlegend\": true, \"text\": [11.0, 31.0, 86.0, 13.0, 3.0, 16.0], \"x\": [48.06, 45.47, 49.17, 49.26, 45.29, 48.26], \"xaxis\": \"x\", \"y\": [34.53, 26.88, 17.68, 45.31, 23.93, 10.95], \"yaxis\": \"y\", \"type\": \"scatter\"}, {\"hovertemplate\": \"team=football<br>frameId=13<br>x=%{x}<br>y=%{y}<br>size=%{marker.size}<br>jerseyNumber=%{text}<extra></extra>\", \"legendgroup\": \"football\", \"marker\": {\"color\": \"rgb(139,69,19)\", \"opacity\": 1, \"size\": [2], \"sizemode\": \"area\", \"sizeref\": 0.029585798816568046, \"symbol\": \"circle\"}, \"mode\": \"markers+text\", \"name\": \"football\", \"orientation\": \"v\", \"showlegend\": true, \"text\": [null], \"x\": [47.84], \"xaxis\": \"x\", \"y\": [23.91], \"yaxis\": \"y\", \"type\": \"scatter\"}], \"name\": \"13\"}, {\"data\": [{\"hovertemplate\": \"team=home<br>frameId=14<br>x=%{x}<br>y=%{y}<br>size=%{marker.size}<br>jerseyNumber=%{text}<extra></extra>\", \"legendgroup\": \"home\", \"marker\": {\"color\": \"rgb(255,60,0)\", \"opacity\": 1, \"size\": [5, 5, 5, 5, 5, 5, 5, 5], \"sizemode\": \"area\", \"sizeref\": 0.029585798816568046, \"symbol\": \"circle\"}, \"mode\": \"markers+text\", \"name\": \"home\", \"orientation\": \"v\", \"showlegend\": true, \"text\": [22.0, 50.0, 38.0, 49.0, 20.0, 21.0, 23.0, 44.0], \"x\": [50.64, 49.85, 65.78, 52.78, 51.57, 67.51, 50.83, 54.15], \"xaxis\": \"x\", \"y\": [11.15, 30.26, 18.24, 18.1, 44.94, 34.17, 34.14, 27.31], \"yaxis\": \"y\", \"type\": \"scatter\"}, {\"hovertemplate\": \"team=away<br>frameId=14<br>x=%{x}<br>y=%{y}<br>size=%{marker.size}<br>jerseyNumber=%{text}<extra></extra>\", \"legendgroup\": \"away\", \"marker\": {\"color\": \"rgb(238,173,30)\", \"opacity\": 1, \"size\": [5, 5, 5, 5, 5, 5], \"sizemode\": \"area\", \"sizeref\": 0.029585798816568046, \"symbol\": \"circle\"}, \"mode\": \"markers+text\", \"name\": \"away\", \"orientation\": \"v\", \"showlegend\": true, \"text\": [11.0, 31.0, 86.0, 13.0, 3.0, 16.0], \"x\": [48.14, 45.46, 49.29, 49.28, 45.26, 48.33], \"xaxis\": \"x\", \"y\": [34.51, 26.9, 17.65, 45.31, 23.93, 10.94], \"yaxis\": \"y\", \"type\": \"scatter\"}, {\"hovertemplate\": \"team=football<br>frameId=14<br>x=%{x}<br>y=%{y}<br>size=%{marker.size}<br>jerseyNumber=%{text}<extra></extra>\", \"legendgroup\": \"football\", \"marker\": {\"color\": \"rgb(139,69,19)\", \"opacity\": 1, \"size\": [2], \"sizemode\": \"area\", \"sizeref\": 0.029585798816568046, \"symbol\": \"circle\"}, \"mode\": \"markers+text\", \"name\": \"football\", \"orientation\": \"v\", \"showlegend\": true, \"text\": [null], \"x\": [47.17], \"xaxis\": \"x\", \"y\": [23.92], \"yaxis\": \"y\", \"type\": \"scatter\"}], \"name\": \"14\"}, {\"data\": [{\"hovertemplate\": \"team=home<br>frameId=15<br>x=%{x}<br>y=%{y}<br>size=%{marker.size}<br>jerseyNumber=%{text}<extra></extra>\", \"legendgroup\": \"home\", \"marker\": {\"color\": \"rgb(255,60,0)\", \"opacity\": 1, \"size\": [5, 5, 5, 5, 5, 5, 5, 5], \"sizemode\": \"area\", \"sizeref\": 0.029585798816568046, \"symbol\": \"circle\"}, \"mode\": \"markers+text\", \"name\": \"home\", \"orientation\": \"v\", \"showlegend\": true, \"text\": [22.0, 50.0, 38.0, 49.0, 20.0, 21.0, 23.0, 44.0], \"x\": [50.69, 49.65, 65.95, 52.81, 51.59, 67.57, 50.87, 54.11], \"xaxis\": \"x\", \"y\": [11.16, 30.17, 18.14, 18.09, 44.93, 34.2, 34.1, 27.33], \"yaxis\": \"y\", \"type\": \"scatter\"}, {\"hovertemplate\": \"team=away<br>frameId=15<br>x=%{x}<br>y=%{y}<br>size=%{marker.size}<br>jerseyNumber=%{text}<extra></extra>\", \"legendgroup\": \"away\", \"marker\": {\"color\": \"rgb(238,173,30)\", \"opacity\": 1, \"size\": [5, 5, 5, 5, 5, 5], \"sizemode\": \"area\", \"sizeref\": 0.029585798816568046, \"symbol\": \"circle\"}, \"mode\": \"markers+text\", \"name\": \"away\", \"orientation\": \"v\", \"showlegend\": true, \"text\": [11.0, 31.0, 86.0, 13.0, 3.0, 16.0], \"x\": [48.25, 45.45, 49.49, 49.34, 45.19, 48.43], \"xaxis\": \"x\", \"y\": [34.47, 26.93, 17.61, 45.3, 23.94, 10.92], \"yaxis\": \"y\", \"type\": \"scatter\"}, {\"hovertemplate\": \"team=football<br>frameId=15<br>x=%{x}<br>y=%{y}<br>size=%{marker.size}<br>jerseyNumber=%{text}<extra></extra>\", \"legendgroup\": \"football\", \"marker\": {\"color\": \"rgb(139,69,19)\", \"opacity\": 1, \"size\": [2], \"sizemode\": \"area\", \"sizeref\": 0.029585798816568046, \"symbol\": \"circle\"}, \"mode\": \"markers+text\", \"name\": \"football\", \"orientation\": \"v\", \"showlegend\": true, \"text\": [null], \"x\": [46.57], \"xaxis\": \"x\", \"y\": [23.9], \"yaxis\": \"y\", \"type\": \"scatter\"}], \"name\": \"15\"}, {\"data\": [{\"hovertemplate\": \"team=home<br>frameId=16<br>x=%{x}<br>y=%{y}<br>size=%{marker.size}<br>jerseyNumber=%{text}<extra></extra>\", \"legendgroup\": \"home\", \"marker\": {\"color\": \"rgb(255,60,0)\", \"opacity\": 1, \"size\": [5, 5, 5, 5, 5, 5, 5, 5], \"sizemode\": \"area\", \"sizeref\": 0.029585798816568046, \"symbol\": \"circle\"}, \"mode\": \"markers+text\", \"name\": \"home\", \"orientation\": \"v\", \"showlegend\": true, \"text\": [22.0, 50.0, 38.0, 49.0, 20.0, 21.0, 23.0, 44.0], \"x\": [50.76, 49.41, 66.14, 52.85, 51.61, 67.63, 50.92, 54.07], \"xaxis\": \"x\", \"y\": [11.18, 30.07, 18.02, 18.08, 44.93, 34.24, 34.05, 27.39], \"yaxis\": \"y\", \"type\": \"scatter\"}, {\"hovertemplate\": \"team=away<br>frameId=16<br>x=%{x}<br>y=%{y}<br>size=%{marker.size}<br>jerseyNumber=%{text}<extra></extra>\", \"legendgroup\": \"away\", \"marker\": {\"color\": \"rgb(238,173,30)\", \"opacity\": 1, \"size\": [5, 5, 5, 5, 5, 5], \"sizemode\": \"area\", \"sizeref\": 0.029585798816568046, \"symbol\": \"circle\"}, \"mode\": \"markers+text\", \"name\": \"away\", \"orientation\": \"v\", \"showlegend\": true, \"text\": [11.0, 31.0, 86.0, 13.0, 3.0, 16.0], \"x\": [48.43, 45.41, 49.73, 49.44, 45.09, 48.57], \"xaxis\": \"x\", \"y\": [34.42, 26.99, 17.56, 45.3, 23.95, 10.89], \"yaxis\": \"y\", \"type\": \"scatter\"}, {\"hovertemplate\": \"team=football<br>frameId=16<br>x=%{x}<br>y=%{y}<br>size=%{marker.size}<br>jerseyNumber=%{text}<extra></extra>\", \"legendgroup\": \"football\", \"marker\": {\"color\": \"rgb(139,69,19)\", \"opacity\": 1, \"size\": [2], \"sizemode\": \"area\", \"sizeref\": 0.029585798816568046, \"symbol\": \"circle\"}, \"mode\": \"markers+text\", \"name\": \"football\", \"orientation\": \"v\", \"showlegend\": true, \"text\": [null], \"x\": [46.02], \"xaxis\": \"x\", \"y\": [23.88], \"yaxis\": \"y\", \"type\": \"scatter\"}], \"name\": \"16\"}, {\"data\": [{\"hovertemplate\": \"team=home<br>frameId=17<br>x=%{x}<br>y=%{y}<br>size=%{marker.size}<br>jerseyNumber=%{text}<extra></extra>\", \"legendgroup\": \"home\", \"marker\": {\"color\": \"rgb(255,60,0)\", \"opacity\": 1, \"size\": [5, 5, 5, 5, 5, 5, 5, 5], \"sizemode\": \"area\", \"sizeref\": 0.029585798816568046, \"symbol\": \"circle\"}, \"mode\": \"markers+text\", \"name\": \"home\", \"orientation\": \"v\", \"showlegend\": true, \"text\": [22.0, 50.0, 38.0, 49.0, 20.0, 21.0, 23.0, 44.0], \"x\": [50.84, 49.12, 66.33, 52.87, 51.64, 67.68, 50.98, 54.02], \"xaxis\": \"x\", \"y\": [11.21, 29.92, 17.9, 18.08, 44.91, 34.27, 33.97, 27.44], \"yaxis\": \"y\", \"type\": \"scatter\"}, {\"hovertemplate\": \"team=away<br>frameId=17<br>x=%{x}<br>y=%{y}<br>size=%{marker.size}<br>jerseyNumber=%{text}<extra></extra>\", \"legendgroup\": \"away\", \"marker\": {\"color\": \"rgb(238,173,30)\", \"opacity\": 1, \"size\": [5, 5, 5, 5, 5, 5], \"sizemode\": \"area\", \"sizeref\": 0.029585798816568046, \"symbol\": \"circle\"}, \"mode\": \"markers+text\", \"name\": \"away\", \"orientation\": \"v\", \"showlegend\": true, \"text\": [11.0, 31.0, 86.0, 13.0, 3.0, 16.0], \"x\": [48.66, 45.37, 50.0, 49.58, 44.95, 48.75], \"xaxis\": \"x\", \"y\": [34.37, 27.11, 17.5, 45.31, 23.96, 10.83], \"yaxis\": \"y\", \"type\": \"scatter\"}, {\"hovertemplate\": \"team=football<br>frameId=17<br>x=%{x}<br>y=%{y}<br>size=%{marker.size}<br>jerseyNumber=%{text}<extra></extra>\", \"legendgroup\": \"football\", \"marker\": {\"color\": \"rgb(139,69,19)\", \"opacity\": 1, \"size\": [2], \"sizemode\": \"area\", \"sizeref\": 0.029585798816568046, \"symbol\": \"circle\"}, \"mode\": \"markers+text\", \"name\": \"football\", \"orientation\": \"v\", \"showlegend\": true, \"text\": [null], \"x\": [45.53], \"xaxis\": \"x\", \"y\": [23.84], \"yaxis\": \"y\", \"type\": \"scatter\"}], \"name\": \"17\"}, {\"data\": [{\"hovertemplate\": \"team=home<br>frameId=18<br>x=%{x}<br>y=%{y}<br>size=%{marker.size}<br>jerseyNumber=%{text}<extra></extra>\", \"legendgroup\": \"home\", \"marker\": {\"color\": \"rgb(255,60,0)\", \"opacity\": 1, \"size\": [5, 5, 5, 5, 5, 5, 5, 5], \"sizemode\": \"area\", \"sizeref\": 0.029585798816568046, \"symbol\": \"circle\"}, \"mode\": \"markers+text\", \"name\": \"home\", \"orientation\": \"v\", \"showlegend\": true, \"text\": [22.0, 50.0, 38.0, 49.0, 20.0, 21.0, 23.0, 44.0], \"x\": [50.95, 48.8, 66.54, 52.89, 51.7, 67.75, 51.08, 53.97], \"xaxis\": \"x\", \"y\": [11.24, 29.76, 17.77, 18.07, 44.89, 34.32, 33.89, 27.48], \"yaxis\": \"y\", \"type\": \"scatter\"}, {\"hovertemplate\": \"team=away<br>frameId=18<br>x=%{x}<br>y=%{y}<br>size=%{marker.size}<br>jerseyNumber=%{text}<extra></extra>\", \"legendgroup\": \"away\", \"marker\": {\"color\": \"rgb(238,173,30)\", \"opacity\": 1, \"size\": [5, 5, 5, 5, 5, 5], \"sizemode\": \"area\", \"sizeref\": 0.029585798816568046, \"symbol\": \"circle\"}, \"mode\": \"markers+text\", \"name\": \"away\", \"orientation\": \"v\", \"showlegend\": true, \"text\": [11.0, 31.0, 86.0, 13.0, 3.0, 16.0], \"x\": [48.92, 45.3, 50.33, 49.77, 44.77, 48.99], \"xaxis\": \"x\", \"y\": [34.32, 27.27, 17.43, 45.33, 23.97, 10.76], \"yaxis\": \"y\", \"type\": \"scatter\"}, {\"hovertemplate\": \"team=football<br>frameId=18<br>x=%{x}<br>y=%{y}<br>size=%{marker.size}<br>jerseyNumber=%{text}<extra></extra>\", \"legendgroup\": \"football\", \"marker\": {\"color\": \"rgb(139,69,19)\", \"opacity\": 1, \"size\": [2], \"sizemode\": \"area\", \"sizeref\": 0.029585798816568046, \"symbol\": \"circle\"}, \"mode\": \"markers+text\", \"name\": \"football\", \"orientation\": \"v\", \"showlegend\": true, \"text\": [null], \"x\": [45.1], \"xaxis\": \"x\", \"y\": [23.79], \"yaxis\": \"y\", \"type\": \"scatter\"}], \"name\": \"18\"}, {\"data\": [{\"hovertemplate\": \"team=home<br>frameId=19<br>x=%{x}<br>y=%{y}<br>size=%{marker.size}<br>jerseyNumber=%{text}<extra></extra>\", \"legendgroup\": \"home\", \"marker\": {\"color\": \"rgb(255,60,0)\", \"opacity\": 1, \"size\": [5, 5, 5, 5, 5, 5, 5, 5], \"sizemode\": \"area\", \"sizeref\": 0.029585798816568046, \"symbol\": \"circle\"}, \"mode\": \"markers+text\", \"name\": \"home\", \"orientation\": \"v\", \"showlegend\": true, \"text\": [22.0, 50.0, 38.0, 49.0, 20.0, 21.0, 23.0, 44.0], \"x\": [51.07, 48.46, 66.75, 52.96, 51.82, 67.84, 51.19, 53.9], \"xaxis\": \"x\", \"y\": [11.27, 29.57, 17.63, 18.05, 44.88, 34.39, 33.79, 27.56], \"yaxis\": \"y\", \"type\": \"scatter\"}, {\"hovertemplate\": \"team=away<br>frameId=19<br>x=%{x}<br>y=%{y}<br>size=%{marker.size}<br>jerseyNumber=%{text}<extra></extra>\", \"legendgroup\": \"away\", \"marker\": {\"color\": \"rgb(238,173,30)\", \"opacity\": 1, \"size\": [5, 5, 5, 5, 5, 5], \"sizemode\": \"area\", \"sizeref\": 0.029585798816568046, \"symbol\": \"circle\"}, \"mode\": \"markers+text\", \"name\": \"away\", \"orientation\": \"v\", \"showlegend\": true, \"text\": [11.0, 31.0, 86.0, 13.0, 3.0, 16.0], \"x\": [49.25, 45.24, 50.71, 50.03, 44.56, 49.26], \"xaxis\": \"x\", \"y\": [34.28, 27.47, 17.35, 45.37, 23.98, 10.66], \"yaxis\": \"y\", \"type\": \"scatter\"}, {\"hovertemplate\": \"team=football<br>frameId=19<br>x=%{x}<br>y=%{y}<br>size=%{marker.size}<br>jerseyNumber=%{text}<extra></extra>\", \"legendgroup\": \"football\", \"marker\": {\"color\": \"rgb(139,69,19)\", \"opacity\": 1, \"size\": [2], \"sizemode\": \"area\", \"sizeref\": 0.029585798816568046, \"symbol\": \"circle\"}, \"mode\": \"markers+text\", \"name\": \"football\", \"orientation\": \"v\", \"showlegend\": true, \"text\": [null], \"x\": [44.73], \"xaxis\": \"x\", \"y\": [23.73], \"yaxis\": \"y\", \"type\": \"scatter\"}], \"name\": \"19\"}, {\"data\": [{\"hovertemplate\": \"team=home<br>frameId=20<br>x=%{x}<br>y=%{y}<br>size=%{marker.size}<br>jerseyNumber=%{text}<extra></extra>\", \"legendgroup\": \"home\", \"marker\": {\"color\": \"rgb(255,60,0)\", \"opacity\": 1, \"size\": [5, 5, 5, 5, 5, 5, 5, 5], \"sizemode\": \"area\", \"sizeref\": 0.029585798816568046, \"symbol\": \"circle\"}, \"mode\": \"markers+text\", \"name\": \"home\", \"orientation\": \"v\", \"showlegend\": true, \"text\": [22.0, 50.0, 38.0, 49.0, 20.0, 21.0, 23.0, 44.0], \"x\": [51.23, 48.11, 66.98, 53.06, 51.98, 67.97, 51.35, 53.8], \"xaxis\": \"x\", \"y\": [11.29, 29.36, 17.48, 18.0, 44.88, 34.47, 33.69, 27.67], \"yaxis\": \"y\", \"type\": \"scatter\"}, {\"hovertemplate\": \"team=away<br>frameId=20<br>x=%{x}<br>y=%{y}<br>size=%{marker.size}<br>jerseyNumber=%{text}<extra></extra>\", \"legendgroup\": \"away\", \"marker\": {\"color\": \"rgb(238,173,30)\", \"opacity\": 1, \"size\": [5, 5, 5, 5, 5, 5], \"sizemode\": \"area\", \"sizeref\": 0.029585798816568046, \"symbol\": \"circle\"}, \"mode\": \"markers+text\", \"name\": \"away\", \"orientation\": \"v\", \"showlegend\": true, \"text\": [11.0, 31.0, 86.0, 13.0, 3.0, 16.0], \"x\": [49.6, 45.2, 51.13, 50.34, 44.33, 49.57], \"xaxis\": \"x\", \"y\": [34.25, 27.72, 17.25, 45.44, 23.99, 10.56], \"yaxis\": \"y\", \"type\": \"scatter\"}, {\"hovertemplate\": \"team=football<br>frameId=20<br>x=%{x}<br>y=%{y}<br>size=%{marker.size}<br>jerseyNumber=%{text}<extra></extra>\", \"legendgroup\": \"football\", \"marker\": {\"color\": \"rgb(139,69,19)\", \"opacity\": 1, \"size\": [2], \"sizemode\": \"area\", \"sizeref\": 0.029585798816568046, \"symbol\": \"circle\"}, \"mode\": \"markers+text\", \"name\": \"football\", \"orientation\": \"v\", \"showlegend\": true, \"text\": [null], \"x\": [44.4], \"xaxis\": \"x\", \"y\": [23.69], \"yaxis\": \"y\", \"type\": \"scatter\"}], \"name\": \"20\"}, {\"data\": [{\"hovertemplate\": \"team=home<br>frameId=21<br>x=%{x}<br>y=%{y}<br>size=%{marker.size}<br>jerseyNumber=%{text}<extra></extra>\", \"legendgroup\": \"home\", \"marker\": {\"color\": \"rgb(255,60,0)\", \"opacity\": 1, \"size\": [5, 5, 5, 5, 5, 5, 5, 5], \"sizemode\": \"area\", \"sizeref\": 0.029585798816568046, \"symbol\": \"circle\"}, \"mode\": \"markers+text\", \"name\": \"home\", \"orientation\": \"v\", \"showlegend\": true, \"text\": [22.0, 50.0, 38.0, 49.0, 20.0, 21.0, 23.0, 44.0], \"x\": [51.41, 47.75, 67.22, 53.23, 52.18, 68.12, 51.54, 53.67], \"xaxis\": \"x\", \"y\": [11.29, 29.12, 17.32, 17.95, 44.9, 34.55, 33.6, 27.81], \"yaxis\": \"y\", \"type\": \"scatter\"}, {\"hovertemplate\": \"team=away<br>frameId=21<br>x=%{x}<br>y=%{y}<br>size=%{marker.size}<br>jerseyNumber=%{text}<extra></extra>\", \"legendgroup\": \"away\", \"marker\": {\"color\": \"rgb(238,173,30)\", \"opacity\": 1, \"size\": [5, 5, 5, 5, 5, 5], \"sizemode\": \"area\", \"sizeref\": 0.029585798816568046, \"symbol\": \"circle\"}, \"mode\": \"markers+text\", \"name\": \"away\", \"orientation\": \"v\", \"showlegend\": true, \"text\": [11.0, 31.0, 86.0, 13.0, 3.0, 16.0], \"x\": [50.0, 45.17, 51.6, 50.7, 44.08, 49.91], \"xaxis\": \"x\", \"y\": [34.24, 27.99, 17.15, 45.54, 23.99, 10.44], \"yaxis\": \"y\", \"type\": \"scatter\"}, {\"hovertemplate\": \"team=football<br>frameId=21<br>x=%{x}<br>y=%{y}<br>size=%{marker.size}<br>jerseyNumber=%{text}<extra></extra>\", \"legendgroup\": \"football\", \"marker\": {\"color\": \"rgb(139,69,19)\", \"opacity\": 1, \"size\": [2], \"sizemode\": \"area\", \"sizeref\": 0.029585798816568046, \"symbol\": \"circle\"}, \"mode\": \"markers+text\", \"name\": \"football\", \"orientation\": \"v\", \"showlegend\": true, \"text\": [null], \"x\": [44.1], \"xaxis\": \"x\", \"y\": [23.64], \"yaxis\": \"y\", \"type\": \"scatter\"}], \"name\": \"21\"}, {\"data\": [{\"hovertemplate\": \"team=home<br>frameId=22<br>x=%{x}<br>y=%{y}<br>size=%{marker.size}<br>jerseyNumber=%{text}<extra></extra>\", \"legendgroup\": \"home\", \"marker\": {\"color\": \"rgb(255,60,0)\", \"opacity\": 1, \"size\": [5, 5, 5, 5, 5, 5, 5, 5], \"sizemode\": \"area\", \"sizeref\": 0.029585798816568046, \"symbol\": \"circle\"}, \"mode\": \"markers+text\", \"name\": \"home\", \"orientation\": \"v\", \"showlegend\": true, \"text\": [22.0, 50.0, 38.0, 49.0, 20.0, 21.0, 23.0, 44.0], \"x\": [51.62, 47.39, 67.46, 53.45, 52.4, 68.31, 51.76, 53.52], \"xaxis\": \"x\", \"y\": [11.27, 28.87, 17.14, 17.88, 44.94, 34.65, 33.5, 27.99], \"yaxis\": \"y\", \"type\": \"scatter\"}, {\"hovertemplate\": \"team=away<br>frameId=22<br>x=%{x}<br>y=%{y}<br>size=%{marker.size}<br>jerseyNumber=%{text}<extra></extra>\", \"legendgroup\": \"away\", \"marker\": {\"color\": \"rgb(238,173,30)\", \"opacity\": 1, \"size\": [5, 5, 5, 5, 5, 5], \"sizemode\": \"area\", \"sizeref\": 0.029585798816568046, \"symbol\": \"circle\"}, \"mode\": \"markers+text\", \"name\": \"away\", \"orientation\": \"v\", \"showlegend\": true, \"text\": [11.0, 31.0, 86.0, 13.0, 3.0, 16.0], \"x\": [50.43, 45.18, 52.1, 51.09, 43.82, 50.29], \"xaxis\": \"x\", \"y\": [34.22, 28.28, 17.05, 45.66, 23.98, 10.3], \"yaxis\": \"y\", \"type\": \"scatter\"}, {\"hovertemplate\": \"team=football<br>frameId=22<br>x=%{x}<br>y=%{y}<br>size=%{marker.size}<br>jerseyNumber=%{text}<extra></extra>\", \"legendgroup\": \"football\", \"marker\": {\"color\": \"rgb(139,69,19)\", \"opacity\": 1, \"size\": [2], \"sizemode\": \"area\", \"sizeref\": 0.029585798816568046, \"symbol\": \"circle\"}, \"mode\": \"markers+text\", \"name\": \"football\", \"orientation\": \"v\", \"showlegend\": true, \"text\": [null], \"x\": [43.83], \"xaxis\": \"x\", \"y\": [23.58], \"yaxis\": \"y\", \"type\": \"scatter\"}], \"name\": \"22\"}, {\"data\": [{\"hovertemplate\": \"team=home<br>frameId=23<br>x=%{x}<br>y=%{y}<br>size=%{marker.size}<br>jerseyNumber=%{text}<extra></extra>\", \"legendgroup\": \"home\", \"marker\": {\"color\": \"rgb(255,60,0)\", \"opacity\": 1, \"size\": [5, 5, 5, 5, 5, 5, 5, 5], \"sizemode\": \"area\", \"sizeref\": 0.029585798816568046, \"symbol\": \"circle\"}, \"mode\": \"markers+text\", \"name\": \"home\", \"orientation\": \"v\", \"showlegend\": true, \"text\": [22.0, 50.0, 38.0, 49.0, 20.0, 21.0, 23.0, 44.0], \"x\": [51.85, 47.05, 67.71, 53.71, 52.67, 68.51, 52.01, 53.34], \"xaxis\": \"x\", \"y\": [11.23, 28.61, 16.96, 17.8, 44.99, 34.74, 33.42, 28.21], \"yaxis\": \"y\", \"type\": \"scatter\"}, {\"hovertemplate\": \"team=away<br>frameId=23<br>x=%{x}<br>y=%{y}<br>size=%{marker.size}<br>jerseyNumber=%{text}<extra></extra>\", \"legendgroup\": \"away\", \"marker\": {\"color\": \"rgb(238,173,30)\", \"opacity\": 1, \"size\": [5, 5, 5, 5, 5, 5], \"sizemode\": \"area\", \"sizeref\": 0.029585798816568046, \"symbol\": \"circle\"}, \"mode\": \"markers+text\", \"name\": \"away\", \"orientation\": \"v\", \"showlegend\": true, \"text\": [11.0, 31.0, 86.0, 13.0, 3.0, 16.0], \"x\": [50.89, 45.21, 52.63, 51.52, 43.57, 50.69], \"xaxis\": \"x\", \"y\": [34.23, 28.59, 16.94, 45.81, 23.97, 10.15], \"yaxis\": \"y\", \"type\": \"scatter\"}, {\"hovertemplate\": \"team=football<br>frameId=23<br>x=%{x}<br>y=%{y}<br>size=%{marker.size}<br>jerseyNumber=%{text}<extra></extra>\", \"legendgroup\": \"football\", \"marker\": {\"color\": \"rgb(139,69,19)\", \"opacity\": 1, \"size\": [2], \"sizemode\": \"area\", \"sizeref\": 0.029585798816568046, \"symbol\": \"circle\"}, \"mode\": \"markers+text\", \"name\": \"football\", \"orientation\": \"v\", \"showlegend\": true, \"text\": [null], \"x\": [43.59], \"xaxis\": \"x\", \"y\": [23.52], \"yaxis\": \"y\", \"type\": \"scatter\"}], \"name\": \"23\"}, {\"data\": [{\"hovertemplate\": \"team=home<br>frameId=24<br>x=%{x}<br>y=%{y}<br>size=%{marker.size}<br>jerseyNumber=%{text}<extra></extra>\", \"legendgroup\": \"home\", \"marker\": {\"color\": \"rgb(255,60,0)\", \"opacity\": 1, \"size\": [5, 5, 5, 5, 5, 5, 5, 5], \"sizemode\": \"area\", \"sizeref\": 0.029585798816568046, \"symbol\": \"circle\"}, \"mode\": \"markers+text\", \"name\": \"home\", \"orientation\": \"v\", \"showlegend\": true, \"text\": [22.0, 50.0, 38.0, 49.0, 20.0, 21.0, 23.0, 44.0], \"x\": [52.12, 46.72, 67.97, 54.01, 52.96, 68.74, 52.3, 53.14], \"xaxis\": \"x\", \"y\": [11.17, 28.36, 16.76, 17.7, 45.06, 34.84, 33.35, 28.46], \"yaxis\": \"y\", \"type\": \"scatter\"}, {\"hovertemplate\": \"team=away<br>frameId=24<br>x=%{x}<br>y=%{y}<br>size=%{marker.size}<br>jerseyNumber=%{text}<extra></extra>\", \"legendgroup\": \"away\", \"marker\": {\"color\": \"rgb(238,173,30)\", \"opacity\": 1, \"size\": [5, 5, 5, 5, 5, 5], \"sizemode\": \"area\", \"sizeref\": 0.029585798816568046, \"symbol\": \"circle\"}, \"mode\": \"markers+text\", \"name\": \"away\", \"orientation\": \"v\", \"showlegend\": true, \"text\": [11.0, 31.0, 86.0, 13.0, 3.0, 16.0], \"x\": [51.38, 45.29, 53.19, 52.0, 43.33, 51.12], \"xaxis\": \"x\", \"y\": [34.26, 28.9, 16.83, 45.97, 23.95, 10.0], \"yaxis\": \"y\", \"type\": \"scatter\"}, {\"hovertemplate\": \"team=football<br>frameId=24<br>x=%{x}<br>y=%{y}<br>size=%{marker.size}<br>jerseyNumber=%{text}<extra></extra>\", \"legendgroup\": \"football\", \"marker\": {\"color\": \"rgb(139,69,19)\", \"opacity\": 1, \"size\": [2], \"sizemode\": \"area\", \"sizeref\": 0.029585798816568046, \"symbol\": \"circle\"}, \"mode\": \"markers+text\", \"name\": \"football\", \"orientation\": \"v\", \"showlegend\": true, \"text\": [null], \"x\": [43.37], \"xaxis\": \"x\", \"y\": [23.46], \"yaxis\": \"y\", \"type\": \"scatter\"}], \"name\": \"24\"}, {\"data\": [{\"hovertemplate\": \"team=home<br>frameId=25<br>x=%{x}<br>y=%{y}<br>size=%{marker.size}<br>jerseyNumber=%{text}<extra></extra>\", \"legendgroup\": \"home\", \"marker\": {\"color\": \"rgb(255,60,0)\", \"opacity\": 1, \"size\": [5, 5, 5, 5, 5, 5, 5, 5], \"sizemode\": \"area\", \"sizeref\": 0.029585798816568046, \"symbol\": \"circle\"}, \"mode\": \"markers+text\", \"name\": \"home\", \"orientation\": \"v\", \"showlegend\": true, \"text\": [22.0, 50.0, 38.0, 49.0, 20.0, 21.0, 23.0, 44.0], \"x\": [52.41, 46.4, 68.24, 54.35, 53.29, 68.99, 52.63, 52.94], \"xaxis\": \"x\", \"y\": [11.08, 28.12, 16.57, 17.6, 45.16, 34.93, 33.31, 28.71], \"yaxis\": \"y\", \"type\": \"scatter\"}, {\"hovertemplate\": \"team=away<br>frameId=25<br>x=%{x}<br>y=%{y}<br>size=%{marker.size}<br>jerseyNumber=%{text}<extra></extra>\", \"legendgroup\": \"away\", \"marker\": {\"color\": \"rgb(238,173,30)\", \"opacity\": 1, \"size\": [5, 5, 5, 5, 5, 5], \"sizemode\": \"area\", \"sizeref\": 0.029585798816568046, \"symbol\": \"circle\"}, \"mode\": \"markers+text\", \"name\": \"away\", \"orientation\": \"v\", \"showlegend\": true, \"text\": [11.0, 31.0, 86.0, 13.0, 3.0, 16.0], \"x\": [51.88, 45.42, 53.76, 52.5, 43.1, 51.58], \"xaxis\": \"x\", \"y\": [34.3, 29.22, 16.71, 46.14, 23.92, 9.84], \"yaxis\": \"y\", \"type\": \"scatter\"}, {\"hovertemplate\": \"team=football<br>frameId=25<br>x=%{x}<br>y=%{y}<br>size=%{marker.size}<br>jerseyNumber=%{text}<extra></extra>\", \"legendgroup\": \"football\", \"marker\": {\"color\": \"rgb(139,69,19)\", \"opacity\": 1, \"size\": [2], \"sizemode\": \"area\", \"sizeref\": 0.029585798816568046, \"symbol\": \"circle\"}, \"mode\": \"markers+text\", \"name\": \"football\", \"orientation\": \"v\", \"showlegend\": true, \"text\": [null], \"x\": [43.17], \"xaxis\": \"x\", \"y\": [23.42], \"yaxis\": \"y\", \"type\": \"scatter\"}], \"name\": \"25\"}, {\"data\": [{\"hovertemplate\": \"team=home<br>frameId=26<br>x=%{x}<br>y=%{y}<br>size=%{marker.size}<br>jerseyNumber=%{text}<extra></extra>\", \"legendgroup\": \"home\", \"marker\": {\"color\": \"rgb(255,60,0)\", \"opacity\": 1, \"size\": [5, 5, 5, 5, 5, 5, 5, 5], \"sizemode\": \"area\", \"sizeref\": 0.029585798816568046, \"symbol\": \"circle\"}, \"mode\": \"markers+text\", \"name\": \"home\", \"orientation\": \"v\", \"showlegend\": true, \"text\": [22.0, 50.0, 38.0, 49.0, 20.0, 21.0, 23.0, 44.0], \"x\": [52.72, 46.1, 68.51, 54.72, 53.66, 69.26, 52.98, 52.75], \"xaxis\": \"x\", \"y\": [10.97, 27.91, 16.37, 17.49, 45.28, 35.01, 33.28, 28.97], \"yaxis\": \"y\", \"type\": \"scatter\"}, {\"hovertemplate\": \"team=away<br>frameId=26<br>x=%{x}<br>y=%{y}<br>size=%{marker.size}<br>jerseyNumber=%{text}<extra></extra>\", \"legendgroup\": \"away\", \"marker\": {\"color\": \"rgb(238,173,30)\", \"opacity\": 1, \"size\": [5, 5, 5, 5, 5, 5], \"sizemode\": \"area\", \"sizeref\": 0.029585798816568046, \"symbol\": \"circle\"}, \"mode\": \"markers+text\", \"name\": \"away\", \"orientation\": \"v\", \"showlegend\": true, \"text\": [11.0, 31.0, 86.0, 13.0, 3.0, 16.0], \"x\": [52.4, 45.63, 54.34, 53.04, 42.91, 52.08], \"xaxis\": \"x\", \"y\": [34.34, 29.53, 16.59, 46.32, 23.89, 9.69], \"yaxis\": \"y\", \"type\": \"scatter\"}, {\"hovertemplate\": \"team=football<br>frameId=26<br>x=%{x}<br>y=%{y}<br>size=%{marker.size}<br>jerseyNumber=%{text}<extra></extra>\", \"legendgroup\": \"football\", \"marker\": {\"color\": \"rgb(139,69,19)\", \"opacity\": 1, \"size\": [2], \"sizemode\": \"area\", \"sizeref\": 0.029585798816568046, \"symbol\": \"circle\"}, \"mode\": \"markers+text\", \"name\": \"football\", \"orientation\": \"v\", \"showlegend\": true, \"text\": [null], \"x\": [42.98], \"xaxis\": \"x\", \"y\": [23.38], \"yaxis\": \"y\", \"type\": \"scatter\"}], \"name\": \"26\"}, {\"data\": [{\"hovertemplate\": \"team=home<br>frameId=27<br>x=%{x}<br>y=%{y}<br>size=%{marker.size}<br>jerseyNumber=%{text}<extra></extra>\", \"legendgroup\": \"home\", \"marker\": {\"color\": \"rgb(255,60,0)\", \"opacity\": 1, \"size\": [5, 5, 5, 5, 5, 5, 5, 5], \"sizemode\": \"area\", \"sizeref\": 0.029585798816568046, \"symbol\": \"circle\"}, \"mode\": \"markers+text\", \"name\": \"home\", \"orientation\": \"v\", \"showlegend\": true, \"text\": [22.0, 50.0, 38.0, 49.0, 20.0, 21.0, 23.0, 44.0], \"x\": [53.07, 45.81, 68.79, 55.11, 54.05, 69.54, 53.37, 52.56], \"xaxis\": \"x\", \"y\": [10.82, 27.72, 16.17, 17.38, 45.43, 35.09, 33.27, 29.24], \"yaxis\": \"y\", \"type\": \"scatter\"}, {\"hovertemplate\": \"team=away<br>frameId=27<br>x=%{x}<br>y=%{y}<br>size=%{marker.size}<br>jerseyNumber=%{text}<extra></extra>\", \"legendgroup\": \"away\", \"marker\": {\"color\": \"rgb(238,173,30)\", \"opacity\": 1, \"size\": [5, 5, 5, 5, 5, 5], \"sizemode\": \"area\", \"sizeref\": 0.029585798816568046, \"symbol\": \"circle\"}, \"mode\": \"markers+text\", \"name\": \"away\", \"orientation\": \"v\", \"showlegend\": true, \"text\": [11.0, 31.0, 86.0, 13.0, 3.0, 16.0], \"x\": [52.93, 45.89, 54.92, 53.61, 42.75, 52.6], \"xaxis\": \"x\", \"y\": [34.4, 29.82, 16.46, 46.5, 23.87, 9.54], \"yaxis\": \"y\", \"type\": \"scatter\"}, {\"hovertemplate\": \"team=football<br>frameId=27<br>x=%{x}<br>y=%{y}<br>size=%{marker.size}<br>jerseyNumber=%{text}<extra></extra>\", \"legendgroup\": \"football\", \"marker\": {\"color\": \"rgb(139,69,19)\", \"opacity\": 1, \"size\": [2], \"sizemode\": \"area\", \"sizeref\": 0.029585798816568046, \"symbol\": \"circle\"}, \"mode\": \"markers+text\", \"name\": \"football\", \"orientation\": \"v\", \"showlegend\": true, \"text\": [null], \"x\": [42.81], \"xaxis\": \"x\", \"y\": [23.34], \"yaxis\": \"y\", \"type\": \"scatter\"}], \"name\": \"27\"}, {\"data\": [{\"hovertemplate\": \"team=home<br>frameId=28<br>x=%{x}<br>y=%{y}<br>size=%{marker.size}<br>jerseyNumber=%{text}<extra></extra>\", \"legendgroup\": \"home\", \"marker\": {\"color\": \"rgb(255,60,0)\", \"opacity\": 1, \"size\": [5, 5, 5, 5, 5, 5, 5, 5], \"sizemode\": \"area\", \"sizeref\": 0.029585798816568046, \"symbol\": \"circle\"}, \"mode\": \"markers+text\", \"name\": \"home\", \"orientation\": \"v\", \"showlegend\": true, \"text\": [22.0, 50.0, 38.0, 49.0, 20.0, 21.0, 23.0, 44.0], \"x\": [53.45, 45.54, 69.07, 55.52, 54.47, 69.83, 53.77, 52.39], \"xaxis\": \"x\", \"y\": [10.65, 27.57, 15.98, 17.26, 45.59, 35.16, 33.28, 29.5], \"yaxis\": \"y\", \"type\": \"scatter\"}, {\"hovertemplate\": \"team=away<br>frameId=28<br>x=%{x}<br>y=%{y}<br>size=%{marker.size}<br>jerseyNumber=%{text}<extra></extra>\", \"legendgroup\": \"away\", \"marker\": {\"color\": \"rgb(238,173,30)\", \"opacity\": 1, \"size\": [5, 5, 5, 5, 5, 5], \"sizemode\": \"area\", \"sizeref\": 0.029585798816568046, \"symbol\": \"circle\"}, \"mode\": \"markers+text\", \"name\": \"away\", \"orientation\": \"v\", \"showlegend\": true, \"text\": [11.0, 31.0, 86.0, 13.0, 3.0, 16.0], \"x\": [53.47, 46.2, 55.48, 54.22, 42.63, 53.14], \"xaxis\": \"x\", \"y\": [34.46, 30.1, 16.32, 46.67, 23.83, 9.39], \"yaxis\": \"y\", \"type\": \"scatter\"}, {\"hovertemplate\": \"team=football<br>frameId=28<br>x=%{x}<br>y=%{y}<br>size=%{marker.size}<br>jerseyNumber=%{text}<extra></extra>\", \"legendgroup\": \"football\", \"marker\": {\"color\": \"rgb(139,69,19)\", \"opacity\": 1, \"size\": [2], \"sizemode\": \"area\", \"sizeref\": 0.029585798816568046, \"symbol\": \"circle\"}, \"mode\": \"markers+text\", \"name\": \"football\", \"orientation\": \"v\", \"showlegend\": true, \"text\": [null], \"x\": [42.65], \"xaxis\": \"x\", \"y\": [23.33], \"yaxis\": \"y\", \"type\": \"scatter\"}], \"name\": \"28\"}, {\"data\": [{\"hovertemplate\": \"team=home<br>frameId=29<br>x=%{x}<br>y=%{y}<br>size=%{marker.size}<br>jerseyNumber=%{text}<extra></extra>\", \"legendgroup\": \"home\", \"marker\": {\"color\": \"rgb(255,60,0)\", \"opacity\": 1, \"size\": [5, 5, 5, 5, 5, 5, 5, 5], \"sizemode\": \"area\", \"sizeref\": 0.029585798816568046, \"symbol\": \"circle\"}, \"mode\": \"markers+text\", \"name\": \"home\", \"orientation\": \"v\", \"showlegend\": true, \"text\": [22.0, 50.0, 38.0, 49.0, 20.0, 21.0, 23.0, 44.0], \"x\": [53.86, 45.27, 69.35, 55.93, 54.93, 70.13, 54.21, 52.23], \"xaxis\": \"x\", \"y\": [10.47, 27.46, 15.79, 17.14, 45.78, 35.21, 33.29, 29.75], \"yaxis\": \"y\", \"type\": \"scatter\"}, {\"hovertemplate\": \"team=away<br>frameId=29<br>x=%{x}<br>y=%{y}<br>size=%{marker.size}<br>jerseyNumber=%{text}<extra></extra>\", \"legendgroup\": \"away\", \"marker\": {\"color\": \"rgb(238,173,30)\", \"opacity\": 1, \"size\": [5, 5, 5, 5, 5, 5], \"sizemode\": \"area\", \"sizeref\": 0.029585798816568046, \"symbol\": \"circle\"}, \"mode\": \"markers+text\", \"name\": \"away\", \"orientation\": \"v\", \"showlegend\": true, \"text\": [11.0, 31.0, 86.0, 13.0, 3.0, 16.0], \"x\": [54.03, 46.57, 56.02, 54.85, 42.53, 53.72], \"xaxis\": \"x\", \"y\": [34.51, 30.35, 16.17, 46.83, 23.8, 9.23], \"yaxis\": \"y\", \"type\": \"scatter\"}, {\"hovertemplate\": \"team=football<br>frameId=29<br>x=%{x}<br>y=%{y}<br>size=%{marker.size}<br>jerseyNumber=%{text}<extra></extra>\", \"legendgroup\": \"football\", \"marker\": {\"color\": \"rgb(139,69,19)\", \"opacity\": 1, \"size\": [2], \"sizemode\": \"area\", \"sizeref\": 0.029585798816568046, \"symbol\": \"circle\"}, \"mode\": \"markers+text\", \"name\": \"football\", \"orientation\": \"v\", \"showlegend\": true, \"text\": [null], \"x\": [42.5], \"xaxis\": \"x\", \"y\": [23.35], \"yaxis\": \"y\", \"type\": \"scatter\"}], \"name\": \"29\"}, {\"data\": [{\"hovertemplate\": \"team=home<br>frameId=30<br>x=%{x}<br>y=%{y}<br>size=%{marker.size}<br>jerseyNumber=%{text}<extra></extra>\", \"legendgroup\": \"home\", \"marker\": {\"color\": \"rgb(255,60,0)\", \"opacity\": 1, \"size\": [5, 5, 5, 5, 5, 5, 5, 5], \"sizemode\": \"area\", \"sizeref\": 0.029585798816568046, \"symbol\": \"circle\"}, \"mode\": \"markers+text\", \"name\": \"home\", \"orientation\": \"v\", \"showlegend\": true, \"text\": [22.0, 50.0, 38.0, 49.0, 20.0, 21.0, 23.0, 44.0], \"x\": [54.3, 45.01, 69.64, 56.34, 55.43, 70.43, 54.65, 52.11], \"xaxis\": \"x\", \"y\": [10.29, 27.4, 15.6, 17.02, 45.97, 35.26, 33.3, 29.98], \"yaxis\": \"y\", \"type\": \"scatter\"}, {\"hovertemplate\": \"team=away<br>frameId=30<br>x=%{x}<br>y=%{y}<br>size=%{marker.size}<br>jerseyNumber=%{text}<extra></extra>\", \"legendgroup\": \"away\", \"marker\": {\"color\": \"rgb(238,173,30)\", \"opacity\": 1, \"size\": [5, 5, 5, 5, 5, 5], \"sizemode\": \"area\", \"sizeref\": 0.029585798816568046, \"symbol\": \"circle\"}, \"mode\": \"markers+text\", \"name\": \"away\", \"orientation\": \"v\", \"showlegend\": true, \"text\": [11.0, 31.0, 86.0, 13.0, 3.0, 16.0], \"x\": [54.59, 46.99, 56.52, 55.52, 42.5, 54.3], \"xaxis\": \"x\", \"y\": [34.54, 30.58, 16.01, 46.97, 23.76, 9.09], \"yaxis\": \"y\", \"type\": \"scatter\"}, {\"hovertemplate\": \"team=football<br>frameId=30<br>x=%{x}<br>y=%{y}<br>size=%{marker.size}<br>jerseyNumber=%{text}<extra></extra>\", \"legendgroup\": \"football\", \"marker\": {\"color\": \"rgb(139,69,19)\", \"opacity\": 1, \"size\": [2], \"sizemode\": \"area\", \"sizeref\": 0.029585798816568046, \"symbol\": \"circle\"}, \"mode\": \"markers+text\", \"name\": \"football\", \"orientation\": \"v\", \"showlegend\": true, \"text\": [null], \"x\": [42.39], \"xaxis\": \"x\", \"y\": [23.38], \"yaxis\": \"y\", \"type\": \"scatter\"}], \"name\": \"30\"}, {\"data\": [{\"hovertemplate\": \"team=home<br>frameId=31<br>x=%{x}<br>y=%{y}<br>size=%{marker.size}<br>jerseyNumber=%{text}<extra></extra>\", \"legendgroup\": \"home\", \"marker\": {\"color\": \"rgb(255,60,0)\", \"opacity\": 1, \"size\": [5, 5, 5, 5, 5, 5, 5, 5], \"sizemode\": \"area\", \"sizeref\": 0.029585798816568046, \"symbol\": \"circle\"}, \"mode\": \"markers+text\", \"name\": \"home\", \"orientation\": \"v\", \"showlegend\": true, \"text\": [22.0, 50.0, 38.0, 49.0, 20.0, 21.0, 23.0, 44.0], \"x\": [54.77, 44.75, 69.93, 56.74, 55.95, 70.74, 55.09, 52.01], \"xaxis\": \"x\", \"y\": [10.11, 27.38, 15.42, 16.89, 46.17, 35.3, 33.32, 30.21], \"yaxis\": \"y\", \"type\": \"scatter\"}, {\"hovertemplate\": \"team=away<br>frameId=31<br>x=%{x}<br>y=%{y}<br>size=%{marker.size}<br>jerseyNumber=%{text}<extra></extra>\", \"legendgroup\": \"away\", \"marker\": {\"color\": \"rgb(238,173,30)\", \"opacity\": 1, \"size\": [5, 5, 5, 5, 5, 5], \"sizemode\": \"area\", \"sizeref\": 0.029585798816568046, \"symbol\": \"circle\"}, \"mode\": \"markers+text\", \"name\": \"away\", \"orientation\": \"v\", \"showlegend\": true, \"text\": [11.0, 31.0, 86.0, 13.0, 3.0, 16.0], \"x\": [55.14, 47.43, 56.97, 56.2, 42.49, 54.9], \"xaxis\": \"x\", \"y\": [34.55, 30.8, 15.81, 47.09, 23.73, 8.97], \"yaxis\": \"y\", \"type\": \"scatter\"}, {\"hovertemplate\": \"team=football<br>frameId=31<br>x=%{x}<br>y=%{y}<br>size=%{marker.size}<br>jerseyNumber=%{text}<extra></extra>\", \"legendgroup\": \"football\", \"marker\": {\"color\": \"rgb(139,69,19)\", \"opacity\": 1, \"size\": [2], \"sizemode\": \"area\", \"sizeref\": 0.029585798816568046, \"symbol\": \"circle\"}, \"mode\": \"markers+text\", \"name\": \"football\", \"orientation\": \"v\", \"showlegend\": true, \"text\": [null], \"x\": [42.29], \"xaxis\": \"x\", \"y\": [23.42], \"yaxis\": \"y\", \"type\": \"scatter\"}], \"name\": \"31\"}, {\"data\": [{\"hovertemplate\": \"team=home<br>frameId=32<br>x=%{x}<br>y=%{y}<br>size=%{marker.size}<br>jerseyNumber=%{text}<extra></extra>\", \"legendgroup\": \"home\", \"marker\": {\"color\": \"rgb(255,60,0)\", \"opacity\": 1, \"size\": [5, 5, 5, 5, 5, 5, 5, 5], \"sizemode\": \"area\", \"sizeref\": 0.029585798816568046, \"symbol\": \"circle\"}, \"mode\": \"markers+text\", \"name\": \"home\", \"orientation\": \"v\", \"showlegend\": true, \"text\": [22.0, 50.0, 38.0, 49.0, 20.0, 21.0, 23.0, 44.0], \"x\": [55.27, 44.49, 70.22, 57.12, 56.51, 71.04, 55.55, 51.94], \"xaxis\": \"x\", \"y\": [9.95, 27.42, 15.24, 16.74, 46.36, 35.34, 33.32, 30.43], \"yaxis\": \"y\", \"type\": \"scatter\"}, {\"hovertemplate\": \"team=away<br>frameId=32<br>x=%{x}<br>y=%{y}<br>size=%{marker.size}<br>jerseyNumber=%{text}<extra></extra>\", \"legendgroup\": \"away\", \"marker\": {\"color\": \"rgb(238,173,30)\", \"opacity\": 1, \"size\": [5, 5, 5, 5, 5, 5], \"sizemode\": \"area\", \"sizeref\": 0.029585798816568046, \"symbol\": \"circle\"}, \"mode\": \"markers+text\", \"name\": \"away\", \"orientation\": \"v\", \"showlegend\": true, \"text\": [11.0, 31.0, 86.0, 13.0, 3.0, 16.0], \"x\": [55.69, 47.9, 57.36, 56.9, 42.52, 55.52], \"xaxis\": \"x\", \"y\": [34.54, 31.01, 15.58, 47.2, 23.71, 8.86], \"yaxis\": \"y\", \"type\": \"scatter\"}, {\"hovertemplate\": \"team=football<br>frameId=32<br>x=%{x}<br>y=%{y}<br>size=%{marker.size}<br>jerseyNumber=%{text}<extra></extra>\", \"legendgroup\": \"football\", \"marker\": {\"color\": \"rgb(139,69,19)\", \"opacity\": 1, \"size\": [2], \"sizemode\": \"area\", \"sizeref\": 0.029585798816568046, \"symbol\": \"circle\"}, \"mode\": \"markers+text\", \"name\": \"football\", \"orientation\": \"v\", \"showlegend\": true, \"text\": [null], \"x\": [42.2], \"xaxis\": \"x\", \"y\": [23.48], \"yaxis\": \"y\", \"type\": \"scatter\"}], \"name\": \"32\"}, {\"data\": [{\"hovertemplate\": \"team=home<br>frameId=33<br>x=%{x}<br>y=%{y}<br>size=%{marker.size}<br>jerseyNumber=%{text}<extra></extra>\", \"legendgroup\": \"home\", \"marker\": {\"color\": \"rgb(255,60,0)\", \"opacity\": 1, \"size\": [5, 5, 5, 5, 5, 5, 5, 5], \"sizemode\": \"area\", \"sizeref\": 0.029585798816568046, \"symbol\": \"circle\"}, \"mode\": \"markers+text\", \"name\": \"home\", \"orientation\": \"v\", \"showlegend\": true, \"text\": [22.0, 50.0, 38.0, 49.0, 20.0, 21.0, 23.0, 44.0], \"x\": [55.78, 44.25, 70.52, 57.46, 57.09, 71.34, 56.0, 51.9], \"xaxis\": \"x\", \"y\": [9.8, 27.5, 15.06, 16.57, 46.53, 35.36, 33.31, 30.65], \"yaxis\": \"y\", \"type\": \"scatter\"}, {\"hovertemplate\": \"team=away<br>frameId=33<br>x=%{x}<br>y=%{y}<br>size=%{marker.size}<br>jerseyNumber=%{text}<extra></extra>\", \"legendgroup\": \"away\", \"marker\": {\"color\": \"rgb(238,173,30)\", \"opacity\": 1, \"size\": [5, 5, 5, 5, 5, 5], \"sizemode\": \"area\", \"sizeref\": 0.029585798816568046, \"symbol\": \"circle\"}, \"mode\": \"markers+text\", \"name\": \"away\", \"orientation\": \"v\", \"showlegend\": true, \"text\": [11.0, 31.0, 86.0, 13.0, 3.0, 16.0], \"x\": [56.23, 48.39, 57.69, 57.61, 42.57, 56.16], \"xaxis\": \"x\", \"y\": [34.49, 31.22, 15.33, 47.29, 23.69, 8.76], \"yaxis\": \"y\", \"type\": \"scatter\"}, {\"hovertemplate\": \"team=football<br>frameId=33<br>x=%{x}<br>y=%{y}<br>size=%{marker.size}<br>jerseyNumber=%{text}<extra></extra>\", \"legendgroup\": \"football\", \"marker\": {\"color\": \"rgb(139,69,19)\", \"opacity\": 1, \"size\": [2], \"sizemode\": \"area\", \"sizeref\": 0.029585798816568046, \"symbol\": \"circle\"}, \"mode\": \"markers+text\", \"name\": \"football\", \"orientation\": \"v\", \"showlegend\": true, \"text\": [null], \"x\": [42.13], \"xaxis\": \"x\", \"y\": [23.55], \"yaxis\": \"y\", \"type\": \"scatter\"}], \"name\": \"33\"}, {\"data\": [{\"hovertemplate\": \"team=home<br>frameId=34<br>x=%{x}<br>y=%{y}<br>size=%{marker.size}<br>jerseyNumber=%{text}<extra></extra>\", \"legendgroup\": \"home\", \"marker\": {\"color\": \"rgb(255,60,0)\", \"opacity\": 1, \"size\": [5, 5, 5, 5, 5, 5, 5, 5], \"sizemode\": \"area\", \"sizeref\": 0.029585798816568046, \"symbol\": \"circle\"}, \"mode\": \"markers+text\", \"name\": \"home\", \"orientation\": \"v\", \"showlegend\": true, \"text\": [22.0, 50.0, 38.0, 49.0, 20.0, 21.0, 23.0, 44.0], \"x\": [56.31, 44.0, 70.8, 57.77, 57.68, 71.64, 56.45, 51.89], \"xaxis\": \"x\", \"y\": [9.67, 27.61, 14.87, 16.37, 46.67, 35.37, 33.27, 30.88], \"yaxis\": \"y\", \"type\": \"scatter\"}, {\"hovertemplate\": \"team=away<br>frameId=34<br>x=%{x}<br>y=%{y}<br>size=%{marker.size}<br>jerseyNumber=%{text}<extra></extra>\", \"legendgroup\": \"away\", \"marker\": {\"color\": \"rgb(238,173,30)\", \"opacity\": 1, \"size\": [5, 5, 5, 5, 5, 5], \"sizemode\": \"area\", \"sizeref\": 0.029585798816568046, \"symbol\": \"circle\"}, \"mode\": \"markers+text\", \"name\": \"away\", \"orientation\": \"v\", \"showlegend\": true, \"text\": [11.0, 31.0, 86.0, 13.0, 3.0, 16.0], \"x\": [56.76, 48.87, 57.96, 58.32, 42.65, 56.8], \"xaxis\": \"x\", \"y\": [34.4, 31.47, 15.03, 47.37, 23.67, 8.67], \"yaxis\": \"y\", \"type\": \"scatter\"}, {\"hovertemplate\": \"team=football<br>frameId=34<br>x=%{x}<br>y=%{y}<br>size=%{marker.size}<br>jerseyNumber=%{text}<extra></extra>\", \"legendgroup\": \"football\", \"marker\": {\"color\": \"rgb(139,69,19)\", \"opacity\": 1, \"size\": [2], \"sizemode\": \"area\", \"sizeref\": 0.029585798816568046, \"symbol\": \"circle\"}, \"mode\": \"markers+text\", \"name\": \"football\", \"orientation\": \"v\", \"showlegend\": true, \"text\": [null], \"x\": [42.07], \"xaxis\": \"x\", \"y\": [23.63], \"yaxis\": \"y\", \"type\": \"scatter\"}], \"name\": \"34\"}, {\"data\": [{\"hovertemplate\": \"team=home<br>frameId=35<br>x=%{x}<br>y=%{y}<br>size=%{marker.size}<br>jerseyNumber=%{text}<extra></extra>\", \"legendgroup\": \"home\", \"marker\": {\"color\": \"rgb(255,60,0)\", \"opacity\": 1, \"size\": [5, 5, 5, 5, 5, 5, 5, 5], \"sizemode\": \"area\", \"sizeref\": 0.029585798816568046, \"symbol\": \"circle\"}, \"mode\": \"markers+text\", \"name\": \"home\", \"orientation\": \"v\", \"showlegend\": true, \"text\": [22.0, 50.0, 38.0, 49.0, 20.0, 21.0, 23.0, 44.0], \"x\": [56.86, 43.77, 71.08, 58.04, 58.3, 71.92, 56.89, 51.91], \"xaxis\": \"x\", \"y\": [9.55, 27.75, 14.67, 16.15, 46.8, 35.35, 33.2, 31.13], \"yaxis\": \"y\", \"type\": \"scatter\"}, {\"hovertemplate\": \"team=away<br>frameId=35<br>x=%{x}<br>y=%{y}<br>size=%{marker.size}<br>jerseyNumber=%{text}<extra></extra>\", \"legendgroup\": \"away\", \"marker\": {\"color\": \"rgb(238,173,30)\", \"opacity\": 1, \"size\": [5, 5, 5, 5, 5, 5], \"sizemode\": \"area\", \"sizeref\": 0.029585798816568046, \"symbol\": \"circle\"}, \"mode\": \"markers+text\", \"name\": \"away\", \"orientation\": \"v\", \"showlegend\": true, \"text\": [11.0, 31.0, 86.0, 13.0, 3.0, 16.0], \"x\": [57.27, 49.35, 58.17, 59.05, 42.74, 57.45], \"xaxis\": \"x\", \"y\": [34.26, 31.73, 14.71, 47.43, 23.66, 8.6], \"yaxis\": \"y\", \"type\": \"scatter\"}, {\"hovertemplate\": \"team=football<br>frameId=35<br>x=%{x}<br>y=%{y}<br>size=%{marker.size}<br>jerseyNumber=%{text}<extra></extra>\", \"legendgroup\": \"football\", \"marker\": {\"color\": \"rgb(139,69,19)\", \"opacity\": 1, \"size\": [2], \"sizemode\": \"area\", \"sizeref\": 0.029585798816568046, \"symbol\": \"circle\"}, \"mode\": \"markers+text\", \"name\": \"football\", \"orientation\": \"v\", \"showlegend\": true, \"text\": [null], \"x\": [42.06], \"xaxis\": \"x\", \"y\": [23.68], \"yaxis\": \"y\", \"type\": \"scatter\"}], \"name\": \"35\"}, {\"data\": [{\"hovertemplate\": \"team=home<br>frameId=36<br>x=%{x}<br>y=%{y}<br>size=%{marker.size}<br>jerseyNumber=%{text}<extra></extra>\", \"legendgroup\": \"home\", \"marker\": {\"color\": \"rgb(255,60,0)\", \"opacity\": 1, \"size\": [5, 5, 5, 5, 5, 5, 5, 5], \"sizemode\": \"area\", \"sizeref\": 0.029585798816568046, \"symbol\": \"circle\"}, \"mode\": \"markers+text\", \"name\": \"home\", \"orientation\": \"v\", \"showlegend\": true, \"text\": [22.0, 50.0, 38.0, 49.0, 20.0, 21.0, 23.0, 44.0], \"x\": [57.42, 43.55, 71.34, 58.27, 58.94, 72.19, 57.32, 51.96], \"xaxis\": \"x\", \"y\": [9.45, 27.91, 14.47, 15.88, 46.9, 35.31, 33.09, 31.39], \"yaxis\": \"y\", \"type\": \"scatter\"}, {\"hovertemplate\": \"team=away<br>frameId=36<br>x=%{x}<br>y=%{y}<br>size=%{marker.size}<br>jerseyNumber=%{text}<extra></extra>\", \"legendgroup\": \"away\", \"marker\": {\"color\": \"rgb(238,173,30)\", \"opacity\": 1, \"size\": [5, 5, 5, 5, 5, 5], \"sizemode\": \"area\", \"sizeref\": 0.029585798816568046, \"symbol\": \"circle\"}, \"mode\": \"markers+text\", \"name\": \"away\", \"orientation\": \"v\", \"showlegend\": true, \"text\": [11.0, 31.0, 86.0, 13.0, 3.0, 16.0], \"x\": [57.76, 49.81, 58.32, 59.78, 42.82, 58.09], \"xaxis\": \"x\", \"y\": [34.06, 32.03, 14.35, 47.47, 23.65, 8.54], \"yaxis\": \"y\", \"type\": \"scatter\"}, {\"hovertemplate\": \"team=football<br>frameId=36<br>x=%{x}<br>y=%{y}<br>size=%{marker.size}<br>jerseyNumber=%{text}<extra></extra>\", \"legendgroup\": \"football\", \"marker\": {\"color\": \"rgb(139,69,19)\", \"opacity\": 1, \"size\": [2], \"sizemode\": \"area\", \"sizeref\": 0.029585798816568046, \"symbol\": \"circle\"}, \"mode\": \"markers+text\", \"name\": \"football\", \"orientation\": \"v\", \"showlegend\": true, \"text\": [null], \"x\": [44.54], \"xaxis\": \"x\", \"y\": [21.49], \"yaxis\": \"y\", \"type\": \"scatter\"}], \"name\": \"36\"}, {\"data\": [{\"hovertemplate\": \"team=home<br>frameId=37<br>x=%{x}<br>y=%{y}<br>size=%{marker.size}<br>jerseyNumber=%{text}<extra></extra>\", \"legendgroup\": \"home\", \"marker\": {\"color\": \"rgb(255,60,0)\", \"opacity\": 1, \"size\": [5, 5, 5, 5, 5, 5, 5, 5], \"sizemode\": \"area\", \"sizeref\": 0.029585798816568046, \"symbol\": \"circle\"}, \"mode\": \"markers+text\", \"name\": \"home\", \"orientation\": \"v\", \"showlegend\": true, \"text\": [22.0, 50.0, 38.0, 49.0, 20.0, 21.0, 23.0, 44.0], \"x\": [57.98, 43.35, 71.59, 58.44, 59.58, 72.44, 57.72, 52.03], \"xaxis\": \"x\", \"y\": [9.37, 28.07, 14.24, 15.56, 46.96, 35.24, 32.93, 31.69], \"yaxis\": \"y\", \"type\": \"scatter\"}, {\"hovertemplate\": \"team=away<br>frameId=37<br>x=%{x}<br>y=%{y}<br>size=%{marker.size}<br>jerseyNumber=%{text}<extra></extra>\", \"legendgroup\": \"away\", \"marker\": {\"color\": \"rgb(238,173,30)\", \"opacity\": 1, \"size\": [5, 5, 5, 5, 5, 5], \"sizemode\": \"area\", \"sizeref\": 0.029585798816568046, \"symbol\": \"circle\"}, \"mode\": \"markers+text\", \"name\": \"away\", \"orientation\": \"v\", \"showlegend\": true, \"text\": [11.0, 31.0, 86.0, 13.0, 3.0, 16.0], \"x\": [58.21, 50.24, 58.42, 60.51, 42.9, 58.74], \"xaxis\": \"x\", \"y\": [33.81, 32.38, 13.96, 47.49, 23.64, 8.49], \"yaxis\": \"y\", \"type\": \"scatter\"}, {\"hovertemplate\": \"team=football<br>frameId=37<br>x=%{x}<br>y=%{y}<br>size=%{marker.size}<br>jerseyNumber=%{text}<extra></extra>\", \"legendgroup\": \"football\", \"marker\": {\"color\": \"rgb(139,69,19)\", \"opacity\": 1, \"size\": [2], \"sizemode\": \"area\", \"sizeref\": 0.029585798816568046, \"symbol\": \"circle\"}, \"mode\": \"markers+text\", \"name\": \"football\", \"orientation\": \"v\", \"showlegend\": true, \"text\": [null], \"x\": [46.39], \"xaxis\": \"x\", \"y\": [19.98], \"yaxis\": \"y\", \"type\": \"scatter\"}], \"name\": \"37\"}, {\"data\": [{\"hovertemplate\": \"team=home<br>frameId=38<br>x=%{x}<br>y=%{y}<br>size=%{marker.size}<br>jerseyNumber=%{text}<extra></extra>\", \"legendgroup\": \"home\", \"marker\": {\"color\": \"rgb(255,60,0)\", \"opacity\": 1, \"size\": [5, 5, 5, 5, 5, 5, 5, 5], \"sizemode\": \"area\", \"sizeref\": 0.029585798816568046, \"symbol\": \"circle\"}, \"mode\": \"markers+text\", \"name\": \"home\", \"orientation\": \"v\", \"showlegend\": true, \"text\": [22.0, 50.0, 38.0, 49.0, 20.0, 21.0, 23.0, 44.0], \"x\": [58.54, 43.17, 71.81, 58.55, 60.23, 72.65, 58.11, 52.13], \"xaxis\": \"x\", \"y\": [9.29, 28.22, 14.0, 15.19, 47.0, 35.11, 32.72, 32.02], \"yaxis\": \"y\", \"type\": \"scatter\"}, {\"hovertemplate\": \"team=away<br>frameId=38<br>x=%{x}<br>y=%{y}<br>size=%{marker.size}<br>jerseyNumber=%{text}<extra></extra>\", \"legendgroup\": \"away\", \"marker\": {\"color\": \"rgb(238,173,30)\", \"opacity\": 1, \"size\": [5, 5, 5, 5, 5, 5], \"sizemode\": \"area\", \"sizeref\": 0.029585798816568046, \"symbol\": \"circle\"}, \"mode\": \"markers+text\", \"name\": \"away\", \"orientation\": \"v\", \"showlegend\": true, \"text\": [11.0, 31.0, 86.0, 13.0, 3.0, 16.0], \"x\": [58.63, 50.63, 58.47, 61.23, 42.96, 59.38], \"xaxis\": \"x\", \"y\": [33.51, 32.78, 13.53, 47.5, 23.61, 8.45], \"yaxis\": \"y\", \"type\": \"scatter\"}, {\"hovertemplate\": \"team=football<br>frameId=38<br>x=%{x}<br>y=%{y}<br>size=%{marker.size}<br>jerseyNumber=%{text}<extra></extra>\", \"legendgroup\": \"football\", \"marker\": {\"color\": \"rgb(139,69,19)\", \"opacity\": 1, \"size\": [2], \"sizemode\": \"area\", \"sizeref\": 0.029585798816568046, \"symbol\": \"circle\"}, \"mode\": \"markers+text\", \"name\": \"football\", \"orientation\": \"v\", \"showlegend\": true, \"text\": [null], \"x\": [48.3], \"xaxis\": \"x\", \"y\": [18.42], \"yaxis\": \"y\", \"type\": \"scatter\"}], \"name\": \"38\"}, {\"data\": [{\"hovertemplate\": \"team=home<br>frameId=39<br>x=%{x}<br>y=%{y}<br>size=%{marker.size}<br>jerseyNumber=%{text}<extra></extra>\", \"legendgroup\": \"home\", \"marker\": {\"color\": \"rgb(255,60,0)\", \"opacity\": 1, \"size\": [5, 5, 5, 5, 5, 5, 5, 5], \"sizemode\": \"area\", \"sizeref\": 0.029585798816568046, \"symbol\": \"circle\"}, \"mode\": \"markers+text\", \"name\": \"home\", \"orientation\": \"v\", \"showlegend\": true, \"text\": [22.0, 50.0, 38.0, 49.0, 20.0, 21.0, 23.0, 44.0], \"x\": [59.11, 43.02, 72.0, 58.63, 60.87, 72.83, 58.48, 52.24], \"xaxis\": \"x\", \"y\": [9.22, 28.37, 13.74, 14.77, 47.01, 34.93, 32.47, 32.38], \"yaxis\": \"y\", \"type\": \"scatter\"}, {\"hovertemplate\": \"team=away<br>frameId=39<br>x=%{x}<br>y=%{y}<br>size=%{marker.size}<br>jerseyNumber=%{text}<extra></extra>\", \"legendgroup\": \"away\", \"marker\": {\"color\": \"rgb(238,173,30)\", \"opacity\": 1, \"size\": [5, 5, 5, 5, 5, 5], \"sizemode\": \"area\", \"sizeref\": 0.029585798816568046, \"symbol\": \"circle\"}, \"mode\": \"markers+text\", \"name\": \"away\", \"orientation\": \"v\", \"showlegend\": true, \"text\": [11.0, 31.0, 86.0, 13.0, 3.0, 16.0], \"x\": [59.02, 50.99, 58.47, 61.95, 43.02, 60.0], \"xaxis\": \"x\", \"y\": [33.17, 33.23, 13.09, 47.48, 23.58, 8.4], \"yaxis\": \"y\", \"type\": \"scatter\"}, {\"hovertemplate\": \"team=football<br>frameId=39<br>x=%{x}<br>y=%{y}<br>size=%{marker.size}<br>jerseyNumber=%{text}<extra></extra>\", \"legendgroup\": \"football\", \"marker\": {\"color\": \"rgb(139,69,19)\", \"opacity\": 1, \"size\": [2], \"sizemode\": \"area\", \"sizeref\": 0.029585798816568046, \"symbol\": \"circle\"}, \"mode\": \"markers+text\", \"name\": \"football\", \"orientation\": \"v\", \"showlegend\": true, \"text\": [null], \"x\": [50.2], \"xaxis\": \"x\", \"y\": [16.87], \"yaxis\": \"y\", \"type\": \"scatter\"}], \"name\": \"39\"}, {\"data\": [{\"hovertemplate\": \"team=home<br>frameId=40<br>x=%{x}<br>y=%{y}<br>size=%{marker.size}<br>jerseyNumber=%{text}<extra></extra>\", \"legendgroup\": \"home\", \"marker\": {\"color\": \"rgb(255,60,0)\", \"opacity\": 1, \"size\": [5, 5, 5, 5, 5, 5, 5, 5], \"sizemode\": \"area\", \"sizeref\": 0.029585798816568046, \"symbol\": \"circle\"}, \"mode\": \"markers+text\", \"name\": \"home\", \"orientation\": \"v\", \"showlegend\": true, \"text\": [22.0, 50.0, 38.0, 49.0, 20.0, 21.0, 23.0, 44.0], \"x\": [59.67, 42.9, 72.16, 58.66, 61.5, 72.97, 58.84, 52.37], \"xaxis\": \"x\", \"y\": [9.16, 28.5, 13.47, 14.32, 47.0, 34.71, 32.17, 32.77], \"yaxis\": \"y\", \"type\": \"scatter\"}, {\"hovertemplate\": \"team=away<br>frameId=40<br>x=%{x}<br>y=%{y}<br>size=%{marker.size}<br>jerseyNumber=%{text}<extra></extra>\", \"legendgroup\": \"away\", \"marker\": {\"color\": \"rgb(238,173,30)\", \"opacity\": 1, \"size\": [5, 5, 5, 5, 5, 5], \"sizemode\": \"area\", \"sizeref\": 0.029585798816568046, \"symbol\": \"circle\"}, \"mode\": \"markers+text\", \"name\": \"away\", \"orientation\": \"v\", \"showlegend\": true, \"text\": [11.0, 31.0, 86.0, 13.0, 3.0, 16.0], \"x\": [59.36, 51.3, 58.44, 62.65, 43.06, 60.61], \"xaxis\": \"x\", \"y\": [32.81, 33.73, 12.64, 47.44, 23.54, 8.36], \"yaxis\": \"y\", \"type\": \"scatter\"}, {\"hovertemplate\": \"team=football<br>frameId=40<br>x=%{x}<br>y=%{y}<br>size=%{marker.size}<br>jerseyNumber=%{text}<extra></extra>\", \"legendgroup\": \"football\", \"marker\": {\"color\": \"rgb(139,69,19)\", \"opacity\": 1, \"size\": [2], \"sizemode\": \"area\", \"sizeref\": 0.029585798816568046, \"symbol\": \"circle\"}, \"mode\": \"markers+text\", \"name\": \"football\", \"orientation\": \"v\", \"showlegend\": true, \"text\": [null], \"x\": [52.09], \"xaxis\": \"x\", \"y\": [15.33], \"yaxis\": \"y\", \"type\": \"scatter\"}], \"name\": \"40\"}, {\"data\": [{\"hovertemplate\": \"team=home<br>frameId=41<br>x=%{x}<br>y=%{y}<br>size=%{marker.size}<br>jerseyNumber=%{text}<extra></extra>\", \"legendgroup\": \"home\", \"marker\": {\"color\": \"rgb(255,60,0)\", \"opacity\": 1, \"size\": [5, 5, 5, 5, 5, 5, 5, 5], \"sizemode\": \"area\", \"sizeref\": 0.029585798816568046, \"symbol\": \"circle\"}, \"mode\": \"markers+text\", \"name\": \"home\", \"orientation\": \"v\", \"showlegend\": true, \"text\": [22.0, 50.0, 38.0, 49.0, 20.0, 21.0, 23.0, 44.0], \"x\": [60.21, 42.83, 72.28, 58.66, 62.11, 73.08, 59.18, 52.52], \"xaxis\": \"x\", \"y\": [9.1, 28.63, 13.19, 13.81, 46.97, 34.45, 31.83, 33.21], \"yaxis\": \"y\", \"type\": \"scatter\"}, {\"hovertemplate\": \"team=away<br>frameId=41<br>x=%{x}<br>y=%{y}<br>size=%{marker.size}<br>jerseyNumber=%{text}<extra></extra>\", \"legendgroup\": \"away\", \"marker\": {\"color\": \"rgb(238,173,30)\", \"opacity\": 1, \"size\": [5, 5, 5, 5, 5, 5], \"sizemode\": \"area\", \"sizeref\": 0.029585798816568046, \"symbol\": \"circle\"}, \"mode\": \"markers+text\", \"name\": \"away\", \"orientation\": \"v\", \"showlegend\": true, \"text\": [11.0, 31.0, 86.0, 13.0, 3.0, 16.0], \"x\": [59.66, 51.56, 58.4, 63.35, 43.1, 61.19], \"xaxis\": \"x\", \"y\": [32.42, 34.27, 12.17, 47.37, 23.5, 8.31], \"yaxis\": \"y\", \"type\": \"scatter\"}, {\"hovertemplate\": \"team=football<br>frameId=41<br>x=%{x}<br>y=%{y}<br>size=%{marker.size}<br>jerseyNumber=%{text}<extra></extra>\", \"legendgroup\": \"football\", \"marker\": {\"color\": \"rgb(139,69,19)\", \"opacity\": 1, \"size\": [2], \"sizemode\": \"area\", \"sizeref\": 0.029585798816568046, \"symbol\": \"circle\"}, \"mode\": \"markers+text\", \"name\": \"football\", \"orientation\": \"v\", \"showlegend\": true, \"text\": [null], \"x\": [53.95], \"xaxis\": \"x\", \"y\": [13.8], \"yaxis\": \"y\", \"type\": \"scatter\"}], \"name\": \"41\"}, {\"data\": [{\"hovertemplate\": \"team=home<br>frameId=42<br>x=%{x}<br>y=%{y}<br>size=%{marker.size}<br>jerseyNumber=%{text}<extra></extra>\", \"legendgroup\": \"home\", \"marker\": {\"color\": \"rgb(255,60,0)\", \"opacity\": 1, \"size\": [5, 5, 5, 5, 5, 5, 5, 5], \"sizemode\": \"area\", \"sizeref\": 0.029585798816568046, \"symbol\": \"circle\"}, \"mode\": \"markers+text\", \"name\": \"home\", \"orientation\": \"v\", \"showlegend\": true, \"text\": [22.0, 50.0, 38.0, 49.0, 20.0, 21.0, 23.0, 44.0], \"x\": [60.74, 42.8, 72.35, 58.64, 62.7, 73.14, 59.49, 52.66], \"xaxis\": \"x\", \"y\": [9.04, 28.74, 12.9, 13.25, 46.93, 34.15, 31.46, 33.7], \"yaxis\": \"y\", \"type\": \"scatter\"}, {\"hovertemplate\": \"team=away<br>frameId=42<br>x=%{x}<br>y=%{y}<br>size=%{marker.size}<br>jerseyNumber=%{text}<extra></extra>\", \"legendgroup\": \"away\", \"marker\": {\"color\": \"rgb(238,173,30)\", \"opacity\": 1, \"size\": [5, 5, 5, 5, 5, 5], \"sizemode\": \"area\", \"sizeref\": 0.029585798816568046, \"symbol\": \"circle\"}, \"mode\": \"markers+text\", \"name\": \"away\", \"orientation\": \"v\", \"showlegend\": true, \"text\": [11.0, 31.0, 86.0, 13.0, 3.0, 16.0], \"x\": [59.92, 51.78, 58.34, 64.03, 43.14, 61.75], \"xaxis\": \"x\", \"y\": [32.03, 34.85, 11.69, 47.26, 23.45, 8.27], \"yaxis\": \"y\", \"type\": \"scatter\"}, {\"hovertemplate\": \"team=football<br>frameId=42<br>x=%{x}<br>y=%{y}<br>size=%{marker.size}<br>jerseyNumber=%{text}<extra></extra>\", \"legendgroup\": \"football\", \"marker\": {\"color\": \"rgb(139,69,19)\", \"opacity\": 1, \"size\": [2], \"sizemode\": \"area\", \"sizeref\": 0.029585798816568046, \"symbol\": \"circle\"}, \"mode\": \"markers+text\", \"name\": \"football\", \"orientation\": \"v\", \"showlegend\": true, \"text\": [null], \"x\": [55.8], \"xaxis\": \"x\", \"y\": [12.28], \"yaxis\": \"y\", \"type\": \"scatter\"}], \"name\": \"42\"}, {\"data\": [{\"hovertemplate\": \"team=home<br>frameId=43<br>x=%{x}<br>y=%{y}<br>size=%{marker.size}<br>jerseyNumber=%{text}<extra></extra>\", \"legendgroup\": \"home\", \"marker\": {\"color\": \"rgb(255,60,0)\", \"opacity\": 1, \"size\": [5, 5, 5, 5, 5, 5, 5, 5], \"sizemode\": \"area\", \"sizeref\": 0.029585798816568046, \"symbol\": \"circle\"}, \"mode\": \"markers+text\", \"name\": \"home\", \"orientation\": \"v\", \"showlegend\": true, \"text\": [22.0, 50.0, 38.0, 49.0, 20.0, 21.0, 23.0, 44.0], \"x\": [61.24, 42.8, 72.37, 58.6, 63.26, 73.18, 59.78, 52.81], \"xaxis\": \"x\", \"y\": [8.97, 28.84, 12.6, 12.64, 46.88, 33.81, 31.08, 34.21], \"yaxis\": \"y\", \"type\": \"scatter\"}, {\"hovertemplate\": \"team=away<br>frameId=43<br>x=%{x}<br>y=%{y}<br>size=%{marker.size}<br>jerseyNumber=%{text}<extra></extra>\", \"legendgroup\": \"away\", \"marker\": {\"color\": \"rgb(238,173,30)\", \"opacity\": 1, \"size\": [5, 5, 5, 5, 5, 5], \"sizemode\": \"area\", \"sizeref\": 0.029585798816568046, \"symbol\": \"circle\"}, \"mode\": \"markers+text\", \"name\": \"away\", \"orientation\": \"v\", \"showlegend\": true, \"text\": [11.0, 31.0, 86.0, 13.0, 3.0, 16.0], \"x\": [60.13, 51.96, 58.29, 64.67, 43.17, 62.29], \"xaxis\": \"x\", \"y\": [31.63, 35.46, 11.21, 47.1, 23.39, 8.22], \"yaxis\": \"y\", \"type\": \"scatter\"}, {\"hovertemplate\": \"team=football<br>frameId=43<br>x=%{x}<br>y=%{y}<br>size=%{marker.size}<br>jerseyNumber=%{text}<extra></extra>\", \"legendgroup\": \"football\", \"marker\": {\"color\": \"rgb(139,69,19)\", \"opacity\": 1, \"size\": [2], \"sizemode\": \"area\", \"sizeref\": 0.029585798816568046, \"symbol\": \"circle\"}, \"mode\": \"markers+text\", \"name\": \"football\", \"orientation\": \"v\", \"showlegend\": true, \"text\": [null], \"x\": [57.44], \"xaxis\": \"x\", \"y\": [10.94], \"yaxis\": \"y\", \"type\": \"scatter\"}], \"name\": \"43\"}, {\"data\": [{\"hovertemplate\": \"team=home<br>frameId=44<br>x=%{x}<br>y=%{y}<br>size=%{marker.size}<br>jerseyNumber=%{text}<extra></extra>\", \"legendgroup\": \"home\", \"marker\": {\"color\": \"rgb(255,60,0)\", \"opacity\": 1, \"size\": [5, 5, 5, 5, 5, 5, 5, 5], \"sizemode\": \"area\", \"sizeref\": 0.029585798816568046, \"symbol\": \"circle\"}, \"mode\": \"markers+text\", \"name\": \"home\", \"orientation\": \"v\", \"showlegend\": true, \"text\": [22.0, 50.0, 38.0, 49.0, 20.0, 21.0, 23.0, 44.0], \"x\": [61.73, 42.83, 72.35, 58.53, 63.78, 73.19, 60.05, 52.97], \"xaxis\": \"x\", \"y\": [8.9, 28.94, 12.29, 12.02, 46.84, 33.44, 30.7, 34.77], \"yaxis\": \"y\", \"type\": \"scatter\"}, {\"hovertemplate\": \"team=away<br>frameId=44<br>x=%{x}<br>y=%{y}<br>size=%{marker.size}<br>jerseyNumber=%{text}<extra></extra>\", \"legendgroup\": \"away\", \"marker\": {\"color\": \"rgb(238,173,30)\", \"opacity\": 1, \"size\": [5, 5, 5, 5, 5, 5], \"sizemode\": \"area\", \"sizeref\": 0.029585798816568046, \"symbol\": \"circle\"}, \"mode\": \"markers+text\", \"name\": \"away\", \"orientation\": \"v\", \"showlegend\": true, \"text\": [11.0, 31.0, 86.0, 13.0, 3.0, 16.0], \"x\": [60.31, 52.11, 58.24, 65.3, 43.2, 62.8], \"xaxis\": \"x\", \"y\": [31.23, 36.09, 10.72, 46.91, 23.33, 8.15], \"yaxis\": \"y\", \"type\": \"scatter\"}, {\"hovertemplate\": \"team=football<br>frameId=44<br>x=%{x}<br>y=%{y}<br>size=%{marker.size}<br>jerseyNumber=%{text}<extra></extra>\", \"legendgroup\": \"football\", \"marker\": {\"color\": \"rgb(139,69,19)\", \"opacity\": 1, \"size\": [2], \"sizemode\": \"area\", \"sizeref\": 0.029585798816568046, \"symbol\": \"circle\"}, \"mode\": \"markers+text\", \"name\": \"football\", \"orientation\": \"v\", \"showlegend\": true, \"text\": [null], \"x\": [57.22], \"xaxis\": \"x\", \"y\": [10.47], \"yaxis\": \"y\", \"type\": \"scatter\"}], \"name\": \"44\"}, {\"data\": [{\"hovertemplate\": \"team=home<br>frameId=45<br>x=%{x}<br>y=%{y}<br>size=%{marker.size}<br>jerseyNumber=%{text}<extra></extra>\", \"legendgroup\": \"home\", \"marker\": {\"color\": \"rgb(255,60,0)\", \"opacity\": 1, \"size\": [5, 5, 5, 5, 5, 5, 5, 5], \"sizemode\": \"area\", \"sizeref\": 0.029585798816568046, \"symbol\": \"circle\"}, \"mode\": \"markers+text\", \"name\": \"home\", \"orientation\": \"v\", \"showlegend\": true, \"text\": [22.0, 50.0, 38.0, 49.0, 20.0, 21.0, 23.0, 44.0], \"x\": [62.19, 42.88, 72.27, 58.46, 64.27, 73.16, 60.29, 53.12], \"xaxis\": \"x\", \"y\": [8.81, 29.01, 11.98, 11.38, 46.79, 33.02, 30.33, 35.36], \"yaxis\": \"y\", \"type\": \"scatter\"}, {\"hovertemplate\": \"team=away<br>frameId=45<br>x=%{x}<br>y=%{y}<br>size=%{marker.size}<br>jerseyNumber=%{text}<extra></extra>\", \"legendgroup\": \"away\", \"marker\": {\"color\": \"rgb(238,173,30)\", \"opacity\": 1, \"size\": [5, 5, 5, 5, 5, 5], \"sizemode\": \"area\", \"sizeref\": 0.029585798816568046, \"symbol\": \"circle\"}, \"mode\": \"markers+text\", \"name\": \"away\", \"orientation\": \"v\", \"showlegend\": true, \"text\": [11.0, 31.0, 86.0, 13.0, 3.0, 16.0], \"x\": [60.45, 52.23, 58.22, 65.9, 43.24, 63.29], \"xaxis\": \"x\", \"y\": [30.85, 36.73, 10.24, 46.67, 23.26, 8.08], \"yaxis\": \"y\", \"type\": \"scatter\"}, {\"hovertemplate\": \"team=football<br>frameId=45<br>x=%{x}<br>y=%{y}<br>size=%{marker.size}<br>jerseyNumber=%{text}<extra></extra>\", \"legendgroup\": \"football\", \"marker\": {\"color\": \"rgb(139,69,19)\", \"opacity\": 1, \"size\": [2], \"sizemode\": \"area\", \"sizeref\": 0.029585798816568046, \"symbol\": \"circle\"}, \"mode\": \"markers+text\", \"name\": \"football\", \"orientation\": \"v\", \"showlegend\": true, \"text\": [null], \"x\": [57.48], \"xaxis\": \"x\", \"y\": [10.03], \"yaxis\": \"y\", \"type\": \"scatter\"}], \"name\": \"45\"}, {\"data\": [{\"hovertemplate\": \"team=home<br>frameId=46<br>x=%{x}<br>y=%{y}<br>size=%{marker.size}<br>jerseyNumber=%{text}<extra></extra>\", \"legendgroup\": \"home\", \"marker\": {\"color\": \"rgb(255,60,0)\", \"opacity\": 1, \"size\": [5, 5, 5, 5, 5, 5, 5, 5], \"sizemode\": \"area\", \"sizeref\": 0.029585798816568046, \"symbol\": \"circle\"}, \"mode\": \"markers+text\", \"name\": \"home\", \"orientation\": \"v\", \"showlegend\": true, \"text\": [22.0, 50.0, 38.0, 49.0, 20.0, 21.0, 23.0, 44.0], \"x\": [62.63, 42.93, 72.15, 58.39, 64.73, 73.1, 60.5, 53.28], \"xaxis\": \"x\", \"y\": [8.71, 29.08, 11.68, 10.73, 46.75, 32.59, 29.96, 35.98], \"yaxis\": \"y\", \"type\": \"scatter\"}, {\"hovertemplate\": \"team=away<br>frameId=46<br>x=%{x}<br>y=%{y}<br>size=%{marker.size}<br>jerseyNumber=%{text}<extra></extra>\", \"legendgroup\": \"away\", \"marker\": {\"color\": \"rgb(238,173,30)\", \"opacity\": 1, \"size\": [5, 5, 5, 5, 5, 5], \"sizemode\": \"area\", \"sizeref\": 0.029585798816568046, \"symbol\": \"circle\"}, \"mode\": \"markers+text\", \"name\": \"away\", \"orientation\": \"v\", \"showlegend\": true, \"text\": [11.0, 31.0, 86.0, 13.0, 3.0, 16.0], \"x\": [60.56, 52.33, 58.23, 66.47, 43.28, 63.74], \"xaxis\": \"x\", \"y\": [30.48, 37.39, 9.76, 46.39, 23.19, 7.98], \"yaxis\": \"y\", \"type\": \"scatter\"}, {\"hovertemplate\": \"team=football<br>frameId=46<br>x=%{x}<br>y=%{y}<br>size=%{marker.size}<br>jerseyNumber=%{text}<extra></extra>\", \"legendgroup\": \"football\", \"marker\": {\"color\": \"rgb(139,69,19)\", \"opacity\": 1, \"size\": [2], \"sizemode\": \"area\", \"sizeref\": 0.029585798816568046, \"symbol\": \"circle\"}, \"mode\": \"markers+text\", \"name\": \"football\", \"orientation\": \"v\", \"showlegend\": true, \"text\": [null], \"x\": [57.74], \"xaxis\": \"x\", \"y\": [9.61], \"yaxis\": \"y\", \"type\": \"scatter\"}], \"name\": \"46\"}, {\"data\": [{\"hovertemplate\": \"team=home<br>frameId=47<br>x=%{x}<br>y=%{y}<br>size=%{marker.size}<br>jerseyNumber=%{text}<extra></extra>\", \"legendgroup\": \"home\", \"marker\": {\"color\": \"rgb(255,60,0)\", \"opacity\": 1, \"size\": [5, 5, 5, 5, 5, 5, 5, 5], \"sizemode\": \"area\", \"sizeref\": 0.029585798816568046, \"symbol\": \"circle\"}, \"mode\": \"markers+text\", \"name\": \"home\", \"orientation\": \"v\", \"showlegend\": true, \"text\": [22.0, 50.0, 38.0, 49.0, 20.0, 21.0, 23.0, 44.0], \"x\": [63.05, 42.99, 71.98, 58.34, 65.14, 73.0, 60.69, 53.42], \"xaxis\": \"x\", \"y\": [8.6, 29.14, 11.39, 10.1, 46.72, 32.13, 29.62, 36.61], \"yaxis\": \"y\", \"type\": \"scatter\"}, {\"hovertemplate\": \"team=away<br>frameId=47<br>x=%{x}<br>y=%{y}<br>size=%{marker.size}<br>jerseyNumber=%{text}<extra></extra>\", \"legendgroup\": \"away\", \"marker\": {\"color\": \"rgb(238,173,30)\", \"opacity\": 1, \"size\": [5, 5, 5, 5, 5, 5], \"sizemode\": \"area\", \"sizeref\": 0.029585798816568046, \"symbol\": \"circle\"}, \"mode\": \"markers+text\", \"name\": \"away\", \"orientation\": \"v\", \"showlegend\": true, \"text\": [11.0, 31.0, 86.0, 13.0, 3.0, 16.0], \"x\": [60.63, 52.42, 58.29, 67.01, 43.33, 64.14], \"xaxis\": \"x\", \"y\": [30.14, 38.04, 9.29, 46.07, 23.11, 7.88], \"yaxis\": \"y\", \"type\": \"scatter\"}, {\"hovertemplate\": \"team=football<br>frameId=47<br>x=%{x}<br>y=%{y}<br>size=%{marker.size}<br>jerseyNumber=%{text}<extra></extra>\", \"legendgroup\": \"football\", \"marker\": {\"color\": \"rgb(139,69,19)\", \"opacity\": 1, \"size\": [2], \"sizemode\": \"area\", \"sizeref\": 0.029585798816568046, \"symbol\": \"circle\"}, \"mode\": \"markers+text\", \"name\": \"football\", \"orientation\": \"v\", \"showlegend\": true, \"text\": [null], \"x\": [58.01], \"xaxis\": \"x\", \"y\": [9.18], \"yaxis\": \"y\", \"type\": \"scatter\"}], \"name\": \"47\"}, {\"data\": [{\"hovertemplate\": \"team=home<br>frameId=48<br>x=%{x}<br>y=%{y}<br>size=%{marker.size}<br>jerseyNumber=%{text}<extra></extra>\", \"legendgroup\": \"home\", \"marker\": {\"color\": \"rgb(255,60,0)\", \"opacity\": 1, \"size\": [5, 5, 5, 5, 5, 5, 5, 5], \"sizemode\": \"area\", \"sizeref\": 0.029585798816568046, \"symbol\": \"circle\"}, \"mode\": \"markers+text\", \"name\": \"home\", \"orientation\": \"v\", \"showlegend\": true, \"text\": [22.0, 50.0, 38.0, 49.0, 20.0, 21.0, 23.0, 44.0], \"x\": [63.44, 43.06, 71.77, 58.31, 65.51, 72.9, 60.85, 53.56], \"xaxis\": \"x\", \"y\": [8.46, 29.2, 11.09, 9.49, 46.69, 31.66, 29.31, 37.26], \"yaxis\": \"y\", \"type\": \"scatter\"}, {\"hovertemplate\": \"team=away<br>frameId=48<br>x=%{x}<br>y=%{y}<br>size=%{marker.size}<br>jerseyNumber=%{text}<extra></extra>\", \"legendgroup\": \"away\", \"marker\": {\"color\": \"rgb(238,173,30)\", \"opacity\": 1, \"size\": [5, 5, 5, 5, 5, 5], \"sizemode\": \"area\", \"sizeref\": 0.029585798816568046, \"symbol\": \"circle\"}, \"mode\": \"markers+text\", \"name\": \"away\", \"orientation\": \"v\", \"showlegend\": true, \"text\": [11.0, 31.0, 86.0, 13.0, 3.0, 16.0], \"x\": [60.68, 52.49, 58.4, 67.5, 43.39, 64.51], \"xaxis\": \"x\", \"y\": [29.82, 38.68, 8.83, 45.72, 23.03, 7.77], \"yaxis\": \"y\", \"type\": \"scatter\"}, {\"hovertemplate\": \"team=football<br>frameId=48<br>x=%{x}<br>y=%{y}<br>size=%{marker.size}<br>jerseyNumber=%{text}<extra></extra>\", \"legendgroup\": \"football\", \"marker\": {\"color\": \"rgb(139,69,19)\", \"opacity\": 1, \"size\": [2], \"sizemode\": \"area\", \"sizeref\": 0.029585798816568046, \"symbol\": \"circle\"}, \"mode\": \"markers+text\", \"name\": \"football\", \"orientation\": \"v\", \"showlegend\": true, \"text\": [null], \"x\": [58.29], \"xaxis\": \"x\", \"y\": [8.76], \"yaxis\": \"y\", \"type\": \"scatter\"}], \"name\": \"48\"}, {\"data\": [{\"hovertemplate\": \"team=home<br>frameId=49<br>x=%{x}<br>y=%{y}<br>size=%{marker.size}<br>jerseyNumber=%{text}<extra></extra>\", \"legendgroup\": \"home\", \"marker\": {\"color\": \"rgb(255,60,0)\", \"opacity\": 1, \"size\": [5, 5, 5, 5, 5, 5, 5, 5], \"sizemode\": \"area\", \"sizeref\": 0.029585798816568046, \"symbol\": \"circle\"}, \"mode\": \"markers+text\", \"name\": \"home\", \"orientation\": \"v\", \"showlegend\": true, \"text\": [22.0, 50.0, 38.0, 49.0, 20.0, 21.0, 23.0, 44.0], \"x\": [63.8, 43.12, 71.53, 58.31, 65.85, 72.78, 60.98, 53.69], \"xaxis\": \"x\", \"y\": [8.31, 29.25, 10.81, 8.91, 46.66, 31.19, 29.03, 37.92], \"yaxis\": \"y\", \"type\": \"scatter\"}, {\"hovertemplate\": \"team=away<br>frameId=49<br>x=%{x}<br>y=%{y}<br>size=%{marker.size}<br>jerseyNumber=%{text}<extra></extra>\", \"legendgroup\": \"away\", \"marker\": {\"color\": \"rgb(238,173,30)\", \"opacity\": 1, \"size\": [5, 5, 5, 5, 5, 5], \"sizemode\": \"area\", \"sizeref\": 0.029585798816568046, \"symbol\": \"circle\"}, \"mode\": \"markers+text\", \"name\": \"away\", \"orientation\": \"v\", \"showlegend\": true, \"text\": [11.0, 31.0, 86.0, 13.0, 3.0, 16.0], \"x\": [60.7, 52.55, 58.55, 67.96, 43.46, 64.85], \"xaxis\": \"x\", \"y\": [29.53, 39.31, 8.39, 45.34, 22.95, 7.64], \"yaxis\": \"y\", \"type\": \"scatter\"}, {\"hovertemplate\": \"team=football<br>frameId=49<br>x=%{x}<br>y=%{y}<br>size=%{marker.size}<br>jerseyNumber=%{text}<extra></extra>\", \"legendgroup\": \"football\", \"marker\": {\"color\": \"rgb(139,69,19)\", \"opacity\": 1, \"size\": [2], \"sizemode\": \"area\", \"sizeref\": 0.029585798816568046, \"symbol\": \"circle\"}, \"mode\": \"markers+text\", \"name\": \"football\", \"orientation\": \"v\", \"showlegend\": true, \"text\": [null], \"x\": [58.57], \"xaxis\": \"x\", \"y\": [8.34], \"yaxis\": \"y\", \"type\": \"scatter\"}], \"name\": \"49\"}, {\"data\": [{\"hovertemplate\": \"team=home<br>frameId=50<br>x=%{x}<br>y=%{y}<br>size=%{marker.size}<br>jerseyNumber=%{text}<extra></extra>\", \"legendgroup\": \"home\", \"marker\": {\"color\": \"rgb(255,60,0)\", \"opacity\": 1, \"size\": [5, 5, 5, 5, 5, 5, 5, 5], \"sizemode\": \"area\", \"sizeref\": 0.029585798816568046, \"symbol\": \"circle\"}, \"mode\": \"markers+text\", \"name\": \"home\", \"orientation\": \"v\", \"showlegend\": true, \"text\": [22.0, 50.0, 38.0, 49.0, 20.0, 21.0, 23.0, 44.0], \"x\": [64.13, 43.16, 71.26, 58.35, 66.15, 72.66, 61.09, 53.82], \"xaxis\": \"x\", \"y\": [8.15, 29.3, 10.55, 8.38, 46.64, 30.73, 28.79, 38.58], \"yaxis\": \"y\", \"type\": \"scatter\"}, {\"hovertemplate\": \"team=away<br>frameId=50<br>x=%{x}<br>y=%{y}<br>size=%{marker.size}<br>jerseyNumber=%{text}<extra></extra>\", \"legendgroup\": \"away\", \"marker\": {\"color\": \"rgb(238,173,30)\", \"opacity\": 1, \"size\": [5, 5, 5, 5, 5, 5], \"sizemode\": \"area\", \"sizeref\": 0.029585798816568046, \"symbol\": \"circle\"}, \"mode\": \"markers+text\", \"name\": \"away\", \"orientation\": \"v\", \"showlegend\": true, \"text\": [11.0, 31.0, 86.0, 13.0, 3.0, 16.0], \"x\": [60.69, 52.6, 58.75, 68.38, 43.54, 65.14], \"xaxis\": \"x\", \"y\": [29.27, 39.92, 7.96, 44.92, 22.86, 7.51], \"yaxis\": \"y\", \"type\": \"scatter\"}, {\"hovertemplate\": \"team=football<br>frameId=50<br>x=%{x}<br>y=%{y}<br>size=%{marker.size}<br>jerseyNumber=%{text}<extra></extra>\", \"legendgroup\": \"football\", \"marker\": {\"color\": \"rgb(139,69,19)\", \"opacity\": 1, \"size\": [2], \"sizemode\": \"area\", \"sizeref\": 0.029585798816568046, \"symbol\": \"circle\"}, \"mode\": \"markers+text\", \"name\": \"football\", \"orientation\": \"v\", \"showlegend\": true, \"text\": [null], \"x\": [58.85], \"xaxis\": \"x\", \"y\": [7.94], \"yaxis\": \"y\", \"type\": \"scatter\"}], \"name\": \"50\"}, {\"data\": [{\"hovertemplate\": \"team=home<br>frameId=51<br>x=%{x}<br>y=%{y}<br>size=%{marker.size}<br>jerseyNumber=%{text}<extra></extra>\", \"legendgroup\": \"home\", \"marker\": {\"color\": \"rgb(255,60,0)\", \"opacity\": 1, \"size\": [5, 5, 5, 5, 5, 5, 5, 5], \"sizemode\": \"area\", \"sizeref\": 0.029585798816568046, \"symbol\": \"circle\"}, \"mode\": \"markers+text\", \"name\": \"home\", \"orientation\": \"v\", \"showlegend\": true, \"text\": [22.0, 50.0, 38.0, 49.0, 20.0, 21.0, 23.0, 44.0], \"x\": [64.43, 43.19, 70.96, 58.42, 66.4, 72.53, 61.18, 53.92], \"xaxis\": \"x\", \"y\": [7.98, 29.34, 10.29, 7.9, 46.61, 30.27, 28.57, 39.23], \"yaxis\": \"y\", \"type\": \"scatter\"}, {\"hovertemplate\": \"team=away<br>frameId=51<br>x=%{x}<br>y=%{y}<br>size=%{marker.size}<br>jerseyNumber=%{text}<extra></extra>\", \"legendgroup\": \"away\", \"marker\": {\"color\": \"rgb(238,173,30)\", \"opacity\": 1, \"size\": [5, 5, 5, 5, 5, 5], \"sizemode\": \"area\", \"sizeref\": 0.029585798816568046, \"symbol\": \"circle\"}, \"mode\": \"markers+text\", \"name\": \"away\", \"orientation\": \"v\", \"showlegend\": true, \"text\": [11.0, 31.0, 86.0, 13.0, 3.0, 16.0], \"x\": [60.67, 52.65, 58.98, 68.76, 43.62, 65.38], \"xaxis\": \"x\", \"y\": [29.03, 40.52, 7.57, 44.49, 22.77, 7.35], \"yaxis\": \"y\", \"type\": \"scatter\"}, {\"hovertemplate\": \"team=football<br>frameId=51<br>x=%{x}<br>y=%{y}<br>size=%{marker.size}<br>jerseyNumber=%{text}<extra></extra>\", \"legendgroup\": \"football\", \"marker\": {\"color\": \"rgb(139,69,19)\", \"opacity\": 1, \"size\": [2], \"sizemode\": \"area\", \"sizeref\": 0.029585798816568046, \"symbol\": \"circle\"}, \"mode\": \"markers+text\", \"name\": \"football\", \"orientation\": \"v\", \"showlegend\": true, \"text\": [null], \"x\": [59.11], \"xaxis\": \"x\", \"y\": [7.57], \"yaxis\": \"y\", \"type\": \"scatter\"}], \"name\": \"51\"}, {\"data\": [{\"hovertemplate\": \"team=home<br>frameId=52<br>x=%{x}<br>y=%{y}<br>size=%{marker.size}<br>jerseyNumber=%{text}<extra></extra>\", \"legendgroup\": \"home\", \"marker\": {\"color\": \"rgb(255,60,0)\", \"opacity\": 1, \"size\": [5, 5, 5, 5, 5, 5, 5, 5], \"sizemode\": \"area\", \"sizeref\": 0.029585798816568046, \"symbol\": \"circle\"}, \"mode\": \"markers+text\", \"name\": \"home\", \"orientation\": \"v\", \"showlegend\": true, \"text\": [22.0, 50.0, 38.0, 49.0, 20.0, 21.0, 23.0, 44.0], \"x\": [64.7, 43.21, 70.65, 58.51, 66.63, 72.4, 61.25, 54.01], \"xaxis\": \"x\", \"y\": [7.8, 29.39, 10.06, 7.47, 46.6, 29.81, 28.37, 39.87], \"yaxis\": \"y\", \"type\": \"scatter\"}, {\"hovertemplate\": \"team=away<br>frameId=52<br>x=%{x}<br>y=%{y}<br>size=%{marker.size}<br>jerseyNumber=%{text}<extra></extra>\", \"legendgroup\": \"away\", \"marker\": {\"color\": \"rgb(238,173,30)\", \"opacity\": 1, \"size\": [5, 5, 5, 5, 5, 5], \"sizemode\": \"area\", \"sizeref\": 0.029585798816568046, \"symbol\": \"circle\"}, \"mode\": \"markers+text\", \"name\": \"away\", \"orientation\": \"v\", \"showlegend\": true, \"text\": [11.0, 31.0, 86.0, 13.0, 3.0, 16.0], \"x\": [60.63, 52.69, 59.23, 69.1, 43.72, 65.59], \"xaxis\": \"x\", \"y\": [28.81, 41.1, 7.21, 44.03, 22.68, 7.19], \"yaxis\": \"y\", \"type\": \"scatter\"}, {\"hovertemplate\": \"team=football<br>frameId=52<br>x=%{x}<br>y=%{y}<br>size=%{marker.size}<br>jerseyNumber=%{text}<extra></extra>\", \"legendgroup\": \"football\", \"marker\": {\"color\": \"rgb(139,69,19)\", \"opacity\": 1, \"size\": [2], \"sizemode\": \"area\", \"sizeref\": 0.029585798816568046, \"symbol\": \"circle\"}, \"mode\": \"markers+text\", \"name\": \"football\", \"orientation\": \"v\", \"showlegend\": true, \"text\": [null], \"x\": [59.35], \"xaxis\": \"x\", \"y\": [7.24], \"yaxis\": \"y\", \"type\": \"scatter\"}], \"name\": \"52\"}, {\"data\": [{\"hovertemplate\": \"team=home<br>frameId=53<br>x=%{x}<br>y=%{y}<br>size=%{marker.size}<br>jerseyNumber=%{text}<extra></extra>\", \"legendgroup\": \"home\", \"marker\": {\"color\": \"rgb(255,60,0)\", \"opacity\": 1, \"size\": [5, 5, 5, 5, 5, 5, 5, 5], \"sizemode\": \"area\", \"sizeref\": 0.029585798816568046, \"symbol\": \"circle\"}, \"mode\": \"markers+text\", \"name\": \"home\", \"orientation\": \"v\", \"showlegend\": true, \"text\": [22.0, 50.0, 38.0, 49.0, 20.0, 21.0, 23.0, 44.0], \"x\": [64.92, 43.22, 70.34, 58.64, 66.83, 72.27, 61.31, 54.09], \"xaxis\": \"x\", \"y\": [7.63, 29.43, 9.84, 7.06, 46.58, 29.36, 28.2, 40.48], \"yaxis\": \"y\", \"type\": \"scatter\"}, {\"hovertemplate\": \"team=away<br>frameId=53<br>x=%{x}<br>y=%{y}<br>size=%{marker.size}<br>jerseyNumber=%{text}<extra></extra>\", \"legendgroup\": \"away\", \"marker\": {\"color\": \"rgb(238,173,30)\", \"opacity\": 1, \"size\": [5, 5, 5, 5, 5, 5], \"sizemode\": \"area\", \"sizeref\": 0.029585798816568046, \"symbol\": \"circle\"}, \"mode\": \"markers+text\", \"name\": \"away\", \"orientation\": \"v\", \"showlegend\": true, \"text\": [11.0, 31.0, 86.0, 13.0, 3.0, 16.0], \"x\": [60.59, 52.73, 59.48, 69.42, 43.83, 65.76], \"xaxis\": \"x\", \"y\": [28.62, 41.65, 6.9, 43.57, 22.59, 7.01], \"yaxis\": \"y\", \"type\": \"scatter\"}, {\"hovertemplate\": \"team=football<br>frameId=53<br>x=%{x}<br>y=%{y}<br>size=%{marker.size}<br>jerseyNumber=%{text}<extra></extra>\", \"legendgroup\": \"football\", \"marker\": {\"color\": \"rgb(139,69,19)\", \"opacity\": 1, \"size\": [2], \"sizemode\": \"area\", \"sizeref\": 0.029585798816568046, \"symbol\": \"circle\"}, \"mode\": \"markers+text\", \"name\": \"football\", \"orientation\": \"v\", \"showlegend\": true, \"text\": [null], \"x\": [59.58], \"xaxis\": \"x\", \"y\": [6.94], \"yaxis\": \"y\", \"type\": \"scatter\"}], \"name\": \"53\"}, {\"data\": [{\"hovertemplate\": \"team=home<br>frameId=54<br>x=%{x}<br>y=%{y}<br>size=%{marker.size}<br>jerseyNumber=%{text}<extra></extra>\", \"legendgroup\": \"home\", \"marker\": {\"color\": \"rgb(255,60,0)\", \"opacity\": 1, \"size\": [5, 5, 5, 5, 5, 5, 5, 5], \"sizemode\": \"area\", \"sizeref\": 0.029585798816568046, \"symbol\": \"circle\"}, \"mode\": \"markers+text\", \"name\": \"home\", \"orientation\": \"v\", \"showlegend\": true, \"text\": [22.0, 50.0, 38.0, 49.0, 20.0, 21.0, 23.0, 44.0], \"x\": [65.1, 43.23, 70.01, 58.78, 67.0, 72.15, 61.35, 54.16], \"xaxis\": \"x\", \"y\": [7.45, 29.46, 9.64, 6.7, 46.57, 28.94, 28.05, 41.08], \"yaxis\": \"y\", \"type\": \"scatter\"}, {\"hovertemplate\": \"team=away<br>frameId=54<br>x=%{x}<br>y=%{y}<br>size=%{marker.size}<br>jerseyNumber=%{text}<extra></extra>\", \"legendgroup\": \"away\", \"marker\": {\"color\": \"rgb(238,173,30)\", \"opacity\": 1, \"size\": [5, 5, 5, 5, 5, 5], \"sizemode\": \"area\", \"sizeref\": 0.029585798816568046, \"symbol\": \"circle\"}, \"mode\": \"markers+text\", \"name\": \"away\", \"orientation\": \"v\", \"showlegend\": true, \"text\": [11.0, 31.0, 86.0, 13.0, 3.0, 16.0], \"x\": [60.53, 52.77, 59.72, 69.69, 43.96, 65.88], \"xaxis\": \"x\", \"y\": [28.45, 42.18, 6.63, 43.11, 22.52, 6.83], \"yaxis\": \"y\", \"type\": \"scatter\"}, {\"hovertemplate\": \"team=football<br>frameId=54<br>x=%{x}<br>y=%{y}<br>size=%{marker.size}<br>jerseyNumber=%{text}<extra></extra>\", \"legendgroup\": \"football\", \"marker\": {\"color\": \"rgb(139,69,19)\", \"opacity\": 1, \"size\": [2], \"sizemode\": \"area\", \"sizeref\": 0.029585798816568046, \"symbol\": \"circle\"}, \"mode\": \"markers+text\", \"name\": \"football\", \"orientation\": \"v\", \"showlegend\": true, \"text\": [null], \"x\": [59.78], \"xaxis\": \"x\", \"y\": [6.68], \"yaxis\": \"y\", \"type\": \"scatter\"}], \"name\": \"54\"}, {\"data\": [{\"hovertemplate\": \"team=home<br>frameId=55<br>x=%{x}<br>y=%{y}<br>size=%{marker.size}<br>jerseyNumber=%{text}<extra></extra>\", \"legendgroup\": \"home\", \"marker\": {\"color\": \"rgb(255,60,0)\", \"opacity\": 1, \"size\": [5, 5, 5, 5, 5, 5, 5, 5], \"sizemode\": \"area\", \"sizeref\": 0.029585798816568046, \"symbol\": \"circle\"}, \"mode\": \"markers+text\", \"name\": \"home\", \"orientation\": \"v\", \"showlegend\": true, \"text\": [22.0, 50.0, 38.0, 49.0, 20.0, 21.0, 23.0, 44.0], \"x\": [65.26, 43.23, 69.69, 58.94, 67.15, 72.03, 61.38, 54.21], \"xaxis\": \"x\", \"y\": [7.28, 29.5, 9.47, 6.39, 46.55, 28.53, 27.92, 41.65], \"yaxis\": \"y\", \"type\": \"scatter\"}, {\"hovertemplate\": \"team=away<br>frameId=55<br>x=%{x}<br>y=%{y}<br>size=%{marker.size}<br>jerseyNumber=%{text}<extra></extra>\", \"legendgroup\": \"away\", \"marker\": {\"color\": \"rgb(238,173,30)\", \"opacity\": 1, \"size\": [5, 5, 5, 5, 5, 5], \"sizemode\": \"area\", \"sizeref\": 0.029585798816568046, \"symbol\": \"circle\"}, \"mode\": \"markers+text\", \"name\": \"away\", \"orientation\": \"v\", \"showlegend\": true, \"text\": [11.0, 31.0, 86.0, 13.0, 3.0, 16.0], \"x\": [60.48, 52.81, 59.95, 69.93, 44.11, 65.97], \"xaxis\": \"x\", \"y\": [28.3, 42.68, 6.4, 42.64, 22.46, 6.64], \"yaxis\": \"y\", \"type\": \"scatter\"}, {\"hovertemplate\": \"team=football<br>frameId=55<br>x=%{x}<br>y=%{y}<br>size=%{marker.size}<br>jerseyNumber=%{text}<extra></extra>\", \"legendgroup\": \"football\", \"marker\": {\"color\": \"rgb(139,69,19)\", \"opacity\": 1, \"size\": [2], \"sizemode\": \"area\", \"sizeref\": 0.029585798816568046, \"symbol\": \"circle\"}, \"mode\": \"markers+text\", \"name\": \"football\", \"orientation\": \"v\", \"showlegend\": true, \"text\": [null], \"x\": [59.96], \"xaxis\": \"x\", \"y\": [6.45], \"yaxis\": \"y\", \"type\": \"scatter\"}], \"name\": \"55\"}, {\"data\": [{\"hovertemplate\": \"team=home<br>frameId=56<br>x=%{x}<br>y=%{y}<br>size=%{marker.size}<br>jerseyNumber=%{text}<extra></extra>\", \"legendgroup\": \"home\", \"marker\": {\"color\": \"rgb(255,60,0)\", \"opacity\": 1, \"size\": [5, 5, 5, 5, 5, 5, 5, 5], \"sizemode\": \"area\", \"sizeref\": 0.029585798816568046, \"symbol\": \"circle\"}, \"mode\": \"markers+text\", \"name\": \"home\", \"orientation\": \"v\", \"showlegend\": true, \"text\": [22.0, 50.0, 38.0, 49.0, 20.0, 21.0, 23.0, 44.0], \"x\": [65.39, 43.23, 69.37, 59.09, 67.28, 71.9, 61.41, 54.26], \"xaxis\": \"x\", \"y\": [7.11, 29.52, 9.31, 6.1, 46.53, 28.16, 27.81, 42.2], \"yaxis\": \"y\", \"type\": \"scatter\"}, {\"hovertemplate\": \"team=away<br>frameId=56<br>x=%{x}<br>y=%{y}<br>size=%{marker.size}<br>jerseyNumber=%{text}<extra></extra>\", \"legendgroup\": \"away\", \"marker\": {\"color\": \"rgb(238,173,30)\", \"opacity\": 1, \"size\": [5, 5, 5, 5, 5, 5], \"sizemode\": \"area\", \"sizeref\": 0.029585798816568046, \"symbol\": \"circle\"}, \"mode\": \"markers+text\", \"name\": \"away\", \"orientation\": \"v\", \"showlegend\": true, \"text\": [11.0, 31.0, 86.0, 13.0, 3.0, 16.0], \"x\": [60.42, 52.84, 60.14, 70.13, 44.26, 66.02], \"xaxis\": \"x\", \"y\": [28.16, 43.16, 6.21, 42.18, 22.42, 6.45], \"yaxis\": \"y\", \"type\": \"scatter\"}, {\"hovertemplate\": \"team=football<br>frameId=56<br>x=%{x}<br>y=%{y}<br>size=%{marker.size}<br>jerseyNumber=%{text}<extra></extra>\", \"legendgroup\": \"football\", \"marker\": {\"color\": \"rgb(139,69,19)\", \"opacity\": 1, \"size\": [2], \"sizemode\": \"area\", \"sizeref\": 0.029585798816568046, \"symbol\": \"circle\"}, \"mode\": \"markers+text\", \"name\": \"football\", \"orientation\": \"v\", \"showlegend\": true, \"text\": [null], \"x\": [60.11], \"xaxis\": \"x\", \"y\": [6.25], \"yaxis\": \"y\", \"type\": \"scatter\"}], \"name\": \"56\"}]);\n",
       "                        }).then(function(){\n",
       "                            \n",
       "var gd = document.getElementById('2cbff2ce-083e-4a82-9fc9-e7e2f2f51e80');\n",
       "var x = new MutationObserver(function (mutations, observer) {{\n",
       "        var display = window.getComputedStyle(gd).display;\n",
       "        if (!display || display === 'none') {{\n",
       "            console.log([gd, 'removed!']);\n",
       "            Plotly.purge(gd);\n",
       "            observer.disconnect();\n",
       "        }}\n",
       "}});\n",
       "\n",
       "// Listen for the removal of the full notebook cells\n",
       "var notebookContainer = gd.closest('#notebook-container');\n",
       "if (notebookContainer) {{\n",
       "    x.observe(notebookContainer, {childList: true});\n",
       "}}\n",
       "\n",
       "// Listen for the clearing of the current output cell\n",
       "var outputEl = gd.closest('.output');\n",
       "if (outputEl) {{\n",
       "    x.observe(outputEl, {childList: true});\n",
       "}}\n",
       "\n",
       "                        })\n",
       "                };\n",
       "                });\n",
       "            </script>\n",
       "        </div>"
      ]
     },
     "metadata": {},
     "output_type": "display_data"
    }
   ],
   "source": [
    "game = joined['gameId'].sample(1).iloc[0]\n",
    "my_game = joined[joined['gameId'] == game]\n",
    "my_play = my_game['playId'].sample(1).iloc[0]\n",
    "print(my_play,game)\n",
    "play_plot(my_play,game,joined)"
   ]
  },
  {
   "cell_type": "markdown",
   "metadata": {},
   "source": [
    "# Perform analysis on one play"
   ]
  },
  {
   "cell_type": "markdown",
   "metadata": {},
   "source": [
    "- We know take the randomly selected play and begin to perform analysis on it"
   ]
  },
  {
   "cell_type": "code",
   "execution_count": 18,
   "metadata": {},
   "outputs": [],
   "source": [
    "one_play = joined[joined['playId'] == my_play]\n",
    "one_play = one_play[one_play['gameId'] == game]\n",
    "one_play = one_play['ID'].unique()"
   ]
  },
  {
   "cell_type": "markdown",
   "metadata": {},
   "source": [
    "- For each play data is captured at 0.1 second intervals and uniquely labeled with frameIds\n",
    "- As we loop through each Frame, the following actions take place:\n",
    "    - Record how far apart all players are from each other and the football using euclidean distance from the scipy package.\n",
    "    - pairing the closest offensive player to each player\n",
    "    - pairing the closest defensive player with each player\n",
    " "
   ]
  },
  {
   "cell_type": "code",
   "execution_count": 20,
   "metadata": {},
   "outputs": [
    {
     "name": "stdout",
     "output_type": "stream",
     "text": [
      "1\n",
      "2\n",
      "3\n",
      "4\n",
      "5\n",
      "6\n",
      "7\n",
      "8\n",
      "9\n",
      "10\n",
      "11\n",
      "12\n",
      "13\n",
      "14\n",
      "15\n",
      "16\n",
      "17\n",
      "18\n",
      "19\n",
      "20\n",
      "21\n",
      "22\n",
      "23\n",
      "24\n",
      "25\n",
      "26\n",
      "27\n",
      "28\n",
      "29\n",
      "30\n",
      "31\n",
      "32\n",
      "33\n",
      "34\n",
      "35\n",
      "36\n",
      "37\n",
      "38\n",
      "39\n",
      "40\n",
      "41\n",
      "42\n",
      "43\n",
      "44\n",
      "45\n",
      "46\n",
      "47\n",
      "48\n",
      "49\n",
      "50\n",
      "51\n",
      "52\n",
      "53\n",
      "54\n",
      "55\n",
      "56\n"
     ]
    }
   ],
   "source": [
    "df_next = pd.DataFrame()\n",
    "c = 1\n",
    "#for i in joined['ID']:\n",
    "for i in one_play:\n",
    "    ex_play_demo = joined[joined['ID'] == i]\n",
    "    ex_play_demo = ex_play_demo.copy()\n",
    "    mat = scipy.spatial.distance.cdist(ex_play_demo[['x','y']], ex_play_demo[['x','y']], metric='euclidean')\n",
    "    new_df = pd.DataFrame(mat, index=ex_play_demo[['nflId','team']], columns=ex_play_demo[['nflId','team']]) \n",
    "    test = new_df.stack().reset_index()\n",
    "    test = test.rename(columns={'level_0':'player_1','level_1':'player_2',0:'distance'})\n",
    "    test['player_1'] = test['player_1'].agg(','.join)\n",
    "    test['player_2'] = test['player_2'].agg(','.join)\n",
    "    test[['player_1','team_1']] = test['player_1'].str.split(\",\",expand=True)\n",
    "    test[['player_2','team_2']] = test['player_2'].str.split(\",\",expand=True)\n",
    "    test = test.drop_duplicates(keep='first')\n",
    "    test['away_distance'] = np.where((test['team_2'] == 'away'),test['distance'],np.nan)\n",
    "    test['home_distance'] = np.where((test['team_2'] == 'home'),test['distance'],np.nan)\n",
    "    test['away_distance'] = np.where((test['away_distance'] == 0),np.nan,test['away_distance'])\n",
    "    test['home_distance'] = np.where((test['home_distance'] == 0),np.nan,test['home_distance'])\n",
    "    test = test.dropna(subset=['away_distance','home_distance'],how='all')\n",
    "    test2 = test.groupby('player_1').agg({'away_distance':'min','home_distance':'min'}).reset_index()\n",
    "    test2 = pd.merge(test2,test[['player_1','team_1','player_2','team_2','home_distance']],how='left',on=['player_1','home_distance'],suffixes=['','_home']).drop_duplicates(keep='first')\n",
    "    test2 = pd.merge(test2,test[['player_1','team_1','player_2','team_2','away_distance']],how='left',on=['player_1','away_distance'],suffixes=['','_away']).drop_duplicates(keep='first')\n",
    "    del test2['team_1_away']\n",
    "    test2 = pd.merge(test2,players[['nflId','side']],left_on='player_1',right_on='nflId',suffixes=['','_player_1'],how='left').drop_duplicates(keep='first')\n",
    "    test2 = pd.merge(test2,players[['nflId','side']],left_on='player_2',right_on='nflId',suffixes=['','_player_2'],how='left').drop_duplicates(keep='first')\n",
    "    test2 = pd.merge(test2,players[['nflId','side']],left_on='player_2_away',right_on='nflId',suffixes=['','_player_2_away'],how='left').drop_duplicates(keep='first')\n",
    "    test2['closest_offense'] = np.where((test2['side_player_2_away'] == 'Offense'),test2['away_distance'],test2['home_distance'])\n",
    "    test2['closest_defense'] = np.where((test2['side_player_2_away'] == 'Offense'),test2['home_distance'],test2['away_distance'])\n",
    "    test2['closest_offense_ID'] = np.where((test2['side_player_2_away'] == 'Offense'),test2['player_2_away'],test2['player_2'])\n",
    "    test2['closest_defense_ID'] = np.where((test2['side_player_2_away'] == 'Offense'),test2['player_2'],test2['player_2_away'])\n",
    "    test2 = test2[['player_1','closest_offense_ID','closest_offense','closest_defense_ID','closest_defense']]\n",
    "    test2 = pd.merge(test2,players[['nflId','displayName']],left_on='player_1',right_on='nflId',how='left')\n",
    "    del test2['nflId']\n",
    "    test2 = pd.merge(test2,players[['nflId','displayName']],left_on='closest_offense_ID',right_on='nflId',how='left')\n",
    "    del test2['nflId']\n",
    "    test2 = pd.merge(test2,players[['nflId','displayName']],left_on='closest_defense_ID',right_on='nflId',how='left')\n",
    "    del test2['nflId']\n",
    "    test2 = test2.rename(columns={'displayName_x':'player_1_name','displayName_y':'closest_offense_name','displayName':'closest_defense_name'})\n",
    "    merge = pd.merge(ex_play_demo,test2,left_on='nflId',right_on='player_1',how='left')\n",
    "    df_next = df_next.append(merge)\n",
    "    print(c)\n",
    "    c = c+1"
   ]
  },
  {
   "cell_type": "markdown",
   "metadata": {},
   "source": [
    "- ball_snap: the frame in which the ball is snapped \n",
    "- pass_forward: the frame in which the passer throws the ball forward\n",
    "- pass_arrived: the frame in which the ball arrives to the receiver\n",
    "- gameID: the gameID of the game we are reviewing\n",
    "- targeted_wr: the closest offensive player to the football at the time the pass arrives\n",
    "- targeted_db: the closest defensive player to the football at the time the pass arrives\n",
    "- ball_x: the x coordinate which the ball arrives at\n",
    "- ball_y:the y coordinate which the ball arrives at"
   ]
  },
  {
   "cell_type": "code",
   "execution_count": 21,
   "metadata": {},
   "outputs": [],
   "source": [
    "ball_snap = df_next.loc[df_next['event'] == 'ball_snap', 'ID'][0]\n",
    "pass_forward = df_next.loc[df_next['event'] == 'pass_forward', 'ID'][0]\n",
    "pass_arrived = df_next.loc[df_next['event'] == 'pass_arrived', 'ID'][0]\n",
    "gameID = df_next.loc[df_next['event'] == 'ball_snap', 'gameId'][0]\n",
    "targeted_wr = df_next.loc[(df_next['event'] == 'pass_arrived')&(df_next['displayName'] == 'Football'), 'closest_offense_ID'].values[0]\n",
    "targeted_db = df_next.loc[(df_next['event'] == 'pass_arrived')&(df_next['displayName'] == 'Football'), 'closest_defense_ID'].values[0]\n",
    "ball_x = df_next.loc[(df_next['event'] == 'pass_arrived')&(df_next['displayName'] == 'Football'), 'x'].values[0]\n",
    "ball_y = df_next.loc[(df_next['event'] == 'pass_arrived')&(df_next['displayName'] == 'Football'), 'y'].values[0]"
   ]
  },
  {
   "cell_type": "markdown",
   "metadata": {},
   "source": [
    "- event2: creates deeper detail to the event field, recording when the QB is dropping back and when the ball is in flight."
   ]
  },
  {
   "cell_type": "code",
   "execution_count": 22,
   "metadata": {},
   "outputs": [],
   "source": [
    "df_next['event2'] = np.where(df_next['ID'] < ball_snap,'pre_snap',df_next['event'])\n",
    "df_next['event2'] = np.where((df_next['ID'] > ball_snap)&(df_next['ID'] < pass_forward),'dropback',df_next['event2'])\n",
    "df_next['event2'] = np.where((df_next['ID'] > pass_forward)&(df_next['ID'] < pass_arrived),'ball_in_flight',df_next['event2'])\n",
    "df_next['targeted_wr'] = targeted_wr\n",
    "df_next['targeted_db'] = targeted_db"
   ]
  },
  {
   "cell_type": "markdown",
   "metadata": {},
   "source": [
    "- off_tar: filters to frames only for the targeted offensive player\n",
    "- def_tar: filters to frames only for the targeted defensive player\n",
    "- now: a dataframe which highlights the coordinates of the targeted players compared specifically to each other at each frame in the play.\n",
    "- OD: creates a column which shows how far apart the targeted players are at each frame\n",
    "- OF: compares distance of offensive target to ball at each frame of the play\n",
    "- DF: compares distance of defensive target to ball at each frame of the play\n",
    "- Finally, the data is merged back into the original dataframe."
   ]
  },
  {
   "cell_type": "code",
   "execution_count": 23,
   "metadata": {},
   "outputs": [],
   "source": [
    "off_tar = df_next[df_next['player_1'] == df_next['targeted_wr']]\n",
    "def_tar = df_next[df_next['player_1'] == df_next['targeted_db']]\n",
    "now = pd.merge(off_tar[['frameId','player_1','x','y']],def_tar[['frameId','player_1','x','y']],on='frameId',how='inner',suffixes=['_off','_def'])\n",
    "now['ball_arrive_x'] = ball_x\n",
    "now['ball_arrive_y'] = ball_y\n",
    "now['diff_OD'] = np.sqrt(((now['x_def'] - now['x_off'])**2)+((now['y_def'] - now['y_off'])**2))\n",
    "now['diff_OF'] = np.sqrt(((now['ball_arrive_x'] - now['x_off'])**2)+((now['ball_arrive_y'] - now['y_off'])**2))\n",
    "now['diff_DF'] = np.sqrt(((now['ball_arrive_x'] - now['x_def'])**2)+((now['ball_arrive_y'] - now['y_def'])**2))\n",
    "df_next = pd.merge(df_next,now[['frameId','diff_OD','diff_OF','diff_DF']],how='left',on='frameId')"
   ]
  },
  {
   "cell_type": "markdown",
   "metadata": {},
   "source": [
    "- play_developing: a binary flag showing whether they play is in development\n",
    "- ovo_coverage: a binary flag stating whether the targeted players are closest to each other at each frame\n",
    "- true_1v1: identifies if the targeted offender and defender are closest to each other at each frame of the developing play"
   ]
  },
  {
   "cell_type": "code",
   "execution_count": 24,
   "metadata": {},
   "outputs": [],
   "source": [
    "df_next['play_developing'] = np.where((df_next['ID'] >= ball_snap)&(df_next['ID'] <= pass_arrived)&(df_next['player_1'] == targeted_wr),1,0)\n",
    "df_next['ovo_coverage'] = np.where((df_next['play_developing'] == 1)&(df_next['player_1'] == targeted_wr)&(df_next['closest_defense_ID'] == targeted_db),1,0)\n",
    "df_next['true_1v1_play'] = np.where((df_next['play_developing'] == 1)&(df_next['ovo_coverage'] == 1),1,0)\n",
    "if df_next['play_developing'].sum() == df_next['ovo_coverage'].sum():\n",
    "    df_next['true_1v1_play'] == 1\n",
    "else:\n",
    "    df_next['true_1v1_play'] == 1"
   ]
  },
  {
   "cell_type": "markdown",
   "metadata": {},
   "source": [
    "- The next line creates a simple score which highlights how far the defender is from the target location at the ball snap, pass release, and pass arrival. This will eventually be used to highlight player anticipation skills"
   ]
  },
  {
   "cell_type": "code",
   "execution_count": 25,
   "metadata": {},
   "outputs": [],
   "source": [
    "df_next['targeted_db_score'] = (100 - df_next['diff_DF']) / 100"
   ]
  },
  {
   "cell_type": "code",
   "execution_count": 27,
   "metadata": {
    "scrolled": false
   },
   "outputs": [
    {
     "data": {
      "text/html": [
       "<div>\n",
       "<style scoped>\n",
       "    .dataframe tbody tr th:only-of-type {\n",
       "        vertical-align: middle;\n",
       "    }\n",
       "\n",
       "    .dataframe tbody tr th {\n",
       "        vertical-align: top;\n",
       "    }\n",
       "\n",
       "    .dataframe thead th {\n",
       "        text-align: right;\n",
       "    }\n",
       "</style>\n",
       "<table border=\"1\" class=\"dataframe\">\n",
       "  <thead>\n",
       "    <tr style=\"text-align: right;\">\n",
       "      <th></th>\n",
       "      <th>gameId</th>\n",
       "      <th>playId</th>\n",
       "      <th>playDescription</th>\n",
       "      <th>gameDate</th>\n",
       "      <th>gameTimeEastern</th>\n",
       "      <th>homeTeamAbbr</th>\n",
       "      <th>visitorTeamAbbr</th>\n",
       "      <th>week</th>\n",
       "      <th>time</th>\n",
       "      <th>x</th>\n",
       "      <th>y</th>\n",
       "      <th>s</th>\n",
       "      <th>a</th>\n",
       "      <th>dis</th>\n",
       "      <th>o</th>\n",
       "      <th>dir</th>\n",
       "      <th>event</th>\n",
       "      <th>nflId</th>\n",
       "      <th>displayName</th>\n",
       "      <th>jerseyNumber</th>\n",
       "      <th>position</th>\n",
       "      <th>frameId</th>\n",
       "      <th>team</th>\n",
       "      <th>playDirection</th>\n",
       "      <th>route</th>\n",
       "      <th>size</th>\n",
       "      <th>ID</th>\n",
       "      <th>player_1</th>\n",
       "      <th>closest_offense_ID</th>\n",
       "      <th>closest_offense</th>\n",
       "      <th>closest_defense_ID</th>\n",
       "      <th>closest_defense</th>\n",
       "      <th>player_1_name</th>\n",
       "      <th>closest_offense_name</th>\n",
       "      <th>closest_defense_name</th>\n",
       "      <th>event2</th>\n",
       "      <th>targeted_wr</th>\n",
       "      <th>targeted_db</th>\n",
       "      <th>diff_OD</th>\n",
       "      <th>diff_OF</th>\n",
       "      <th>diff_DF</th>\n",
       "      <th>play_developing</th>\n",
       "      <th>ovo_coverage</th>\n",
       "      <th>true_1v1_play</th>\n",
       "      <th>targeted_db_score</th>\n",
       "    </tr>\n",
       "  </thead>\n",
       "  <tbody>\n",
       "    <tr>\n",
       "      <th>9</th>\n",
       "      <td>2018111105</td>\n",
       "      <td>3492</td>\n",
       "      <td>(4:31) (No Huddle, Shotgun) J.Rosen pass short...</td>\n",
       "      <td>2018-11-11</td>\n",
       "      <td>13:00:00</td>\n",
       "      <td>KC</td>\n",
       "      <td>ARI</td>\n",
       "      <td>10</td>\n",
       "      <td>2018-11-11T20:40:29.900Z</td>\n",
       "      <td>49.00</td>\n",
       "      <td>17.69</td>\n",
       "      <td>0.00</td>\n",
       "      <td>0.00</td>\n",
       "      <td>0.00</td>\n",
       "      <td>73.85</td>\n",
       "      <td>155.04</td>\n",
       "      <td>None</td>\n",
       "      <td>2559248</td>\n",
       "      <td>Ricky Seals-Jones</td>\n",
       "      <td>86.0</td>\n",
       "      <td>TE</td>\n",
       "      <td>1</td>\n",
       "      <td>away</td>\n",
       "      <td>True</td>\n",
       "      <td>OUT</td>\n",
       "      <td>5</td>\n",
       "      <td>201811110534921</td>\n",
       "      <td>2559248</td>\n",
       "      <td>2561272</td>\n",
       "      <td>6.761139</td>\n",
       "      <td>2550257</td>\n",
       "      <td>3.796169</td>\n",
       "      <td>Ricky Seals-Jones</td>\n",
       "      <td>Trent Sherfield</td>\n",
       "      <td>Daniel Sorensen</td>\n",
       "      <td>pre_snap</td>\n",
       "      <td>2559248</td>\n",
       "      <td>2550257</td>\n",
       "      <td>3.796169</td>\n",
       "      <td>10.940603</td>\n",
       "      <td>8.776018</td>\n",
       "      <td>0</td>\n",
       "      <td>0</td>\n",
       "      <td>0</td>\n",
       "      <td>0.912240</td>\n",
       "    </tr>\n",
       "    <tr>\n",
       "      <th>24</th>\n",
       "      <td>2018111105</td>\n",
       "      <td>3492</td>\n",
       "      <td>(4:31) (No Huddle, Shotgun) J.Rosen pass short...</td>\n",
       "      <td>2018-11-11</td>\n",
       "      <td>13:00:00</td>\n",
       "      <td>KC</td>\n",
       "      <td>ARI</td>\n",
       "      <td>10</td>\n",
       "      <td>2018-11-11T20:40:30.000Z</td>\n",
       "      <td>48.99</td>\n",
       "      <td>17.69</td>\n",
       "      <td>0.00</td>\n",
       "      <td>0.00</td>\n",
       "      <td>0.00</td>\n",
       "      <td>73.85</td>\n",
       "      <td>155.93</td>\n",
       "      <td>None</td>\n",
       "      <td>2559248</td>\n",
       "      <td>Ricky Seals-Jones</td>\n",
       "      <td>86.0</td>\n",
       "      <td>TE</td>\n",
       "      <td>2</td>\n",
       "      <td>away</td>\n",
       "      <td>True</td>\n",
       "      <td>OUT</td>\n",
       "      <td>5</td>\n",
       "      <td>201811110534922</td>\n",
       "      <td>2559248</td>\n",
       "      <td>2561272</td>\n",
       "      <td>6.758713</td>\n",
       "      <td>2550257</td>\n",
       "      <td>3.795260</td>\n",
       "      <td>Ricky Seals-Jones</td>\n",
       "      <td>Trent Sherfield</td>\n",
       "      <td>Daniel Sorensen</td>\n",
       "      <td>pre_snap</td>\n",
       "      <td>2559248</td>\n",
       "      <td>2550257</td>\n",
       "      <td>3.795260</td>\n",
       "      <td>10.948119</td>\n",
       "      <td>8.772463</td>\n",
       "      <td>0</td>\n",
       "      <td>0</td>\n",
       "      <td>0</td>\n",
       "      <td>0.912275</td>\n",
       "    </tr>\n",
       "    <tr>\n",
       "      <th>39</th>\n",
       "      <td>2018111105</td>\n",
       "      <td>3492</td>\n",
       "      <td>(4:31) (No Huddle, Shotgun) J.Rosen pass short...</td>\n",
       "      <td>2018-11-11</td>\n",
       "      <td>13:00:00</td>\n",
       "      <td>KC</td>\n",
       "      <td>ARI</td>\n",
       "      <td>10</td>\n",
       "      <td>2018-11-11T20:40:30.099Z</td>\n",
       "      <td>48.99</td>\n",
       "      <td>17.69</td>\n",
       "      <td>0.00</td>\n",
       "      <td>0.00</td>\n",
       "      <td>0.00</td>\n",
       "      <td>72.21</td>\n",
       "      <td>157.08</td>\n",
       "      <td>None</td>\n",
       "      <td>2559248</td>\n",
       "      <td>Ricky Seals-Jones</td>\n",
       "      <td>86.0</td>\n",
       "      <td>TE</td>\n",
       "      <td>3</td>\n",
       "      <td>away</td>\n",
       "      <td>True</td>\n",
       "      <td>OUT</td>\n",
       "      <td>5</td>\n",
       "      <td>201811110534923</td>\n",
       "      <td>2559248</td>\n",
       "      <td>2561272</td>\n",
       "      <td>6.758713</td>\n",
       "      <td>2550257</td>\n",
       "      <td>3.796169</td>\n",
       "      <td>Ricky Seals-Jones</td>\n",
       "      <td>Trent Sherfield</td>\n",
       "      <td>Daniel Sorensen</td>\n",
       "      <td>pre_snap</td>\n",
       "      <td>2559248</td>\n",
       "      <td>2550257</td>\n",
       "      <td>3.796169</td>\n",
       "      <td>10.948119</td>\n",
       "      <td>8.781082</td>\n",
       "      <td>0</td>\n",
       "      <td>0</td>\n",
       "      <td>0</td>\n",
       "      <td>0.912189</td>\n",
       "    </tr>\n",
       "    <tr>\n",
       "      <th>54</th>\n",
       "      <td>2018111105</td>\n",
       "      <td>3492</td>\n",
       "      <td>(4:31) (No Huddle, Shotgun) J.Rosen pass short...</td>\n",
       "      <td>2018-11-11</td>\n",
       "      <td>13:00:00</td>\n",
       "      <td>KC</td>\n",
       "      <td>ARI</td>\n",
       "      <td>10</td>\n",
       "      <td>2018-11-11T20:40:30.200Z</td>\n",
       "      <td>48.99</td>\n",
       "      <td>17.69</td>\n",
       "      <td>0.00</td>\n",
       "      <td>0.00</td>\n",
       "      <td>0.00</td>\n",
       "      <td>72.21</td>\n",
       "      <td>157.56</td>\n",
       "      <td>line_set</td>\n",
       "      <td>2559248</td>\n",
       "      <td>Ricky Seals-Jones</td>\n",
       "      <td>86.0</td>\n",
       "      <td>TE</td>\n",
       "      <td>4</td>\n",
       "      <td>away</td>\n",
       "      <td>True</td>\n",
       "      <td>OUT</td>\n",
       "      <td>5</td>\n",
       "      <td>201811110534924</td>\n",
       "      <td>2559248</td>\n",
       "      <td>2561272</td>\n",
       "      <td>6.757522</td>\n",
       "      <td>2550257</td>\n",
       "      <td>3.787149</td>\n",
       "      <td>Ricky Seals-Jones</td>\n",
       "      <td>Trent Sherfield</td>\n",
       "      <td>Daniel Sorensen</td>\n",
       "      <td>pre_snap</td>\n",
       "      <td>2559248</td>\n",
       "      <td>2550257</td>\n",
       "      <td>3.787149</td>\n",
       "      <td>10.948119</td>\n",
       "      <td>8.794771</td>\n",
       "      <td>0</td>\n",
       "      <td>0</td>\n",
       "      <td>0</td>\n",
       "      <td>0.912052</td>\n",
       "    </tr>\n",
       "    <tr>\n",
       "      <th>69</th>\n",
       "      <td>2018111105</td>\n",
       "      <td>3492</td>\n",
       "      <td>(4:31) (No Huddle, Shotgun) J.Rosen pass short...</td>\n",
       "      <td>2018-11-11</td>\n",
       "      <td>13:00:00</td>\n",
       "      <td>KC</td>\n",
       "      <td>ARI</td>\n",
       "      <td>10</td>\n",
       "      <td>2018-11-11T20:40:30.299Z</td>\n",
       "      <td>48.99</td>\n",
       "      <td>17.70</td>\n",
       "      <td>0.00</td>\n",
       "      <td>0.00</td>\n",
       "      <td>0.00</td>\n",
       "      <td>72.21</td>\n",
       "      <td>157.40</td>\n",
       "      <td>None</td>\n",
       "      <td>2559248</td>\n",
       "      <td>Ricky Seals-Jones</td>\n",
       "      <td>86.0</td>\n",
       "      <td>TE</td>\n",
       "      <td>5</td>\n",
       "      <td>away</td>\n",
       "      <td>True</td>\n",
       "      <td>OUT</td>\n",
       "      <td>5</td>\n",
       "      <td>201811110534925</td>\n",
       "      <td>2559248</td>\n",
       "      <td>2561272</td>\n",
       "      <td>6.766277</td>\n",
       "      <td>2550257</td>\n",
       "      <td>3.778161</td>\n",
       "      <td>Ricky Seals-Jones</td>\n",
       "      <td>Trent Sherfield</td>\n",
       "      <td>Daniel Sorensen</td>\n",
       "      <td>pre_snap</td>\n",
       "      <td>2559248</td>\n",
       "      <td>2550257</td>\n",
       "      <td>3.778161</td>\n",
       "      <td>10.954716</td>\n",
       "      <td>8.817080</td>\n",
       "      <td>0</td>\n",
       "      <td>0</td>\n",
       "      <td>0</td>\n",
       "      <td>0.911829</td>\n",
       "    </tr>\n",
       "    <tr>\n",
       "      <th>84</th>\n",
       "      <td>2018111105</td>\n",
       "      <td>3492</td>\n",
       "      <td>(4:31) (No Huddle, Shotgun) J.Rosen pass short...</td>\n",
       "      <td>2018-11-11</td>\n",
       "      <td>13:00:00</td>\n",
       "      <td>KC</td>\n",
       "      <td>ARI</td>\n",
       "      <td>10</td>\n",
       "      <td>2018-11-11T20:40:30.400Z</td>\n",
       "      <td>48.99</td>\n",
       "      <td>17.69</td>\n",
       "      <td>0.00</td>\n",
       "      <td>0.00</td>\n",
       "      <td>0.00</td>\n",
       "      <td>72.21</td>\n",
       "      <td>158.91</td>\n",
       "      <td>None</td>\n",
       "      <td>2559248</td>\n",
       "      <td>Ricky Seals-Jones</td>\n",
       "      <td>86.0</td>\n",
       "      <td>TE</td>\n",
       "      <td>6</td>\n",
       "      <td>away</td>\n",
       "      <td>True</td>\n",
       "      <td>OUT</td>\n",
       "      <td>5</td>\n",
       "      <td>201811110534926</td>\n",
       "      <td>2559248</td>\n",
       "      <td>2561272</td>\n",
       "      <td>6.766277</td>\n",
       "      <td>2550257</td>\n",
       "      <td>3.779153</td>\n",
       "      <td>Ricky Seals-Jones</td>\n",
       "      <td>Trent Sherfield</td>\n",
       "      <td>Daniel Sorensen</td>\n",
       "      <td>pre_snap</td>\n",
       "      <td>2559248</td>\n",
       "      <td>2550257</td>\n",
       "      <td>3.779153</td>\n",
       "      <td>10.948119</td>\n",
       "      <td>8.817080</td>\n",
       "      <td>0</td>\n",
       "      <td>0</td>\n",
       "      <td>0</td>\n",
       "      <td>0.911829</td>\n",
       "    </tr>\n",
       "    <tr>\n",
       "      <th>99</th>\n",
       "      <td>2018111105</td>\n",
       "      <td>3492</td>\n",
       "      <td>(4:31) (No Huddle, Shotgun) J.Rosen pass short...</td>\n",
       "      <td>2018-11-11</td>\n",
       "      <td>13:00:00</td>\n",
       "      <td>KC</td>\n",
       "      <td>ARI</td>\n",
       "      <td>10</td>\n",
       "      <td>2018-11-11T20:40:30.500Z</td>\n",
       "      <td>48.99</td>\n",
       "      <td>17.69</td>\n",
       "      <td>0.00</td>\n",
       "      <td>0.00</td>\n",
       "      <td>0.00</td>\n",
       "      <td>72.21</td>\n",
       "      <td>158.45</td>\n",
       "      <td>None</td>\n",
       "      <td>2559248</td>\n",
       "      <td>Ricky Seals-Jones</td>\n",
       "      <td>86.0</td>\n",
       "      <td>TE</td>\n",
       "      <td>7</td>\n",
       "      <td>away</td>\n",
       "      <td>True</td>\n",
       "      <td>OUT</td>\n",
       "      <td>5</td>\n",
       "      <td>201811110534927</td>\n",
       "      <td>2559248</td>\n",
       "      <td>2561272</td>\n",
       "      <td>6.765116</td>\n",
       "      <td>2550257</td>\n",
       "      <td>3.779153</td>\n",
       "      <td>Ricky Seals-Jones</td>\n",
       "      <td>Trent Sherfield</td>\n",
       "      <td>Daniel Sorensen</td>\n",
       "      <td>pre_snap</td>\n",
       "      <td>2559248</td>\n",
       "      <td>2550257</td>\n",
       "      <td>3.779153</td>\n",
       "      <td>10.948119</td>\n",
       "      <td>8.817080</td>\n",
       "      <td>0</td>\n",
       "      <td>0</td>\n",
       "      <td>0</td>\n",
       "      <td>0.911829</td>\n",
       "    </tr>\n",
       "    <tr>\n",
       "      <th>114</th>\n",
       "      <td>2018111105</td>\n",
       "      <td>3492</td>\n",
       "      <td>(4:31) (No Huddle, Shotgun) J.Rosen pass short...</td>\n",
       "      <td>2018-11-11</td>\n",
       "      <td>13:00:00</td>\n",
       "      <td>KC</td>\n",
       "      <td>ARI</td>\n",
       "      <td>10</td>\n",
       "      <td>2018-11-11T20:40:30.599Z</td>\n",
       "      <td>49.00</td>\n",
       "      <td>17.69</td>\n",
       "      <td>0.00</td>\n",
       "      <td>0.00</td>\n",
       "      <td>0.00</td>\n",
       "      <td>72.21</td>\n",
       "      <td>155.84</td>\n",
       "      <td>None</td>\n",
       "      <td>2559248</td>\n",
       "      <td>Ricky Seals-Jones</td>\n",
       "      <td>86.0</td>\n",
       "      <td>TE</td>\n",
       "      <td>8</td>\n",
       "      <td>away</td>\n",
       "      <td>True</td>\n",
       "      <td>OUT</td>\n",
       "      <td>5</td>\n",
       "      <td>201811110534928</td>\n",
       "      <td>2559248</td>\n",
       "      <td>2561272</td>\n",
       "      <td>6.766277</td>\n",
       "      <td>2550257</td>\n",
       "      <td>3.767240</td>\n",
       "      <td>Ricky Seals-Jones</td>\n",
       "      <td>Trent Sherfield</td>\n",
       "      <td>Daniel Sorensen</td>\n",
       "      <td>pre_snap</td>\n",
       "      <td>2559248</td>\n",
       "      <td>2550257</td>\n",
       "      <td>3.767240</td>\n",
       "      <td>10.940603</td>\n",
       "      <td>8.799847</td>\n",
       "      <td>0</td>\n",
       "      <td>0</td>\n",
       "      <td>0</td>\n",
       "      <td>0.912002</td>\n",
       "    </tr>\n",
       "    <tr>\n",
       "      <th>129</th>\n",
       "      <td>2018111105</td>\n",
       "      <td>3492</td>\n",
       "      <td>(4:31) (No Huddle, Shotgun) J.Rosen pass short...</td>\n",
       "      <td>2018-11-11</td>\n",
       "      <td>13:00:00</td>\n",
       "      <td>KC</td>\n",
       "      <td>ARI</td>\n",
       "      <td>10</td>\n",
       "      <td>2018-11-11T20:40:30.700Z</td>\n",
       "      <td>49.00</td>\n",
       "      <td>17.69</td>\n",
       "      <td>0.00</td>\n",
       "      <td>0.11</td>\n",
       "      <td>0.00</td>\n",
       "      <td>72.21</td>\n",
       "      <td>59.50</td>\n",
       "      <td>None</td>\n",
       "      <td>2559248</td>\n",
       "      <td>Ricky Seals-Jones</td>\n",
       "      <td>86.0</td>\n",
       "      <td>TE</td>\n",
       "      <td>9</td>\n",
       "      <td>away</td>\n",
       "      <td>True</td>\n",
       "      <td>OUT</td>\n",
       "      <td>5</td>\n",
       "      <td>201811110534929</td>\n",
       "      <td>2559248</td>\n",
       "      <td>2561272</td>\n",
       "      <td>6.776208</td>\n",
       "      <td>2550257</td>\n",
       "      <td>3.767240</td>\n",
       "      <td>Ricky Seals-Jones</td>\n",
       "      <td>Trent Sherfield</td>\n",
       "      <td>Daniel Sorensen</td>\n",
       "      <td>pre_snap</td>\n",
       "      <td>2559248</td>\n",
       "      <td>2550257</td>\n",
       "      <td>3.767240</td>\n",
       "      <td>10.940603</td>\n",
       "      <td>8.799847</td>\n",
       "      <td>0</td>\n",
       "      <td>0</td>\n",
       "      <td>0</td>\n",
       "      <td>0.912002</td>\n",
       "    </tr>\n",
       "    <tr>\n",
       "      <th>144</th>\n",
       "      <td>2018111105</td>\n",
       "      <td>3492</td>\n",
       "      <td>(4:31) (No Huddle, Shotgun) J.Rosen pass short...</td>\n",
       "      <td>2018-11-11</td>\n",
       "      <td>13:00:00</td>\n",
       "      <td>KC</td>\n",
       "      <td>ARI</td>\n",
       "      <td>10</td>\n",
       "      <td>2018-11-11T20:40:30.799Z</td>\n",
       "      <td>49.00</td>\n",
       "      <td>17.70</td>\n",
       "      <td>0.06</td>\n",
       "      <td>0.55</td>\n",
       "      <td>0.01</td>\n",
       "      <td>72.21</td>\n",
       "      <td>73.14</td>\n",
       "      <td>None</td>\n",
       "      <td>2559248</td>\n",
       "      <td>Ricky Seals-Jones</td>\n",
       "      <td>86.0</td>\n",
       "      <td>TE</td>\n",
       "      <td>10</td>\n",
       "      <td>away</td>\n",
       "      <td>True</td>\n",
       "      <td>OUT</td>\n",
       "      <td>5</td>\n",
       "      <td>2018111105349210</td>\n",
       "      <td>2559248</td>\n",
       "      <td>2561272</td>\n",
       "      <td>6.784983</td>\n",
       "      <td>2550257</td>\n",
       "      <td>3.765382</td>\n",
       "      <td>Ricky Seals-Jones</td>\n",
       "      <td>Trent Sherfield</td>\n",
       "      <td>Daniel Sorensen</td>\n",
       "      <td>pre_snap</td>\n",
       "      <td>2559248</td>\n",
       "      <td>2550257</td>\n",
       "      <td>3.765382</td>\n",
       "      <td>10.947205</td>\n",
       "      <td>8.791234</td>\n",
       "      <td>0</td>\n",
       "      <td>0</td>\n",
       "      <td>0</td>\n",
       "      <td>0.912088</td>\n",
       "    </tr>\n",
       "    <tr>\n",
       "      <th>159</th>\n",
       "      <td>2018111105</td>\n",
       "      <td>3492</td>\n",
       "      <td>(4:31) (No Huddle, Shotgun) J.Rosen pass short...</td>\n",
       "      <td>2018-11-11</td>\n",
       "      <td>13:00:00</td>\n",
       "      <td>KC</td>\n",
       "      <td>ARI</td>\n",
       "      <td>10</td>\n",
       "      <td>2018-11-11T20:40:30.900Z</td>\n",
       "      <td>49.03</td>\n",
       "      <td>17.69</td>\n",
       "      <td>0.28</td>\n",
       "      <td>1.64</td>\n",
       "      <td>0.03</td>\n",
       "      <td>74.00</td>\n",
       "      <td>92.94</td>\n",
       "      <td>ball_snap</td>\n",
       "      <td>2559248</td>\n",
       "      <td>Ricky Seals-Jones</td>\n",
       "      <td>86.0</td>\n",
       "      <td>TE</td>\n",
       "      <td>11</td>\n",
       "      <td>away</td>\n",
       "      <td>True</td>\n",
       "      <td>OUT</td>\n",
       "      <td>5</td>\n",
       "      <td>2018111105349211</td>\n",
       "      <td>2559248</td>\n",
       "      <td>2561272</td>\n",
       "      <td>6.777382</td>\n",
       "      <td>2550257</td>\n",
       "      <td>3.737379</td>\n",
       "      <td>Ricky Seals-Jones</td>\n",
       "      <td>Trent Sherfield</td>\n",
       "      <td>Daniel Sorensen</td>\n",
       "      <td>ball_snap</td>\n",
       "      <td>2559248</td>\n",
       "      <td>2550257</td>\n",
       "      <td>3.737379</td>\n",
       "      <td>10.918081</td>\n",
       "      <td>8.799847</td>\n",
       "      <td>1</td>\n",
       "      <td>1</td>\n",
       "      <td>1</td>\n",
       "      <td>0.912002</td>\n",
       "    </tr>\n",
       "    <tr>\n",
       "      <th>174</th>\n",
       "      <td>2018111105</td>\n",
       "      <td>3492</td>\n",
       "      <td>(4:31) (No Huddle, Shotgun) J.Rosen pass short...</td>\n",
       "      <td>2018-11-11</td>\n",
       "      <td>13:00:00</td>\n",
       "      <td>KC</td>\n",
       "      <td>ARI</td>\n",
       "      <td>10</td>\n",
       "      <td>2018-11-11T20:40:31.000Z</td>\n",
       "      <td>49.07</td>\n",
       "      <td>17.69</td>\n",
       "      <td>0.53</td>\n",
       "      <td>2.07</td>\n",
       "      <td>0.04</td>\n",
       "      <td>76.08</td>\n",
       "      <td>91.99</td>\n",
       "      <td>None</td>\n",
       "      <td>2559248</td>\n",
       "      <td>Ricky Seals-Jones</td>\n",
       "      <td>86.0</td>\n",
       "      <td>TE</td>\n",
       "      <td>12</td>\n",
       "      <td>away</td>\n",
       "      <td>True</td>\n",
       "      <td>OUT</td>\n",
       "      <td>5</td>\n",
       "      <td>2018111105349212</td>\n",
       "      <td>2559248</td>\n",
       "      <td>2561272</td>\n",
       "      <td>6.780988</td>\n",
       "      <td>2550257</td>\n",
       "      <td>3.699568</td>\n",
       "      <td>Ricky Seals-Jones</td>\n",
       "      <td>Trent Sherfield</td>\n",
       "      <td>Daniel Sorensen</td>\n",
       "      <td>dropback</td>\n",
       "      <td>2559248</td>\n",
       "      <td>2550257</td>\n",
       "      <td>3.699568</td>\n",
       "      <td>10.888108</td>\n",
       "      <td>8.817080</td>\n",
       "      <td>1</td>\n",
       "      <td>1</td>\n",
       "      <td>1</td>\n",
       "      <td>0.911829</td>\n",
       "    </tr>\n",
       "    <tr>\n",
       "      <th>189</th>\n",
       "      <td>2018111105</td>\n",
       "      <td>3492</td>\n",
       "      <td>(4:31) (No Huddle, Shotgun) J.Rosen pass short...</td>\n",
       "      <td>2018-11-11</td>\n",
       "      <td>13:00:00</td>\n",
       "      <td>KC</td>\n",
       "      <td>ARI</td>\n",
       "      <td>10</td>\n",
       "      <td>2018-11-11T20:40:31.099Z</td>\n",
       "      <td>49.17</td>\n",
       "      <td>17.68</td>\n",
       "      <td>0.95</td>\n",
       "      <td>2.81</td>\n",
       "      <td>0.09</td>\n",
       "      <td>76.08</td>\n",
       "      <td>96.27</td>\n",
       "      <td>None</td>\n",
       "      <td>2559248</td>\n",
       "      <td>Ricky Seals-Jones</td>\n",
       "      <td>86.0</td>\n",
       "      <td>TE</td>\n",
       "      <td>13</td>\n",
       "      <td>away</td>\n",
       "      <td>True</td>\n",
       "      <td>OUT</td>\n",
       "      <td>5</td>\n",
       "      <td>2018111105349213</td>\n",
       "      <td>2559248</td>\n",
       "      <td>2561272</td>\n",
       "      <td>6.791244</td>\n",
       "      <td>2550257</td>\n",
       "      <td>3.602277</td>\n",
       "      <td>Ricky Seals-Jones</td>\n",
       "      <td>Trent Sherfield</td>\n",
       "      <td>Daniel Sorensen</td>\n",
       "      <td>dropback</td>\n",
       "      <td>2559248</td>\n",
       "      <td>2550257</td>\n",
       "      <td>3.602277</td>\n",
       "      <td>10.806785</td>\n",
       "      <td>8.825701</td>\n",
       "      <td>1</td>\n",
       "      <td>1</td>\n",
       "      <td>1</td>\n",
       "      <td>0.911743</td>\n",
       "    </tr>\n",
       "    <tr>\n",
       "      <th>204</th>\n",
       "      <td>2018111105</td>\n",
       "      <td>3492</td>\n",
       "      <td>(4:31) (No Huddle, Shotgun) J.Rosen pass short...</td>\n",
       "      <td>2018-11-11</td>\n",
       "      <td>13:00:00</td>\n",
       "      <td>KC</td>\n",
       "      <td>ARI</td>\n",
       "      <td>10</td>\n",
       "      <td>2018-11-11T20:40:31.200Z</td>\n",
       "      <td>49.29</td>\n",
       "      <td>17.65</td>\n",
       "      <td>1.33</td>\n",
       "      <td>3.01</td>\n",
       "      <td>0.13</td>\n",
       "      <td>78.27</td>\n",
       "      <td>98.96</td>\n",
       "      <td>None</td>\n",
       "      <td>2559248</td>\n",
       "      <td>Ricky Seals-Jones</td>\n",
       "      <td>86.0</td>\n",
       "      <td>TE</td>\n",
       "      <td>14</td>\n",
       "      <td>away</td>\n",
       "      <td>True</td>\n",
       "      <td>OUT</td>\n",
       "      <td>5</td>\n",
       "      <td>2018111105349214</td>\n",
       "      <td>2559248</td>\n",
       "      <td>2561272</td>\n",
       "      <td>6.778326</td>\n",
       "      <td>2550257</td>\n",
       "      <td>3.518892</td>\n",
       "      <td>Ricky Seals-Jones</td>\n",
       "      <td>Trent Sherfield</td>\n",
       "      <td>Daniel Sorensen</td>\n",
       "      <td>dropback</td>\n",
       "      <td>2559248</td>\n",
       "      <td>2550257</td>\n",
       "      <td>3.518892</td>\n",
       "      <td>10.697537</td>\n",
       "      <td>8.827825</td>\n",
       "      <td>1</td>\n",
       "      <td>1</td>\n",
       "      <td>1</td>\n",
       "      <td>0.911722</td>\n",
       "    </tr>\n",
       "    <tr>\n",
       "      <th>219</th>\n",
       "      <td>2018111105</td>\n",
       "      <td>3492</td>\n",
       "      <td>(4:31) (No Huddle, Shotgun) J.Rosen pass short...</td>\n",
       "      <td>2018-11-11</td>\n",
       "      <td>13:00:00</td>\n",
       "      <td>KC</td>\n",
       "      <td>ARI</td>\n",
       "      <td>10</td>\n",
       "      <td>2018-11-11T20:40:31.299Z</td>\n",
       "      <td>49.49</td>\n",
       "      <td>17.61</td>\n",
       "      <td>1.93</td>\n",
       "      <td>3.77</td>\n",
       "      <td>0.20</td>\n",
       "      <td>79.01</td>\n",
       "      <td>101.55</td>\n",
       "      <td>None</td>\n",
       "      <td>2559248</td>\n",
       "      <td>Ricky Seals-Jones</td>\n",
       "      <td>86.0</td>\n",
       "      <td>TE</td>\n",
       "      <td>15</td>\n",
       "      <td>away</td>\n",
       "      <td>True</td>\n",
       "      <td>OUT</td>\n",
       "      <td>5</td>\n",
       "      <td>2018111105349215</td>\n",
       "      <td>2559248</td>\n",
       "      <td>2561272</td>\n",
       "      <td>6.773456</td>\n",
       "      <td>2550257</td>\n",
       "      <td>3.354519</td>\n",
       "      <td>Ricky Seals-Jones</td>\n",
       "      <td>Trent Sherfield</td>\n",
       "      <td>Daniel Sorensen</td>\n",
       "      <td>dropback</td>\n",
       "      <td>2559248</td>\n",
       "      <td>2550257</td>\n",
       "      <td>3.354519</td>\n",
       "      <td>10.522951</td>\n",
       "      <td>8.804118</td>\n",
       "      <td>1</td>\n",
       "      <td>1</td>\n",
       "      <td>1</td>\n",
       "      <td>0.911959</td>\n",
       "    </tr>\n",
       "    <tr>\n",
       "      <th>234</th>\n",
       "      <td>2018111105</td>\n",
       "      <td>3492</td>\n",
       "      <td>(4:31) (No Huddle, Shotgun) J.Rosen pass short...</td>\n",
       "      <td>2018-11-11</td>\n",
       "      <td>13:00:00</td>\n",
       "      <td>KC</td>\n",
       "      <td>ARI</td>\n",
       "      <td>10</td>\n",
       "      <td>2018-11-11T20:40:31.400Z</td>\n",
       "      <td>49.73</td>\n",
       "      <td>17.56</td>\n",
       "      <td>2.50</td>\n",
       "      <td>4.09</td>\n",
       "      <td>0.25</td>\n",
       "      <td>77.30</td>\n",
       "      <td>102.03</td>\n",
       "      <td>None</td>\n",
       "      <td>2559248</td>\n",
       "      <td>Ricky Seals-Jones</td>\n",
       "      <td>86.0</td>\n",
       "      <td>TE</td>\n",
       "      <td>16</td>\n",
       "      <td>away</td>\n",
       "      <td>True</td>\n",
       "      <td>OUT</td>\n",
       "      <td>5</td>\n",
       "      <td>2018111105349216</td>\n",
       "      <td>2559248</td>\n",
       "      <td>2561272</td>\n",
       "      <td>6.770118</td>\n",
       "      <td>2550257</td>\n",
       "      <td>3.163037</td>\n",
       "      <td>Ricky Seals-Jones</td>\n",
       "      <td>Trent Sherfield</td>\n",
       "      <td>Daniel Sorensen</td>\n",
       "      <td>dropback</td>\n",
       "      <td>2559248</td>\n",
       "      <td>2550257</td>\n",
       "      <td>3.163037</td>\n",
       "      <td>10.313496</td>\n",
       "      <td>8.775477</td>\n",
       "      <td>1</td>\n",
       "      <td>1</td>\n",
       "      <td>1</td>\n",
       "      <td>0.912245</td>\n",
       "    </tr>\n",
       "    <tr>\n",
       "      <th>249</th>\n",
       "      <td>2018111105</td>\n",
       "      <td>3492</td>\n",
       "      <td>(4:31) (No Huddle, Shotgun) J.Rosen pass short...</td>\n",
       "      <td>2018-11-11</td>\n",
       "      <td>13:00:00</td>\n",
       "      <td>KC</td>\n",
       "      <td>ARI</td>\n",
       "      <td>10</td>\n",
       "      <td>2018-11-11T20:40:31.500Z</td>\n",
       "      <td>50.00</td>\n",
       "      <td>17.50</td>\n",
       "      <td>2.94</td>\n",
       "      <td>3.75</td>\n",
       "      <td>0.28</td>\n",
       "      <td>80.38</td>\n",
       "      <td>102.26</td>\n",
       "      <td>None</td>\n",
       "      <td>2559248</td>\n",
       "      <td>Ricky Seals-Jones</td>\n",
       "      <td>86.0</td>\n",
       "      <td>TE</td>\n",
       "      <td>17</td>\n",
       "      <td>away</td>\n",
       "      <td>True</td>\n",
       "      <td>OUT</td>\n",
       "      <td>5</td>\n",
       "      <td>2018111105349217</td>\n",
       "      <td>2559248</td>\n",
       "      <td>2561272</td>\n",
       "      <td>6.786118</td>\n",
       "      <td>2550257</td>\n",
       "      <td>2.928020</td>\n",
       "      <td>Ricky Seals-Jones</td>\n",
       "      <td>Trent Sherfield</td>\n",
       "      <td>Daniel Sorensen</td>\n",
       "      <td>dropback</td>\n",
       "      <td>2559248</td>\n",
       "      <td>2550257</td>\n",
       "      <td>2.928020</td>\n",
       "      <td>10.077167</td>\n",
       "      <td>8.765535</td>\n",
       "      <td>1</td>\n",
       "      <td>1</td>\n",
       "      <td>1</td>\n",
       "      <td>0.912345</td>\n",
       "    </tr>\n",
       "    <tr>\n",
       "      <th>264</th>\n",
       "      <td>2018111105</td>\n",
       "      <td>3492</td>\n",
       "      <td>(4:31) (No Huddle, Shotgun) J.Rosen pass short...</td>\n",
       "      <td>2018-11-11</td>\n",
       "      <td>13:00:00</td>\n",
       "      <td>KC</td>\n",
       "      <td>ARI</td>\n",
       "      <td>10</td>\n",
       "      <td>2018-11-11T20:40:31.599Z</td>\n",
       "      <td>50.33</td>\n",
       "      <td>17.43</td>\n",
       "      <td>3.44</td>\n",
       "      <td>3.77</td>\n",
       "      <td>0.33</td>\n",
       "      <td>78.99</td>\n",
       "      <td>102.83</td>\n",
       "      <td>None</td>\n",
       "      <td>2559248</td>\n",
       "      <td>Ricky Seals-Jones</td>\n",
       "      <td>86.0</td>\n",
       "      <td>TE</td>\n",
       "      <td>18</td>\n",
       "      <td>away</td>\n",
       "      <td>True</td>\n",
       "      <td>OUT</td>\n",
       "      <td>5</td>\n",
       "      <td>2018111105349218</td>\n",
       "      <td>2559248</td>\n",
       "      <td>2561272</td>\n",
       "      <td>6.803271</td>\n",
       "      <td>2550257</td>\n",
       "      <td>2.638788</td>\n",
       "      <td>Ricky Seals-Jones</td>\n",
       "      <td>Trent Sherfield</td>\n",
       "      <td>Daniel Sorensen</td>\n",
       "      <td>dropback</td>\n",
       "      <td>2559248</td>\n",
       "      <td>2550257</td>\n",
       "      <td>2.638788</td>\n",
       "      <td>9.793554</td>\n",
       "      <td>8.746937</td>\n",
       "      <td>1</td>\n",
       "      <td>1</td>\n",
       "      <td>1</td>\n",
       "      <td>0.912531</td>\n",
       "    </tr>\n",
       "    <tr>\n",
       "      <th>279</th>\n",
       "      <td>2018111105</td>\n",
       "      <td>3492</td>\n",
       "      <td>(4:31) (No Huddle, Shotgun) J.Rosen pass short...</td>\n",
       "      <td>2018-11-11</td>\n",
       "      <td>13:00:00</td>\n",
       "      <td>KC</td>\n",
       "      <td>ARI</td>\n",
       "      <td>10</td>\n",
       "      <td>2018-11-11T20:40:31.700Z</td>\n",
       "      <td>50.71</td>\n",
       "      <td>17.35</td>\n",
       "      <td>4.07</td>\n",
       "      <td>4.16</td>\n",
       "      <td>0.39</td>\n",
       "      <td>82.41</td>\n",
       "      <td>102.20</td>\n",
       "      <td>None</td>\n",
       "      <td>2559248</td>\n",
       "      <td>Ricky Seals-Jones</td>\n",
       "      <td>86.0</td>\n",
       "      <td>TE</td>\n",
       "      <td>19</td>\n",
       "      <td>away</td>\n",
       "      <td>True</td>\n",
       "      <td>OUT</td>\n",
       "      <td>5</td>\n",
       "      <td>2018111105349219</td>\n",
       "      <td>2559248</td>\n",
       "      <td>2561272</td>\n",
       "      <td>6.845334</td>\n",
       "      <td>2550257</td>\n",
       "      <td>2.356374</td>\n",
       "      <td>Ricky Seals-Jones</td>\n",
       "      <td>Trent Sherfield</td>\n",
       "      <td>Daniel Sorensen</td>\n",
       "      <td>dropback</td>\n",
       "      <td>2559248</td>\n",
       "      <td>2550257</td>\n",
       "      <td>2.356374</td>\n",
       "      <td>9.471774</td>\n",
       "      <td>8.695056</td>\n",
       "      <td>1</td>\n",
       "      <td>1</td>\n",
       "      <td>1</td>\n",
       "      <td>0.913049</td>\n",
       "    </tr>\n",
       "    <tr>\n",
       "      <th>294</th>\n",
       "      <td>2018111105</td>\n",
       "      <td>3492</td>\n",
       "      <td>(4:31) (No Huddle, Shotgun) J.Rosen pass short...</td>\n",
       "      <td>2018-11-11</td>\n",
       "      <td>13:00:00</td>\n",
       "      <td>KC</td>\n",
       "      <td>ARI</td>\n",
       "      <td>10</td>\n",
       "      <td>2018-11-11T20:40:31.799Z</td>\n",
       "      <td>51.13</td>\n",
       "      <td>17.25</td>\n",
       "      <td>4.54</td>\n",
       "      <td>3.93</td>\n",
       "      <td>0.43</td>\n",
       "      <td>82.41</td>\n",
       "      <td>102.04</td>\n",
       "      <td>None</td>\n",
       "      <td>2559248</td>\n",
       "      <td>Ricky Seals-Jones</td>\n",
       "      <td>86.0</td>\n",
       "      <td>TE</td>\n",
       "      <td>20</td>\n",
       "      <td>away</td>\n",
       "      <td>True</td>\n",
       "      <td>OUT</td>\n",
       "      <td>5</td>\n",
       "      <td>2018111105349220</td>\n",
       "      <td>2559248</td>\n",
       "      <td>2561272</td>\n",
       "      <td>6.869476</td>\n",
       "      <td>2550257</td>\n",
       "      <td>2.070604</td>\n",
       "      <td>Ricky Seals-Jones</td>\n",
       "      <td>Trent Sherfield</td>\n",
       "      <td>Daniel Sorensen</td>\n",
       "      <td>dropback</td>\n",
       "      <td>2559248</td>\n",
       "      <td>2550257</td>\n",
       "      <td>2.070604</td>\n",
       "      <td>9.113534</td>\n",
       "      <td>8.602703</td>\n",
       "      <td>1</td>\n",
       "      <td>1</td>\n",
       "      <td>1</td>\n",
       "      <td>0.913973</td>\n",
       "    </tr>\n",
       "    <tr>\n",
       "      <th>309</th>\n",
       "      <td>2018111105</td>\n",
       "      <td>3492</td>\n",
       "      <td>(4:31) (No Huddle, Shotgun) J.Rosen pass short...</td>\n",
       "      <td>2018-11-11</td>\n",
       "      <td>13:00:00</td>\n",
       "      <td>KC</td>\n",
       "      <td>ARI</td>\n",
       "      <td>10</td>\n",
       "      <td>2018-11-11T20:40:31.900Z</td>\n",
       "      <td>51.60</td>\n",
       "      <td>17.15</td>\n",
       "      <td>4.92</td>\n",
       "      <td>3.21</td>\n",
       "      <td>0.48</td>\n",
       "      <td>80.36</td>\n",
       "      <td>102.09</td>\n",
       "      <td>None</td>\n",
       "      <td>2559248</td>\n",
       "      <td>Ricky Seals-Jones</td>\n",
       "      <td>86.0</td>\n",
       "      <td>TE</td>\n",
       "      <td>21</td>\n",
       "      <td>away</td>\n",
       "      <td>True</td>\n",
       "      <td>OUT</td>\n",
       "      <td>5</td>\n",
       "      <td>2018111105349221</td>\n",
       "      <td>2559248</td>\n",
       "      <td>2561272</td>\n",
       "      <td>6.919552</td>\n",
       "      <td>2550257</td>\n",
       "      <td>1.815737</td>\n",
       "      <td>Ricky Seals-Jones</td>\n",
       "      <td>Trent Sherfield</td>\n",
       "      <td>Daniel Sorensen</td>\n",
       "      <td>dropback</td>\n",
       "      <td>2559248</td>\n",
       "      <td>2550257</td>\n",
       "      <td>1.815737</td>\n",
       "      <td>8.729651</td>\n",
       "      <td>8.477647</td>\n",
       "      <td>1</td>\n",
       "      <td>1</td>\n",
       "      <td>1</td>\n",
       "      <td>0.915224</td>\n",
       "    </tr>\n",
       "    <tr>\n",
       "      <th>324</th>\n",
       "      <td>2018111105</td>\n",
       "      <td>3492</td>\n",
       "      <td>(4:31) (No Huddle, Shotgun) J.Rosen pass short...</td>\n",
       "      <td>2018-11-11</td>\n",
       "      <td>13:00:00</td>\n",
       "      <td>KC</td>\n",
       "      <td>ARI</td>\n",
       "      <td>10</td>\n",
       "      <td>2018-11-11T20:40:32.000Z</td>\n",
       "      <td>52.10</td>\n",
       "      <td>17.05</td>\n",
       "      <td>5.27</td>\n",
       "      <td>2.57</td>\n",
       "      <td>0.51</td>\n",
       "      <td>79.44</td>\n",
       "      <td>101.52</td>\n",
       "      <td>None</td>\n",
       "      <td>2559248</td>\n",
       "      <td>Ricky Seals-Jones</td>\n",
       "      <td>86.0</td>\n",
       "      <td>TE</td>\n",
       "      <td>22</td>\n",
       "      <td>away</td>\n",
       "      <td>True</td>\n",
       "      <td>OUT</td>\n",
       "      <td>5</td>\n",
       "      <td>2018111105349222</td>\n",
       "      <td>2559248</td>\n",
       "      <td>2561272</td>\n",
       "      <td>6.988462</td>\n",
       "      <td>2550257</td>\n",
       "      <td>1.584740</td>\n",
       "      <td>Ricky Seals-Jones</td>\n",
       "      <td>Trent Sherfield</td>\n",
       "      <td>Daniel Sorensen</td>\n",
       "      <td>dropback</td>\n",
       "      <td>2559248</td>\n",
       "      <td>2550257</td>\n",
       "      <td>1.584740</td>\n",
       "      <td>8.337314</td>\n",
       "      <td>8.313904</td>\n",
       "      <td>1</td>\n",
       "      <td>1</td>\n",
       "      <td>1</td>\n",
       "      <td>0.916861</td>\n",
       "    </tr>\n",
       "    <tr>\n",
       "      <th>339</th>\n",
       "      <td>2018111105</td>\n",
       "      <td>3492</td>\n",
       "      <td>(4:31) (No Huddle, Shotgun) J.Rosen pass short...</td>\n",
       "      <td>2018-11-11</td>\n",
       "      <td>13:00:00</td>\n",
       "      <td>KC</td>\n",
       "      <td>ARI</td>\n",
       "      <td>10</td>\n",
       "      <td>2018-11-11T20:40:32.099Z</td>\n",
       "      <td>52.63</td>\n",
       "      <td>16.94</td>\n",
       "      <td>5.56</td>\n",
       "      <td>2.07</td>\n",
       "      <td>0.54</td>\n",
       "      <td>75.34</td>\n",
       "      <td>101.29</td>\n",
       "      <td>None</td>\n",
       "      <td>2559248</td>\n",
       "      <td>Ricky Seals-Jones</td>\n",
       "      <td>86.0</td>\n",
       "      <td>TE</td>\n",
       "      <td>23</td>\n",
       "      <td>away</td>\n",
       "      <td>True</td>\n",
       "      <td>OUT</td>\n",
       "      <td>5</td>\n",
       "      <td>2018111105349223</td>\n",
       "      <td>2559248</td>\n",
       "      <td>2561272</td>\n",
       "      <td>7.061707</td>\n",
       "      <td>2550257</td>\n",
       "      <td>1.380580</td>\n",
       "      <td>Ricky Seals-Jones</td>\n",
       "      <td>Trent Sherfield</td>\n",
       "      <td>Daniel Sorensen</td>\n",
       "      <td>dropback</td>\n",
       "      <td>2559248</td>\n",
       "      <td>2550257</td>\n",
       "      <td>1.380580</td>\n",
       "      <td>7.932780</td>\n",
       "      <td>8.127054</td>\n",
       "      <td>1</td>\n",
       "      <td>1</td>\n",
       "      <td>1</td>\n",
       "      <td>0.918729</td>\n",
       "    </tr>\n",
       "    <tr>\n",
       "      <th>354</th>\n",
       "      <td>2018111105</td>\n",
       "      <td>3492</td>\n",
       "      <td>(4:31) (No Huddle, Shotgun) J.Rosen pass short...</td>\n",
       "      <td>2018-11-11</td>\n",
       "      <td>13:00:00</td>\n",
       "      <td>KC</td>\n",
       "      <td>ARI</td>\n",
       "      <td>10</td>\n",
       "      <td>2018-11-11T20:40:32.200Z</td>\n",
       "      <td>53.19</td>\n",
       "      <td>16.83</td>\n",
       "      <td>5.75</td>\n",
       "      <td>1.44</td>\n",
       "      <td>0.57</td>\n",
       "      <td>74.18</td>\n",
       "      <td>101.41</td>\n",
       "      <td>None</td>\n",
       "      <td>2559248</td>\n",
       "      <td>Ricky Seals-Jones</td>\n",
       "      <td>86.0</td>\n",
       "      <td>TE</td>\n",
       "      <td>24</td>\n",
       "      <td>away</td>\n",
       "      <td>True</td>\n",
       "      <td>OUT</td>\n",
       "      <td>5</td>\n",
       "      <td>2018111105349224</td>\n",
       "      <td>2559248</td>\n",
       "      <td>2561272</td>\n",
       "      <td>7.136792</td>\n",
       "      <td>2550257</td>\n",
       "      <td>1.195533</td>\n",
       "      <td>Ricky Seals-Jones</td>\n",
       "      <td>Trent Sherfield</td>\n",
       "      <td>Daniel Sorensen</td>\n",
       "      <td>dropback</td>\n",
       "      <td>2559248</td>\n",
       "      <td>2550257</td>\n",
       "      <td>1.195533</td>\n",
       "      <td>7.529309</td>\n",
       "      <td>7.910563</td>\n",
       "      <td>1</td>\n",
       "      <td>1</td>\n",
       "      <td>1</td>\n",
       "      <td>0.920894</td>\n",
       "    </tr>\n",
       "    <tr>\n",
       "      <th>369</th>\n",
       "      <td>2018111105</td>\n",
       "      <td>3492</td>\n",
       "      <td>(4:31) (No Huddle, Shotgun) J.Rosen pass short...</td>\n",
       "      <td>2018-11-11</td>\n",
       "      <td>13:00:00</td>\n",
       "      <td>KC</td>\n",
       "      <td>ARI</td>\n",
       "      <td>10</td>\n",
       "      <td>2018-11-11T20:40:32.299Z</td>\n",
       "      <td>53.76</td>\n",
       "      <td>16.71</td>\n",
       "      <td>5.89</td>\n",
       "      <td>0.83</td>\n",
       "      <td>0.58</td>\n",
       "      <td>72.39</td>\n",
       "      <td>101.49</td>\n",
       "      <td>None</td>\n",
       "      <td>2559248</td>\n",
       "      <td>Ricky Seals-Jones</td>\n",
       "      <td>86.0</td>\n",
       "      <td>TE</td>\n",
       "      <td>25</td>\n",
       "      <td>away</td>\n",
       "      <td>True</td>\n",
       "      <td>OUT</td>\n",
       "      <td>5</td>\n",
       "      <td>2018111105349225</td>\n",
       "      <td>2559248</td>\n",
       "      <td>2561272</td>\n",
       "      <td>7.207586</td>\n",
       "      <td>2550257</td>\n",
       "      <td>1.067801</td>\n",
       "      <td>Ricky Seals-Jones</td>\n",
       "      <td>Trent Sherfield</td>\n",
       "      <td>Daniel Sorensen</td>\n",
       "      <td>dropback</td>\n",
       "      <td>2559248</td>\n",
       "      <td>2550257</td>\n",
       "      <td>1.067801</td>\n",
       "      <td>7.135068</td>\n",
       "      <td>7.685948</td>\n",
       "      <td>1</td>\n",
       "      <td>1</td>\n",
       "      <td>1</td>\n",
       "      <td>0.923141</td>\n",
       "    </tr>\n",
       "    <tr>\n",
       "      <th>384</th>\n",
       "      <td>2018111105</td>\n",
       "      <td>3492</td>\n",
       "      <td>(4:31) (No Huddle, Shotgun) J.Rosen pass short...</td>\n",
       "      <td>2018-11-11</td>\n",
       "      <td>13:00:00</td>\n",
       "      <td>KC</td>\n",
       "      <td>ARI</td>\n",
       "      <td>10</td>\n",
       "      <td>2018-11-11T20:40:32.400Z</td>\n",
       "      <td>54.34</td>\n",
       "      <td>16.59</td>\n",
       "      <td>5.96</td>\n",
       "      <td>0.28</td>\n",
       "      <td>0.60</td>\n",
       "      <td>70.79</td>\n",
       "      <td>101.90</td>\n",
       "      <td>None</td>\n",
       "      <td>2559248</td>\n",
       "      <td>Ricky Seals-Jones</td>\n",
       "      <td>86.0</td>\n",
       "      <td>TE</td>\n",
       "      <td>26</td>\n",
       "      <td>away</td>\n",
       "      <td>True</td>\n",
       "      <td>OUT</td>\n",
       "      <td>5</td>\n",
       "      <td>2018111105349226</td>\n",
       "      <td>2559248</td>\n",
       "      <td>2561272</td>\n",
       "      <td>7.260689</td>\n",
       "      <td>2550257</td>\n",
       "      <td>0.976934</td>\n",
       "      <td>Ricky Seals-Jones</td>\n",
       "      <td>Trent Sherfield</td>\n",
       "      <td>Daniel Sorensen</td>\n",
       "      <td>dropback</td>\n",
       "      <td>2559248</td>\n",
       "      <td>2550257</td>\n",
       "      <td>0.976934</td>\n",
       "      <td>6.763786</td>\n",
       "      <td>7.451872</td>\n",
       "      <td>1</td>\n",
       "      <td>1</td>\n",
       "      <td>1</td>\n",
       "      <td>0.925481</td>\n",
       "    </tr>\n",
       "    <tr>\n",
       "      <th>399</th>\n",
       "      <td>2018111105</td>\n",
       "      <td>3492</td>\n",
       "      <td>(4:31) (No Huddle, Shotgun) J.Rosen pass short...</td>\n",
       "      <td>2018-11-11</td>\n",
       "      <td>13:00:00</td>\n",
       "      <td>KC</td>\n",
       "      <td>ARI</td>\n",
       "      <td>10</td>\n",
       "      <td>2018-11-11T20:40:32.500Z</td>\n",
       "      <td>54.92</td>\n",
       "      <td>16.46</td>\n",
       "      <td>5.91</td>\n",
       "      <td>0.54</td>\n",
       "      <td>0.59</td>\n",
       "      <td>73.18</td>\n",
       "      <td>102.66</td>\n",
       "      <td>None</td>\n",
       "      <td>2559248</td>\n",
       "      <td>Ricky Seals-Jones</td>\n",
       "      <td>86.0</td>\n",
       "      <td>TE</td>\n",
       "      <td>27</td>\n",
       "      <td>away</td>\n",
       "      <td>True</td>\n",
       "      <td>OUT</td>\n",
       "      <td>5</td>\n",
       "      <td>2018111105349227</td>\n",
       "      <td>2559248</td>\n",
       "      <td>2561272</td>\n",
       "      <td>7.298548</td>\n",
       "      <td>2550257</td>\n",
       "      <td>0.939415</td>\n",
       "      <td>Ricky Seals-Jones</td>\n",
       "      <td>Trent Sherfield</td>\n",
       "      <td>Daniel Sorensen</td>\n",
       "      <td>dropback</td>\n",
       "      <td>2559248</td>\n",
       "      <td>2550257</td>\n",
       "      <td>0.939415</td>\n",
       "      <td>6.416393</td>\n",
       "      <td>7.224971</td>\n",
       "      <td>1</td>\n",
       "      <td>1</td>\n",
       "      <td>1</td>\n",
       "      <td>0.927750</td>\n",
       "    </tr>\n",
       "    <tr>\n",
       "      <th>414</th>\n",
       "      <td>2018111105</td>\n",
       "      <td>3492</td>\n",
       "      <td>(4:31) (No Huddle, Shotgun) J.Rosen pass short...</td>\n",
       "      <td>2018-11-11</td>\n",
       "      <td>13:00:00</td>\n",
       "      <td>KC</td>\n",
       "      <td>ARI</td>\n",
       "      <td>10</td>\n",
       "      <td>2018-11-11T20:40:32.599Z</td>\n",
       "      <td>55.48</td>\n",
       "      <td>16.32</td>\n",
       "      <td>5.73</td>\n",
       "      <td>1.39</td>\n",
       "      <td>0.58</td>\n",
       "      <td>77.07</td>\n",
       "      <td>103.75</td>\n",
       "      <td>None</td>\n",
       "      <td>2559248</td>\n",
       "      <td>Ricky Seals-Jones</td>\n",
       "      <td>86.0</td>\n",
       "      <td>TE</td>\n",
       "      <td>28</td>\n",
       "      <td>away</td>\n",
       "      <td>True</td>\n",
       "      <td>OUT</td>\n",
       "      <td>5</td>\n",
       "      <td>2018111105349228</td>\n",
       "      <td>2559248</td>\n",
       "      <td>2561272</td>\n",
       "      <td>7.314404</td>\n",
       "      <td>2550257</td>\n",
       "      <td>0.940851</td>\n",
       "      <td>Ricky Seals-Jones</td>\n",
       "      <td>Trent Sherfield</td>\n",
       "      <td>Daniel Sorensen</td>\n",
       "      <td>dropback</td>\n",
       "      <td>2559248</td>\n",
       "      <td>2550257</td>\n",
       "      <td>0.940851</td>\n",
       "      <td>6.103286</td>\n",
       "      <td>6.999579</td>\n",
       "      <td>1</td>\n",
       "      <td>1</td>\n",
       "      <td>1</td>\n",
       "      <td>0.930004</td>\n",
       "    </tr>\n",
       "    <tr>\n",
       "      <th>429</th>\n",
       "      <td>2018111105</td>\n",
       "      <td>3492</td>\n",
       "      <td>(4:31) (No Huddle, Shotgun) J.Rosen pass short...</td>\n",
       "      <td>2018-11-11</td>\n",
       "      <td>13:00:00</td>\n",
       "      <td>KC</td>\n",
       "      <td>ARI</td>\n",
       "      <td>10</td>\n",
       "      <td>2018-11-11T20:40:32.700Z</td>\n",
       "      <td>56.02</td>\n",
       "      <td>16.17</td>\n",
       "      <td>5.54</td>\n",
       "      <td>2.00</td>\n",
       "      <td>0.56</td>\n",
       "      <td>83.64</td>\n",
       "      <td>105.66</td>\n",
       "      <td>None</td>\n",
       "      <td>2559248</td>\n",
       "      <td>Ricky Seals-Jones</td>\n",
       "      <td>86.0</td>\n",
       "      <td>TE</td>\n",
       "      <td>29</td>\n",
       "      <td>away</td>\n",
       "      <td>True</td>\n",
       "      <td>OUT</td>\n",
       "      <td>5</td>\n",
       "      <td>2018111105349229</td>\n",
       "      <td>2559248</td>\n",
       "      <td>2561272</td>\n",
       "      <td>7.311197</td>\n",
       "      <td>2550257</td>\n",
       "      <td>0.974166</td>\n",
       "      <td>Ricky Seals-Jones</td>\n",
       "      <td>Trent Sherfield</td>\n",
       "      <td>Daniel Sorensen</td>\n",
       "      <td>dropback</td>\n",
       "      <td>2559248</td>\n",
       "      <td>2550257</td>\n",
       "      <td>0.974166</td>\n",
       "      <td>5.824946</td>\n",
       "      <td>6.793600</td>\n",
       "      <td>1</td>\n",
       "      <td>1</td>\n",
       "      <td>1</td>\n",
       "      <td>0.932064</td>\n",
       "    </tr>\n",
       "    <tr>\n",
       "      <th>444</th>\n",
       "      <td>2018111105</td>\n",
       "      <td>3492</td>\n",
       "      <td>(4:31) (No Huddle, Shotgun) J.Rosen pass short...</td>\n",
       "      <td>2018-11-11</td>\n",
       "      <td>13:00:00</td>\n",
       "      <td>KC</td>\n",
       "      <td>ARI</td>\n",
       "      <td>10</td>\n",
       "      <td>2018-11-11T20:40:32.799Z</td>\n",
       "      <td>56.52</td>\n",
       "      <td>16.01</td>\n",
       "      <td>5.16</td>\n",
       "      <td>3.00</td>\n",
       "      <td>0.52</td>\n",
       "      <td>92.91</td>\n",
       "      <td>108.73</td>\n",
       "      <td>None</td>\n",
       "      <td>2559248</td>\n",
       "      <td>Ricky Seals-Jones</td>\n",
       "      <td>86.0</td>\n",
       "      <td>TE</td>\n",
       "      <td>30</td>\n",
       "      <td>away</td>\n",
       "      <td>True</td>\n",
       "      <td>OUT</td>\n",
       "      <td>5</td>\n",
       "      <td>2018111105349230</td>\n",
       "      <td>2559248</td>\n",
       "      <td>2561272</td>\n",
       "      <td>7.267379</td>\n",
       "      <td>2550257</td>\n",
       "      <td>1.025914</td>\n",
       "      <td>Ricky Seals-Jones</td>\n",
       "      <td>Trent Sherfield</td>\n",
       "      <td>Daniel Sorensen</td>\n",
       "      <td>dropback</td>\n",
       "      <td>2559248</td>\n",
       "      <td>2550257</td>\n",
       "      <td>1.025914</td>\n",
       "      <td>5.584049</td>\n",
       "      <td>6.608850</td>\n",
       "      <td>1</td>\n",
       "      <td>1</td>\n",
       "      <td>1</td>\n",
       "      <td>0.933911</td>\n",
       "    </tr>\n",
       "    <tr>\n",
       "      <th>459</th>\n",
       "      <td>2018111105</td>\n",
       "      <td>3492</td>\n",
       "      <td>(4:31) (No Huddle, Shotgun) J.Rosen pass short...</td>\n",
       "      <td>2018-11-11</td>\n",
       "      <td>13:00:00</td>\n",
       "      <td>KC</td>\n",
       "      <td>ARI</td>\n",
       "      <td>10</td>\n",
       "      <td>2018-11-11T20:40:32.900Z</td>\n",
       "      <td>56.97</td>\n",
       "      <td>15.81</td>\n",
       "      <td>4.77</td>\n",
       "      <td>4.28</td>\n",
       "      <td>0.49</td>\n",
       "      <td>113.97</td>\n",
       "      <td>115.56</td>\n",
       "      <td>None</td>\n",
       "      <td>2559248</td>\n",
       "      <td>Ricky Seals-Jones</td>\n",
       "      <td>86.0</td>\n",
       "      <td>TE</td>\n",
       "      <td>31</td>\n",
       "      <td>away</td>\n",
       "      <td>True</td>\n",
       "      <td>OUT</td>\n",
       "      <td>5</td>\n",
       "      <td>2018111105349231</td>\n",
       "      <td>2559248</td>\n",
       "      <td>2561272</td>\n",
       "      <td>7.146363</td>\n",
       "      <td>2550257</td>\n",
       "      <td>1.104219</td>\n",
       "      <td>Ricky Seals-Jones</td>\n",
       "      <td>Trent Sherfield</td>\n",
       "      <td>Daniel Sorensen</td>\n",
       "      <td>dropback</td>\n",
       "      <td>2559248</td>\n",
       "      <td>2550257</td>\n",
       "      <td>1.104219</td>\n",
       "      <td>5.345849</td>\n",
       "      <td>6.437919</td>\n",
       "      <td>1</td>\n",
       "      <td>1</td>\n",
       "      <td>1</td>\n",
       "      <td>0.935621</td>\n",
       "    </tr>\n",
       "    <tr>\n",
       "      <th>474</th>\n",
       "      <td>2018111105</td>\n",
       "      <td>3492</td>\n",
       "      <td>(4:31) (No Huddle, Shotgun) J.Rosen pass short...</td>\n",
       "      <td>2018-11-11</td>\n",
       "      <td>13:00:00</td>\n",
       "      <td>KC</td>\n",
       "      <td>ARI</td>\n",
       "      <td>10</td>\n",
       "      <td>2018-11-11T20:40:33.000Z</td>\n",
       "      <td>57.36</td>\n",
       "      <td>15.58</td>\n",
       "      <td>4.43</td>\n",
       "      <td>5.10</td>\n",
       "      <td>0.45</td>\n",
       "      <td>142.62</td>\n",
       "      <td>122.54</td>\n",
       "      <td>None</td>\n",
       "      <td>2559248</td>\n",
       "      <td>Ricky Seals-Jones</td>\n",
       "      <td>86.0</td>\n",
       "      <td>TE</td>\n",
       "      <td>32</td>\n",
       "      <td>away</td>\n",
       "      <td>True</td>\n",
       "      <td>OUT</td>\n",
       "      <td>5</td>\n",
       "      <td>2018111105349232</td>\n",
       "      <td>2559248</td>\n",
       "      <td>2561272</td>\n",
       "      <td>6.967352</td>\n",
       "      <td>2550257</td>\n",
       "      <td>1.184567</td>\n",
       "      <td>Ricky Seals-Jones</td>\n",
       "      <td>Trent Sherfield</td>\n",
       "      <td>Daniel Sorensen</td>\n",
       "      <td>dropback</td>\n",
       "      <td>2559248</td>\n",
       "      <td>2550257</td>\n",
       "      <td>1.184567</td>\n",
       "      <td>5.111917</td>\n",
       "      <td>6.270797</td>\n",
       "      <td>1</td>\n",
       "      <td>1</td>\n",
       "      <td>1</td>\n",
       "      <td>0.937292</td>\n",
       "    </tr>\n",
       "    <tr>\n",
       "      <th>489</th>\n",
       "      <td>2018111105</td>\n",
       "      <td>3492</td>\n",
       "      <td>(4:31) (No Huddle, Shotgun) J.Rosen pass short...</td>\n",
       "      <td>2018-11-11</td>\n",
       "      <td>13:00:00</td>\n",
       "      <td>KC</td>\n",
       "      <td>ARI</td>\n",
       "      <td>10</td>\n",
       "      <td>2018-11-11T20:40:33.099Z</td>\n",
       "      <td>57.69</td>\n",
       "      <td>15.33</td>\n",
       "      <td>4.10</td>\n",
       "      <td>5.38</td>\n",
       "      <td>0.42</td>\n",
       "      <td>180.97</td>\n",
       "      <td>130.49</td>\n",
       "      <td>None</td>\n",
       "      <td>2559248</td>\n",
       "      <td>Ricky Seals-Jones</td>\n",
       "      <td>86.0</td>\n",
       "      <td>TE</td>\n",
       "      <td>33</td>\n",
       "      <td>away</td>\n",
       "      <td>True</td>\n",
       "      <td>OUT</td>\n",
       "      <td>5</td>\n",
       "      <td>2018111105349233</td>\n",
       "      <td>2559248</td>\n",
       "      <td>2561272</td>\n",
       "      <td>6.745799</td>\n",
       "      <td>2550257</td>\n",
       "      <td>1.261150</td>\n",
       "      <td>Ricky Seals-Jones</td>\n",
       "      <td>Trent Sherfield</td>\n",
       "      <td>Daniel Sorensen</td>\n",
       "      <td>dropback</td>\n",
       "      <td>2559248</td>\n",
       "      <td>2550257</td>\n",
       "      <td>1.261150</td>\n",
       "      <td>4.882673</td>\n",
       "      <td>6.104719</td>\n",
       "      <td>1</td>\n",
       "      <td>1</td>\n",
       "      <td>1</td>\n",
       "      <td>0.938953</td>\n",
       "    </tr>\n",
       "    <tr>\n",
       "      <th>504</th>\n",
       "      <td>2018111105</td>\n",
       "      <td>3492</td>\n",
       "      <td>(4:31) (No Huddle, Shotgun) J.Rosen pass short...</td>\n",
       "      <td>2018-11-11</td>\n",
       "      <td>13:00:00</td>\n",
       "      <td>KC</td>\n",
       "      <td>ARI</td>\n",
       "      <td>10</td>\n",
       "      <td>2018-11-11T20:40:33.200Z</td>\n",
       "      <td>57.96</td>\n",
       "      <td>15.03</td>\n",
       "      <td>3.90</td>\n",
       "      <td>5.66</td>\n",
       "      <td>0.40</td>\n",
       "      <td>230.54</td>\n",
       "      <td>141.00</td>\n",
       "      <td>None</td>\n",
       "      <td>2559248</td>\n",
       "      <td>Ricky Seals-Jones</td>\n",
       "      <td>86.0</td>\n",
       "      <td>TE</td>\n",
       "      <td>34</td>\n",
       "      <td>away</td>\n",
       "      <td>True</td>\n",
       "      <td>OUT</td>\n",
       "      <td>5</td>\n",
       "      <td>2018111105349234</td>\n",
       "      <td>2559248</td>\n",
       "      <td>2561272</td>\n",
       "      <td>6.464921</td>\n",
       "      <td>2550257</td>\n",
       "      <td>1.353403</td>\n",
       "      <td>Ricky Seals-Jones</td>\n",
       "      <td>Trent Sherfield</td>\n",
       "      <td>Daniel Sorensen</td>\n",
       "      <td>dropback</td>\n",
       "      <td>2559248</td>\n",
       "      <td>2550257</td>\n",
       "      <td>1.353403</td>\n",
       "      <td>4.619654</td>\n",
       "      <td>5.925580</td>\n",
       "      <td>1</td>\n",
       "      <td>1</td>\n",
       "      <td>1</td>\n",
       "      <td>0.940744</td>\n",
       "    </tr>\n",
       "    <tr>\n",
       "      <th>519</th>\n",
       "      <td>2018111105</td>\n",
       "      <td>3492</td>\n",
       "      <td>(4:31) (No Huddle, Shotgun) J.Rosen pass short...</td>\n",
       "      <td>2018-11-11</td>\n",
       "      <td>13:00:00</td>\n",
       "      <td>KC</td>\n",
       "      <td>ARI</td>\n",
       "      <td>10</td>\n",
       "      <td>2018-11-11T20:40:33.299Z</td>\n",
       "      <td>58.17</td>\n",
       "      <td>14.71</td>\n",
       "      <td>3.85</td>\n",
       "      <td>5.83</td>\n",
       "      <td>0.39</td>\n",
       "      <td>236.20</td>\n",
       "      <td>152.05</td>\n",
       "      <td>None</td>\n",
       "      <td>2559248</td>\n",
       "      <td>Ricky Seals-Jones</td>\n",
       "      <td>86.0</td>\n",
       "      <td>TE</td>\n",
       "      <td>35</td>\n",
       "      <td>away</td>\n",
       "      <td>True</td>\n",
       "      <td>OUT</td>\n",
       "      <td>5</td>\n",
       "      <td>2018111105349235</td>\n",
       "      <td>2559248</td>\n",
       "      <td>2561272</td>\n",
       "      <td>6.152276</td>\n",
       "      <td>2550257</td>\n",
       "      <td>1.445856</td>\n",
       "      <td>Ricky Seals-Jones</td>\n",
       "      <td>Trent Sherfield</td>\n",
       "      <td>Daniel Sorensen</td>\n",
       "      <td>dropback</td>\n",
       "      <td>2559248</td>\n",
       "      <td>2550257</td>\n",
       "      <td>1.445856</td>\n",
       "      <td>4.345124</td>\n",
       "      <td>5.738885</td>\n",
       "      <td>1</td>\n",
       "      <td>1</td>\n",
       "      <td>1</td>\n",
       "      <td>0.942611</td>\n",
       "    </tr>\n",
       "    <tr>\n",
       "      <th>534</th>\n",
       "      <td>2018111105</td>\n",
       "      <td>3492</td>\n",
       "      <td>(4:31) (No Huddle, Shotgun) J.Rosen pass short...</td>\n",
       "      <td>2018-11-11</td>\n",
       "      <td>13:00:00</td>\n",
       "      <td>KC</td>\n",
       "      <td>ARI</td>\n",
       "      <td>10</td>\n",
       "      <td>2018-11-11T20:40:33.400Z</td>\n",
       "      <td>58.32</td>\n",
       "      <td>14.35</td>\n",
       "      <td>3.90</td>\n",
       "      <td>5.68</td>\n",
       "      <td>0.39</td>\n",
       "      <td>242.88</td>\n",
       "      <td>161.34</td>\n",
       "      <td>pass_forward</td>\n",
       "      <td>2559248</td>\n",
       "      <td>Ricky Seals-Jones</td>\n",
       "      <td>86.0</td>\n",
       "      <td>TE</td>\n",
       "      <td>36</td>\n",
       "      <td>away</td>\n",
       "      <td>True</td>\n",
       "      <td>OUT</td>\n",
       "      <td>5</td>\n",
       "      <td>2018111105349236</td>\n",
       "      <td>2559248</td>\n",
       "      <td>2561272</td>\n",
       "      <td>5.814551</td>\n",
       "      <td>2550257</td>\n",
       "      <td>1.530817</td>\n",
       "      <td>Ricky Seals-Jones</td>\n",
       "      <td>Trent Sherfield</td>\n",
       "      <td>Daniel Sorensen</td>\n",
       "      <td>pass_forward</td>\n",
       "      <td>2559248</td>\n",
       "      <td>2550257</td>\n",
       "      <td>1.530817</td>\n",
       "      <td>4.032915</td>\n",
       "      <td>5.510953</td>\n",
       "      <td>1</td>\n",
       "      <td>1</td>\n",
       "      <td>1</td>\n",
       "      <td>0.944890</td>\n",
       "    </tr>\n",
       "    <tr>\n",
       "      <th>549</th>\n",
       "      <td>2018111105</td>\n",
       "      <td>3492</td>\n",
       "      <td>(4:31) (No Huddle, Shotgun) J.Rosen pass short...</td>\n",
       "      <td>2018-11-11</td>\n",
       "      <td>13:00:00</td>\n",
       "      <td>KC</td>\n",
       "      <td>ARI</td>\n",
       "      <td>10</td>\n",
       "      <td>2018-11-11T20:40:33.500Z</td>\n",
       "      <td>58.42</td>\n",
       "      <td>13.96</td>\n",
       "      <td>4.08</td>\n",
       "      <td>5.05</td>\n",
       "      <td>0.40</td>\n",
       "      <td>248.16</td>\n",
       "      <td>169.31</td>\n",
       "      <td>None</td>\n",
       "      <td>2559248</td>\n",
       "      <td>Ricky Seals-Jones</td>\n",
       "      <td>86.0</td>\n",
       "      <td>TE</td>\n",
       "      <td>37</td>\n",
       "      <td>away</td>\n",
       "      <td>True</td>\n",
       "      <td>OUT</td>\n",
       "      <td>5</td>\n",
       "      <td>2018111105349237</td>\n",
       "      <td>2559248</td>\n",
       "      <td>2561272</td>\n",
       "      <td>5.479352</td>\n",
       "      <td>2550257</td>\n",
       "      <td>1.600125</td>\n",
       "      <td>Ricky Seals-Jones</td>\n",
       "      <td>Trent Sherfield</td>\n",
       "      <td>Daniel Sorensen</td>\n",
       "      <td>ball_in_flight</td>\n",
       "      <td>2559248</td>\n",
       "      <td>2550257</td>\n",
       "      <td>1.600125</td>\n",
       "      <td>3.690542</td>\n",
       "      <td>5.234167</td>\n",
       "      <td>1</td>\n",
       "      <td>1</td>\n",
       "      <td>1</td>\n",
       "      <td>0.947658</td>\n",
       "    </tr>\n",
       "    <tr>\n",
       "      <th>564</th>\n",
       "      <td>2018111105</td>\n",
       "      <td>3492</td>\n",
       "      <td>(4:31) (No Huddle, Shotgun) J.Rosen pass short...</td>\n",
       "      <td>2018-11-11</td>\n",
       "      <td>13:00:00</td>\n",
       "      <td>KC</td>\n",
       "      <td>ARI</td>\n",
       "      <td>10</td>\n",
       "      <td>2018-11-11T20:40:33.599Z</td>\n",
       "      <td>58.47</td>\n",
       "      <td>13.53</td>\n",
       "      <td>4.34</td>\n",
       "      <td>4.55</td>\n",
       "      <td>0.43</td>\n",
       "      <td>251.77</td>\n",
       "      <td>176.39</td>\n",
       "      <td>None</td>\n",
       "      <td>2559248</td>\n",
       "      <td>Ricky Seals-Jones</td>\n",
       "      <td>86.0</td>\n",
       "      <td>TE</td>\n",
       "      <td>38</td>\n",
       "      <td>away</td>\n",
       "      <td>True</td>\n",
       "      <td>OUT</td>\n",
       "      <td>5</td>\n",
       "      <td>2018111105349238</td>\n",
       "      <td>2559248</td>\n",
       "      <td>2561272</td>\n",
       "      <td>5.160862</td>\n",
       "      <td>2550257</td>\n",
       "      <td>1.661927</td>\n",
       "      <td>Ricky Seals-Jones</td>\n",
       "      <td>Trent Sherfield</td>\n",
       "      <td>Daniel Sorensen</td>\n",
       "      <td>ball_in_flight</td>\n",
       "      <td>2559248</td>\n",
       "      <td>2550257</td>\n",
       "      <td>1.661927</td>\n",
       "      <td>3.305465</td>\n",
       "      <td>4.903805</td>\n",
       "      <td>1</td>\n",
       "      <td>1</td>\n",
       "      <td>1</td>\n",
       "      <td>0.950962</td>\n",
       "    </tr>\n",
       "    <tr>\n",
       "      <th>579</th>\n",
       "      <td>2018111105</td>\n",
       "      <td>3492</td>\n",
       "      <td>(4:31) (No Huddle, Shotgun) J.Rosen pass short...</td>\n",
       "      <td>2018-11-11</td>\n",
       "      <td>13:00:00</td>\n",
       "      <td>KC</td>\n",
       "      <td>ARI</td>\n",
       "      <td>10</td>\n",
       "      <td>2018-11-11T20:40:33.700Z</td>\n",
       "      <td>58.47</td>\n",
       "      <td>13.09</td>\n",
       "      <td>4.50</td>\n",
       "      <td>3.86</td>\n",
       "      <td>0.44</td>\n",
       "      <td>250.21</td>\n",
       "      <td>181.70</td>\n",
       "      <td>None</td>\n",
       "      <td>2559248</td>\n",
       "      <td>Ricky Seals-Jones</td>\n",
       "      <td>86.0</td>\n",
       "      <td>TE</td>\n",
       "      <td>39</td>\n",
       "      <td>away</td>\n",
       "      <td>True</td>\n",
       "      <td>OUT</td>\n",
       "      <td>5</td>\n",
       "      <td>2018111105349239</td>\n",
       "      <td>2559248</td>\n",
       "      <td>2561272</td>\n",
       "      <td>4.933255</td>\n",
       "      <td>2550257</td>\n",
       "      <td>1.687602</td>\n",
       "      <td>Ricky Seals-Jones</td>\n",
       "      <td>Trent Sherfield</td>\n",
       "      <td>Daniel Sorensen</td>\n",
       "      <td>ball_in_flight</td>\n",
       "      <td>2559248</td>\n",
       "      <td>2550257</td>\n",
       "      <td>1.687602</td>\n",
       "      <td>2.902912</td>\n",
       "      <td>4.525273</td>\n",
       "      <td>1</td>\n",
       "      <td>1</td>\n",
       "      <td>1</td>\n",
       "      <td>0.954747</td>\n",
       "    </tr>\n",
       "    <tr>\n",
       "      <th>594</th>\n",
       "      <td>2018111105</td>\n",
       "      <td>3492</td>\n",
       "      <td>(4:31) (No Huddle, Shotgun) J.Rosen pass short...</td>\n",
       "      <td>2018-11-11</td>\n",
       "      <td>13:00:00</td>\n",
       "      <td>KC</td>\n",
       "      <td>ARI</td>\n",
       "      <td>10</td>\n",
       "      <td>2018-11-11T20:40:33.799Z</td>\n",
       "      <td>58.44</td>\n",
       "      <td>12.64</td>\n",
       "      <td>4.64</td>\n",
       "      <td>3.09</td>\n",
       "      <td>0.46</td>\n",
       "      <td>250.21</td>\n",
       "      <td>185.44</td>\n",
       "      <td>None</td>\n",
       "      <td>2559248</td>\n",
       "      <td>Ricky Seals-Jones</td>\n",
       "      <td>86.0</td>\n",
       "      <td>TE</td>\n",
       "      <td>40</td>\n",
       "      <td>away</td>\n",
       "      <td>True</td>\n",
       "      <td>OUT</td>\n",
       "      <td>5</td>\n",
       "      <td>2018111105349240</td>\n",
       "      <td>2559248</td>\n",
       "      <td>2561272</td>\n",
       "      <td>4.798677</td>\n",
       "      <td>2550257</td>\n",
       "      <td>1.694344</td>\n",
       "      <td>Ricky Seals-Jones</td>\n",
       "      <td>Trent Sherfield</td>\n",
       "      <td>Daniel Sorensen</td>\n",
       "      <td>ball_in_flight</td>\n",
       "      <td>2559248</td>\n",
       "      <td>2550257</td>\n",
       "      <td>1.694344</td>\n",
       "      <td>2.489438</td>\n",
       "      <td>4.110487</td>\n",
       "      <td>1</td>\n",
       "      <td>1</td>\n",
       "      <td>1</td>\n",
       "      <td>0.958895</td>\n",
       "    </tr>\n",
       "    <tr>\n",
       "      <th>609</th>\n",
       "      <td>2018111105</td>\n",
       "      <td>3492</td>\n",
       "      <td>(4:31) (No Huddle, Shotgun) J.Rosen pass short...</td>\n",
       "      <td>2018-11-11</td>\n",
       "      <td>13:00:00</td>\n",
       "      <td>KC</td>\n",
       "      <td>ARI</td>\n",
       "      <td>10</td>\n",
       "      <td>2018-11-11T20:40:33.900Z</td>\n",
       "      <td>58.40</td>\n",
       "      <td>12.17</td>\n",
       "      <td>4.75</td>\n",
       "      <td>2.15</td>\n",
       "      <td>0.47</td>\n",
       "      <td>246.95</td>\n",
       "      <td>187.33</td>\n",
       "      <td>None</td>\n",
       "      <td>2559248</td>\n",
       "      <td>Ricky Seals-Jones</td>\n",
       "      <td>86.0</td>\n",
       "      <td>TE</td>\n",
       "      <td>41</td>\n",
       "      <td>away</td>\n",
       "      <td>True</td>\n",
       "      <td>OUT</td>\n",
       "      <td>5</td>\n",
       "      <td>2018111105349241</td>\n",
       "      <td>2559248</td>\n",
       "      <td>2561272</td>\n",
       "      <td>4.762741</td>\n",
       "      <td>2550257</td>\n",
       "      <td>1.660482</td>\n",
       "      <td>Ricky Seals-Jones</td>\n",
       "      <td>Trent Sherfield</td>\n",
       "      <td>Daniel Sorensen</td>\n",
       "      <td>ball_in_flight</td>\n",
       "      <td>2559248</td>\n",
       "      <td>2550257</td>\n",
       "      <td>1.660482</td>\n",
       "      <td>2.069396</td>\n",
       "      <td>3.637197</td>\n",
       "      <td>1</td>\n",
       "      <td>1</td>\n",
       "      <td>1</td>\n",
       "      <td>0.963628</td>\n",
       "    </tr>\n",
       "    <tr>\n",
       "      <th>624</th>\n",
       "      <td>2018111105</td>\n",
       "      <td>3492</td>\n",
       "      <td>(4:31) (No Huddle, Shotgun) J.Rosen pass short...</td>\n",
       "      <td>2018-11-11</td>\n",
       "      <td>13:00:00</td>\n",
       "      <td>KC</td>\n",
       "      <td>ARI</td>\n",
       "      <td>10</td>\n",
       "      <td>2018-11-11T20:40:34.000Z</td>\n",
       "      <td>58.34</td>\n",
       "      <td>11.69</td>\n",
       "      <td>4.84</td>\n",
       "      <td>1.00</td>\n",
       "      <td>0.48</td>\n",
       "      <td>237.33</td>\n",
       "      <td>186.95</td>\n",
       "      <td>None</td>\n",
       "      <td>2559248</td>\n",
       "      <td>Ricky Seals-Jones</td>\n",
       "      <td>86.0</td>\n",
       "      <td>TE</td>\n",
       "      <td>42</td>\n",
       "      <td>away</td>\n",
       "      <td>True</td>\n",
       "      <td>OUT</td>\n",
       "      <td>5</td>\n",
       "      <td>2018111105349242</td>\n",
       "      <td>2559248</td>\n",
       "      <td>2561272</td>\n",
       "      <td>4.829544</td>\n",
       "      <td>2550257</td>\n",
       "      <td>1.588584</td>\n",
       "      <td>Ricky Seals-Jones</td>\n",
       "      <td>Trent Sherfield</td>\n",
       "      <td>Daniel Sorensen</td>\n",
       "      <td>ball_in_flight</td>\n",
       "      <td>2559248</td>\n",
       "      <td>2550257</td>\n",
       "      <td>1.588584</td>\n",
       "      <td>1.656140</td>\n",
       "      <td>3.121666</td>\n",
       "      <td>1</td>\n",
       "      <td>1</td>\n",
       "      <td>1</td>\n",
       "      <td>0.968783</td>\n",
       "    </tr>\n",
       "    <tr>\n",
       "      <th>639</th>\n",
       "      <td>2018111105</td>\n",
       "      <td>3492</td>\n",
       "      <td>(4:31) (No Huddle, Shotgun) J.Rosen pass short...</td>\n",
       "      <td>2018-11-11</td>\n",
       "      <td>13:00:00</td>\n",
       "      <td>KC</td>\n",
       "      <td>ARI</td>\n",
       "      <td>10</td>\n",
       "      <td>2018-11-11T20:40:34.099Z</td>\n",
       "      <td>58.29</td>\n",
       "      <td>11.21</td>\n",
       "      <td>4.84</td>\n",
       "      <td>0.19</td>\n",
       "      <td>0.48</td>\n",
       "      <td>229.15</td>\n",
       "      <td>186.07</td>\n",
       "      <td>None</td>\n",
       "      <td>2559248</td>\n",
       "      <td>Ricky Seals-Jones</td>\n",
       "      <td>86.0</td>\n",
       "      <td>TE</td>\n",
       "      <td>43</td>\n",
       "      <td>away</td>\n",
       "      <td>True</td>\n",
       "      <td>OUT</td>\n",
       "      <td>5</td>\n",
       "      <td>2018111105349243</td>\n",
       "      <td>2559248</td>\n",
       "      <td>2561272</td>\n",
       "      <td>4.994006</td>\n",
       "      <td>2550257</td>\n",
       "      <td>1.463216</td>\n",
       "      <td>Ricky Seals-Jones</td>\n",
       "      <td>Trent Sherfield</td>\n",
       "      <td>Daniel Sorensen</td>\n",
       "      <td>ball_in_flight</td>\n",
       "      <td>2559248</td>\n",
       "      <td>2550257</td>\n",
       "      <td>1.463216</td>\n",
       "      <td>1.300961</td>\n",
       "      <td>2.571634</td>\n",
       "      <td>1</td>\n",
       "      <td>1</td>\n",
       "      <td>1</td>\n",
       "      <td>0.974284</td>\n",
       "    </tr>\n",
       "    <tr>\n",
       "      <th>654</th>\n",
       "      <td>2018111105</td>\n",
       "      <td>3492</td>\n",
       "      <td>(4:31) (No Huddle, Shotgun) J.Rosen pass short...</td>\n",
       "      <td>2018-11-11</td>\n",
       "      <td>13:00:00</td>\n",
       "      <td>KC</td>\n",
       "      <td>ARI</td>\n",
       "      <td>10</td>\n",
       "      <td>2018-11-11T20:40:34.200Z</td>\n",
       "      <td>58.24</td>\n",
       "      <td>10.72</td>\n",
       "      <td>4.81</td>\n",
       "      <td>0.95</td>\n",
       "      <td>0.48</td>\n",
       "      <td>219.05</td>\n",
       "      <td>184.50</td>\n",
       "      <td>pass_arrived</td>\n",
       "      <td>2559248</td>\n",
       "      <td>Ricky Seals-Jones</td>\n",
       "      <td>86.0</td>\n",
       "      <td>TE</td>\n",
       "      <td>44</td>\n",
       "      <td>away</td>\n",
       "      <td>True</td>\n",
       "      <td>OUT</td>\n",
       "      <td>5</td>\n",
       "      <td>2018111105349244</td>\n",
       "      <td>2559248</td>\n",
       "      <td>2561272</td>\n",
       "      <td>5.234358</td>\n",
       "      <td>2550257</td>\n",
       "      <td>1.331953</td>\n",
       "      <td>Ricky Seals-Jones</td>\n",
       "      <td>Trent Sherfield</td>\n",
       "      <td>Daniel Sorensen</td>\n",
       "      <td>pass_arrived</td>\n",
       "      <td>2559248</td>\n",
       "      <td>2550257</td>\n",
       "      <td>1.331953</td>\n",
       "      <td>1.050190</td>\n",
       "      <td>2.029433</td>\n",
       "      <td>1</td>\n",
       "      <td>1</td>\n",
       "      <td>1</td>\n",
       "      <td>0.979706</td>\n",
       "    </tr>\n",
       "    <tr>\n",
       "      <th>669</th>\n",
       "      <td>2018111105</td>\n",
       "      <td>3492</td>\n",
       "      <td>(4:31) (No Huddle, Shotgun) J.Rosen pass short...</td>\n",
       "      <td>2018-11-11</td>\n",
       "      <td>13:00:00</td>\n",
       "      <td>KC</td>\n",
       "      <td>ARI</td>\n",
       "      <td>10</td>\n",
       "      <td>2018-11-11T20:40:34.299Z</td>\n",
       "      <td>58.22</td>\n",
       "      <td>10.24</td>\n",
       "      <td>4.85</td>\n",
       "      <td>1.81</td>\n",
       "      <td>0.48</td>\n",
       "      <td>204.57</td>\n",
       "      <td>181.15</td>\n",
       "      <td>None</td>\n",
       "      <td>2559248</td>\n",
       "      <td>Ricky Seals-Jones</td>\n",
       "      <td>86.0</td>\n",
       "      <td>TE</td>\n",
       "      <td>45</td>\n",
       "      <td>away</td>\n",
       "      <td>True</td>\n",
       "      <td>OUT</td>\n",
       "      <td>5</td>\n",
       "      <td>2018111105349245</td>\n",
       "      <td>2559248</td>\n",
       "      <td>2561272</td>\n",
       "      <td>5.510944</td>\n",
       "      <td>2550257</td>\n",
       "      <td>1.164989</td>\n",
       "      <td>Ricky Seals-Jones</td>\n",
       "      <td>Trent Sherfield</td>\n",
       "      <td>Daniel Sorensen</td>\n",
       "      <td>None</td>\n",
       "      <td>2559248</td>\n",
       "      <td>2550257</td>\n",
       "      <td>1.164989</td>\n",
       "      <td>1.026109</td>\n",
       "      <td>1.538083</td>\n",
       "      <td>0</td>\n",
       "      <td>0</td>\n",
       "      <td>0</td>\n",
       "      <td>0.984619</td>\n",
       "    </tr>\n",
       "    <tr>\n",
       "      <th>684</th>\n",
       "      <td>2018111105</td>\n",
       "      <td>3492</td>\n",
       "      <td>(4:31) (No Huddle, Shotgun) J.Rosen pass short...</td>\n",
       "      <td>2018-11-11</td>\n",
       "      <td>13:00:00</td>\n",
       "      <td>KC</td>\n",
       "      <td>ARI</td>\n",
       "      <td>10</td>\n",
       "      <td>2018-11-11T20:40:34.400Z</td>\n",
       "      <td>58.23</td>\n",
       "      <td>9.76</td>\n",
       "      <td>4.77</td>\n",
       "      <td>2.88</td>\n",
       "      <td>0.48</td>\n",
       "      <td>195.27</td>\n",
       "      <td>175.62</td>\n",
       "      <td>None</td>\n",
       "      <td>2559248</td>\n",
       "      <td>Ricky Seals-Jones</td>\n",
       "      <td>86.0</td>\n",
       "      <td>TE</td>\n",
       "      <td>46</td>\n",
       "      <td>away</td>\n",
       "      <td>True</td>\n",
       "      <td>OUT</td>\n",
       "      <td>5</td>\n",
       "      <td>2018111105349246</td>\n",
       "      <td>2559248</td>\n",
       "      <td>2561272</td>\n",
       "      <td>5.790380</td>\n",
       "      <td>2550257</td>\n",
       "      <td>0.983107</td>\n",
       "      <td>Ricky Seals-Jones</td>\n",
       "      <td>Trent Sherfield</td>\n",
       "      <td>Daniel Sorensen</td>\n",
       "      <td>None</td>\n",
       "      <td>2559248</td>\n",
       "      <td>2550257</td>\n",
       "      <td>0.983107</td>\n",
       "      <td>1.234585</td>\n",
       "      <td>1.198541</td>\n",
       "      <td>0</td>\n",
       "      <td>0</td>\n",
       "      <td>0</td>\n",
       "      <td>0.988015</td>\n",
       "    </tr>\n",
       "    <tr>\n",
       "      <th>699</th>\n",
       "      <td>2018111105</td>\n",
       "      <td>3492</td>\n",
       "      <td>(4:31) (No Huddle, Shotgun) J.Rosen pass short...</td>\n",
       "      <td>2018-11-11</td>\n",
       "      <td>13:00:00</td>\n",
       "      <td>KC</td>\n",
       "      <td>ARI</td>\n",
       "      <td>10</td>\n",
       "      <td>2018-11-11T20:40:34.500Z</td>\n",
       "      <td>58.29</td>\n",
       "      <td>9.29</td>\n",
       "      <td>4.70</td>\n",
       "      <td>3.47</td>\n",
       "      <td>0.47</td>\n",
       "      <td>185.57</td>\n",
       "      <td>170.22</td>\n",
       "      <td>pass_outcome_caught</td>\n",
       "      <td>2559248</td>\n",
       "      <td>Ricky Seals-Jones</td>\n",
       "      <td>86.0</td>\n",
       "      <td>TE</td>\n",
       "      <td>47</td>\n",
       "      <td>away</td>\n",
       "      <td>True</td>\n",
       "      <td>OUT</td>\n",
       "      <td>5</td>\n",
       "      <td>2018111105349247</td>\n",
       "      <td>2559248</td>\n",
       "      <td>2561272</td>\n",
       "      <td>6.017524</td>\n",
       "      <td>2550257</td>\n",
       "      <td>0.811542</td>\n",
       "      <td>Ricky Seals-Jones</td>\n",
       "      <td>Trent Sherfield</td>\n",
       "      <td>Daniel Sorensen</td>\n",
       "      <td>pass_outcome_caught</td>\n",
       "      <td>2559248</td>\n",
       "      <td>2550257</td>\n",
       "      <td>0.811542</td>\n",
       "      <td>1.592890</td>\n",
       "      <td>1.179534</td>\n",
       "      <td>0</td>\n",
       "      <td>0</td>\n",
       "      <td>0</td>\n",
       "      <td>0.988205</td>\n",
       "    </tr>\n",
       "    <tr>\n",
       "      <th>714</th>\n",
       "      <td>2018111105</td>\n",
       "      <td>3492</td>\n",
       "      <td>(4:31) (No Huddle, Shotgun) J.Rosen pass short...</td>\n",
       "      <td>2018-11-11</td>\n",
       "      <td>13:00:00</td>\n",
       "      <td>KC</td>\n",
       "      <td>ARI</td>\n",
       "      <td>10</td>\n",
       "      <td>2018-11-11T20:40:34.599Z</td>\n",
       "      <td>58.40</td>\n",
       "      <td>8.83</td>\n",
       "      <td>4.68</td>\n",
       "      <td>3.68</td>\n",
       "      <td>0.47</td>\n",
       "      <td>174.51</td>\n",
       "      <td>164.59</td>\n",
       "      <td>None</td>\n",
       "      <td>2559248</td>\n",
       "      <td>Ricky Seals-Jones</td>\n",
       "      <td>86.0</td>\n",
       "      <td>TE</td>\n",
       "      <td>48</td>\n",
       "      <td>away</td>\n",
       "      <td>True</td>\n",
       "      <td>OUT</td>\n",
       "      <td>5</td>\n",
       "      <td>2018111105349248</td>\n",
       "      <td>2559248</td>\n",
       "      <td>2561272</td>\n",
       "      <td>6.201266</td>\n",
       "      <td>2550257</td>\n",
       "      <td>0.666108</td>\n",
       "      <td>Ricky Seals-Jones</td>\n",
       "      <td>Trent Sherfield</td>\n",
       "      <td>Daniel Sorensen</td>\n",
       "      <td>None</td>\n",
       "      <td>2559248</td>\n",
       "      <td>2550257</td>\n",
       "      <td>0.666108</td>\n",
       "      <td>2.020396</td>\n",
       "      <td>1.465776</td>\n",
       "      <td>0</td>\n",
       "      <td>0</td>\n",
       "      <td>0</td>\n",
       "      <td>0.985342</td>\n",
       "    </tr>\n",
       "    <tr>\n",
       "      <th>729</th>\n",
       "      <td>2018111105</td>\n",
       "      <td>3492</td>\n",
       "      <td>(4:31) (No Huddle, Shotgun) J.Rosen pass short...</td>\n",
       "      <td>2018-11-11</td>\n",
       "      <td>13:00:00</td>\n",
       "      <td>KC</td>\n",
       "      <td>ARI</td>\n",
       "      <td>10</td>\n",
       "      <td>2018-11-11T20:40:34.700Z</td>\n",
       "      <td>58.55</td>\n",
       "      <td>8.39</td>\n",
       "      <td>4.71</td>\n",
       "      <td>3.86</td>\n",
       "      <td>0.47</td>\n",
       "      <td>158.57</td>\n",
       "      <td>158.23</td>\n",
       "      <td>None</td>\n",
       "      <td>2559248</td>\n",
       "      <td>Ricky Seals-Jones</td>\n",
       "      <td>86.0</td>\n",
       "      <td>TE</td>\n",
       "      <td>49</td>\n",
       "      <td>away</td>\n",
       "      <td>True</td>\n",
       "      <td>OUT</td>\n",
       "      <td>5</td>\n",
       "      <td>2018111105349249</td>\n",
       "      <td>2559248</td>\n",
       "      <td>2561272</td>\n",
       "      <td>6.344486</td>\n",
       "      <td>2550257</td>\n",
       "      <td>0.572713</td>\n",
       "      <td>Ricky Seals-Jones</td>\n",
       "      <td>Trent Sherfield</td>\n",
       "      <td>Daniel Sorensen</td>\n",
       "      <td>None</td>\n",
       "      <td>2559248</td>\n",
       "      <td>2550257</td>\n",
       "      <td>0.572713</td>\n",
       "      <td>2.468866</td>\n",
       "      <td>1.903076</td>\n",
       "      <td>0</td>\n",
       "      <td>0</td>\n",
       "      <td>0</td>\n",
       "      <td>0.980969</td>\n",
       "    </tr>\n",
       "    <tr>\n",
       "      <th>744</th>\n",
       "      <td>2018111105</td>\n",
       "      <td>3492</td>\n",
       "      <td>(4:31) (No Huddle, Shotgun) J.Rosen pass short...</td>\n",
       "      <td>2018-11-11</td>\n",
       "      <td>13:00:00</td>\n",
       "      <td>KC</td>\n",
       "      <td>ARI</td>\n",
       "      <td>10</td>\n",
       "      <td>2018-11-11T20:40:34.799Z</td>\n",
       "      <td>58.75</td>\n",
       "      <td>7.96</td>\n",
       "      <td>4.61</td>\n",
       "      <td>3.94</td>\n",
       "      <td>0.46</td>\n",
       "      <td>142.06</td>\n",
       "      <td>152.21</td>\n",
       "      <td>None</td>\n",
       "      <td>2559248</td>\n",
       "      <td>Ricky Seals-Jones</td>\n",
       "      <td>86.0</td>\n",
       "      <td>TE</td>\n",
       "      <td>50</td>\n",
       "      <td>away</td>\n",
       "      <td>True</td>\n",
       "      <td>OUT</td>\n",
       "      <td>5</td>\n",
       "      <td>2018111105349250</td>\n",
       "      <td>2559248</td>\n",
       "      <td>2561272</td>\n",
       "      <td>6.405825</td>\n",
       "      <td>2550257</td>\n",
       "      <td>0.580000</td>\n",
       "      <td>Ricky Seals-Jones</td>\n",
       "      <td>Trent Sherfield</td>\n",
       "      <td>Daniel Sorensen</td>\n",
       "      <td>None</td>\n",
       "      <td>2559248</td>\n",
       "      <td>2550257</td>\n",
       "      <td>0.580000</td>\n",
       "      <td>2.939558</td>\n",
       "      <td>2.375921</td>\n",
       "      <td>0</td>\n",
       "      <td>0</td>\n",
       "      <td>0</td>\n",
       "      <td>0.976241</td>\n",
       "    </tr>\n",
       "    <tr>\n",
       "      <th>759</th>\n",
       "      <td>2018111105</td>\n",
       "      <td>3492</td>\n",
       "      <td>(4:31) (No Huddle, Shotgun) J.Rosen pass short...</td>\n",
       "      <td>2018-11-11</td>\n",
       "      <td>13:00:00</td>\n",
       "      <td>KC</td>\n",
       "      <td>ARI</td>\n",
       "      <td>10</td>\n",
       "      <td>2018-11-11T20:40:34.900Z</td>\n",
       "      <td>58.98</td>\n",
       "      <td>7.57</td>\n",
       "      <td>4.51</td>\n",
       "      <td>3.75</td>\n",
       "      <td>0.45</td>\n",
       "      <td>125.17</td>\n",
       "      <td>147.14</td>\n",
       "      <td>None</td>\n",
       "      <td>2559248</td>\n",
       "      <td>Ricky Seals-Jones</td>\n",
       "      <td>86.0</td>\n",
       "      <td>TE</td>\n",
       "      <td>51</td>\n",
       "      <td>away</td>\n",
       "      <td>True</td>\n",
       "      <td>OUT</td>\n",
       "      <td>5</td>\n",
       "      <td>2018111105349251</td>\n",
       "      <td>2559248</td>\n",
       "      <td>2561272</td>\n",
       "      <td>6.403780</td>\n",
       "      <td>2550257</td>\n",
       "      <td>0.650000</td>\n",
       "      <td>Ricky Seals-Jones</td>\n",
       "      <td>Trent Sherfield</td>\n",
       "      <td>Daniel Sorensen</td>\n",
       "      <td>None</td>\n",
       "      <td>2559248</td>\n",
       "      <td>2550257</td>\n",
       "      <td>0.650000</td>\n",
       "      <td>3.392285</td>\n",
       "      <td>2.836353</td>\n",
       "      <td>0</td>\n",
       "      <td>0</td>\n",
       "      <td>0</td>\n",
       "      <td>0.971636</td>\n",
       "    </tr>\n",
       "    <tr>\n",
       "      <th>774</th>\n",
       "      <td>2018111105</td>\n",
       "      <td>3492</td>\n",
       "      <td>(4:31) (No Huddle, Shotgun) J.Rosen pass short...</td>\n",
       "      <td>2018-11-11</td>\n",
       "      <td>13:00:00</td>\n",
       "      <td>KC</td>\n",
       "      <td>ARI</td>\n",
       "      <td>10</td>\n",
       "      <td>2018-11-11T20:40:35.000Z</td>\n",
       "      <td>59.23</td>\n",
       "      <td>7.21</td>\n",
       "      <td>4.34</td>\n",
       "      <td>3.36</td>\n",
       "      <td>0.44</td>\n",
       "      <td>105.52</td>\n",
       "      <td>142.96</td>\n",
       "      <td>None</td>\n",
       "      <td>2559248</td>\n",
       "      <td>Ricky Seals-Jones</td>\n",
       "      <td>86.0</td>\n",
       "      <td>TE</td>\n",
       "      <td>52</td>\n",
       "      <td>away</td>\n",
       "      <td>True</td>\n",
       "      <td>OUT</td>\n",
       "      <td>5</td>\n",
       "      <td>2018111105349252</td>\n",
       "      <td>2559248</td>\n",
       "      <td>2561272</td>\n",
       "      <td>6.360031</td>\n",
       "      <td>2550257</td>\n",
       "      <td>0.765506</td>\n",
       "      <td>Ricky Seals-Jones</td>\n",
       "      <td>Trent Sherfield</td>\n",
       "      <td>Daniel Sorensen</td>\n",
       "      <td>None</td>\n",
       "      <td>2559248</td>\n",
       "      <td>2550257</td>\n",
       "      <td>0.765506</td>\n",
       "      <td>3.829843</td>\n",
       "      <td>3.265593</td>\n",
       "      <td>0</td>\n",
       "      <td>0</td>\n",
       "      <td>0</td>\n",
       "      <td>0.967344</td>\n",
       "    </tr>\n",
       "    <tr>\n",
       "      <th>789</th>\n",
       "      <td>2018111105</td>\n",
       "      <td>3492</td>\n",
       "      <td>(4:31) (No Huddle, Shotgun) J.Rosen pass short...</td>\n",
       "      <td>2018-11-11</td>\n",
       "      <td>13:00:00</td>\n",
       "      <td>KC</td>\n",
       "      <td>ARI</td>\n",
       "      <td>10</td>\n",
       "      <td>2018-11-11T20:40:35.099Z</td>\n",
       "      <td>59.48</td>\n",
       "      <td>6.90</td>\n",
       "      <td>3.91</td>\n",
       "      <td>3.39</td>\n",
       "      <td>0.40</td>\n",
       "      <td>53.42</td>\n",
       "      <td>139.69</td>\n",
       "      <td>None</td>\n",
       "      <td>2559248</td>\n",
       "      <td>Ricky Seals-Jones</td>\n",
       "      <td>86.0</td>\n",
       "      <td>TE</td>\n",
       "      <td>53</td>\n",
       "      <td>away</td>\n",
       "      <td>True</td>\n",
       "      <td>OUT</td>\n",
       "      <td>5</td>\n",
       "      <td>2018111105349253</td>\n",
       "      <td>2559248</td>\n",
       "      <td>2561272</td>\n",
       "      <td>6.280963</td>\n",
       "      <td>2550257</td>\n",
       "      <td>0.855102</td>\n",
       "      <td>Ricky Seals-Jones</td>\n",
       "      <td>Trent Sherfield</td>\n",
       "      <td>Daniel Sorensen</td>\n",
       "      <td>None</td>\n",
       "      <td>2559248</td>\n",
       "      <td>2550257</td>\n",
       "      <td>0.855102</td>\n",
       "      <td>4.225222</td>\n",
       "      <td>3.693846</td>\n",
       "      <td>0</td>\n",
       "      <td>0</td>\n",
       "      <td>0</td>\n",
       "      <td>0.963062</td>\n",
       "    </tr>\n",
       "    <tr>\n",
       "      <th>804</th>\n",
       "      <td>2018111105</td>\n",
       "      <td>3492</td>\n",
       "      <td>(4:31) (No Huddle, Shotgun) J.Rosen pass short...</td>\n",
       "      <td>2018-11-11</td>\n",
       "      <td>13:00:00</td>\n",
       "      <td>KC</td>\n",
       "      <td>ARI</td>\n",
       "      <td>10</td>\n",
       "      <td>2018-11-11T20:40:35.200Z</td>\n",
       "      <td>59.72</td>\n",
       "      <td>6.63</td>\n",
       "      <td>3.46</td>\n",
       "      <td>3.83</td>\n",
       "      <td>0.36</td>\n",
       "      <td>33.52</td>\n",
       "      <td>136.18</td>\n",
       "      <td>None</td>\n",
       "      <td>2559248</td>\n",
       "      <td>Ricky Seals-Jones</td>\n",
       "      <td>86.0</td>\n",
       "      <td>TE</td>\n",
       "      <td>54</td>\n",
       "      <td>away</td>\n",
       "      <td>True</td>\n",
       "      <td>OUT</td>\n",
       "      <td>5</td>\n",
       "      <td>2018111105349254</td>\n",
       "      <td>2559248</td>\n",
       "      <td>2561272</td>\n",
       "      <td>6.163246</td>\n",
       "      <td>2550257</td>\n",
       "      <td>0.942603</td>\n",
       "      <td>Ricky Seals-Jones</td>\n",
       "      <td>Trent Sherfield</td>\n",
       "      <td>Daniel Sorensen</td>\n",
       "      <td>None</td>\n",
       "      <td>2559248</td>\n",
       "      <td>2550257</td>\n",
       "      <td>0.942603</td>\n",
       "      <td>4.582096</td>\n",
       "      <td>4.080012</td>\n",
       "      <td>0</td>\n",
       "      <td>0</td>\n",
       "      <td>0</td>\n",
       "      <td>0.959200</td>\n",
       "    </tr>\n",
       "    <tr>\n",
       "      <th>819</th>\n",
       "      <td>2018111105</td>\n",
       "      <td>3492</td>\n",
       "      <td>(4:31) (No Huddle, Shotgun) J.Rosen pass short...</td>\n",
       "      <td>2018-11-11</td>\n",
       "      <td>13:00:00</td>\n",
       "      <td>KC</td>\n",
       "      <td>ARI</td>\n",
       "      <td>10</td>\n",
       "      <td>2018-11-11T20:40:35.299Z</td>\n",
       "      <td>59.95</td>\n",
       "      <td>6.40</td>\n",
       "      <td>3.03</td>\n",
       "      <td>4.04</td>\n",
       "      <td>0.32</td>\n",
       "      <td>3.88</td>\n",
       "      <td>134.16</td>\n",
       "      <td>tackle</td>\n",
       "      <td>2559248</td>\n",
       "      <td>Ricky Seals-Jones</td>\n",
       "      <td>86.0</td>\n",
       "      <td>TE</td>\n",
       "      <td>55</td>\n",
       "      <td>away</td>\n",
       "      <td>True</td>\n",
       "      <td>OUT</td>\n",
       "      <td>5</td>\n",
       "      <td>2018111105349255</td>\n",
       "      <td>2559248</td>\n",
       "      <td>2561272</td>\n",
       "      <td>6.024782</td>\n",
       "      <td>2550257</td>\n",
       "      <td>1.010050</td>\n",
       "      <td>Ricky Seals-Jones</td>\n",
       "      <td>Trent Sherfield</td>\n",
       "      <td>Daniel Sorensen</td>\n",
       "      <td>tackle</td>\n",
       "      <td>2559248</td>\n",
       "      <td>2550257</td>\n",
       "      <td>1.010050</td>\n",
       "      <td>4.900796</td>\n",
       "      <td>4.427731</td>\n",
       "      <td>0</td>\n",
       "      <td>0</td>\n",
       "      <td>0</td>\n",
       "      <td>0.955723</td>\n",
       "    </tr>\n",
       "    <tr>\n",
       "      <th>834</th>\n",
       "      <td>2018111105</td>\n",
       "      <td>3492</td>\n",
       "      <td>(4:31) (No Huddle, Shotgun) J.Rosen pass short...</td>\n",
       "      <td>2018-11-11</td>\n",
       "      <td>13:00:00</td>\n",
       "      <td>KC</td>\n",
       "      <td>ARI</td>\n",
       "      <td>10</td>\n",
       "      <td>2018-11-11T20:40:35.400Z</td>\n",
       "      <td>60.14</td>\n",
       "      <td>6.21</td>\n",
       "      <td>2.53</td>\n",
       "      <td>4.16</td>\n",
       "      <td>0.27</td>\n",
       "      <td>322.49</td>\n",
       "      <td>132.90</td>\n",
       "      <td>None</td>\n",
       "      <td>2559248</td>\n",
       "      <td>Ricky Seals-Jones</td>\n",
       "      <td>86.0</td>\n",
       "      <td>TE</td>\n",
       "      <td>56</td>\n",
       "      <td>away</td>\n",
       "      <td>True</td>\n",
       "      <td>OUT</td>\n",
       "      <td>5</td>\n",
       "      <td>2018111105349256</td>\n",
       "      <td>2559248</td>\n",
       "      <td>2561272</td>\n",
       "      <td>5.884896</td>\n",
       "      <td>2550257</td>\n",
       "      <td>1.055746</td>\n",
       "      <td>Ricky Seals-Jones</td>\n",
       "      <td>Trent Sherfield</td>\n",
       "      <td>Daniel Sorensen</td>\n",
       "      <td>None</td>\n",
       "      <td>2559248</td>\n",
       "      <td>2550257</td>\n",
       "      <td>1.055746</td>\n",
       "      <td>5.164688</td>\n",
       "      <td>4.753294</td>\n",
       "      <td>0</td>\n",
       "      <td>0</td>\n",
       "      <td>0</td>\n",
       "      <td>0.952467</td>\n",
       "    </tr>\n",
       "  </tbody>\n",
       "</table>\n",
       "</div>"
      ],
      "text/plain": [
       "         gameId playId                                    playDescription   gameDate  \\\n",
       "9    2018111105   3492  (4:31) (No Huddle, Shotgun) J.Rosen pass short... 2018-11-11   \n",
       "24   2018111105   3492  (4:31) (No Huddle, Shotgun) J.Rosen pass short... 2018-11-11   \n",
       "39   2018111105   3492  (4:31) (No Huddle, Shotgun) J.Rosen pass short... 2018-11-11   \n",
       "54   2018111105   3492  (4:31) (No Huddle, Shotgun) J.Rosen pass short... 2018-11-11   \n",
       "69   2018111105   3492  (4:31) (No Huddle, Shotgun) J.Rosen pass short... 2018-11-11   \n",
       "84   2018111105   3492  (4:31) (No Huddle, Shotgun) J.Rosen pass short... 2018-11-11   \n",
       "99   2018111105   3492  (4:31) (No Huddle, Shotgun) J.Rosen pass short... 2018-11-11   \n",
       "114  2018111105   3492  (4:31) (No Huddle, Shotgun) J.Rosen pass short... 2018-11-11   \n",
       "129  2018111105   3492  (4:31) (No Huddle, Shotgun) J.Rosen pass short... 2018-11-11   \n",
       "144  2018111105   3492  (4:31) (No Huddle, Shotgun) J.Rosen pass short... 2018-11-11   \n",
       "159  2018111105   3492  (4:31) (No Huddle, Shotgun) J.Rosen pass short... 2018-11-11   \n",
       "174  2018111105   3492  (4:31) (No Huddle, Shotgun) J.Rosen pass short... 2018-11-11   \n",
       "189  2018111105   3492  (4:31) (No Huddle, Shotgun) J.Rosen pass short... 2018-11-11   \n",
       "204  2018111105   3492  (4:31) (No Huddle, Shotgun) J.Rosen pass short... 2018-11-11   \n",
       "219  2018111105   3492  (4:31) (No Huddle, Shotgun) J.Rosen pass short... 2018-11-11   \n",
       "234  2018111105   3492  (4:31) (No Huddle, Shotgun) J.Rosen pass short... 2018-11-11   \n",
       "249  2018111105   3492  (4:31) (No Huddle, Shotgun) J.Rosen pass short... 2018-11-11   \n",
       "264  2018111105   3492  (4:31) (No Huddle, Shotgun) J.Rosen pass short... 2018-11-11   \n",
       "279  2018111105   3492  (4:31) (No Huddle, Shotgun) J.Rosen pass short... 2018-11-11   \n",
       "294  2018111105   3492  (4:31) (No Huddle, Shotgun) J.Rosen pass short... 2018-11-11   \n",
       "309  2018111105   3492  (4:31) (No Huddle, Shotgun) J.Rosen pass short... 2018-11-11   \n",
       "324  2018111105   3492  (4:31) (No Huddle, Shotgun) J.Rosen pass short... 2018-11-11   \n",
       "339  2018111105   3492  (4:31) (No Huddle, Shotgun) J.Rosen pass short... 2018-11-11   \n",
       "354  2018111105   3492  (4:31) (No Huddle, Shotgun) J.Rosen pass short... 2018-11-11   \n",
       "369  2018111105   3492  (4:31) (No Huddle, Shotgun) J.Rosen pass short... 2018-11-11   \n",
       "384  2018111105   3492  (4:31) (No Huddle, Shotgun) J.Rosen pass short... 2018-11-11   \n",
       "399  2018111105   3492  (4:31) (No Huddle, Shotgun) J.Rosen pass short... 2018-11-11   \n",
       "414  2018111105   3492  (4:31) (No Huddle, Shotgun) J.Rosen pass short... 2018-11-11   \n",
       "429  2018111105   3492  (4:31) (No Huddle, Shotgun) J.Rosen pass short... 2018-11-11   \n",
       "444  2018111105   3492  (4:31) (No Huddle, Shotgun) J.Rosen pass short... 2018-11-11   \n",
       "459  2018111105   3492  (4:31) (No Huddle, Shotgun) J.Rosen pass short... 2018-11-11   \n",
       "474  2018111105   3492  (4:31) (No Huddle, Shotgun) J.Rosen pass short... 2018-11-11   \n",
       "489  2018111105   3492  (4:31) (No Huddle, Shotgun) J.Rosen pass short... 2018-11-11   \n",
       "504  2018111105   3492  (4:31) (No Huddle, Shotgun) J.Rosen pass short... 2018-11-11   \n",
       "519  2018111105   3492  (4:31) (No Huddle, Shotgun) J.Rosen pass short... 2018-11-11   \n",
       "534  2018111105   3492  (4:31) (No Huddle, Shotgun) J.Rosen pass short... 2018-11-11   \n",
       "549  2018111105   3492  (4:31) (No Huddle, Shotgun) J.Rosen pass short... 2018-11-11   \n",
       "564  2018111105   3492  (4:31) (No Huddle, Shotgun) J.Rosen pass short... 2018-11-11   \n",
       "579  2018111105   3492  (4:31) (No Huddle, Shotgun) J.Rosen pass short... 2018-11-11   \n",
       "594  2018111105   3492  (4:31) (No Huddle, Shotgun) J.Rosen pass short... 2018-11-11   \n",
       "609  2018111105   3492  (4:31) (No Huddle, Shotgun) J.Rosen pass short... 2018-11-11   \n",
       "624  2018111105   3492  (4:31) (No Huddle, Shotgun) J.Rosen pass short... 2018-11-11   \n",
       "639  2018111105   3492  (4:31) (No Huddle, Shotgun) J.Rosen pass short... 2018-11-11   \n",
       "654  2018111105   3492  (4:31) (No Huddle, Shotgun) J.Rosen pass short... 2018-11-11   \n",
       "669  2018111105   3492  (4:31) (No Huddle, Shotgun) J.Rosen pass short... 2018-11-11   \n",
       "684  2018111105   3492  (4:31) (No Huddle, Shotgun) J.Rosen pass short... 2018-11-11   \n",
       "699  2018111105   3492  (4:31) (No Huddle, Shotgun) J.Rosen pass short... 2018-11-11   \n",
       "714  2018111105   3492  (4:31) (No Huddle, Shotgun) J.Rosen pass short... 2018-11-11   \n",
       "729  2018111105   3492  (4:31) (No Huddle, Shotgun) J.Rosen pass short... 2018-11-11   \n",
       "744  2018111105   3492  (4:31) (No Huddle, Shotgun) J.Rosen pass short... 2018-11-11   \n",
       "759  2018111105   3492  (4:31) (No Huddle, Shotgun) J.Rosen pass short... 2018-11-11   \n",
       "774  2018111105   3492  (4:31) (No Huddle, Shotgun) J.Rosen pass short... 2018-11-11   \n",
       "789  2018111105   3492  (4:31) (No Huddle, Shotgun) J.Rosen pass short... 2018-11-11   \n",
       "804  2018111105   3492  (4:31) (No Huddle, Shotgun) J.Rosen pass short... 2018-11-11   \n",
       "819  2018111105   3492  (4:31) (No Huddle, Shotgun) J.Rosen pass short... 2018-11-11   \n",
       "834  2018111105   3492  (4:31) (No Huddle, Shotgun) J.Rosen pass short... 2018-11-11   \n",
       "\n",
       "    gameTimeEastern homeTeamAbbr visitorTeamAbbr  week                      time      x      y  \\\n",
       "9          13:00:00           KC             ARI    10  2018-11-11T20:40:29.900Z  49.00  17.69   \n",
       "24         13:00:00           KC             ARI    10  2018-11-11T20:40:30.000Z  48.99  17.69   \n",
       "39         13:00:00           KC             ARI    10  2018-11-11T20:40:30.099Z  48.99  17.69   \n",
       "54         13:00:00           KC             ARI    10  2018-11-11T20:40:30.200Z  48.99  17.69   \n",
       "69         13:00:00           KC             ARI    10  2018-11-11T20:40:30.299Z  48.99  17.70   \n",
       "84         13:00:00           KC             ARI    10  2018-11-11T20:40:30.400Z  48.99  17.69   \n",
       "99         13:00:00           KC             ARI    10  2018-11-11T20:40:30.500Z  48.99  17.69   \n",
       "114        13:00:00           KC             ARI    10  2018-11-11T20:40:30.599Z  49.00  17.69   \n",
       "129        13:00:00           KC             ARI    10  2018-11-11T20:40:30.700Z  49.00  17.69   \n",
       "144        13:00:00           KC             ARI    10  2018-11-11T20:40:30.799Z  49.00  17.70   \n",
       "159        13:00:00           KC             ARI    10  2018-11-11T20:40:30.900Z  49.03  17.69   \n",
       "174        13:00:00           KC             ARI    10  2018-11-11T20:40:31.000Z  49.07  17.69   \n",
       "189        13:00:00           KC             ARI    10  2018-11-11T20:40:31.099Z  49.17  17.68   \n",
       "204        13:00:00           KC             ARI    10  2018-11-11T20:40:31.200Z  49.29  17.65   \n",
       "219        13:00:00           KC             ARI    10  2018-11-11T20:40:31.299Z  49.49  17.61   \n",
       "234        13:00:00           KC             ARI    10  2018-11-11T20:40:31.400Z  49.73  17.56   \n",
       "249        13:00:00           KC             ARI    10  2018-11-11T20:40:31.500Z  50.00  17.50   \n",
       "264        13:00:00           KC             ARI    10  2018-11-11T20:40:31.599Z  50.33  17.43   \n",
       "279        13:00:00           KC             ARI    10  2018-11-11T20:40:31.700Z  50.71  17.35   \n",
       "294        13:00:00           KC             ARI    10  2018-11-11T20:40:31.799Z  51.13  17.25   \n",
       "309        13:00:00           KC             ARI    10  2018-11-11T20:40:31.900Z  51.60  17.15   \n",
       "324        13:00:00           KC             ARI    10  2018-11-11T20:40:32.000Z  52.10  17.05   \n",
       "339        13:00:00           KC             ARI    10  2018-11-11T20:40:32.099Z  52.63  16.94   \n",
       "354        13:00:00           KC             ARI    10  2018-11-11T20:40:32.200Z  53.19  16.83   \n",
       "369        13:00:00           KC             ARI    10  2018-11-11T20:40:32.299Z  53.76  16.71   \n",
       "384        13:00:00           KC             ARI    10  2018-11-11T20:40:32.400Z  54.34  16.59   \n",
       "399        13:00:00           KC             ARI    10  2018-11-11T20:40:32.500Z  54.92  16.46   \n",
       "414        13:00:00           KC             ARI    10  2018-11-11T20:40:32.599Z  55.48  16.32   \n",
       "429        13:00:00           KC             ARI    10  2018-11-11T20:40:32.700Z  56.02  16.17   \n",
       "444        13:00:00           KC             ARI    10  2018-11-11T20:40:32.799Z  56.52  16.01   \n",
       "459        13:00:00           KC             ARI    10  2018-11-11T20:40:32.900Z  56.97  15.81   \n",
       "474        13:00:00           KC             ARI    10  2018-11-11T20:40:33.000Z  57.36  15.58   \n",
       "489        13:00:00           KC             ARI    10  2018-11-11T20:40:33.099Z  57.69  15.33   \n",
       "504        13:00:00           KC             ARI    10  2018-11-11T20:40:33.200Z  57.96  15.03   \n",
       "519        13:00:00           KC             ARI    10  2018-11-11T20:40:33.299Z  58.17  14.71   \n",
       "534        13:00:00           KC             ARI    10  2018-11-11T20:40:33.400Z  58.32  14.35   \n",
       "549        13:00:00           KC             ARI    10  2018-11-11T20:40:33.500Z  58.42  13.96   \n",
       "564        13:00:00           KC             ARI    10  2018-11-11T20:40:33.599Z  58.47  13.53   \n",
       "579        13:00:00           KC             ARI    10  2018-11-11T20:40:33.700Z  58.47  13.09   \n",
       "594        13:00:00           KC             ARI    10  2018-11-11T20:40:33.799Z  58.44  12.64   \n",
       "609        13:00:00           KC             ARI    10  2018-11-11T20:40:33.900Z  58.40  12.17   \n",
       "624        13:00:00           KC             ARI    10  2018-11-11T20:40:34.000Z  58.34  11.69   \n",
       "639        13:00:00           KC             ARI    10  2018-11-11T20:40:34.099Z  58.29  11.21   \n",
       "654        13:00:00           KC             ARI    10  2018-11-11T20:40:34.200Z  58.24  10.72   \n",
       "669        13:00:00           KC             ARI    10  2018-11-11T20:40:34.299Z  58.22  10.24   \n",
       "684        13:00:00           KC             ARI    10  2018-11-11T20:40:34.400Z  58.23   9.76   \n",
       "699        13:00:00           KC             ARI    10  2018-11-11T20:40:34.500Z  58.29   9.29   \n",
       "714        13:00:00           KC             ARI    10  2018-11-11T20:40:34.599Z  58.40   8.83   \n",
       "729        13:00:00           KC             ARI    10  2018-11-11T20:40:34.700Z  58.55   8.39   \n",
       "744        13:00:00           KC             ARI    10  2018-11-11T20:40:34.799Z  58.75   7.96   \n",
       "759        13:00:00           KC             ARI    10  2018-11-11T20:40:34.900Z  58.98   7.57   \n",
       "774        13:00:00           KC             ARI    10  2018-11-11T20:40:35.000Z  59.23   7.21   \n",
       "789        13:00:00           KC             ARI    10  2018-11-11T20:40:35.099Z  59.48   6.90   \n",
       "804        13:00:00           KC             ARI    10  2018-11-11T20:40:35.200Z  59.72   6.63   \n",
       "819        13:00:00           KC             ARI    10  2018-11-11T20:40:35.299Z  59.95   6.40   \n",
       "834        13:00:00           KC             ARI    10  2018-11-11T20:40:35.400Z  60.14   6.21   \n",
       "\n",
       "        s     a   dis       o     dir                event    nflId        displayName  \\\n",
       "9    0.00  0.00  0.00   73.85  155.04                 None  2559248  Ricky Seals-Jones   \n",
       "24   0.00  0.00  0.00   73.85  155.93                 None  2559248  Ricky Seals-Jones   \n",
       "39   0.00  0.00  0.00   72.21  157.08                 None  2559248  Ricky Seals-Jones   \n",
       "54   0.00  0.00  0.00   72.21  157.56             line_set  2559248  Ricky Seals-Jones   \n",
       "69   0.00  0.00  0.00   72.21  157.40                 None  2559248  Ricky Seals-Jones   \n",
       "84   0.00  0.00  0.00   72.21  158.91                 None  2559248  Ricky Seals-Jones   \n",
       "99   0.00  0.00  0.00   72.21  158.45                 None  2559248  Ricky Seals-Jones   \n",
       "114  0.00  0.00  0.00   72.21  155.84                 None  2559248  Ricky Seals-Jones   \n",
       "129  0.00  0.11  0.00   72.21   59.50                 None  2559248  Ricky Seals-Jones   \n",
       "144  0.06  0.55  0.01   72.21   73.14                 None  2559248  Ricky Seals-Jones   \n",
       "159  0.28  1.64  0.03   74.00   92.94            ball_snap  2559248  Ricky Seals-Jones   \n",
       "174  0.53  2.07  0.04   76.08   91.99                 None  2559248  Ricky Seals-Jones   \n",
       "189  0.95  2.81  0.09   76.08   96.27                 None  2559248  Ricky Seals-Jones   \n",
       "204  1.33  3.01  0.13   78.27   98.96                 None  2559248  Ricky Seals-Jones   \n",
       "219  1.93  3.77  0.20   79.01  101.55                 None  2559248  Ricky Seals-Jones   \n",
       "234  2.50  4.09  0.25   77.30  102.03                 None  2559248  Ricky Seals-Jones   \n",
       "249  2.94  3.75  0.28   80.38  102.26                 None  2559248  Ricky Seals-Jones   \n",
       "264  3.44  3.77  0.33   78.99  102.83                 None  2559248  Ricky Seals-Jones   \n",
       "279  4.07  4.16  0.39   82.41  102.20                 None  2559248  Ricky Seals-Jones   \n",
       "294  4.54  3.93  0.43   82.41  102.04                 None  2559248  Ricky Seals-Jones   \n",
       "309  4.92  3.21  0.48   80.36  102.09                 None  2559248  Ricky Seals-Jones   \n",
       "324  5.27  2.57  0.51   79.44  101.52                 None  2559248  Ricky Seals-Jones   \n",
       "339  5.56  2.07  0.54   75.34  101.29                 None  2559248  Ricky Seals-Jones   \n",
       "354  5.75  1.44  0.57   74.18  101.41                 None  2559248  Ricky Seals-Jones   \n",
       "369  5.89  0.83  0.58   72.39  101.49                 None  2559248  Ricky Seals-Jones   \n",
       "384  5.96  0.28  0.60   70.79  101.90                 None  2559248  Ricky Seals-Jones   \n",
       "399  5.91  0.54  0.59   73.18  102.66                 None  2559248  Ricky Seals-Jones   \n",
       "414  5.73  1.39  0.58   77.07  103.75                 None  2559248  Ricky Seals-Jones   \n",
       "429  5.54  2.00  0.56   83.64  105.66                 None  2559248  Ricky Seals-Jones   \n",
       "444  5.16  3.00  0.52   92.91  108.73                 None  2559248  Ricky Seals-Jones   \n",
       "459  4.77  4.28  0.49  113.97  115.56                 None  2559248  Ricky Seals-Jones   \n",
       "474  4.43  5.10  0.45  142.62  122.54                 None  2559248  Ricky Seals-Jones   \n",
       "489  4.10  5.38  0.42  180.97  130.49                 None  2559248  Ricky Seals-Jones   \n",
       "504  3.90  5.66  0.40  230.54  141.00                 None  2559248  Ricky Seals-Jones   \n",
       "519  3.85  5.83  0.39  236.20  152.05                 None  2559248  Ricky Seals-Jones   \n",
       "534  3.90  5.68  0.39  242.88  161.34         pass_forward  2559248  Ricky Seals-Jones   \n",
       "549  4.08  5.05  0.40  248.16  169.31                 None  2559248  Ricky Seals-Jones   \n",
       "564  4.34  4.55  0.43  251.77  176.39                 None  2559248  Ricky Seals-Jones   \n",
       "579  4.50  3.86  0.44  250.21  181.70                 None  2559248  Ricky Seals-Jones   \n",
       "594  4.64  3.09  0.46  250.21  185.44                 None  2559248  Ricky Seals-Jones   \n",
       "609  4.75  2.15  0.47  246.95  187.33                 None  2559248  Ricky Seals-Jones   \n",
       "624  4.84  1.00  0.48  237.33  186.95                 None  2559248  Ricky Seals-Jones   \n",
       "639  4.84  0.19  0.48  229.15  186.07                 None  2559248  Ricky Seals-Jones   \n",
       "654  4.81  0.95  0.48  219.05  184.50         pass_arrived  2559248  Ricky Seals-Jones   \n",
       "669  4.85  1.81  0.48  204.57  181.15                 None  2559248  Ricky Seals-Jones   \n",
       "684  4.77  2.88  0.48  195.27  175.62                 None  2559248  Ricky Seals-Jones   \n",
       "699  4.70  3.47  0.47  185.57  170.22  pass_outcome_caught  2559248  Ricky Seals-Jones   \n",
       "714  4.68  3.68  0.47  174.51  164.59                 None  2559248  Ricky Seals-Jones   \n",
       "729  4.71  3.86  0.47  158.57  158.23                 None  2559248  Ricky Seals-Jones   \n",
       "744  4.61  3.94  0.46  142.06  152.21                 None  2559248  Ricky Seals-Jones   \n",
       "759  4.51  3.75  0.45  125.17  147.14                 None  2559248  Ricky Seals-Jones   \n",
       "774  4.34  3.36  0.44  105.52  142.96                 None  2559248  Ricky Seals-Jones   \n",
       "789  3.91  3.39  0.40   53.42  139.69                 None  2559248  Ricky Seals-Jones   \n",
       "804  3.46  3.83  0.36   33.52  136.18                 None  2559248  Ricky Seals-Jones   \n",
       "819  3.03  4.04  0.32    3.88  134.16               tackle  2559248  Ricky Seals-Jones   \n",
       "834  2.53  4.16  0.27  322.49  132.90                 None  2559248  Ricky Seals-Jones   \n",
       "\n",
       "     jerseyNumber position  frameId  team  playDirection route  size                ID player_1  \\\n",
       "9            86.0       TE        1  away           True   OUT     5   201811110534921  2559248   \n",
       "24           86.0       TE        2  away           True   OUT     5   201811110534922  2559248   \n",
       "39           86.0       TE        3  away           True   OUT     5   201811110534923  2559248   \n",
       "54           86.0       TE        4  away           True   OUT     5   201811110534924  2559248   \n",
       "69           86.0       TE        5  away           True   OUT     5   201811110534925  2559248   \n",
       "84           86.0       TE        6  away           True   OUT     5   201811110534926  2559248   \n",
       "99           86.0       TE        7  away           True   OUT     5   201811110534927  2559248   \n",
       "114          86.0       TE        8  away           True   OUT     5   201811110534928  2559248   \n",
       "129          86.0       TE        9  away           True   OUT     5   201811110534929  2559248   \n",
       "144          86.0       TE       10  away           True   OUT     5  2018111105349210  2559248   \n",
       "159          86.0       TE       11  away           True   OUT     5  2018111105349211  2559248   \n",
       "174          86.0       TE       12  away           True   OUT     5  2018111105349212  2559248   \n",
       "189          86.0       TE       13  away           True   OUT     5  2018111105349213  2559248   \n",
       "204          86.0       TE       14  away           True   OUT     5  2018111105349214  2559248   \n",
       "219          86.0       TE       15  away           True   OUT     5  2018111105349215  2559248   \n",
       "234          86.0       TE       16  away           True   OUT     5  2018111105349216  2559248   \n",
       "249          86.0       TE       17  away           True   OUT     5  2018111105349217  2559248   \n",
       "264          86.0       TE       18  away           True   OUT     5  2018111105349218  2559248   \n",
       "279          86.0       TE       19  away           True   OUT     5  2018111105349219  2559248   \n",
       "294          86.0       TE       20  away           True   OUT     5  2018111105349220  2559248   \n",
       "309          86.0       TE       21  away           True   OUT     5  2018111105349221  2559248   \n",
       "324          86.0       TE       22  away           True   OUT     5  2018111105349222  2559248   \n",
       "339          86.0       TE       23  away           True   OUT     5  2018111105349223  2559248   \n",
       "354          86.0       TE       24  away           True   OUT     5  2018111105349224  2559248   \n",
       "369          86.0       TE       25  away           True   OUT     5  2018111105349225  2559248   \n",
       "384          86.0       TE       26  away           True   OUT     5  2018111105349226  2559248   \n",
       "399          86.0       TE       27  away           True   OUT     5  2018111105349227  2559248   \n",
       "414          86.0       TE       28  away           True   OUT     5  2018111105349228  2559248   \n",
       "429          86.0       TE       29  away           True   OUT     5  2018111105349229  2559248   \n",
       "444          86.0       TE       30  away           True   OUT     5  2018111105349230  2559248   \n",
       "459          86.0       TE       31  away           True   OUT     5  2018111105349231  2559248   \n",
       "474          86.0       TE       32  away           True   OUT     5  2018111105349232  2559248   \n",
       "489          86.0       TE       33  away           True   OUT     5  2018111105349233  2559248   \n",
       "504          86.0       TE       34  away           True   OUT     5  2018111105349234  2559248   \n",
       "519          86.0       TE       35  away           True   OUT     5  2018111105349235  2559248   \n",
       "534          86.0       TE       36  away           True   OUT     5  2018111105349236  2559248   \n",
       "549          86.0       TE       37  away           True   OUT     5  2018111105349237  2559248   \n",
       "564          86.0       TE       38  away           True   OUT     5  2018111105349238  2559248   \n",
       "579          86.0       TE       39  away           True   OUT     5  2018111105349239  2559248   \n",
       "594          86.0       TE       40  away           True   OUT     5  2018111105349240  2559248   \n",
       "609          86.0       TE       41  away           True   OUT     5  2018111105349241  2559248   \n",
       "624          86.0       TE       42  away           True   OUT     5  2018111105349242  2559248   \n",
       "639          86.0       TE       43  away           True   OUT     5  2018111105349243  2559248   \n",
       "654          86.0       TE       44  away           True   OUT     5  2018111105349244  2559248   \n",
       "669          86.0       TE       45  away           True   OUT     5  2018111105349245  2559248   \n",
       "684          86.0       TE       46  away           True   OUT     5  2018111105349246  2559248   \n",
       "699          86.0       TE       47  away           True   OUT     5  2018111105349247  2559248   \n",
       "714          86.0       TE       48  away           True   OUT     5  2018111105349248  2559248   \n",
       "729          86.0       TE       49  away           True   OUT     5  2018111105349249  2559248   \n",
       "744          86.0       TE       50  away           True   OUT     5  2018111105349250  2559248   \n",
       "759          86.0       TE       51  away           True   OUT     5  2018111105349251  2559248   \n",
       "774          86.0       TE       52  away           True   OUT     5  2018111105349252  2559248   \n",
       "789          86.0       TE       53  away           True   OUT     5  2018111105349253  2559248   \n",
       "804          86.0       TE       54  away           True   OUT     5  2018111105349254  2559248   \n",
       "819          86.0       TE       55  away           True   OUT     5  2018111105349255  2559248   \n",
       "834          86.0       TE       56  away           True   OUT     5  2018111105349256  2559248   \n",
       "\n",
       "    closest_offense_ID  closest_offense closest_defense_ID  closest_defense      player_1_name  \\\n",
       "9              2561272         6.761139            2550257         3.796169  Ricky Seals-Jones   \n",
       "24             2561272         6.758713            2550257         3.795260  Ricky Seals-Jones   \n",
       "39             2561272         6.758713            2550257         3.796169  Ricky Seals-Jones   \n",
       "54             2561272         6.757522            2550257         3.787149  Ricky Seals-Jones   \n",
       "69             2561272         6.766277            2550257         3.778161  Ricky Seals-Jones   \n",
       "84             2561272         6.766277            2550257         3.779153  Ricky Seals-Jones   \n",
       "99             2561272         6.765116            2550257         3.779153  Ricky Seals-Jones   \n",
       "114            2561272         6.766277            2550257         3.767240  Ricky Seals-Jones   \n",
       "129            2561272         6.776208            2550257         3.767240  Ricky Seals-Jones   \n",
       "144            2561272         6.784983            2550257         3.765382  Ricky Seals-Jones   \n",
       "159            2561272         6.777382            2550257         3.737379  Ricky Seals-Jones   \n",
       "174            2561272         6.780988            2550257         3.699568  Ricky Seals-Jones   \n",
       "189            2561272         6.791244            2550257         3.602277  Ricky Seals-Jones   \n",
       "204            2561272         6.778326            2550257         3.518892  Ricky Seals-Jones   \n",
       "219            2561272         6.773456            2550257         3.354519  Ricky Seals-Jones   \n",
       "234            2561272         6.770118            2550257         3.163037  Ricky Seals-Jones   \n",
       "249            2561272         6.786118            2550257         2.928020  Ricky Seals-Jones   \n",
       "264            2561272         6.803271            2550257         2.638788  Ricky Seals-Jones   \n",
       "279            2561272         6.845334            2550257         2.356374  Ricky Seals-Jones   \n",
       "294            2561272         6.869476            2550257         2.070604  Ricky Seals-Jones   \n",
       "309            2561272         6.919552            2550257         1.815737  Ricky Seals-Jones   \n",
       "324            2561272         6.988462            2550257         1.584740  Ricky Seals-Jones   \n",
       "339            2561272         7.061707            2550257         1.380580  Ricky Seals-Jones   \n",
       "354            2561272         7.136792            2550257         1.195533  Ricky Seals-Jones   \n",
       "369            2561272         7.207586            2550257         1.067801  Ricky Seals-Jones   \n",
       "384            2561272         7.260689            2550257         0.976934  Ricky Seals-Jones   \n",
       "399            2561272         7.298548            2550257         0.939415  Ricky Seals-Jones   \n",
       "414            2561272         7.314404            2550257         0.940851  Ricky Seals-Jones   \n",
       "429            2561272         7.311197            2550257         0.974166  Ricky Seals-Jones   \n",
       "444            2561272         7.267379            2550257         1.025914  Ricky Seals-Jones   \n",
       "459            2561272         7.146363            2550257         1.104219  Ricky Seals-Jones   \n",
       "474            2561272         6.967352            2550257         1.184567  Ricky Seals-Jones   \n",
       "489            2561272         6.745799            2550257         1.261150  Ricky Seals-Jones   \n",
       "504            2561272         6.464921            2550257         1.353403  Ricky Seals-Jones   \n",
       "519            2561272         6.152276            2550257         1.445856  Ricky Seals-Jones   \n",
       "534            2561272         5.814551            2550257         1.530817  Ricky Seals-Jones   \n",
       "549            2561272         5.479352            2550257         1.600125  Ricky Seals-Jones   \n",
       "564            2561272         5.160862            2550257         1.661927  Ricky Seals-Jones   \n",
       "579            2561272         4.933255            2550257         1.687602  Ricky Seals-Jones   \n",
       "594            2561272         4.798677            2550257         1.694344  Ricky Seals-Jones   \n",
       "609            2561272         4.762741            2550257         1.660482  Ricky Seals-Jones   \n",
       "624            2561272         4.829544            2550257         1.588584  Ricky Seals-Jones   \n",
       "639            2561272         4.994006            2550257         1.463216  Ricky Seals-Jones   \n",
       "654            2561272         5.234358            2550257         1.331953  Ricky Seals-Jones   \n",
       "669            2561272         5.510944            2550257         1.164989  Ricky Seals-Jones   \n",
       "684            2561272         5.790380            2550257         0.983107  Ricky Seals-Jones   \n",
       "699            2561272         6.017524            2550257         0.811542  Ricky Seals-Jones   \n",
       "714            2561272         6.201266            2550257         0.666108  Ricky Seals-Jones   \n",
       "729            2561272         6.344486            2550257         0.572713  Ricky Seals-Jones   \n",
       "744            2561272         6.405825            2550257         0.580000  Ricky Seals-Jones   \n",
       "759            2561272         6.403780            2550257         0.650000  Ricky Seals-Jones   \n",
       "774            2561272         6.360031            2550257         0.765506  Ricky Seals-Jones   \n",
       "789            2561272         6.280963            2550257         0.855102  Ricky Seals-Jones   \n",
       "804            2561272         6.163246            2550257         0.942603  Ricky Seals-Jones   \n",
       "819            2561272         6.024782            2550257         1.010050  Ricky Seals-Jones   \n",
       "834            2561272         5.884896            2550257         1.055746  Ricky Seals-Jones   \n",
       "\n",
       "    closest_offense_name closest_defense_name               event2 targeted_wr targeted_db  \\\n",
       "9        Trent Sherfield      Daniel Sorensen             pre_snap     2559248     2550257   \n",
       "24       Trent Sherfield      Daniel Sorensen             pre_snap     2559248     2550257   \n",
       "39       Trent Sherfield      Daniel Sorensen             pre_snap     2559248     2550257   \n",
       "54       Trent Sherfield      Daniel Sorensen             pre_snap     2559248     2550257   \n",
       "69       Trent Sherfield      Daniel Sorensen             pre_snap     2559248     2550257   \n",
       "84       Trent Sherfield      Daniel Sorensen             pre_snap     2559248     2550257   \n",
       "99       Trent Sherfield      Daniel Sorensen             pre_snap     2559248     2550257   \n",
       "114      Trent Sherfield      Daniel Sorensen             pre_snap     2559248     2550257   \n",
       "129      Trent Sherfield      Daniel Sorensen             pre_snap     2559248     2550257   \n",
       "144      Trent Sherfield      Daniel Sorensen             pre_snap     2559248     2550257   \n",
       "159      Trent Sherfield      Daniel Sorensen            ball_snap     2559248     2550257   \n",
       "174      Trent Sherfield      Daniel Sorensen             dropback     2559248     2550257   \n",
       "189      Trent Sherfield      Daniel Sorensen             dropback     2559248     2550257   \n",
       "204      Trent Sherfield      Daniel Sorensen             dropback     2559248     2550257   \n",
       "219      Trent Sherfield      Daniel Sorensen             dropback     2559248     2550257   \n",
       "234      Trent Sherfield      Daniel Sorensen             dropback     2559248     2550257   \n",
       "249      Trent Sherfield      Daniel Sorensen             dropback     2559248     2550257   \n",
       "264      Trent Sherfield      Daniel Sorensen             dropback     2559248     2550257   \n",
       "279      Trent Sherfield      Daniel Sorensen             dropback     2559248     2550257   \n",
       "294      Trent Sherfield      Daniel Sorensen             dropback     2559248     2550257   \n",
       "309      Trent Sherfield      Daniel Sorensen             dropback     2559248     2550257   \n",
       "324      Trent Sherfield      Daniel Sorensen             dropback     2559248     2550257   \n",
       "339      Trent Sherfield      Daniel Sorensen             dropback     2559248     2550257   \n",
       "354      Trent Sherfield      Daniel Sorensen             dropback     2559248     2550257   \n",
       "369      Trent Sherfield      Daniel Sorensen             dropback     2559248     2550257   \n",
       "384      Trent Sherfield      Daniel Sorensen             dropback     2559248     2550257   \n",
       "399      Trent Sherfield      Daniel Sorensen             dropback     2559248     2550257   \n",
       "414      Trent Sherfield      Daniel Sorensen             dropback     2559248     2550257   \n",
       "429      Trent Sherfield      Daniel Sorensen             dropback     2559248     2550257   \n",
       "444      Trent Sherfield      Daniel Sorensen             dropback     2559248     2550257   \n",
       "459      Trent Sherfield      Daniel Sorensen             dropback     2559248     2550257   \n",
       "474      Trent Sherfield      Daniel Sorensen             dropback     2559248     2550257   \n",
       "489      Trent Sherfield      Daniel Sorensen             dropback     2559248     2550257   \n",
       "504      Trent Sherfield      Daniel Sorensen             dropback     2559248     2550257   \n",
       "519      Trent Sherfield      Daniel Sorensen             dropback     2559248     2550257   \n",
       "534      Trent Sherfield      Daniel Sorensen         pass_forward     2559248     2550257   \n",
       "549      Trent Sherfield      Daniel Sorensen       ball_in_flight     2559248     2550257   \n",
       "564      Trent Sherfield      Daniel Sorensen       ball_in_flight     2559248     2550257   \n",
       "579      Trent Sherfield      Daniel Sorensen       ball_in_flight     2559248     2550257   \n",
       "594      Trent Sherfield      Daniel Sorensen       ball_in_flight     2559248     2550257   \n",
       "609      Trent Sherfield      Daniel Sorensen       ball_in_flight     2559248     2550257   \n",
       "624      Trent Sherfield      Daniel Sorensen       ball_in_flight     2559248     2550257   \n",
       "639      Trent Sherfield      Daniel Sorensen       ball_in_flight     2559248     2550257   \n",
       "654      Trent Sherfield      Daniel Sorensen         pass_arrived     2559248     2550257   \n",
       "669      Trent Sherfield      Daniel Sorensen                 None     2559248     2550257   \n",
       "684      Trent Sherfield      Daniel Sorensen                 None     2559248     2550257   \n",
       "699      Trent Sherfield      Daniel Sorensen  pass_outcome_caught     2559248     2550257   \n",
       "714      Trent Sherfield      Daniel Sorensen                 None     2559248     2550257   \n",
       "729      Trent Sherfield      Daniel Sorensen                 None     2559248     2550257   \n",
       "744      Trent Sherfield      Daniel Sorensen                 None     2559248     2550257   \n",
       "759      Trent Sherfield      Daniel Sorensen                 None     2559248     2550257   \n",
       "774      Trent Sherfield      Daniel Sorensen                 None     2559248     2550257   \n",
       "789      Trent Sherfield      Daniel Sorensen                 None     2559248     2550257   \n",
       "804      Trent Sherfield      Daniel Sorensen                 None     2559248     2550257   \n",
       "819      Trent Sherfield      Daniel Sorensen               tackle     2559248     2550257   \n",
       "834      Trent Sherfield      Daniel Sorensen                 None     2559248     2550257   \n",
       "\n",
       "      diff_OD    diff_OF   diff_DF  play_developing  ovo_coverage  true_1v1_play  \\\n",
       "9    3.796169  10.940603  8.776018                0             0              0   \n",
       "24   3.795260  10.948119  8.772463                0             0              0   \n",
       "39   3.796169  10.948119  8.781082                0             0              0   \n",
       "54   3.787149  10.948119  8.794771                0             0              0   \n",
       "69   3.778161  10.954716  8.817080                0             0              0   \n",
       "84   3.779153  10.948119  8.817080                0             0              0   \n",
       "99   3.779153  10.948119  8.817080                0             0              0   \n",
       "114  3.767240  10.940603  8.799847                0             0              0   \n",
       "129  3.767240  10.940603  8.799847                0             0              0   \n",
       "144  3.765382  10.947205  8.791234                0             0              0   \n",
       "159  3.737379  10.918081  8.799847                1             1              1   \n",
       "174  3.699568  10.888108  8.817080                1             1              1   \n",
       "189  3.602277  10.806785  8.825701                1             1              1   \n",
       "204  3.518892  10.697537  8.827825                1             1              1   \n",
       "219  3.354519  10.522951  8.804118                1             1              1   \n",
       "234  3.163037  10.313496  8.775477                1             1              1   \n",
       "249  2.928020  10.077167  8.765535                1             1              1   \n",
       "264  2.638788   9.793554  8.746937                1             1              1   \n",
       "279  2.356374   9.471774  8.695056                1             1              1   \n",
       "294  2.070604   9.113534  8.602703                1             1              1   \n",
       "309  1.815737   8.729651  8.477647                1             1              1   \n",
       "324  1.584740   8.337314  8.313904                1             1              1   \n",
       "339  1.380580   7.932780  8.127054                1             1              1   \n",
       "354  1.195533   7.529309  7.910563                1             1              1   \n",
       "369  1.067801   7.135068  7.685948                1             1              1   \n",
       "384  0.976934   6.763786  7.451872                1             1              1   \n",
       "399  0.939415   6.416393  7.224971                1             1              1   \n",
       "414  0.940851   6.103286  6.999579                1             1              1   \n",
       "429  0.974166   5.824946  6.793600                1             1              1   \n",
       "444  1.025914   5.584049  6.608850                1             1              1   \n",
       "459  1.104219   5.345849  6.437919                1             1              1   \n",
       "474  1.184567   5.111917  6.270797                1             1              1   \n",
       "489  1.261150   4.882673  6.104719                1             1              1   \n",
       "504  1.353403   4.619654  5.925580                1             1              1   \n",
       "519  1.445856   4.345124  5.738885                1             1              1   \n",
       "534  1.530817   4.032915  5.510953                1             1              1   \n",
       "549  1.600125   3.690542  5.234167                1             1              1   \n",
       "564  1.661927   3.305465  4.903805                1             1              1   \n",
       "579  1.687602   2.902912  4.525273                1             1              1   \n",
       "594  1.694344   2.489438  4.110487                1             1              1   \n",
       "609  1.660482   2.069396  3.637197                1             1              1   \n",
       "624  1.588584   1.656140  3.121666                1             1              1   \n",
       "639  1.463216   1.300961  2.571634                1             1              1   \n",
       "654  1.331953   1.050190  2.029433                1             1              1   \n",
       "669  1.164989   1.026109  1.538083                0             0              0   \n",
       "684  0.983107   1.234585  1.198541                0             0              0   \n",
       "699  0.811542   1.592890  1.179534                0             0              0   \n",
       "714  0.666108   2.020396  1.465776                0             0              0   \n",
       "729  0.572713   2.468866  1.903076                0             0              0   \n",
       "744  0.580000   2.939558  2.375921                0             0              0   \n",
       "759  0.650000   3.392285  2.836353                0             0              0   \n",
       "774  0.765506   3.829843  3.265593                0             0              0   \n",
       "789  0.855102   4.225222  3.693846                0             0              0   \n",
       "804  0.942603   4.582096  4.080012                0             0              0   \n",
       "819  1.010050   4.900796  4.427731                0             0              0   \n",
       "834  1.055746   5.164688  4.753294                0             0              0   \n",
       "\n",
       "     targeted_db_score  \n",
       "9             0.912240  \n",
       "24            0.912275  \n",
       "39            0.912189  \n",
       "54            0.912052  \n",
       "69            0.911829  \n",
       "84            0.911829  \n",
       "99            0.911829  \n",
       "114           0.912002  \n",
       "129           0.912002  \n",
       "144           0.912088  \n",
       "159           0.912002  \n",
       "174           0.911829  \n",
       "189           0.911743  \n",
       "204           0.911722  \n",
       "219           0.911959  \n",
       "234           0.912245  \n",
       "249           0.912345  \n",
       "264           0.912531  \n",
       "279           0.913049  \n",
       "294           0.913973  \n",
       "309           0.915224  \n",
       "324           0.916861  \n",
       "339           0.918729  \n",
       "354           0.920894  \n",
       "369           0.923141  \n",
       "384           0.925481  \n",
       "399           0.927750  \n",
       "414           0.930004  \n",
       "429           0.932064  \n",
       "444           0.933911  \n",
       "459           0.935621  \n",
       "474           0.937292  \n",
       "489           0.938953  \n",
       "504           0.940744  \n",
       "519           0.942611  \n",
       "534           0.944890  \n",
       "549           0.947658  \n",
       "564           0.950962  \n",
       "579           0.954747  \n",
       "594           0.958895  \n",
       "609           0.963628  \n",
       "624           0.968783  \n",
       "639           0.974284  \n",
       "654           0.979706  \n",
       "669           0.984619  \n",
       "684           0.988015  \n",
       "699           0.988205  \n",
       "714           0.985342  \n",
       "729           0.980969  \n",
       "744           0.976241  \n",
       "759           0.971636  \n",
       "774           0.967344  \n",
       "789           0.963062  \n",
       "804           0.959200  \n",
       "819           0.955723  \n",
       "834           0.952467  "
      ]
     },
     "execution_count": 27,
     "metadata": {},
     "output_type": "execute_result"
    }
   ],
   "source": [
    "df_next[df_next['player_1'] == targeted_wr]"
   ]
  },
  {
   "cell_type": "code",
   "execution_count": null,
   "metadata": {},
   "outputs": [],
   "source": []
  }
 ],
 "metadata": {
  "kernelspec": {
   "display_name": "Python 3",
   "language": "python",
   "name": "python3"
  },
  "language_info": {
   "codemirror_mode": {
    "name": "ipython",
    "version": 3
   },
   "file_extension": ".py",
   "mimetype": "text/x-python",
   "name": "python",
   "nbconvert_exporter": "python",
   "pygments_lexer": "ipython3",
   "version": "3.8.5"
  }
 },
 "nbformat": 4,
 "nbformat_minor": 4
}
